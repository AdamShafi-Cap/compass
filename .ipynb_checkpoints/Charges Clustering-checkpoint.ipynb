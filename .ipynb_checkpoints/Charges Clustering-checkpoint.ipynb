{
 "cells": [
  {
   "cell_type": "code",
   "execution_count": 65,
   "metadata": {},
   "outputs": [],
   "source": [
    "import pandas as pd\n",
    "import numpy as np\n",
    "import pickle\n",
    "import re\n",
    "\n",
    "from sklearn.cluster import KMeans, AgglomerativeClustering, DBSCAN\n",
    "from scipy.cluster.hierarchy import dendrogram\n",
    "\n",
    "from sentence_transformers import SentenceTransformer\n",
    "\n",
    "from umap import UMAP\n",
    "import plotly.express as px"
   ]
  },
  {
   "cell_type": "code",
   "execution_count": 2,
   "metadata": {},
   "outputs": [],
   "source": [
    "def import_data():\n",
    "    X_train = pd.read_csv('./train/X_train.csv')\n",
    "    X_test = pd.read_csv('./test/X_test.csv')\n",
    "    y_train = pd.read_csv('./train/y_train.csv')\n",
    "    y_test = pd.read_csv('./test/y_test.csv')\n",
    "    return X_train, X_test, y_train, y_test"
   ]
  },
  {
   "cell_type": "code",
   "execution_count": 3,
   "metadata": {},
   "outputs": [],
   "source": [
    "X_train, X_test, y_train, y_test = import_data()"
   ]
  },
  {
   "cell_type": "code",
   "execution_count": 4,
   "metadata": {},
   "outputs": [],
   "source": [
    "charges = X_train['c_charge_desc'].append(X_test['c_charge_desc']).dropna().unique()"
   ]
  },
  {
   "cell_type": "code",
   "execution_count": 5,
   "metadata": {},
   "outputs": [
    {
     "data": {
      "text/plain": [
       "array(['arrest case no charge', 'Grand Theft in the 3rd Degree',\n",
       "       'Felony Driving While Lic Suspd', 'Robbery W/Firearm', 'Battery',\n",
       "       'Possession of Hydrocodone', 'Burglary With Assault/battery',\n",
       "       'Possession of Cocaine', 'Possess Cannabis/20 Grams Or Less',\n",
       "       'Susp Drivers Lic 1st Offense', 'Uttering Forged Credit Card',\n",
       "       'Aggrav Battery w/Deadly Weapon', 'Purchase Of Cocaine',\n",
       "       'Agg Battery Grt/Bod/Harm', 'Burglary Unoccupied Dwelling',\n",
       "       'Aggravated Assault w/Firearm', 'Disorderly Intoxication',\n",
       "       'Possession Of Amphetamine', 'Manufacture Cannabis',\n",
       "       'DUI- Enhanced', 'Opert With Susp DL 2nd Offens',\n",
       "       'Possession Of Alprazolam', 'Deliver Cannabis', 'Child Abuse',\n",
       "       'Grand Theft (Motor Vehicle)', 'Retail Theft $300 1st Offense',\n",
       "       'Driving Under The Influence', 'Leave Acc/Attend Veh/More $50',\n",
       "       'Felony Petit Theft', 'Burglary Dwelling Occupied',\n",
       "       'Aggravated Assault W/Dead Weap', 'Possession of Cannabis',\n",
       "       'Battery on Law Enforc Officer', 'DUI Property Damage/Injury',\n",
       "       'Obtain Control Substance By Fraud',\n",
       "       'Alcoholic Beverage Violation-FL', 'Driving While License Revoked',\n",
       "       'Possession Child Pornography', 'Robbery / Weapon',\n",
       "       'Aggravated Assault W/dead Weap',\n",
       "       'Tampering With Physical Evidence',\n",
       "       'Neglect Child / No Bodily Harm', 'Poss3,4 Methylenedioxymethcath',\n",
       "       'Felony Battery w/Prior Convict', 'Possession of Oxycodone',\n",
       "       'Posses/Disply Susp/Revk/Frd DL', 'Fail Register Vehicle',\n",
       "       'Assault', 'Burglary Structure Unoccup',\n",
       "       'Solicitation On Felony 3 Deg', 'Disorderly Conduct',\n",
       "       'Cruelty Toward Child', 'Resist Officer w/Violence',\n",
       "       'Resist/Obstruct W/O Violence', 'Corrupt Public Servant',\n",
       "       'DUI - Enhanced', 'Poss Cocaine/Intent To Del/Sel',\n",
       "       'Criminal Attempt 3rd Deg Felon', 'Poss Tetrahydrocannabinols',\n",
       "       'Aggravated Battery (Firearm)', 'Burglary Conveyance Unoccup',\n",
       "       'Fel Drive License Perm Revoke', 'Deliver Cocaine',\n",
       "       'Driving License Suspended', 'Grand Theft In The 3Rd Degree',\n",
       "       'Unlaw LicTag/Sticker Attach', 'Possession Burglary Tools',\n",
       "       'Pos Cannabis W/Intent Sel/Del', 'Petit Theft',\n",
       "       'Tamper With Witness', 'DUI Level 0.15 Or Minor In Veh',\n",
       "       'Possess Weapon On School Prop', 'Felony Battery',\n",
       "       'Viol Prot Injunc Repeat Viol', 'Robbery / No Weapon',\n",
       "       'Aggravated Assault', 'Poss Pyrrolidinovalerophenone',\n",
       "       'Bribery Athletic Contests', 'Crim Use of Personal ID Info',\n",
       "       'Crimin Mischief Damage $1000+', 'False Imprisonment',\n",
       "       'Attempt Armed Burglary Dwell', 'Aggravated Battery / Pregnant',\n",
       "       'Operating W/O Valid License', 'Delivery Of Drug Paraphernalia',\n",
       "       'Fleeing Or Attmp Eluding A Leo', 'Leave Accd/Attend Veh/Less $50',\n",
       "       'Deliver 3,4 Methylenediox', 'Stalking (Aggravated)',\n",
       "       'Felony Battery (Dom Strang)', 'Battery on a Person Over 65',\n",
       "       'Grand Theft of a Fire Extinquisher', 'Prowling/Loitering',\n",
       "       'Poss of Firearm by Convic Felo', 'Burglary Conveyance Armed',\n",
       "       'Criminal Mischief>$200<$1000', 'Possession Of Heroin',\n",
       "       'Leaving the Scene of Accident', 'Lve/Scen/Acc/Veh/Prop/Damage',\n",
       "       'Possession of Hydromorphone', 'Possession Of Methamphetamine',\n",
       "       'Viol Injunct Domestic Violence', 'Poss 3,4 MDMA (Ecstasy)',\n",
       "       'Uttering a Forged Instrument', 'Video Voyeur-<24Y on Child >16',\n",
       "       'Introduce Contraband Into Jail', 'Petit Theft $100- $300',\n",
       "       'Possession Of Fentanyl', 'Viol Pretrial Release Dom Viol',\n",
       "       'Sel Etc/Pos/w/Int Contrft Schd', 'Unlicensed Telemarketing',\n",
       "       'Strong Armed  Robbery', 'Aggrav Stalking After Injunctn',\n",
       "       'Deliver Cocaine 1000FT Store', 'Possession of Morphine',\n",
       "       'Offer Agree Secure/Lewd Act', 'Possession Of Phentermine',\n",
       "       'Poss Unlaw Issue Id', 'Aggravated Battery',\n",
       "       'Use of Anti-Shoplifting Device', 'Expired DL More Than 6 Months',\n",
       "       'Possession of LSD', 'Att Burgl Unoccupied Dwel',\n",
       "       'Consp Traff Oxycodone 28g><30k', 'Burglary Dwelling Assault/Batt',\n",
       "       'Burglary Dwelling Armed', 'Possess Tobacco Product Under 18',\n",
       "       'Uttering Forged Bills', 'Poss of Vessel w/Altered ID NO',\n",
       "       'Unlawful Conveyance of Fuel', 'False Ownership Info/Pawn Item',\n",
       "       'Tamper With Witness/Victim/CI', 'Obstruct Fire Equipment',\n",
       "       'Possession Of Lorazepam', 'Drivg While Lic Suspd/Revk/Can',\n",
       "       'Solicit Deliver Cocaine', 'Criminal Mischief',\n",
       "       'Agg Assault W/int Com Fel Dome', 'Arson in the First Degree',\n",
       "       'Exposes Culpable Negligence', 'Felony DUI (level 3)',\n",
       "       'Sex Offender Fail Comply W/Law', 'Compulsory Sch Attnd Violation',\n",
       "       'Felony Batt(Great Bodily Harm)', 'Manage Busn W/O City Occup Lic',\n",
       "       'Poss Of Controlled Substance', 'Burglary Conveyance Occupied',\n",
       "       'Lewd or Lascivious Molestation', 'Possess Drug Paraphernalia',\n",
       "       'Principal In The First Degree', 'Reckless Driving',\n",
       "       'Poss of Cocaine W/I/D/S 1000FT Park',\n",
       "       'Aggrav Child Abuse-Agg Battery',\n",
       "       'Poss/Sell/Del Cocaine 1000FT Sch', 'Leaving Acc/Unattended Veh',\n",
       "       'Fraudulent Use of Credit Card', 'Dealing in Stolen Property',\n",
       "       'Poss Unlaw Issue Driver Licenc', 'Consp Traff Oxycodone  4g><14g',\n",
       "       'Grand Theft on 65 Yr or Older', 'Fighting/Baiting Animals',\n",
       "       'Carjacking with a Firearm', 'Fail Obey Driv Lic Restrictions',\n",
       "       'Unlaw Use False Name/Identity', 'Purchase/P/W/Int Cannabis',\n",
       "       'Poss Similitude of Drivers Lic', 'Carrying Concealed Firearm',\n",
       "       'Tamper With Victim', 'Fail To Secure Load',\n",
       "       'Traffick Hydrocodone   4g><14g', 'Violation License Restrictions',\n",
       "       'Purchase Cannabis', 'Cash Item w/Intent to Defraud',\n",
       "       'Harm Public Servant Or Family', 'Offer Agree Secure For Lewd Act',\n",
       "       'Robbery Sudd Snatch No Weapon', 'Trespassing/Construction Site',\n",
       "       'Armed Trafficking in Cannabis', 'DUI Blood Alcohol Above 0.20',\n",
       "       'Carry Open/Uncov Bev In Pub', 'DWI w/Inj Susp Lic / Habit Off',\n",
       "       'Grand Theft Firearm', 'Felony DUI - Enhanced',\n",
       "       'Neglect/Abuse Elderly Person', 'Felony/Driving Under Influence',\n",
       "       'Opert With Susp DL 2ND Offense', 'Criminal Mischief Damage <$200',\n",
       "       'Burglary Assault/Battery Armed', 'Poss F/Arm Delinq',\n",
       "       'Felon in Pos of Firearm or Amm', 'Lewd/Lasc Exhib Presence <16yr',\n",
       "       'Aggrav Child Abuse-Causes Harm', 'Violation Of Boater Safety Id',\n",
       "       'Disrupting School Function', 'Attempted Robbery Firearm',\n",
       "       'Prostitution/Lewd Act Assignation',\n",
       "       'Del of JWH-250 2-Methox 1-Pentyl',\n",
       "       'Sale/Del Counterfeit Cont Subs', 'Poss Contr Subst W/o Prescript',\n",
       "       'Tampering with a Victim', 'Unemployment Compensatn Fraud',\n",
       "       'Sex Battery Deft 18+/Vict 11-', 'Possession Of 3,4Methylenediox',\n",
       "       'Cruelty to Animals', 'Lewd/Lasc Battery Pers 12+/<16',\n",
       "       'Carjacking w/o Deadly Weapon', 'Grand Theft in the 1st Degree',\n",
       "       'Refuse Submit Blood/Breath Test',\n",
       "       'Kidnapping / Domestic Violence', 'Simulation of Legal Process',\n",
       "       'Burglary Structure Occupied', 'False Bomb Report',\n",
       "       'Gambling/Gamb Paraphernalia', 'Trespass Structure/Conveyance',\n",
       "       'Poss Wep Conv Felon', 'Consume Alcoholic Bev Pub',\n",
       "       'Failure To Return Hired Vehicle', 'Tresspass Struct/Conveyance',\n",
       "       'Fail Sex Offend Report Bylaw', 'Possess Cannabis 1000FTSch',\n",
       "       'Unauth Poss ID Card or DL',\n",
       "       'Tresspass in Structure or Conveyance', 'Agg Fleeing and Eluding',\n",
       "       'Conspiracy Dealing Stolen Prop', 'Counterfeit Lic Plates/Sticker',\n",
       "       'Interfere W/Traf Cont Dev RR', 'Possession Firearm School Prop',\n",
       "       'Possession of Benzylpiperazine', 'Throw Deadly Missile Into Veh',\n",
       "       'Present Proof of Invalid Insur', 'Fraud Obtain Food or Lodging',\n",
       "       'Crim Use Of Personal Id Info', 'License Suspended Revoked',\n",
       "       'Traffick Oxycodone     4g><14g', 'Poss Anti-Shoplifting Device',\n",
       "       'Hiring with Intent to Defraud', 'Lewdness Violation',\n",
       "       'Poss Of RX Without RX', 'Burglary Conveyance Assault/Bat',\n",
       "       'Murder in 2nd Degree', 'Aggress/Panhandle/Beg/Solict',\n",
       "       'Violation of Injunction Order/Stalking/Cyberstalking',\n",
       "       'Attempted Robbery  No Weapon', 'Possession Of Buprenorphine',\n",
       "       'Possess Controlled Substance', 'Structuring Transactions',\n",
       "       'Exploit Elderly Person 20-100K', 'Robbery W/Deadly Weapon',\n",
       "       'Harass Witness/Victm/Informnt', 'Misuse Of 911 Or E911 System',\n",
       "       'DOC/Cause Public Danger', 'Dealing In Stolen Property',\n",
       "       'Soliciting For Prostitution', 'Delivery of 5-Fluoro PB-22',\n",
       "       'Prostitution/Lewdness/Assign', 'Deliver Cannabis 1000FTSch',\n",
       "       'Sexual Performance by a Child', 'Possess w/I/Utter Forged Bills',\n",
       "       'Unl/Disturb Education/Instui', 'Fleeing or Eluding a LEO',\n",
       "       'Use Scanning Device to Defraud', 'Poss of Methylethcathinone',\n",
       "       'Grand Theft Dwell Property', 'Burglary Structure Assault/Batt',\n",
       "       'Murder in the First Degree', 'Del Cannabis For Consideration',\n",
       "       'Poss Alprazolam W/int Sell/Del', 'Culpable Negligence',\n",
       "       'Fail To Redeliv Hire/Leas Prop', 'DWLS Canceled Disqul 1st Off',\n",
       "       'Fail Register Career Offender', 'Forging Bank Bills/Promis Note',\n",
       "       'Sell Cannabis', 'Use Computer for Child Exploit',\n",
       "       'Extradition/Defendants', 'Poss Drugs W/O A Prescription',\n",
       "       'Contribute Delinquency Of A Minor', 'Possession Of Diazepam',\n",
       "       'Flee/Elude LEO-Agg Flee Unsafe', 'Theft',\n",
       "       'Live on Earnings of Prostitute', 'Trespass Property w/Dang Weap',\n",
       "       'Att Burgl Struc/Conv Dwel/Occp', 'Aggravated Assault W/o Firearm',\n",
       "       'Battery Emergency Care Provide', 'False 911 Call',\n",
       "       'Possession of Codeine', 'Sexual Battery / Vict 12 Yrs +',\n",
       "       'Att Tamper w/Physical Evidence', 'Murder In 2nd Degree W/firearm',\n",
       "       'Aggravated Battery On 65/Older', 'Battery Spouse Or Girlfriend',\n",
       "       'Trespass Structure w/Dang Weap', 'Possession Of Paraphernalia',\n",
       "       'Escape', 'Lewd/Lasciv Molest Elder Persn',\n",
       "       'Carrying A Concealed Weapon', 'Poss Trifluoromethylphenylpipe',\n",
       "       'Traffick Amphetamine 28g><200g', 'Possession Of Anabolic Steroid',\n",
       "       'Agg Fleeing/Eluding High Speed', 'Neglect Child / Bodily Harm',\n",
       "       'Sale/Del Cannabis At/Near Scho', 'Felony Committing Prostitution',\n",
       "       'Battery On Fire Fighter', 'Fail To Obey Police Officer',\n",
       "       'Compulsory Attendance Violation',\n",
       "       'Aggr Child Abuse-Torture,Punish', 'Prostitution',\n",
       "       'Viol Injunction Protect Dom Vi', 'Theft/To Deprive',\n",
       "       'Crim Attempt/Solicit/Consp', 'Trespass Struct/Conveyance',\n",
       "       'False Motor Veh Insurance Card', 'Computer Pornography',\n",
       "       'Depriv LEO of Protect/Communic', 'Del 3,4 Methylenedioxymethcath',\n",
       "       'Del Morphine at/near Park', 'Use Of 2 Way Device To Fac Fel',\n",
       "       'Shoot Into Vehicle', 'Offn Against Intellectual Prop',\n",
       "       'Deliver Cocaine 1000FT Park', 'Battery On Parking Enfor Speci',\n",
       "       'Failure To Pay Taxi Cab Charge', 'Solicit To Deliver Cocaine',\n",
       "       'Open Carrying Of Weapon', 'D.U.I. Serious Bodily Injury',\n",
       "       'Abuse Without Great Harm', 'Lease For Purpose Trafficking',\n",
       "       'Threat Public Servant', 'Ride Tri-Rail Without Paying',\n",
       "       'Falsely Impersonating Officer', 'Poss Meth/Diox/Meth/Amp (MDMA)',\n",
       "       'Solic to Commit Battery', 'Unlawful Use Of Police Badges',\n",
       "       'Unauth C/P/S Sounds>1000/Audio', 'Deliver Alprazolam',\n",
       "       'DUI - Property Damage/Personal Injury',\n",
       "       'False Info LEO During Invest', 'Purchasing Of Alprazolam',\n",
       "       'Refuse to Supply DNA Sample', 'Throw Missile Into Pub/Priv Dw',\n",
       "       'Sel/Pur/Mfr/Del Control Substa', 'DWLS Susp/Cancel Revoked',\n",
       "       'Cause Anoth Phone Ring Repeat', 'Shoot In Occupied Dwell',\n",
       "       'Poss Oxycodone W/Int/Sell/Del', 'Conspiracy to Deliver Cocaine',\n",
       "       'Possess/Use Weapon 1 Deg Felon', 'Intoxicated/Safety Of Another',\n",
       "       'Aggravated Battery (Firearm/Actual Possession)',\n",
       "       'Insurance Fraud', 'Sell or Offer for Sale Counterfeit Goods',\n",
       "       'Oper Motorcycle W/O Valid DL', 'Agg Assault Law Enforc Officer',\n",
       "       'Money Launder 100K or More Dols', 'Attempt Burglary (Struct)',\n",
       "       'Agg Abuse Elderlly/Disabled Adult', 'Throw In Occupied Dwell',\n",
       "       'Grand Theft of the 2nd Degree', 'Lewd Act Presence Child 16-',\n",
       "       'DUI/Property Damage/Persnl Inj'], dtype=object)"
      ]
     },
     "execution_count": 5,
     "metadata": {},
     "output_type": "execute_result"
    }
   ],
   "source": [
    "charges"
   ]
  },
  {
   "cell_type": "code",
   "execution_count": 94,
   "metadata": {},
   "outputs": [],
   "source": [
    "charges_clean=[(f'{i} ').lower()\n",
    ".replace('w/o','without ')\n",
    ".replace('/w','with ')\n",
    ".replace('w/','with ')               \n",
    ".replace('/',' ')\n",
    ".replace('dl','drivers license')\n",
    ".replace('driv ','drivers ')                \n",
    ".replace(' lic ',' license ')               \n",
    ".replace('priv ','private ')\n",
    ".replace('deg ','degree ')\n",
    ".replace('viol ','violence ')\n",
    ".replace('veh ','vehicle ')\n",
    ".replace('first','1st')\n",
    ".replace('poss ','possession ')\n",
    ".replace('bugl ','buglary ')\n",
    ".replace('burgl ','buglary ')               \n",
    ".replace('suspd','suspended')\n",
    ".replace('aggrav ','aggravated ')               \n",
    ".replace('agg ','aggravated ')               \n",
    ".replace('susp ','suspended ')               \n",
    ".replace('acc ','accident ')               \n",
    ".replace('batt ','battery ') \n",
    ".replace('dang ','dangerous ')\n",
    ".replace('weap ','weapon ')\n",
    ".replace('persnl','personal')\n",
    ".replace('inj ','injury ')\n",
    ".replace('substa ','substance ')\n",
    ".replace('int','intent ')\n",
    ".replace('del ','deal ')\n",
    ".replace('felo ','felon ')\n",
    ".replace('sch ','school ')\n",
    ".replace('consp ','conspiracy ')\n",
    ".replace('traff ','traffick ')\n",
    ".replace('>',' > ')               \n",
    ".replace('<',' < ')                               \n",
    ".replace('d.u.i.','driving under influence')                \n",
    ".replace('dui','driving under influence')\n",
    ".replace('d u i','driving under influence')  \n",
    ".strip() for i in charges]\n",
    "\n",
    "charges_clean = [re.sub(r'(?<=\\d)g', ' grams ', i) for i in charges_clean]\n",
    "charges_clean = [re.sub(r'(?<=\\d)ft', ' ft ', i) for i in charges_clean]\n",
    "charges_clean = [re.sub(r'(?<=\\d)yr', ' years ', i) for i in charges_clean]"
   ]
  },
  {
   "cell_type": "code",
   "execution_count": 95,
   "metadata": {
    "scrolled": false
   },
   "outputs": [
    {
     "data": {
      "text/plain": [
       "['arrest case no charge',\n",
       " 'grand theft in the 3rd degree',\n",
       " 'felony driving while license suspended',\n",
       " 'robbery with firearm',\n",
       " 'battery',\n",
       " 'possession of hydrocodone',\n",
       " 'burglary with assault battery',\n",
       " 'possession of cocaine',\n",
       " 'possess cannabis 20 grams or less',\n",
       " 'suspended drivers license 1st offense',\n",
       " 'uttering forged credit card',\n",
       " 'aggravated battery with deadrivers licensey weapon',\n",
       " 'purchase of cocaine',\n",
       " 'aggravated battery grt bod harm',\n",
       " 'burglary unoccupied dwelling',\n",
       " 'aggravated assault with firearm',\n",
       " 'disorderly intent oxication',\n",
       " 'possession of amphetamine',\n",
       " 'manufacture cannabis',\n",
       " 'driving under influence- enhanced',\n",
       " 'opert with suspended drivers license 2nd offens',\n",
       " 'possession of alprazolam',\n",
       " 'deliver cannabis',\n",
       " 'child abuse',\n",
       " 'grand theft (motor vehicle)',\n",
       " 'retail theft $300 1st offense',\n",
       " 'driving under the influence',\n",
       " 'leave accident attend vehicle more $50',\n",
       " 'felony petit theft',\n",
       " 'burglary dwelling occupied',\n",
       " 'aggravated assault with dead weapon',\n",
       " 'possession of cannabis',\n",
       " 'battery on law enforc officer',\n",
       " 'driving under influence property damage injury',\n",
       " 'obtain control substance by fraud',\n",
       " 'alcoholic beverage violation-fl',\n",
       " 'driving while license revoked',\n",
       " 'possession child pornography',\n",
       " 'robbery   weapon',\n",
       " 'aggravated assault with dead weapon',\n",
       " 'tampering with physical evidence',\n",
       " 'neglect child   no bodily harm',\n",
       " 'poss3,4 methylenedioxymethcath',\n",
       " 'felony battery with prior convict',\n",
       " 'possession of oxycodone',\n",
       " 'posses disply suspended revk frd drivers license',\n",
       " 'fail register vehicle',\n",
       " 'assault',\n",
       " 'burglary structure unoccup',\n",
       " 'solicitation on felony 3 degree',\n",
       " 'disorderly conduct',\n",
       " 'cruelty toward child',\n",
       " 'resist officer with violence',\n",
       " 'resist obstruct without  violence',\n",
       " 'corrupt public servant',\n",
       " 'driving under influence - enhanced',\n",
       " 'possession cocaine intent ent to deal sel',\n",
       " 'criminal attempt 3rd degree felon',\n",
       " 'possession tetrahydrocannabinols',\n",
       " 'aggravated battery (firearm)',\n",
       " 'burglary conveyance unoccup',\n",
       " 'fel drive license perm revoke',\n",
       " 'deliver cocaine',\n",
       " 'driving license suspended',\n",
       " 'grand theft in the 3rd degree',\n",
       " 'unlaw lictag sticker attach',\n",
       " 'possession burglary tools',\n",
       " 'pos cannabis with intent ent sel deal',\n",
       " 'petit theft',\n",
       " 'tamper with witness',\n",
       " 'driving under influence level 0.15 or minor in vehicle',\n",
       " 'possess weapon on school prop',\n",
       " 'felony battery',\n",
       " 'violence prot injunc repeat violence',\n",
       " 'robbery   no weapon',\n",
       " 'aggravated assault',\n",
       " 'possession pyrrolidinovalerophenone',\n",
       " 'bribery athletic contests',\n",
       " 'crim use of personal id info',\n",
       " 'crimin mischief damage $1000+',\n",
       " 'false imprisonment',\n",
       " 'attempt armed burglary dwell',\n",
       " 'aggravated battery   pregnant',\n",
       " 'operating without  valid license',\n",
       " 'delivery of drug paraphernalia',\n",
       " 'fleeing or attmp eluding a leo',\n",
       " 'leave accd attend vehicle less $50',\n",
       " 'deliver 3,4 methylenediox',\n",
       " 'stalking (aggravated)',\n",
       " 'felony battery (dom strang)',\n",
       " 'battery on a person over 65',\n",
       " 'grand theft of a fire extinquisher',\n",
       " 'prowling loitering',\n",
       " 'possession of firearm by convic felon',\n",
       " 'burglary conveyance armed',\n",
       " 'criminal mischief > $200 < $1000',\n",
       " 'possession of heroin',\n",
       " 'leaving the scene of accident',\n",
       " 'lve scen accident vehicle prop damage',\n",
       " 'possession of hydromorphone',\n",
       " 'possession of methamphetamine',\n",
       " 'violence injunct domestic violence',\n",
       " 'possession 3,4 mdma (ecstasy)',\n",
       " 'uttering a forged instrument',\n",
       " 'video voyeur- < 24y on child  > 16',\n",
       " 'intent roduce contraband intent o jail',\n",
       " 'petit theft $100- $300',\n",
       " 'possession of fentanyl',\n",
       " 'violence pretrial release dom violence',\n",
       " 'sel etc poswith  intent  contrft schd',\n",
       " 'unlicensed telemarketing',\n",
       " 'strong armed  robbery',\n",
       " 'aggravated stalking after injunctn',\n",
       " 'deliver cocaine 1000 ft  store',\n",
       " 'possession of morphine',\n",
       " 'offer agree secure lewd act',\n",
       " 'possession of phentermine',\n",
       " 'possession unlaw issue id',\n",
       " 'aggravated battery',\n",
       " 'use of anti-shoplifting device',\n",
       " 'expired drivers license more than 6 months',\n",
       " 'possession of lsd',\n",
       " 'att buglary unoccupied dwel',\n",
       " 'conspiracy traffick oxycodone 28 grams  >  < 30k',\n",
       " 'burglary dwelling assault battery',\n",
       " 'burglary dwelling armed',\n",
       " 'possess tobacco product under 18',\n",
       " 'uttering forged bills',\n",
       " 'possession of vessel with altered id no',\n",
       " 'unlawful conveyance of fuel',\n",
       " 'false ownership info pawn item',\n",
       " 'tamper with witness victim ci',\n",
       " 'obstruct fire equipment',\n",
       " 'possession of lorazepam',\n",
       " 'drivg while license suspended revk can',\n",
       " 'solicit deliver cocaine',\n",
       " 'criminal mischief',\n",
       " 'aggravated assault with intent  com fel dome',\n",
       " 'arson in the 1st degree',\n",
       " 'exposes culpable negligence',\n",
       " 'felony driving under influence (level 3)',\n",
       " 'sex offender fail comply with law',\n",
       " 'compulsory school attnd violation',\n",
       " 'felony batt(great bodily harm)',\n",
       " 'manage busn without  city occup license',\n",
       " 'possession of controlled substance',\n",
       " 'burglary conveyance occupied',\n",
       " 'lewd or lascivious molestation',\n",
       " 'possess drug paraphernalia',\n",
       " 'principal in the 1st degree',\n",
       " 'reckless driving',\n",
       " 'possession of cocaine with i d s 1000 ft  park',\n",
       " 'aggravated child abuse-aggravated battery',\n",
       " 'possession sell deal cocaine 1000 ft  school',\n",
       " 'leaving accident unattended vehicle',\n",
       " 'fraudulent use of credit card',\n",
       " 'dealing in stolen property',\n",
       " 'possession unlaw issue driver licenc',\n",
       " 'conspiracy traffick oxycodone  4 grams  >  < 14 grams ',\n",
       " 'grand theft on 65 yr or older',\n",
       " 'fighting baiting animals',\n",
       " 'carjacking with a firearm',\n",
       " 'fail obey drivers license restrictions',\n",
       " 'unlaw use false name identity',\n",
       " 'purchase pwith  intent  cannabis',\n",
       " 'possession similitude of drivers license',\n",
       " 'carrying concealed firearm',\n",
       " 'tamper with victim',\n",
       " 'fail to secure load',\n",
       " 'traffick hydrocodone   4 grams  >  < 14 grams ',\n",
       " 'violation license restrictions',\n",
       " 'purchase cannabis',\n",
       " 'cash item with intent ent to defraud',\n",
       " 'harm public servant or family',\n",
       " 'offer agree secure for lewd act',\n",
       " 'robbery sudd snatch no weapon',\n",
       " 'trespassing construction site',\n",
       " 'armed trafficking in cannabis',\n",
       " 'driving under influence blood alcohol above 0.20',\n",
       " 'carry open uncov bev in pub',\n",
       " 'dwi with injury suspended license   habit off',\n",
       " 'grand theft firearm',\n",
       " 'felony driving under influence - enhanced',\n",
       " 'neglect abuse elderly person',\n",
       " 'felony driving under influence',\n",
       " 'opert with suspended drivers license 2nd offense',\n",
       " 'criminal mischief damage  < $200',\n",
       " 'burglary assault battery armed',\n",
       " 'possession f arm delinq',\n",
       " 'felon in pos of firearm or amm',\n",
       " 'lewd lasc exhib presence  < 16 years ',\n",
       " 'aggravated child abuse-causes harm',\n",
       " 'violation of boater safety id',\n",
       " 'disrupting school function',\n",
       " 'attempted robbery firearm',\n",
       " 'prostitution lewd act assignation',\n",
       " 'deal of jwh-250 2-methox 1-pentyl',\n",
       " 'sale deal counterfeit cont subs',\n",
       " 'possession contr subst without  prescript',\n",
       " 'tampering with a victim',\n",
       " 'unemployment compensatn fraud',\n",
       " 'sex battery deft 18+ vict 11-',\n",
       " 'possession of 3,4methylenediox',\n",
       " 'cruelty to animals',\n",
       " 'lewd lasc battery pers 12+  < 16',\n",
       " 'carjacking without  deadrivers licensey weapon',\n",
       " 'grand theft in the 1st degree',\n",
       " 'refuse submit blood breath test',\n",
       " 'kidnapping   domestic violence',\n",
       " 'simulation of legal process',\n",
       " 'burglary structure occupied',\n",
       " 'false bomb report',\n",
       " 'gambling gamb paraphernalia',\n",
       " 'trespass structure conveyance',\n",
       " 'possession wep conv felon',\n",
       " 'consume alcoholic bev pub',\n",
       " 'failure to return hired vehicle',\n",
       " 'tresspass struct conveyance',\n",
       " 'fail sex offend report bylaw',\n",
       " 'possess cannabis 1000 ft school',\n",
       " 'unauth possession id card or drivers license',\n",
       " 'tresspass in structure or conveyance',\n",
       " 'aggravated fleeing and eluding',\n",
       " 'conspiracy dealing stolen prop',\n",
       " 'counterfeit license plates sticker',\n",
       " 'intent erfere with traf cont dev rr',\n",
       " 'possession firearm school prop',\n",
       " 'possession of benzylpiperazine',\n",
       " 'throw deadrivers licensey missile intent o vehicle',\n",
       " 'present proof of invalid insur',\n",
       " 'fraud obtain food or lodging',\n",
       " 'crim use of personal id info',\n",
       " 'license suspended revoked',\n",
       " 'traffick oxycodone     4 grams  >  < 14 grams ',\n",
       " 'possession anti-shoplifting device',\n",
       " 'hiring with intent ent to defraud',\n",
       " 'lewdness violation',\n",
       " 'possession of rx without rx',\n",
       " 'burglary conveyance assault bat',\n",
       " 'murder in 2nd degree',\n",
       " 'aggress panhandrivers licensee beg solict',\n",
       " 'violation of injunction order stalking cyberstalking',\n",
       " 'attempted robbery  no weapon',\n",
       " 'possession of buprenorphine',\n",
       " 'possess controlled substance',\n",
       " 'structuring transactions',\n",
       " 'exploit elderly person 20-100k',\n",
       " 'robbery with deadrivers licensey weapon',\n",
       " 'harass witness victm informnt',\n",
       " 'misuse of 911 or e911 system',\n",
       " 'doc cause public danger',\n",
       " 'dealing in stolen property',\n",
       " 'soliciting for prostitution',\n",
       " 'delivery of 5-fluoro pb-22',\n",
       " 'prostitution lewdness assign',\n",
       " 'deliver cannabis 1000 ft school',\n",
       " 'sexual performance by a child',\n",
       " 'possess with i utter forged bills',\n",
       " 'unl disturb education instui',\n",
       " 'fleeing or eluding a leo',\n",
       " 'use scanning device to defraud',\n",
       " 'possession of methylethcathinone',\n",
       " 'grand theft dwell property',\n",
       " 'burglary structure assault battery',\n",
       " 'murder in the 1st degree',\n",
       " 'deal cannabis for consideration',\n",
       " 'possession alprazolam with intent  sell deal',\n",
       " 'culpable negligence',\n",
       " 'fail to redeliv hire leas prop',\n",
       " 'dwls canceled disqul 1st off',\n",
       " 'fail register career offender',\n",
       " 'forging bank bills promis note',\n",
       " 'sell cannabis',\n",
       " 'use computer for child exploit',\n",
       " 'extradition defendants',\n",
       " 'possession drugs without  a prescription',\n",
       " 'contribute delinquency of a minor',\n",
       " 'possession of diazepam',\n",
       " 'flee elude leo-aggravated flee unsafe',\n",
       " 'theft',\n",
       " 'live on earnings of prostitute',\n",
       " 'trespass property with dangerous weapon',\n",
       " 'att buglary struc conv dwel occp',\n",
       " 'aggravated assault without  firearm',\n",
       " 'battery emergency care provide',\n",
       " 'false 911 call',\n",
       " 'possession of codeine',\n",
       " 'sexual battery   vict 12 yrs +',\n",
       " 'att tamper with physical evidence',\n",
       " 'murder in 2nd degree with firearm',\n",
       " 'aggravated battery on 65 older',\n",
       " 'battery spouse or girlfriend',\n",
       " 'trespass structure with dangerous weapon',\n",
       " 'possession of paraphernalia',\n",
       " 'escape',\n",
       " 'lewd lasciv molest elder persn',\n",
       " 'carrying a concealed weapon',\n",
       " 'possession trifluoromethylphenylpipe',\n",
       " 'traffick amphetamine 28 grams  >  < 200 grams ',\n",
       " 'possession of anabolic steroid',\n",
       " 'aggravated fleeing eluding high speed',\n",
       " 'neglect child   bodily harm',\n",
       " 'sale deal cannabis at near scho',\n",
       " 'felony committing prostitution',\n",
       " 'battery on fire fighter',\n",
       " 'fail to obey police officer',\n",
       " 'compulsory attendance violation',\n",
       " 'aggr child abuse-torture,punish',\n",
       " 'prostitution',\n",
       " 'violence injunction protect dom vi',\n",
       " 'theft to deprive',\n",
       " 'crim attempt solicit conspiracy',\n",
       " 'trespass struct conveyance',\n",
       " 'false motor vehicle insurance card',\n",
       " 'computer pornography',\n",
       " 'deprivate leo of protect communic',\n",
       " 'deal 3,4 methylenedioxymethcath',\n",
       " 'deal morphine at near park',\n",
       " 'use of 2 way device to fac fel',\n",
       " 'shoot intent o vehicle',\n",
       " 'offn against intent ellectual prop',\n",
       " 'deliver cocaine 1000 ft  park',\n",
       " 'battery on parking enfor speci',\n",
       " 'failure to pay taxi cab charge',\n",
       " 'solicit to deliver cocaine',\n",
       " 'open carrying of weapon',\n",
       " 'driving under influence serious bodily injury',\n",
       " 'abuse without great harm',\n",
       " 'lease for purpose trafficking',\n",
       " 'threat public servant',\n",
       " 'ride tri-rail without paying',\n",
       " 'falsely impersonating officer',\n",
       " 'possession meth diox meth amp (mdma)',\n",
       " 'solic to commit battery',\n",
       " 'unlawful use of police badges',\n",
       " 'unauth c p s sounds > 1000 audio',\n",
       " 'deliver alprazolam',\n",
       " 'driving under influence - property damage personal injury',\n",
       " 'false info leo during invest',\n",
       " 'purchasing of alprazolam',\n",
       " 'refuse to supply dna sample',\n",
       " 'throw missile intent o pub private dw',\n",
       " 'sel pur mfr deal control substance',\n",
       " 'dwls suspended cancel revoked',\n",
       " 'cause anoth phone ring repeat',\n",
       " 'shoot in occupied dwell',\n",
       " 'possession oxycodone with intent  sell deal',\n",
       " 'conspiracy to deliver cocaine',\n",
       " 'possess use weapon 1 degree felon',\n",
       " 'intent oxicated safety of another',\n",
       " 'aggravated battery (firearm actual possession)',\n",
       " 'insurance fraud',\n",
       " 'sell or offer for sale counterfeit goods',\n",
       " 'oper motorcycle without  valid drivers license',\n",
       " 'aggravated assault law enforc officer',\n",
       " 'money launder 100k or more dols',\n",
       " 'attempt burglary (struct)',\n",
       " 'aggravated abuse elderlly disabled adult',\n",
       " 'throw in occupied dwell',\n",
       " 'grand theft of the 2nd degree',\n",
       " 'lewd act presence child 16-',\n",
       " 'driving under influence property damage personal injury']"
      ]
     },
     "execution_count": 95,
     "metadata": {},
     "output_type": "execute_result"
    }
   ],
   "source": [
    "charges_clean"
   ]
  },
  {
   "cell_type": "code",
   "execution_count": 96,
   "metadata": {},
   "outputs": [],
   "source": [
    "robert = SentenceTransformer('stsb-roberta-large') "
   ]
  },
  {
   "cell_type": "code",
   "execution_count": 97,
   "metadata": {},
   "outputs": [],
   "source": [
    "embeddings = pd.DataFrame(np.vstack(np.array([robert.encode(i) for i in charges_clean])))"
   ]
  },
  {
   "cell_type": "code",
   "execution_count": 98,
   "metadata": {},
   "outputs": [],
   "source": [
    "def cluster_plot(model):\n",
    "    \n",
    "    clust = model\n",
    "    clust.fit(embeddings)\n",
    "    \n",
    "    umap = UMAP(metric='cosine',random_state=42)\n",
    "    umap.fit(embeddings)\n",
    "    \n",
    "    data = pd.DataFrame(umap.transform(embeddings),columns=[\"x\",\"y\"]).assign(text=charges).assign(color=clust.labels_)\n",
    "    \n",
    "    fig = px.scatter(data,x='x',y='y',hover_data={'b':data['text']},color=data['color'])\n",
    "    fig.update_layout(margin=dict(l=0,r=0,b=0,t=0))\n",
    "    fig.update_layout(hoverlabel={'font_size':12,'bgcolor':'black'})\n",
    "    fig.update_traces(marker={'size':4})\n",
    "    \n",
    "    return model,fig"
   ]
  },
  {
   "cell_type": "code",
   "execution_count": 99,
   "metadata": {},
   "outputs": [],
   "source": [
    "def plot_dendrogram(model, **kwargs):\n",
    "    # Create linkage matrix and then plot the dendrogram\n",
    "\n",
    "    # create the counts of samples under each node\n",
    "    counts = np.zeros(model.children_.shape[0])\n",
    "    n_samples = len(model.labels_)\n",
    "    for i, merge in enumerate(model.children_):\n",
    "        current_count = 0\n",
    "        for child_idx in merge:\n",
    "            if child_idx < n_samples:\n",
    "                current_count += 1  # leaf node\n",
    "            else:\n",
    "                current_count += counts[child_idx - n_samples]\n",
    "        counts[i] = current_count\n",
    "\n",
    "    linkage_matrix = np.column_stack([model.children_, model.distances_,\n",
    "                                      counts]).astype(float)\n",
    "\n",
    "    # Plot the corresponding dendrogram\n",
    "    dendrogram(linkage_matrix, **kwargs)"
   ]
  },
  {
   "cell_type": "code",
   "execution_count": 105,
   "metadata": {},
   "outputs": [
    {
     "data": {
      "application/vnd.plotly.v1+json": {
       "config": {
        "plotlyServerURL": "https://plot.ly"
       },
       "data": [
        {
         "customdata": [
          [
           "arrest case no charge"
          ],
          [
           "Grand Theft in the 3rd Degree"
          ],
          [
           "Felony Driving While Lic Suspd"
          ],
          [
           "Robbery W/Firearm"
          ],
          [
           "Battery"
          ],
          [
           "Possession of Hydrocodone"
          ],
          [
           "Burglary With Assault/battery"
          ],
          [
           "Possession of Cocaine"
          ],
          [
           "Possess Cannabis/20 Grams Or Less"
          ],
          [
           "Susp Drivers Lic 1st Offense"
          ],
          [
           "Uttering Forged Credit Card"
          ],
          [
           "Aggrav Battery w/Deadly Weapon"
          ],
          [
           "Purchase Of Cocaine"
          ],
          [
           "Agg Battery Grt/Bod/Harm"
          ],
          [
           "Burglary Unoccupied Dwelling"
          ],
          [
           "Aggravated Assault w/Firearm"
          ],
          [
           "Disorderly Intoxication"
          ],
          [
           "Possession Of Amphetamine"
          ],
          [
           "Manufacture Cannabis"
          ],
          [
           "DUI- Enhanced"
          ],
          [
           "Opert With Susp DL 2nd Offens"
          ],
          [
           "Possession Of Alprazolam"
          ],
          [
           "Deliver Cannabis"
          ],
          [
           "Child Abuse"
          ],
          [
           "Grand Theft (Motor Vehicle)"
          ],
          [
           "Retail Theft $300 1st Offense"
          ],
          [
           "Driving Under The Influence"
          ],
          [
           "Leave Acc/Attend Veh/More $50"
          ],
          [
           "Felony Petit Theft"
          ],
          [
           "Burglary Dwelling Occupied"
          ],
          [
           "Aggravated Assault W/Dead Weap"
          ],
          [
           "Possession of Cannabis"
          ],
          [
           "Battery on Law Enforc Officer"
          ],
          [
           "DUI Property Damage/Injury"
          ],
          [
           "Obtain Control Substance By Fraud"
          ],
          [
           "Alcoholic Beverage Violation-FL"
          ],
          [
           "Driving While License Revoked"
          ],
          [
           "Possession Child Pornography"
          ],
          [
           "Robbery / Weapon"
          ],
          [
           "Aggravated Assault W/dead Weap"
          ],
          [
           "Tampering With Physical Evidence"
          ],
          [
           "Neglect Child / No Bodily Harm"
          ],
          [
           "Poss3,4 Methylenedioxymethcath"
          ],
          [
           "Felony Battery w/Prior Convict"
          ],
          [
           "Possession of Oxycodone"
          ],
          [
           "Posses/Disply Susp/Revk/Frd DL"
          ],
          [
           "Fail Register Vehicle"
          ],
          [
           "Assault"
          ],
          [
           "Burglary Structure Unoccup"
          ],
          [
           "Solicitation On Felony 3 Deg"
          ],
          [
           "Disorderly Conduct"
          ],
          [
           "Cruelty Toward Child"
          ],
          [
           "Resist Officer w/Violence"
          ],
          [
           "Resist/Obstruct W/O Violence"
          ],
          [
           "Corrupt Public Servant"
          ],
          [
           "DUI - Enhanced"
          ],
          [
           "Poss Cocaine/Intent To Del/Sel"
          ],
          [
           "Criminal Attempt 3rd Deg Felon"
          ],
          [
           "Poss Tetrahydrocannabinols"
          ],
          [
           "Aggravated Battery (Firearm)"
          ],
          [
           "Burglary Conveyance Unoccup"
          ],
          [
           "Fel Drive License Perm Revoke"
          ],
          [
           "Deliver Cocaine"
          ],
          [
           "Driving License Suspended"
          ],
          [
           "Grand Theft In The 3Rd Degree"
          ],
          [
           "Unlaw LicTag/Sticker Attach"
          ],
          [
           "Possession Burglary Tools"
          ],
          [
           "Pos Cannabis W/Intent Sel/Del"
          ],
          [
           "Petit Theft"
          ],
          [
           "Tamper With Witness"
          ],
          [
           "DUI Level 0.15 Or Minor In Veh"
          ],
          [
           "Possess Weapon On School Prop"
          ],
          [
           "Felony Battery"
          ],
          [
           "Viol Prot Injunc Repeat Viol"
          ],
          [
           "Robbery / No Weapon"
          ],
          [
           "Aggravated Assault"
          ],
          [
           "Poss Pyrrolidinovalerophenone"
          ],
          [
           "Bribery Athletic Contests"
          ],
          [
           "Crim Use of Personal ID Info"
          ],
          [
           "Crimin Mischief Damage $1000+"
          ],
          [
           "False Imprisonment"
          ],
          [
           "Attempt Armed Burglary Dwell"
          ],
          [
           "Aggravated Battery / Pregnant"
          ],
          [
           "Operating W/O Valid License"
          ],
          [
           "Delivery Of Drug Paraphernalia"
          ],
          [
           "Fleeing Or Attmp Eluding A Leo"
          ],
          [
           "Leave Accd/Attend Veh/Less $50"
          ],
          [
           "Deliver 3,4 Methylenediox"
          ],
          [
           "Stalking (Aggravated)"
          ],
          [
           "Felony Battery (Dom Strang)"
          ],
          [
           "Battery on a Person Over 65"
          ],
          [
           "Grand Theft of a Fire Extinquisher"
          ],
          [
           "Prowling/Loitering"
          ],
          [
           "Poss of Firearm by Convic Felo"
          ],
          [
           "Burglary Conveyance Armed"
          ],
          [
           "Criminal Mischief>$200<$1000"
          ],
          [
           "Possession Of Heroin"
          ],
          [
           "Leaving the Scene of Accident"
          ],
          [
           "Lve/Scen/Acc/Veh/Prop/Damage"
          ],
          [
           "Possession of Hydromorphone"
          ],
          [
           "Possession Of Methamphetamine"
          ],
          [
           "Viol Injunct Domestic Violence"
          ],
          [
           "Poss 3,4 MDMA (Ecstasy)"
          ],
          [
           "Uttering a Forged Instrument"
          ],
          [
           "Video Voyeur-<24Y on Child >16"
          ],
          [
           "Introduce Contraband Into Jail"
          ],
          [
           "Petit Theft $100- $300"
          ],
          [
           "Possession Of Fentanyl"
          ],
          [
           "Viol Pretrial Release Dom Viol"
          ],
          [
           "Sel Etc/Pos/w/Int Contrft Schd"
          ],
          [
           "Unlicensed Telemarketing"
          ],
          [
           "Strong Armed  Robbery"
          ],
          [
           "Aggrav Stalking After Injunctn"
          ],
          [
           "Deliver Cocaine 1000FT Store"
          ],
          [
           "Possession of Morphine"
          ],
          [
           "Offer Agree Secure/Lewd Act"
          ],
          [
           "Possession Of Phentermine"
          ],
          [
           "Poss Unlaw Issue Id"
          ],
          [
           "Aggravated Battery"
          ],
          [
           "Use of Anti-Shoplifting Device"
          ],
          [
           "Expired DL More Than 6 Months"
          ],
          [
           "Possession of LSD"
          ],
          [
           "Att Burgl Unoccupied Dwel"
          ],
          [
           "Consp Traff Oxycodone 28g><30k"
          ],
          [
           "Burglary Dwelling Assault/Batt"
          ],
          [
           "Burglary Dwelling Armed"
          ],
          [
           "Possess Tobacco Product Under 18"
          ],
          [
           "Uttering Forged Bills"
          ],
          [
           "Poss of Vessel w/Altered ID NO"
          ],
          [
           "Unlawful Conveyance of Fuel"
          ],
          [
           "False Ownership Info/Pawn Item"
          ],
          [
           "Tamper With Witness/Victim/CI"
          ],
          [
           "Obstruct Fire Equipment"
          ],
          [
           "Possession Of Lorazepam"
          ],
          [
           "Drivg While Lic Suspd/Revk/Can"
          ],
          [
           "Solicit Deliver Cocaine"
          ],
          [
           "Criminal Mischief"
          ],
          [
           "Agg Assault W/int Com Fel Dome"
          ],
          [
           "Arson in the First Degree"
          ],
          [
           "Exposes Culpable Negligence"
          ],
          [
           "Felony DUI (level 3)"
          ],
          [
           "Sex Offender Fail Comply W/Law"
          ],
          [
           "Compulsory Sch Attnd Violation"
          ],
          [
           "Felony Batt(Great Bodily Harm)"
          ],
          [
           "Manage Busn W/O City Occup Lic"
          ],
          [
           "Poss Of Controlled Substance"
          ],
          [
           "Burglary Conveyance Occupied"
          ],
          [
           "Lewd or Lascivious Molestation"
          ],
          [
           "Possess Drug Paraphernalia"
          ],
          [
           "Principal In The First Degree"
          ],
          [
           "Reckless Driving"
          ],
          [
           "Poss of Cocaine W/I/D/S 1000FT Park"
          ],
          [
           "Aggrav Child Abuse-Agg Battery"
          ],
          [
           "Poss/Sell/Del Cocaine 1000FT Sch"
          ],
          [
           "Leaving Acc/Unattended Veh"
          ],
          [
           "Fraudulent Use of Credit Card"
          ],
          [
           "Dealing in Stolen Property"
          ],
          [
           "Poss Unlaw Issue Driver Licenc"
          ],
          [
           "Consp Traff Oxycodone  4g><14g"
          ],
          [
           "Grand Theft on 65 Yr or Older"
          ],
          [
           "Fighting/Baiting Animals"
          ],
          [
           "Carjacking with a Firearm"
          ],
          [
           "Fail Obey Driv Lic Restrictions"
          ],
          [
           "Unlaw Use False Name/Identity"
          ],
          [
           "Purchase/P/W/Int Cannabis"
          ],
          [
           "Poss Similitude of Drivers Lic"
          ],
          [
           "Carrying Concealed Firearm"
          ],
          [
           "Tamper With Victim"
          ],
          [
           "Fail To Secure Load"
          ],
          [
           "Traffick Hydrocodone   4g><14g"
          ],
          [
           "Violation License Restrictions"
          ],
          [
           "Purchase Cannabis"
          ],
          [
           "Cash Item w/Intent to Defraud"
          ],
          [
           "Harm Public Servant Or Family"
          ],
          [
           "Offer Agree Secure For Lewd Act"
          ],
          [
           "Robbery Sudd Snatch No Weapon"
          ],
          [
           "Trespassing/Construction Site"
          ],
          [
           "Armed Trafficking in Cannabis"
          ],
          [
           "DUI Blood Alcohol Above 0.20"
          ],
          [
           "Carry Open/Uncov Bev In Pub"
          ],
          [
           "DWI w/Inj Susp Lic / Habit Off"
          ],
          [
           "Grand Theft Firearm"
          ],
          [
           "Felony DUI - Enhanced"
          ],
          [
           "Neglect/Abuse Elderly Person"
          ],
          [
           "Felony/Driving Under Influence"
          ],
          [
           "Opert With Susp DL 2ND Offense"
          ],
          [
           "Criminal Mischief Damage <$200"
          ],
          [
           "Burglary Assault/Battery Armed"
          ],
          [
           "Poss F/Arm Delinq"
          ],
          [
           "Felon in Pos of Firearm or Amm"
          ],
          [
           "Lewd/Lasc Exhib Presence <16yr"
          ],
          [
           "Aggrav Child Abuse-Causes Harm"
          ],
          [
           "Violation Of Boater Safety Id"
          ],
          [
           "Disrupting School Function"
          ],
          [
           "Attempted Robbery Firearm"
          ],
          [
           "Prostitution/Lewd Act Assignation"
          ],
          [
           "Del of JWH-250 2-Methox 1-Pentyl"
          ],
          [
           "Sale/Del Counterfeit Cont Subs"
          ],
          [
           "Poss Contr Subst W/o Prescript"
          ],
          [
           "Tampering with a Victim"
          ],
          [
           "Unemployment Compensatn Fraud"
          ],
          [
           "Sex Battery Deft 18+/Vict 11-"
          ],
          [
           "Possession Of 3,4Methylenediox"
          ],
          [
           "Cruelty to Animals"
          ],
          [
           "Lewd/Lasc Battery Pers 12+/<16"
          ],
          [
           "Carjacking w/o Deadly Weapon"
          ],
          [
           "Grand Theft in the 1st Degree"
          ],
          [
           "Refuse Submit Blood/Breath Test"
          ],
          [
           "Kidnapping / Domestic Violence"
          ],
          [
           "Simulation of Legal Process"
          ],
          [
           "Burglary Structure Occupied"
          ],
          [
           "False Bomb Report"
          ],
          [
           "Gambling/Gamb Paraphernalia"
          ],
          [
           "Trespass Structure/Conveyance"
          ],
          [
           "Poss Wep Conv Felon"
          ],
          [
           "Consume Alcoholic Bev Pub"
          ],
          [
           "Failure To Return Hired Vehicle"
          ],
          [
           "Tresspass Struct/Conveyance"
          ],
          [
           "Fail Sex Offend Report Bylaw"
          ],
          [
           "Possess Cannabis 1000FTSch"
          ],
          [
           "Unauth Poss ID Card or DL"
          ],
          [
           "Tresspass in Structure or Conveyance"
          ],
          [
           "Agg Fleeing and Eluding"
          ],
          [
           "Conspiracy Dealing Stolen Prop"
          ],
          [
           "Counterfeit Lic Plates/Sticker"
          ],
          [
           "Interfere W/Traf Cont Dev RR"
          ],
          [
           "Possession Firearm School Prop"
          ],
          [
           "Possession of Benzylpiperazine"
          ],
          [
           "Throw Deadly Missile Into Veh"
          ],
          [
           "Present Proof of Invalid Insur"
          ],
          [
           "Fraud Obtain Food or Lodging"
          ],
          [
           "Crim Use Of Personal Id Info"
          ],
          [
           "License Suspended Revoked"
          ],
          [
           "Traffick Oxycodone     4g><14g"
          ],
          [
           "Poss Anti-Shoplifting Device"
          ],
          [
           "Hiring with Intent to Defraud"
          ],
          [
           "Lewdness Violation"
          ],
          [
           "Poss Of RX Without RX"
          ],
          [
           "Burglary Conveyance Assault/Bat"
          ],
          [
           "Murder in 2nd Degree"
          ],
          [
           "Aggress/Panhandle/Beg/Solict"
          ],
          [
           "Violation of Injunction Order/Stalking/Cyberstalking"
          ],
          [
           "Attempted Robbery  No Weapon"
          ],
          [
           "Possession Of Buprenorphine"
          ],
          [
           "Possess Controlled Substance"
          ],
          [
           "Structuring Transactions"
          ],
          [
           "Exploit Elderly Person 20-100K"
          ],
          [
           "Robbery W/Deadly Weapon"
          ],
          [
           "Harass Witness/Victm/Informnt"
          ],
          [
           "Misuse Of 911 Or E911 System"
          ],
          [
           "DOC/Cause Public Danger"
          ],
          [
           "Dealing In Stolen Property"
          ],
          [
           "Soliciting For Prostitution"
          ],
          [
           "Delivery of 5-Fluoro PB-22"
          ],
          [
           "Prostitution/Lewdness/Assign"
          ],
          [
           "Deliver Cannabis 1000FTSch"
          ],
          [
           "Sexual Performance by a Child"
          ],
          [
           "Possess w/I/Utter Forged Bills"
          ],
          [
           "Unl/Disturb Education/Instui"
          ],
          [
           "Fleeing or Eluding a LEO"
          ],
          [
           "Use Scanning Device to Defraud"
          ],
          [
           "Poss of Methylethcathinone"
          ],
          [
           "Grand Theft Dwell Property"
          ],
          [
           "Burglary Structure Assault/Batt"
          ],
          [
           "Murder in the First Degree"
          ],
          [
           "Del Cannabis For Consideration"
          ],
          [
           "Poss Alprazolam W/int Sell/Del"
          ],
          [
           "Culpable Negligence"
          ],
          [
           "Fail To Redeliv Hire/Leas Prop"
          ],
          [
           "DWLS Canceled Disqul 1st Off"
          ],
          [
           "Fail Register Career Offender"
          ],
          [
           "Forging Bank Bills/Promis Note"
          ],
          [
           "Sell Cannabis"
          ],
          [
           "Use Computer for Child Exploit"
          ],
          [
           "Extradition/Defendants"
          ],
          [
           "Poss Drugs W/O A Prescription"
          ],
          [
           "Contribute Delinquency Of A Minor"
          ],
          [
           "Possession Of Diazepam"
          ],
          [
           "Flee/Elude LEO-Agg Flee Unsafe"
          ],
          [
           "Theft"
          ],
          [
           "Live on Earnings of Prostitute"
          ],
          [
           "Trespass Property w/Dang Weap"
          ],
          [
           "Att Burgl Struc/Conv Dwel/Occp"
          ],
          [
           "Aggravated Assault W/o Firearm"
          ],
          [
           "Battery Emergency Care Provide"
          ],
          [
           "False 911 Call"
          ],
          [
           "Possession of Codeine"
          ],
          [
           "Sexual Battery / Vict 12 Yrs +"
          ],
          [
           "Att Tamper w/Physical Evidence"
          ],
          [
           "Murder In 2nd Degree W/firearm"
          ],
          [
           "Aggravated Battery On 65/Older"
          ],
          [
           "Battery Spouse Or Girlfriend"
          ],
          [
           "Trespass Structure w/Dang Weap"
          ],
          [
           "Possession Of Paraphernalia"
          ],
          [
           "Escape"
          ],
          [
           "Lewd/Lasciv Molest Elder Persn"
          ],
          [
           "Carrying A Concealed Weapon"
          ],
          [
           "Poss Trifluoromethylphenylpipe"
          ],
          [
           "Traffick Amphetamine 28g><200g"
          ],
          [
           "Possession Of Anabolic Steroid"
          ],
          [
           "Agg Fleeing/Eluding High Speed"
          ],
          [
           "Neglect Child / Bodily Harm"
          ],
          [
           "Sale/Del Cannabis At/Near Scho"
          ],
          [
           "Felony Committing Prostitution"
          ],
          [
           "Battery On Fire Fighter"
          ],
          [
           "Fail To Obey Police Officer"
          ],
          [
           "Compulsory Attendance Violation"
          ],
          [
           "Aggr Child Abuse-Torture,Punish"
          ],
          [
           "Prostitution"
          ],
          [
           "Viol Injunction Protect Dom Vi"
          ],
          [
           "Theft/To Deprive"
          ],
          [
           "Crim Attempt/Solicit/Consp"
          ],
          [
           "Trespass Struct/Conveyance"
          ],
          [
           "False Motor Veh Insurance Card"
          ],
          [
           "Computer Pornography"
          ],
          [
           "Depriv LEO of Protect/Communic"
          ],
          [
           "Del 3,4 Methylenedioxymethcath"
          ],
          [
           "Del Morphine at/near Park"
          ],
          [
           "Use Of 2 Way Device To Fac Fel"
          ],
          [
           "Shoot Into Vehicle"
          ],
          [
           "Offn Against Intellectual Prop"
          ],
          [
           "Deliver Cocaine 1000FT Park"
          ],
          [
           "Battery On Parking Enfor Speci"
          ],
          [
           "Failure To Pay Taxi Cab Charge"
          ],
          [
           "Solicit To Deliver Cocaine"
          ],
          [
           "Open Carrying Of Weapon"
          ],
          [
           "D.U.I. Serious Bodily Injury"
          ],
          [
           "Abuse Without Great Harm"
          ],
          [
           "Lease For Purpose Trafficking"
          ],
          [
           "Threat Public Servant"
          ],
          [
           "Ride Tri-Rail Without Paying"
          ],
          [
           "Falsely Impersonating Officer"
          ],
          [
           "Poss Meth/Diox/Meth/Amp (MDMA)"
          ],
          [
           "Solic to Commit Battery"
          ],
          [
           "Unlawful Use Of Police Badges"
          ],
          [
           "Unauth C/P/S Sounds>1000/Audio"
          ],
          [
           "Deliver Alprazolam"
          ],
          [
           "DUI - Property Damage/Personal Injury"
          ],
          [
           "False Info LEO During Invest"
          ],
          [
           "Purchasing Of Alprazolam"
          ],
          [
           "Refuse to Supply DNA Sample"
          ],
          [
           "Throw Missile Into Pub/Priv Dw"
          ],
          [
           "Sel/Pur/Mfr/Del Control Substa"
          ],
          [
           "DWLS Susp/Cancel Revoked"
          ],
          [
           "Cause Anoth Phone Ring Repeat"
          ],
          [
           "Shoot In Occupied Dwell"
          ],
          [
           "Poss Oxycodone W/Int/Sell/Del"
          ],
          [
           "Conspiracy to Deliver Cocaine"
          ],
          [
           "Possess/Use Weapon 1 Deg Felon"
          ],
          [
           "Intoxicated/Safety Of Another"
          ],
          [
           "Aggravated Battery (Firearm/Actual Possession)"
          ],
          [
           "Insurance Fraud"
          ],
          [
           "Sell or Offer for Sale Counterfeit Goods"
          ],
          [
           "Oper Motorcycle W/O Valid DL"
          ],
          [
           "Agg Assault Law Enforc Officer"
          ],
          [
           "Money Launder 100K or More Dols"
          ],
          [
           "Attempt Burglary (Struct)"
          ],
          [
           "Agg Abuse Elderlly/Disabled Adult"
          ],
          [
           "Throw In Occupied Dwell"
          ],
          [
           "Grand Theft of the 2nd Degree"
          ],
          [
           "Lewd Act Presence Child 16-"
          ],
          [
           "DUI/Property Damage/Persnl Inj"
          ]
         ],
         "hovertemplate": "x=%{x}<br>y=%{y}<br>b=%{customdata[0]}<br>color=%{marker.color}<extra></extra>",
         "legendgroup": "",
         "marker": {
          "color": [
           4,
           4,
           5,
           7,
           11,
           15,
           14,
           15,
           15,
           5,
           1,
           16,
           2,
           11,
           14,
           16,
           0,
           15,
           2,
           3,
           5,
           8,
           2,
           0,
           3,
           4,
           3,
           5,
           13,
           14,
           16,
           2,
           16,
           3,
           13,
           3,
           5,
           17,
           7,
           16,
           9,
           0,
           6,
           16,
           15,
           5,
           5,
           16,
           14,
           4,
           0,
           0,
           16,
           16,
           13,
           3,
           2,
           4,
           6,
           11,
           14,
           5,
           2,
           5,
           4,
           8,
           14,
           2,
           13,
           9,
           3,
           7,
           11,
           16,
           7,
           16,
           6,
           13,
           9,
           12,
           9,
           14,
           11,
           5,
           15,
           10,
           5,
           6,
           11,
           4,
           11,
           13,
           8,
           7,
           14,
           4,
           15,
           10,
           3,
           6,
           15,
           16,
           6,
           8,
           8,
           4,
           4,
           15,
           4,
           8,
           5,
           7,
           16,
           12,
           15,
           17,
           6,
           5,
           11,
           14,
           5,
           8,
           8,
           4,
           14,
           14,
           15,
           1,
           8,
           3,
           1,
           9,
           8,
           15,
           5,
           2,
           13,
           16,
           8,
           0,
           3,
           17,
           0,
           16,
           5,
           15,
           14,
           17,
           15,
           8,
           5,
           12,
           0,
           12,
           5,
           1,
           13,
           5,
           2,
           4,
           16,
           7,
           5,
           1,
           2,
           8,
           7,
           9,
           5,
           6,
           5,
           2,
           13,
           16,
           17,
           7,
           4,
           2,
           3,
           3,
           5,
           7,
           3,
           16,
           3,
           5,
           4,
           14,
           8,
           7,
           8,
           0,
           3,
           0,
           7,
           17,
           6,
           1,
           5,
           9,
           1,
           17,
           6,
           16,
           8,
           5,
           13,
           5,
           4,
           8,
           14,
           1,
           13,
           4,
           4,
           3,
           5,
           8,
           17,
           12,
           5,
           8,
           10,
           13,
           1,
           4,
           7,
           6,
           3,
           5,
           13,
           9,
           5,
           2,
           14,
           13,
           17,
           5,
           14,
           4,
           4,
           5,
           7,
           15,
           15,
           8,
           4,
           7,
           9,
           1,
           16,
           13,
           17,
           8,
           17,
           12,
           17,
           1,
           0,
           10,
           1,
           15,
           13,
           14,
           16,
           2,
           8,
           0,
           5,
           5,
           5,
           1,
           2,
           0,
           4,
           15,
           0,
           15,
           10,
           13,
           17,
           13,
           8,
           16,
           11,
           1,
           6,
           17,
           9,
           7,
           11,
           11,
           16,
           15,
           10,
           17,
           7,
           6,
           4,
           15,
           10,
           0,
           2,
           17,
           16,
           5,
           0,
           0,
           17,
           4,
           13,
           4,
           8,
           1,
           17,
           8,
           6,
           15,
           8,
           3,
           4,
           12,
           11,
           5,
           2,
           7,
           3,
           0,
           13,
           16,
           4,
           9,
           15,
           11,
           5,
           12,
           8,
           3,
           1,
           8,
           5,
           8,
           8,
           5,
           11,
           7,
           2,
           2,
           7,
           8,
           11,
           1,
           1,
           5,
           16,
           12,
           14,
           11,
           8,
           13,
           0,
           3
          ],
          "coloraxis": "coloraxis",
          "size": 4,
          "symbol": "circle"
         },
         "mode": "markers",
         "name": "",
         "orientation": "v",
         "showlegend": false,
         "type": "scatter",
         "x": [
          8.236757278442383,
          7.501500129699707,
          11.126494407653809,
          6.996718406677246,
          9.916772842407227,
          6.841233730316162,
          7.192440032958984,
          5.620203018188477,
          6.903377532958984,
          11.234838485717773,
          5.82533597946167,
          8.698776245117188,
          5.537524223327637,
          9.455142974853516,
          6.656426429748535,
          8.972090721130371,
          8.871145248413086,
          6.613374710083008,
          6.280066967010498,
          10.08480453491211,
          11.441397666931152,
          7.688563823699951,
          6.092280864715576,
          10.031838417053223,
          6.08966588973999,
          6.908958435058594,
          10.023714065551758,
          10.667778015136719,
          6.534965991973877,
          6.833697319030762,
          8.866801261901855,
          6.368539333343506,
          8.806008338928223,
          10.255139350891113,
          6.41372013092041,
          8.180913925170898,
          11.33834171295166,
          8.851037979125977,
          6.755454063415527,
          8.865524291992188,
          6.6589765548706055,
          9.798013687133789,
          7.13539981842041,
          8.638577461242676,
          6.369624614715576,
          11.33993911743164,
          10.732926368713379,
          9.005393028259277,
          6.6831440925598145,
          7.465754508972168,
          9.163384437561035,
          9.88257122039795,
          8.809378623962402,
          8.89344596862793,
          6.5736260414123535,
          10.05871868133545,
          5.486715316772461,
          7.491888999938965,
          6.789608955383301,
          9.292691230773926,
          6.58247709274292,
          11.396536827087402,
          5.5499138832092285,
          11.274407386779785,
          7.5570807456970215,
          9.275411605834961,
          6.813731670379639,
          6.22842264175415,
          6.359869480133057,
          6.782683372497559,
          9.325421333312988,
          7.898639678955078,
          8.853445053100586,
          8.892888069152832,
          6.678436756134033,
          9.361170768737793,
          7.128598690032959,
          5.786036491394043,
          6.040468215942383,
          6.678779602050781,
          6.7845139503479,
          6.860066890716553,
          9.66617202758789,
          10.707460403442383,
          6.127618789672852,
          8.55549144744873,
          10.766302108764648,
          7.246884822845459,
          9.58616828918457,
          8.502667427062988,
          10.13066577911377,
          6.1783552169799805,
          10.70044231414795,
          7.9479756355285645,
          6.874334812164307,
          6.985449314117432,
          6.4363532066345215,
          10.587221145629883,
          10.432461738586426,
          7.025599002838135,
          6.436209201812744,
          9.119843482971191,
          7.020179748535156,
          5.92836332321167,
          8.813183784484863,
          8.127237319946289,
          6.694831371307373,
          6.330570220947266,
          8.450750350952148,
          7.904911041259766,
          7.279002666473389,
          6.861191272735596,
          9.253393173217773,
          5.9086174964904785,
          6.284057140350342,
          8.008816719055176,
          7.048868656158447,
          10.435554504394531,
          9.612927436828613,
          6.955084800720215,
          11.413896560668945,
          9.023319244384766,
          10.581673622131348,
          6.412126064300537,
          7.178801536560059,
          6.9698967933654785,
          6.464333534240723,
          5.806529998779297,
          10.190420150756836,
          9.931836128234863,
          6.256035327911377,
          6.667009353637695,
          6.840811729431152,
          7.35992956161499,
          11.27415657043457,
          5.527762413024902,
          7.3841681480407715,
          8.64851188659668,
          8.159367561340332,
          9.85350513458252,
          7.681687355041504,
          9.053488731384277,
          9.417415618896484,
          8.83548641204834,
          10.784401893615723,
          6.55375337600708,
          6.824723243713379,
          8.411402702331543,
          6.316070556640625,
          8.174480438232422,
          10.419642448425293,
          5.994890213012695,
          9.87171459197998,
          5.867633819580078,
          10.738137245178223,
          5.98069429397583,
          6.09726619720459,
          10.931976318359375,
          6.685148239135742,
          10.049595832824707,
          8.045209884643555,
          6.823216915130615,
          11.15200424194336,
          6.689385414123535,
          6.341429233551025,
          9.601762771606445,
          7.691436290740967,
          6.7440900802612305,
          10.521695137023926,
          6.851181507110596,
          10.970922470092773,
          6.254017353057861,
          5.99695348739624,
          9.498326301574707,
          7.908422470092773,
          6.5993781089782715,
          7.540435314178467,
          6.349408149719238,
          7.144899368286133,
          8.201820373535156,
          11.420621871948242,
          6.174161434173584,
          9.774683952331543,
          9.791728019714355,
          9.622238159179688,
          11.548198699951172,
          7.060551166534424,
          7.001409530639648,
          8.991199493408203,
          8.16236400604248,
          8.92300796508789,
          9.905348777770996,
          9.94639778137207,
          9.51218032836914,
          6.942528247833252,
          8.20872688293457,
          7.170302867889404,
          6.162892818450928,
          10.365686416625977,
          6.614069938659668,
          5.893612384796143,
          8.491562843322754,
          7.115889072418213,
          8.082094192504883,
          8.669977188110352,
          10.36533260345459,
          6.229430675506592,
          10.967238426208496,
          6.64040994644165,
          7.770000457763672,
          6.904635906219482,
          6.5739545822143555,
          6.08201265335083,
          7.576119422912598,
          7.89704704284668,
          8.073324203491211,
          10.712417602539062,
          7.564323902130127,
          8.987995147705078,
          5.9000420570373535,
          10.711088180541992,
          7.576401233673096,
          8.583470344543457,
          6.18037748336792,
          6.24746561050415,
          8.051758766174316,
          7.767818450927734,
          7.144673824310303,
          10.282097816467285,
          10.389338493347168,
          6.052440643310547,
          5.9409565925598145,
          11.486030578613281,
          6.751391887664795,
          6.996504783630371,
          6.279460906982422,
          8.578824043273926,
          10.437396049499512,
          6.948882102966309,
          8.448554039001465,
          6.8152618408203125,
          9.760579109191895,
          6.738593101501465,
          7.2150983810424805,
          6.551784992218018,
          7.5557990074157715,
          7.008559226989746,
          8.00883674621582,
          7.056777477264404,
          6.685349941253662,
          10.211776733398438,
          6.094244956970215,
          7.947770595550537,
          7.604008674621582,
          8.274785995483398,
          6.013440132141113,
          8.921235084533691,
          5.947988986968994,
          9.50600528717041,
          8.52741813659668,
          6.358766078948975,
          6.697581768035889,
          6.15090799331665,
          7.243942737579346,
          8.512602806091309,
          6.288576602935791,
          7.855059623718262,
          9.790283203125,
          10.795414924621582,
          10.946329116821289,
          10.794414520263672,
          5.78205680847168,
          6.225149631500244,
          8.715877532958984,
          8.274662017822266,
          6.553871154785156,
          9.434298515319824,
          7.105694770812988,
          8.561321258544922,
          6.323471546173096,
          7.911951541900635,
          7.569164276123047,
          8.35938549041748,
          9.20702838897705,
          10.018755912780762,
          6.609792232513428,
          6.583136081695557,
          8.540351867675781,
          6.786669731140137,
          8.409317970275879,
          10.001657485961914,
          9.488052368164062,
          7.533924102783203,
          6.430653095245361,
          8.503922462463379,
          8.33946704864502,
          7.656333923339844,
          7.200449466705322,
          6.6891021728515625,
          6.489967346191406,
          8.734525680541992,
          9.943486213684082,
          6.292548179626465,
          8.32886028289795,
          9.205031394958496,
          9.202936172485352,
          9.421553611755371,
          9.854352951049805,
          8.111602783203125,
          8.361398696899414,
          6.183865070343018,
          7.005281448364258,
          7.546574592590332,
          6.455038547515869,
          8.582894325256348,
          8.691567420959473,
          7.151715278625488,
          6.143058776855469,
          6.2718586921691895,
          10.403841972351074,
          8.170096397399902,
          5.939401626586914,
          10.110147476196289,
          6.303224563598633,
          5.469820499420166,
          7.790006637573242,
          10.279489517211914,
          9.473655700683594,
          7.216725826263428,
          9.208465576171875,
          5.756295680999756,
          6.635927677154541,
          6.597828388214111,
          8.26023006439209,
          10.050212860107422,
          6.494922637939453,
          7.728858470916748,
          10.3229341506958,
          6.3555426597595215,
          7.722239017486572,
          10.95203971862793,
          10.095271110534668,
          7.4871416091918945,
          11.240416526794434,
          6.85098123550415,
          7.2807440757751465,
          5.634311199188232,
          5.561644077301025,
          8.10390567779541,
          9.051939964294434,
          9.329070091247559,
          5.762598991394043,
          6.284380912780762,
          10.639826774597168,
          9.02253532409668,
          6.49739933013916,
          7.195715427398682,
          9.798624038696289,
          7.12675666809082,
          6.325324058532715,
          8.844472885131836,
          10.291925430297852
         ],
         "xaxis": "x",
         "y": [
          12.991937637329102,
          9.373875617980957,
          9.674036979675293,
          14.236857414245605,
          13.106037139892578,
          7.2038092613220215,
          13.577449798583984,
          6.946280479431152,
          8.51482105255127,
          9.39095687866211,
          10.782313346862793,
          13.286970138549805,
          6.826117038726807,
          13.336265563964844,
          13.688252449035645,
          13.785014152526855,
          11.736572265625,
          7.7451043128967285,
          5.637190818786621,
          10.879758834838867,
          9.545159339904785,
          7.877639293670654,
          5.902848243713379,
          11.794783592224121,
          12.76146125793457,
          9.46581745147705,
          10.56712532043457,
          10.42837905883789,
          12.249256134033203,
          13.515008926391602,
          13.75677490234375,
          5.764594078063965,
          13.256868362426758,
          10.941426277160645,
          11.393380165100098,
          8.707754135131836,
          9.431227684020996,
          10.85439395904541,
          14.176520347595215,
          13.7079496383667,
          11.663615226745605,
          12.185402870178223,
          6.955568313598633,
          12.917766571044922,
          7.3942670822143555,
          9.317829132080078,
          9.334966659545898,
          13.332509994506836,
          13.540958404541016,
          9.364887237548828,
          11.625581741333008,
          11.856843948364258,
          13.11971664428711,
          12.54870319366455,
          11.732349395751953,
          10.855390548706055,
          6.858804225921631,
          9.390457153320312,
          7.321112155914307,
          13.616908073425293,
          13.608268737792969,
          9.259303092956543,
          6.856842517852783,
          9.312774658203125,
          9.33491039276123,
          9.230998039245605,
          12.993447303771973,
          5.840709686279297,
          12.246359825134277,
          11.881360054016113,
          10.021241188049316,
          14.187420845031738,
          12.691200256347656,
          13.127655029296875,
          14.219499588012695,
          13.181414604187012,
          7.698045253753662,
          11.316712379455566,
          11.846515655517578,
          9.173110961914062,
          11.194612503051758,
          14.058158874511719,
          13.275080680847168,
          9.571159362792969,
          7.453567028045654,
          11.693018913269043,
          10.281752586364746,
          6.911102294921875,
          13.192898750305176,
          12.704092025756836,
          12.877046585083008,
          12.363675117492676,
          8.592450141906738,
          13.911770820617676,
          13.554217338562012,
          9.02342414855957,
          7.523737907409668,
          10.465737342834473,
          10.792403221130371,
          7.348085880279541,
          7.645034313201904,
          12.870474815368652,
          6.8403239250183105,
          10.671675682067871,
          10.047602653503418,
          12.465944290161133,
          9.644209861755371,
          7.534989833831787,
          12.78503131866455,
          12.064188003540039,
          10.743274688720703,
          14.235074996948242,
          13.07166862487793,
          6.56672477722168,
          7.419622898101807,
          10.528719902038574,
          7.755291938781738,
          9.139008522033691,
          13.28689956665039,
          12.971224784851074,
          9.986257553100586,
          9.18443489074707,
          8.631368637084961,
          6.866533279418945,
          13.603761672973633,
          13.82215404510498,
          8.061138153076172,
          10.815942764282227,
          9.158774375915527,
          10.081424713134766,
          11.046621322631836,
          11.731834411621094,
          13.224222183227539,
          7.783483982086182,
          9.540556907653809,
          6.796230316162109,
          12.404430389404297,
          12.548849105834961,
          14.19253921508789,
          11.703835487365723,
          9.369423866271973,
          10.496833801269531,
          11.65268325805664,
          12.931782722473145,
          9.763439178466797,
          7.85921573638916,
          13.497940063476562,
          10.304665565490723,
          7.6384382247924805,
          14.13746452331543,
          9.795310020446777,
          6.641159534454346,
          11.979232788085938,
          6.445672512054443,
          9.888641357421875,
          10.954102516174316,
          11.889615058898926,
          9.441044807434082,
          6.637800216674805,
          12.826141357421875,
          12.856025695800781,
          14.095199584960938,
          9.393535614013672,
          10.944735527038574,
          5.747501850128174,
          9.33774185180664,
          14.11967658996582,
          11.846200942993164,
          8.944453239440918,
          6.695704460144043,
          9.604744911193848,
          5.723662376403809,
          11.425400733947754,
          12.141319274902344,
          10.455381393432617,
          14.302785873413086,
          12.580670356750488,
          5.677603721618652,
          8.894756317138672,
          8.654465675354004,
          9.421293258666992,
          12.847457885742188,
          10.775415420532227,
          12.529004096984863,
          10.43838119506836,
          9.59186840057373,
          9.129520416259766,
          13.764698028564453,
          8.994782447814941,
          14.05242919921875,
          9.626117706298828,
          11.895809173583984,
          9.480485916137695,
          11.585408210754395,
          14.099003791809082,
          10.467782974243164,
          6.907220840454102,
          11.153132438659668,
          9.123509407043457,
          11.75011920928955,
          11.512140274047852,
          10.382596015930176,
          6.951467037200928,
          12.827357292175293,
          9.929436683654785,
          9.760385513305664,
          12.79803466796875,
          8.924439430236816,
          14.238554954528809,
          11.817556381225586,
          13.631494522094727,
          10.850884437561035,
          11.262804985046387,
          12.353443145751953,
          12.491579055786133,
          8.57738971710205,
          9.480551719665527,
          12.105087280273438,
          10.436541557312012,
          6.393973350524902,
          9.52103328704834,
          12.046121597290039,
          11.728863716125488,
          11.468758583068848,
          10.934596061706543,
          12.226962089538574,
          14.060396194458008,
          7.79314661026001,
          10.535273551940918,
          9.008157730102539,
          11.62093448638916,
          11.753583908081055,
          9.30554485321045,
          6.745650291442871,
          12.864453315734863,
          11.564390182495117,
          10.20138168334961,
          9.269371032714844,
          13.629130363464355,
          13.622453689575195,
          12.319304466247559,
          10.077692031860352,
          14.143013954162598,
          7.7956037521362305,
          8.100900650024414,
          11.962125778198242,
          9.138978958129883,
          13.34459400177002,
          12.306084632873535,
          10.93133544921875,
          11.296226501464844,
          11.839077949523926,
          10.68382740020752,
          7.347848892211914,
          10.620551109313965,
          6.219923496246338,
          10.598390579223633,
          10.902644157409668,
          11.55594253540039,
          11.664463996887207,
          11.262472152709961,
          7.668676376342773,
          12.63527774810791,
          13.456718444824219,
          13.896254539489746,
          5.706599712371826,
          7.886626243591309,
          11.785619735717773,
          9.068686485290527,
          8.822936058044434,
          9.14621639251709,
          10.963788986206055,
          5.74437952041626,
          10.884031295776367,
          11.87705135345459,
          7.386401176452637,
          11.911215782165527,
          7.806390285491943,
          11.80529499053955,
          12.37842845916748,
          10.702594757080078,
          12.700197219848633,
          8.057713508605957,
          13.349567413330078,
          12.996904373168945,
          10.803107261657715,
          7.040999889373779,
          10.208043098449707,
          11.7001371383667,
          13.783615112304688,
          13.02652645111084,
          12.851792335510254,
          12.718725204467773,
          7.85343074798584,
          11.603043556213379,
          10.375917434692383,
          14.023296356201172,
          7.648721218109131,
          6.989786148071289,
          7.735745906829834,
          11.830377578735352,
          11.980420112609863,
          5.688164710998535,
          10.641440391540527,
          13.501607894897461,
          10.702364921569824,
          11.403396606445312,
          11.989725112915039,
          10.615869522094727,
          12.566121101379395,
          11.790068626403809,
          12.265064239501953,
          12.242653846740723,
          10.631750106811523,
          10.791481018066406,
          11.90451717376709,
          6.892070770263672,
          7.270047187805176,
          10.69979190826416,
          10.631508827209473,
          12.157843589782715,
          6.529434680938721,
          12.915853500366211,
          10.475790977478027,
          6.824368953704834,
          14.218537330627441,
          11.062482833862305,
          12.266308784484863,
          10.797724723815918,
          12.25301742553711,
          11.211776733398438,
          11.017557144165039,
          7.590638160705566,
          12.54565143585205,
          9.711853981018066,
          9.10065746307373,
          7.744602680206299,
          10.994189262390137,
          11.05259895324707,
          7.7737812995910645,
          8.955320358276367,
          10.498329162597656,
          7.526754856109619,
          8.998902320861816,
          11.00418472290039,
          13.941173553466797,
          6.77863073348999,
          6.859658241271973,
          14.025008201599121,
          12.290815353393555,
          13.627472877502441,
          11.29511833190918,
          11.131217956542969,
          9.626558303833008,
          13.328970909118652,
          9.739803314208984,
          12.673643112182617,
          12.68867015838623,
          13.812483787536621,
          12.70081615447998,
          10.120293617248535,
          11.093560218811035
         ],
         "yaxis": "y"
        }
       ],
       "layout": {
        "coloraxis": {
         "colorbar": {
          "title": {
           "text": "color"
          }
         },
         "colorscale": [
          [
           0,
           "#0d0887"
          ],
          [
           0.1111111111111111,
           "#46039f"
          ],
          [
           0.2222222222222222,
           "#7201a8"
          ],
          [
           0.3333333333333333,
           "#9c179e"
          ],
          [
           0.4444444444444444,
           "#bd3786"
          ],
          [
           0.5555555555555556,
           "#d8576b"
          ],
          [
           0.6666666666666666,
           "#ed7953"
          ],
          [
           0.7777777777777778,
           "#fb9f3a"
          ],
          [
           0.8888888888888888,
           "#fdca26"
          ],
          [
           1,
           "#f0f921"
          ]
         ]
        },
        "hoverlabel": {
         "bgcolor": "black",
         "font": {
          "size": 12
         }
        },
        "legend": {
         "tracegroupgap": 0
        },
        "margin": {
         "b": 0,
         "l": 0,
         "r": 0,
         "t": 0
        },
        "template": {
         "data": {
          "bar": [
           {
            "error_x": {
             "color": "#2a3f5f"
            },
            "error_y": {
             "color": "#2a3f5f"
            },
            "marker": {
             "line": {
              "color": "#E5ECF6",
              "width": 0.5
             }
            },
            "type": "bar"
           }
          ],
          "barpolar": [
           {
            "marker": {
             "line": {
              "color": "#E5ECF6",
              "width": 0.5
             }
            },
            "type": "barpolar"
           }
          ],
          "carpet": [
           {
            "aaxis": {
             "endlinecolor": "#2a3f5f",
             "gridcolor": "white",
             "linecolor": "white",
             "minorgridcolor": "white",
             "startlinecolor": "#2a3f5f"
            },
            "baxis": {
             "endlinecolor": "#2a3f5f",
             "gridcolor": "white",
             "linecolor": "white",
             "minorgridcolor": "white",
             "startlinecolor": "#2a3f5f"
            },
            "type": "carpet"
           }
          ],
          "choropleth": [
           {
            "colorbar": {
             "outlinewidth": 0,
             "ticks": ""
            },
            "type": "choropleth"
           }
          ],
          "contour": [
           {
            "colorbar": {
             "outlinewidth": 0,
             "ticks": ""
            },
            "colorscale": [
             [
              0,
              "#0d0887"
             ],
             [
              0.1111111111111111,
              "#46039f"
             ],
             [
              0.2222222222222222,
              "#7201a8"
             ],
             [
              0.3333333333333333,
              "#9c179e"
             ],
             [
              0.4444444444444444,
              "#bd3786"
             ],
             [
              0.5555555555555556,
              "#d8576b"
             ],
             [
              0.6666666666666666,
              "#ed7953"
             ],
             [
              0.7777777777777778,
              "#fb9f3a"
             ],
             [
              0.8888888888888888,
              "#fdca26"
             ],
             [
              1,
              "#f0f921"
             ]
            ],
            "type": "contour"
           }
          ],
          "contourcarpet": [
           {
            "colorbar": {
             "outlinewidth": 0,
             "ticks": ""
            },
            "type": "contourcarpet"
           }
          ],
          "heatmap": [
           {
            "colorbar": {
             "outlinewidth": 0,
             "ticks": ""
            },
            "colorscale": [
             [
              0,
              "#0d0887"
             ],
             [
              0.1111111111111111,
              "#46039f"
             ],
             [
              0.2222222222222222,
              "#7201a8"
             ],
             [
              0.3333333333333333,
              "#9c179e"
             ],
             [
              0.4444444444444444,
              "#bd3786"
             ],
             [
              0.5555555555555556,
              "#d8576b"
             ],
             [
              0.6666666666666666,
              "#ed7953"
             ],
             [
              0.7777777777777778,
              "#fb9f3a"
             ],
             [
              0.8888888888888888,
              "#fdca26"
             ],
             [
              1,
              "#f0f921"
             ]
            ],
            "type": "heatmap"
           }
          ],
          "heatmapgl": [
           {
            "colorbar": {
             "outlinewidth": 0,
             "ticks": ""
            },
            "colorscale": [
             [
              0,
              "#0d0887"
             ],
             [
              0.1111111111111111,
              "#46039f"
             ],
             [
              0.2222222222222222,
              "#7201a8"
             ],
             [
              0.3333333333333333,
              "#9c179e"
             ],
             [
              0.4444444444444444,
              "#bd3786"
             ],
             [
              0.5555555555555556,
              "#d8576b"
             ],
             [
              0.6666666666666666,
              "#ed7953"
             ],
             [
              0.7777777777777778,
              "#fb9f3a"
             ],
             [
              0.8888888888888888,
              "#fdca26"
             ],
             [
              1,
              "#f0f921"
             ]
            ],
            "type": "heatmapgl"
           }
          ],
          "histogram": [
           {
            "marker": {
             "colorbar": {
              "outlinewidth": 0,
              "ticks": ""
             }
            },
            "type": "histogram"
           }
          ],
          "histogram2d": [
           {
            "colorbar": {
             "outlinewidth": 0,
             "ticks": ""
            },
            "colorscale": [
             [
              0,
              "#0d0887"
             ],
             [
              0.1111111111111111,
              "#46039f"
             ],
             [
              0.2222222222222222,
              "#7201a8"
             ],
             [
              0.3333333333333333,
              "#9c179e"
             ],
             [
              0.4444444444444444,
              "#bd3786"
             ],
             [
              0.5555555555555556,
              "#d8576b"
             ],
             [
              0.6666666666666666,
              "#ed7953"
             ],
             [
              0.7777777777777778,
              "#fb9f3a"
             ],
             [
              0.8888888888888888,
              "#fdca26"
             ],
             [
              1,
              "#f0f921"
             ]
            ],
            "type": "histogram2d"
           }
          ],
          "histogram2dcontour": [
           {
            "colorbar": {
             "outlinewidth": 0,
             "ticks": ""
            },
            "colorscale": [
             [
              0,
              "#0d0887"
             ],
             [
              0.1111111111111111,
              "#46039f"
             ],
             [
              0.2222222222222222,
              "#7201a8"
             ],
             [
              0.3333333333333333,
              "#9c179e"
             ],
             [
              0.4444444444444444,
              "#bd3786"
             ],
             [
              0.5555555555555556,
              "#d8576b"
             ],
             [
              0.6666666666666666,
              "#ed7953"
             ],
             [
              0.7777777777777778,
              "#fb9f3a"
             ],
             [
              0.8888888888888888,
              "#fdca26"
             ],
             [
              1,
              "#f0f921"
             ]
            ],
            "type": "histogram2dcontour"
           }
          ],
          "mesh3d": [
           {
            "colorbar": {
             "outlinewidth": 0,
             "ticks": ""
            },
            "type": "mesh3d"
           }
          ],
          "parcoords": [
           {
            "line": {
             "colorbar": {
              "outlinewidth": 0,
              "ticks": ""
             }
            },
            "type": "parcoords"
           }
          ],
          "pie": [
           {
            "automargin": true,
            "type": "pie"
           }
          ],
          "scatter": [
           {
            "marker": {
             "colorbar": {
              "outlinewidth": 0,
              "ticks": ""
             }
            },
            "type": "scatter"
           }
          ],
          "scatter3d": [
           {
            "line": {
             "colorbar": {
              "outlinewidth": 0,
              "ticks": ""
             }
            },
            "marker": {
             "colorbar": {
              "outlinewidth": 0,
              "ticks": ""
             }
            },
            "type": "scatter3d"
           }
          ],
          "scattercarpet": [
           {
            "marker": {
             "colorbar": {
              "outlinewidth": 0,
              "ticks": ""
             }
            },
            "type": "scattercarpet"
           }
          ],
          "scattergeo": [
           {
            "marker": {
             "colorbar": {
              "outlinewidth": 0,
              "ticks": ""
             }
            },
            "type": "scattergeo"
           }
          ],
          "scattergl": [
           {
            "marker": {
             "colorbar": {
              "outlinewidth": 0,
              "ticks": ""
             }
            },
            "type": "scattergl"
           }
          ],
          "scattermapbox": [
           {
            "marker": {
             "colorbar": {
              "outlinewidth": 0,
              "ticks": ""
             }
            },
            "type": "scattermapbox"
           }
          ],
          "scatterpolar": [
           {
            "marker": {
             "colorbar": {
              "outlinewidth": 0,
              "ticks": ""
             }
            },
            "type": "scatterpolar"
           }
          ],
          "scatterpolargl": [
           {
            "marker": {
             "colorbar": {
              "outlinewidth": 0,
              "ticks": ""
             }
            },
            "type": "scatterpolargl"
           }
          ],
          "scatterternary": [
           {
            "marker": {
             "colorbar": {
              "outlinewidth": 0,
              "ticks": ""
             }
            },
            "type": "scatterternary"
           }
          ],
          "surface": [
           {
            "colorbar": {
             "outlinewidth": 0,
             "ticks": ""
            },
            "colorscale": [
             [
              0,
              "#0d0887"
             ],
             [
              0.1111111111111111,
              "#46039f"
             ],
             [
              0.2222222222222222,
              "#7201a8"
             ],
             [
              0.3333333333333333,
              "#9c179e"
             ],
             [
              0.4444444444444444,
              "#bd3786"
             ],
             [
              0.5555555555555556,
              "#d8576b"
             ],
             [
              0.6666666666666666,
              "#ed7953"
             ],
             [
              0.7777777777777778,
              "#fb9f3a"
             ],
             [
              0.8888888888888888,
              "#fdca26"
             ],
             [
              1,
              "#f0f921"
             ]
            ],
            "type": "surface"
           }
          ],
          "table": [
           {
            "cells": {
             "fill": {
              "color": "#EBF0F8"
             },
             "line": {
              "color": "white"
             }
            },
            "header": {
             "fill": {
              "color": "#C8D4E3"
             },
             "line": {
              "color": "white"
             }
            },
            "type": "table"
           }
          ]
         },
         "layout": {
          "annotationdefaults": {
           "arrowcolor": "#2a3f5f",
           "arrowhead": 0,
           "arrowwidth": 1
          },
          "autotypenumbers": "strict",
          "coloraxis": {
           "colorbar": {
            "outlinewidth": 0,
            "ticks": ""
           }
          },
          "colorscale": {
           "diverging": [
            [
             0,
             "#8e0152"
            ],
            [
             0.1,
             "#c51b7d"
            ],
            [
             0.2,
             "#de77ae"
            ],
            [
             0.3,
             "#f1b6da"
            ],
            [
             0.4,
             "#fde0ef"
            ],
            [
             0.5,
             "#f7f7f7"
            ],
            [
             0.6,
             "#e6f5d0"
            ],
            [
             0.7,
             "#b8e186"
            ],
            [
             0.8,
             "#7fbc41"
            ],
            [
             0.9,
             "#4d9221"
            ],
            [
             1,
             "#276419"
            ]
           ],
           "sequential": [
            [
             0,
             "#0d0887"
            ],
            [
             0.1111111111111111,
             "#46039f"
            ],
            [
             0.2222222222222222,
             "#7201a8"
            ],
            [
             0.3333333333333333,
             "#9c179e"
            ],
            [
             0.4444444444444444,
             "#bd3786"
            ],
            [
             0.5555555555555556,
             "#d8576b"
            ],
            [
             0.6666666666666666,
             "#ed7953"
            ],
            [
             0.7777777777777778,
             "#fb9f3a"
            ],
            [
             0.8888888888888888,
             "#fdca26"
            ],
            [
             1,
             "#f0f921"
            ]
           ],
           "sequentialminus": [
            [
             0,
             "#0d0887"
            ],
            [
             0.1111111111111111,
             "#46039f"
            ],
            [
             0.2222222222222222,
             "#7201a8"
            ],
            [
             0.3333333333333333,
             "#9c179e"
            ],
            [
             0.4444444444444444,
             "#bd3786"
            ],
            [
             0.5555555555555556,
             "#d8576b"
            ],
            [
             0.6666666666666666,
             "#ed7953"
            ],
            [
             0.7777777777777778,
             "#fb9f3a"
            ],
            [
             0.8888888888888888,
             "#fdca26"
            ],
            [
             1,
             "#f0f921"
            ]
           ]
          },
          "colorway": [
           "#636efa",
           "#EF553B",
           "#00cc96",
           "#ab63fa",
           "#FFA15A",
           "#19d3f3",
           "#FF6692",
           "#B6E880",
           "#FF97FF",
           "#FECB52"
          ],
          "font": {
           "color": "#2a3f5f"
          },
          "geo": {
           "bgcolor": "white",
           "lakecolor": "white",
           "landcolor": "#E5ECF6",
           "showlakes": true,
           "showland": true,
           "subunitcolor": "white"
          },
          "hoverlabel": {
           "align": "left"
          },
          "hovermode": "closest",
          "mapbox": {
           "style": "light"
          },
          "paper_bgcolor": "white",
          "plot_bgcolor": "#E5ECF6",
          "polar": {
           "angularaxis": {
            "gridcolor": "white",
            "linecolor": "white",
            "ticks": ""
           },
           "bgcolor": "#E5ECF6",
           "radialaxis": {
            "gridcolor": "white",
            "linecolor": "white",
            "ticks": ""
           }
          },
          "scene": {
           "xaxis": {
            "backgroundcolor": "#E5ECF6",
            "gridcolor": "white",
            "gridwidth": 2,
            "linecolor": "white",
            "showbackground": true,
            "ticks": "",
            "zerolinecolor": "white"
           },
           "yaxis": {
            "backgroundcolor": "#E5ECF6",
            "gridcolor": "white",
            "gridwidth": 2,
            "linecolor": "white",
            "showbackground": true,
            "ticks": "",
            "zerolinecolor": "white"
           },
           "zaxis": {
            "backgroundcolor": "#E5ECF6",
            "gridcolor": "white",
            "gridwidth": 2,
            "linecolor": "white",
            "showbackground": true,
            "ticks": "",
            "zerolinecolor": "white"
           }
          },
          "shapedefaults": {
           "line": {
            "color": "#2a3f5f"
           }
          },
          "ternary": {
           "aaxis": {
            "gridcolor": "white",
            "linecolor": "white",
            "ticks": ""
           },
           "baxis": {
            "gridcolor": "white",
            "linecolor": "white",
            "ticks": ""
           },
           "bgcolor": "#E5ECF6",
           "caxis": {
            "gridcolor": "white",
            "linecolor": "white",
            "ticks": ""
           }
          },
          "title": {
           "x": 0.05
          },
          "xaxis": {
           "automargin": true,
           "gridcolor": "white",
           "linecolor": "white",
           "ticks": "",
           "title": {
            "standoff": 15
           },
           "zerolinecolor": "white",
           "zerolinewidth": 2
          },
          "yaxis": {
           "automargin": true,
           "gridcolor": "white",
           "linecolor": "white",
           "ticks": "",
           "title": {
            "standoff": 15
           },
           "zerolinecolor": "white",
           "zerolinewidth": 2
          }
         }
        },
        "xaxis": {
         "anchor": "y",
         "domain": [
          0,
          1
         ],
         "title": {
          "text": "x"
         }
        },
        "yaxis": {
         "anchor": "x",
         "domain": [
          0,
          1
         ],
         "title": {
          "text": "y"
         }
        }
       }
      },
      "text/html": [
       "<div>                            <div id=\"376c8aaa-9e84-4621-836a-c75cafc7bfc1\" class=\"plotly-graph-div\" style=\"height:525px; width:100%;\"></div>            <script type=\"text/javascript\">                require([\"plotly\"], function(Plotly) {                    window.PLOTLYENV=window.PLOTLYENV || {};                                    if (document.getElementById(\"376c8aaa-9e84-4621-836a-c75cafc7bfc1\")) {                    Plotly.newPlot(                        \"376c8aaa-9e84-4621-836a-c75cafc7bfc1\",                        [{\"customdata\": [[\"arrest case no charge\"], [\"Grand Theft in the 3rd Degree\"], [\"Felony Driving While Lic Suspd\"], [\"Robbery W/Firearm\"], [\"Battery\"], [\"Possession of Hydrocodone\"], [\"Burglary With Assault/battery\"], [\"Possession of Cocaine\"], [\"Possess Cannabis/20 Grams Or Less\"], [\"Susp Drivers Lic 1st Offense\"], [\"Uttering Forged Credit Card\"], [\"Aggrav Battery w/Deadly Weapon\"], [\"Purchase Of Cocaine\"], [\"Agg Battery Grt/Bod/Harm\"], [\"Burglary Unoccupied Dwelling\"], [\"Aggravated Assault w/Firearm\"], [\"Disorderly Intoxication\"], [\"Possession Of Amphetamine\"], [\"Manufacture Cannabis\"], [\"DUI- Enhanced\"], [\"Opert With Susp DL 2nd Offens\"], [\"Possession Of Alprazolam\"], [\"Deliver Cannabis\"], [\"Child Abuse\"], [\"Grand Theft (Motor Vehicle)\"], [\"Retail Theft $300 1st Offense\"], [\"Driving Under The Influence\"], [\"Leave Acc/Attend Veh/More $50\"], [\"Felony Petit Theft\"], [\"Burglary Dwelling Occupied\"], [\"Aggravated Assault W/Dead Weap\"], [\"Possession of Cannabis\"], [\"Battery on Law Enforc Officer\"], [\"DUI Property Damage/Injury\"], [\"Obtain Control Substance By Fraud\"], [\"Alcoholic Beverage Violation-FL\"], [\"Driving While License Revoked\"], [\"Possession Child Pornography\"], [\"Robbery / Weapon\"], [\"Aggravated Assault W/dead Weap\"], [\"Tampering With Physical Evidence\"], [\"Neglect Child / No Bodily Harm\"], [\"Poss3,4 Methylenedioxymethcath\"], [\"Felony Battery w/Prior Convict\"], [\"Possession of Oxycodone\"], [\"Posses/Disply Susp/Revk/Frd DL\"], [\"Fail Register Vehicle\"], [\"Assault\"], [\"Burglary Structure Unoccup\"], [\"Solicitation On Felony 3 Deg\"], [\"Disorderly Conduct\"], [\"Cruelty Toward Child\"], [\"Resist Officer w/Violence\"], [\"Resist/Obstruct W/O Violence\"], [\"Corrupt Public Servant\"], [\"DUI - Enhanced\"], [\"Poss Cocaine/Intent To Del/Sel\"], [\"Criminal Attempt 3rd Deg Felon\"], [\"Poss Tetrahydrocannabinols\"], [\"Aggravated Battery (Firearm)\"], [\"Burglary Conveyance Unoccup\"], [\"Fel Drive License Perm Revoke\"], [\"Deliver Cocaine\"], [\"Driving License Suspended\"], [\"Grand Theft In The 3Rd Degree\"], [\"Unlaw LicTag/Sticker Attach\"], [\"Possession Burglary Tools\"], [\"Pos Cannabis W/Intent Sel/Del\"], [\"Petit Theft\"], [\"Tamper With Witness\"], [\"DUI Level 0.15 Or Minor In Veh\"], [\"Possess Weapon On School Prop\"], [\"Felony Battery\"], [\"Viol Prot Injunc Repeat Viol\"], [\"Robbery / No Weapon\"], [\"Aggravated Assault\"], [\"Poss Pyrrolidinovalerophenone\"], [\"Bribery Athletic Contests\"], [\"Crim Use of Personal ID Info\"], [\"Crimin Mischief Damage $1000+\"], [\"False Imprisonment\"], [\"Attempt Armed Burglary Dwell\"], [\"Aggravated Battery / Pregnant\"], [\"Operating W/O Valid License\"], [\"Delivery Of Drug Paraphernalia\"], [\"Fleeing Or Attmp Eluding A Leo\"], [\"Leave Accd/Attend Veh/Less $50\"], [\"Deliver 3,4 Methylenediox\"], [\"Stalking (Aggravated)\"], [\"Felony Battery (Dom Strang)\"], [\"Battery on a Person Over 65\"], [\"Grand Theft of a Fire Extinquisher\"], [\"Prowling/Loitering\"], [\"Poss of Firearm by Convic Felo\"], [\"Burglary Conveyance Armed\"], [\"Criminal Mischief>$200<$1000\"], [\"Possession Of Heroin\"], [\"Leaving the Scene of Accident\"], [\"Lve/Scen/Acc/Veh/Prop/Damage\"], [\"Possession of Hydromorphone\"], [\"Possession Of Methamphetamine\"], [\"Viol Injunct Domestic Violence\"], [\"Poss 3,4 MDMA (Ecstasy)\"], [\"Uttering a Forged Instrument\"], [\"Video Voyeur-<24Y on Child >16\"], [\"Introduce Contraband Into Jail\"], [\"Petit Theft $100- $300\"], [\"Possession Of Fentanyl\"], [\"Viol Pretrial Release Dom Viol\"], [\"Sel Etc/Pos/w/Int Contrft Schd\"], [\"Unlicensed Telemarketing\"], [\"Strong Armed  Robbery\"], [\"Aggrav Stalking After Injunctn\"], [\"Deliver Cocaine 1000FT Store\"], [\"Possession of Morphine\"], [\"Offer Agree Secure/Lewd Act\"], [\"Possession Of Phentermine\"], [\"Poss Unlaw Issue Id\"], [\"Aggravated Battery\"], [\"Use of Anti-Shoplifting Device\"], [\"Expired DL More Than 6 Months\"], [\"Possession of LSD\"], [\"Att Burgl Unoccupied Dwel\"], [\"Consp Traff Oxycodone 28g><30k\"], [\"Burglary Dwelling Assault/Batt\"], [\"Burglary Dwelling Armed\"], [\"Possess Tobacco Product Under 18\"], [\"Uttering Forged Bills\"], [\"Poss of Vessel w/Altered ID NO\"], [\"Unlawful Conveyance of Fuel\"], [\"False Ownership Info/Pawn Item\"], [\"Tamper With Witness/Victim/CI\"], [\"Obstruct Fire Equipment\"], [\"Possession Of Lorazepam\"], [\"Drivg While Lic Suspd/Revk/Can\"], [\"Solicit Deliver Cocaine\"], [\"Criminal Mischief\"], [\"Agg Assault W/int Com Fel Dome\"], [\"Arson in the First Degree\"], [\"Exposes Culpable Negligence\"], [\"Felony DUI (level 3)\"], [\"Sex Offender Fail Comply W/Law\"], [\"Compulsory Sch Attnd Violation\"], [\"Felony Batt(Great Bodily Harm)\"], [\"Manage Busn W/O City Occup Lic\"], [\"Poss Of Controlled Substance\"], [\"Burglary Conveyance Occupied\"], [\"Lewd or Lascivious Molestation\"], [\"Possess Drug Paraphernalia\"], [\"Principal In The First Degree\"], [\"Reckless Driving\"], [\"Poss of Cocaine W/I/D/S 1000FT Park\"], [\"Aggrav Child Abuse-Agg Battery\"], [\"Poss/Sell/Del Cocaine 1000FT Sch\"], [\"Leaving Acc/Unattended Veh\"], [\"Fraudulent Use of Credit Card\"], [\"Dealing in Stolen Property\"], [\"Poss Unlaw Issue Driver Licenc\"], [\"Consp Traff Oxycodone  4g><14g\"], [\"Grand Theft on 65 Yr or Older\"], [\"Fighting/Baiting Animals\"], [\"Carjacking with a Firearm\"], [\"Fail Obey Driv Lic Restrictions\"], [\"Unlaw Use False Name/Identity\"], [\"Purchase/P/W/Int Cannabis\"], [\"Poss Similitude of Drivers Lic\"], [\"Carrying Concealed Firearm\"], [\"Tamper With Victim\"], [\"Fail To Secure Load\"], [\"Traffick Hydrocodone   4g><14g\"], [\"Violation License Restrictions\"], [\"Purchase Cannabis\"], [\"Cash Item w/Intent to Defraud\"], [\"Harm Public Servant Or Family\"], [\"Offer Agree Secure For Lewd Act\"], [\"Robbery Sudd Snatch No Weapon\"], [\"Trespassing/Construction Site\"], [\"Armed Trafficking in Cannabis\"], [\"DUI Blood Alcohol Above 0.20\"], [\"Carry Open/Uncov Bev In Pub\"], [\"DWI w/Inj Susp Lic / Habit Off\"], [\"Grand Theft Firearm\"], [\"Felony DUI - Enhanced\"], [\"Neglect/Abuse Elderly Person\"], [\"Felony/Driving Under Influence\"], [\"Opert With Susp DL 2ND Offense\"], [\"Criminal Mischief Damage <$200\"], [\"Burglary Assault/Battery Armed\"], [\"Poss F/Arm Delinq\"], [\"Felon in Pos of Firearm or Amm\"], [\"Lewd/Lasc Exhib Presence <16yr\"], [\"Aggrav Child Abuse-Causes Harm\"], [\"Violation Of Boater Safety Id\"], [\"Disrupting School Function\"], [\"Attempted Robbery Firearm\"], [\"Prostitution/Lewd Act Assignation\"], [\"Del of JWH-250 2-Methox 1-Pentyl\"], [\"Sale/Del Counterfeit Cont Subs\"], [\"Poss Contr Subst W/o Prescript\"], [\"Tampering with a Victim\"], [\"Unemployment Compensatn Fraud\"], [\"Sex Battery Deft 18+/Vict 11-\"], [\"Possession Of 3,4Methylenediox\"], [\"Cruelty to Animals\"], [\"Lewd/Lasc Battery Pers 12+/<16\"], [\"Carjacking w/o Deadly Weapon\"], [\"Grand Theft in the 1st Degree\"], [\"Refuse Submit Blood/Breath Test\"], [\"Kidnapping / Domestic Violence\"], [\"Simulation of Legal Process\"], [\"Burglary Structure Occupied\"], [\"False Bomb Report\"], [\"Gambling/Gamb Paraphernalia\"], [\"Trespass Structure/Conveyance\"], [\"Poss Wep Conv Felon\"], [\"Consume Alcoholic Bev Pub\"], [\"Failure To Return Hired Vehicle\"], [\"Tresspass Struct/Conveyance\"], [\"Fail Sex Offend Report Bylaw\"], [\"Possess Cannabis 1000FTSch\"], [\"Unauth Poss ID Card or DL\"], [\"Tresspass in Structure or Conveyance\"], [\"Agg Fleeing and Eluding\"], [\"Conspiracy Dealing Stolen Prop\"], [\"Counterfeit Lic Plates/Sticker\"], [\"Interfere W/Traf Cont Dev RR\"], [\"Possession Firearm School Prop\"], [\"Possession of Benzylpiperazine\"], [\"Throw Deadly Missile Into Veh\"], [\"Present Proof of Invalid Insur\"], [\"Fraud Obtain Food or Lodging\"], [\"Crim Use Of Personal Id Info\"], [\"License Suspended Revoked\"], [\"Traffick Oxycodone     4g><14g\"], [\"Poss Anti-Shoplifting Device\"], [\"Hiring with Intent to Defraud\"], [\"Lewdness Violation\"], [\"Poss Of RX Without RX\"], [\"Burglary Conveyance Assault/Bat\"], [\"Murder in 2nd Degree\"], [\"Aggress/Panhandle/Beg/Solict\"], [\"Violation of Injunction Order/Stalking/Cyberstalking\"], [\"Attempted Robbery  No Weapon\"], [\"Possession Of Buprenorphine\"], [\"Possess Controlled Substance\"], [\"Structuring Transactions\"], [\"Exploit Elderly Person 20-100K\"], [\"Robbery W/Deadly Weapon\"], [\"Harass Witness/Victm/Informnt\"], [\"Misuse Of 911 Or E911 System\"], [\"DOC/Cause Public Danger\"], [\"Dealing In Stolen Property\"], [\"Soliciting For Prostitution\"], [\"Delivery of 5-Fluoro PB-22\"], [\"Prostitution/Lewdness/Assign\"], [\"Deliver Cannabis 1000FTSch\"], [\"Sexual Performance by a Child\"], [\"Possess w/I/Utter Forged Bills\"], [\"Unl/Disturb Education/Instui\"], [\"Fleeing or Eluding a LEO\"], [\"Use Scanning Device to Defraud\"], [\"Poss of Methylethcathinone\"], [\"Grand Theft Dwell Property\"], [\"Burglary Structure Assault/Batt\"], [\"Murder in the First Degree\"], [\"Del Cannabis For Consideration\"], [\"Poss Alprazolam W/int Sell/Del\"], [\"Culpable Negligence\"], [\"Fail To Redeliv Hire/Leas Prop\"], [\"DWLS Canceled Disqul 1st Off\"], [\"Fail Register Career Offender\"], [\"Forging Bank Bills/Promis Note\"], [\"Sell Cannabis\"], [\"Use Computer for Child Exploit\"], [\"Extradition/Defendants\"], [\"Poss Drugs W/O A Prescription\"], [\"Contribute Delinquency Of A Minor\"], [\"Possession Of Diazepam\"], [\"Flee/Elude LEO-Agg Flee Unsafe\"], [\"Theft\"], [\"Live on Earnings of Prostitute\"], [\"Trespass Property w/Dang Weap\"], [\"Att Burgl Struc/Conv Dwel/Occp\"], [\"Aggravated Assault W/o Firearm\"], [\"Battery Emergency Care Provide\"], [\"False 911 Call\"], [\"Possession of Codeine\"], [\"Sexual Battery / Vict 12 Yrs +\"], [\"Att Tamper w/Physical Evidence\"], [\"Murder In 2nd Degree W/firearm\"], [\"Aggravated Battery On 65/Older\"], [\"Battery Spouse Or Girlfriend\"], [\"Trespass Structure w/Dang Weap\"], [\"Possession Of Paraphernalia\"], [\"Escape\"], [\"Lewd/Lasciv Molest Elder Persn\"], [\"Carrying A Concealed Weapon\"], [\"Poss Trifluoromethylphenylpipe\"], [\"Traffick Amphetamine 28g><200g\"], [\"Possession Of Anabolic Steroid\"], [\"Agg Fleeing/Eluding High Speed\"], [\"Neglect Child / Bodily Harm\"], [\"Sale/Del Cannabis At/Near Scho\"], [\"Felony Committing Prostitution\"], [\"Battery On Fire Fighter\"], [\"Fail To Obey Police Officer\"], [\"Compulsory Attendance Violation\"], [\"Aggr Child Abuse-Torture,Punish\"], [\"Prostitution\"], [\"Viol Injunction Protect Dom Vi\"], [\"Theft/To Deprive\"], [\"Crim Attempt/Solicit/Consp\"], [\"Trespass Struct/Conveyance\"], [\"False Motor Veh Insurance Card\"], [\"Computer Pornography\"], [\"Depriv LEO of Protect/Communic\"], [\"Del 3,4 Methylenedioxymethcath\"], [\"Del Morphine at/near Park\"], [\"Use Of 2 Way Device To Fac Fel\"], [\"Shoot Into Vehicle\"], [\"Offn Against Intellectual Prop\"], [\"Deliver Cocaine 1000FT Park\"], [\"Battery On Parking Enfor Speci\"], [\"Failure To Pay Taxi Cab Charge\"], [\"Solicit To Deliver Cocaine\"], [\"Open Carrying Of Weapon\"], [\"D.U.I. Serious Bodily Injury\"], [\"Abuse Without Great Harm\"], [\"Lease For Purpose Trafficking\"], [\"Threat Public Servant\"], [\"Ride Tri-Rail Without Paying\"], [\"Falsely Impersonating Officer\"], [\"Poss Meth/Diox/Meth/Amp (MDMA)\"], [\"Solic to Commit Battery\"], [\"Unlawful Use Of Police Badges\"], [\"Unauth C/P/S Sounds>1000/Audio\"], [\"Deliver Alprazolam\"], [\"DUI - Property Damage/Personal Injury\"], [\"False Info LEO During Invest\"], [\"Purchasing Of Alprazolam\"], [\"Refuse to Supply DNA Sample\"], [\"Throw Missile Into Pub/Priv Dw\"], [\"Sel/Pur/Mfr/Del Control Substa\"], [\"DWLS Susp/Cancel Revoked\"], [\"Cause Anoth Phone Ring Repeat\"], [\"Shoot In Occupied Dwell\"], [\"Poss Oxycodone W/Int/Sell/Del\"], [\"Conspiracy to Deliver Cocaine\"], [\"Possess/Use Weapon 1 Deg Felon\"], [\"Intoxicated/Safety Of Another\"], [\"Aggravated Battery (Firearm/Actual Possession)\"], [\"Insurance Fraud\"], [\"Sell or Offer for Sale Counterfeit Goods\"], [\"Oper Motorcycle W/O Valid DL\"], [\"Agg Assault Law Enforc Officer\"], [\"Money Launder 100K or More Dols\"], [\"Attempt Burglary (Struct)\"], [\"Agg Abuse Elderlly/Disabled Adult\"], [\"Throw In Occupied Dwell\"], [\"Grand Theft of the 2nd Degree\"], [\"Lewd Act Presence Child 16-\"], [\"DUI/Property Damage/Persnl Inj\"]], \"hovertemplate\": \"x=%{x}<br>y=%{y}<br>b=%{customdata[0]}<br>color=%{marker.color}<extra></extra>\", \"legendgroup\": \"\", \"marker\": {\"color\": [4, 4, 5, 7, 11, 15, 14, 15, 15, 5, 1, 16, 2, 11, 14, 16, 0, 15, 2, 3, 5, 8, 2, 0, 3, 4, 3, 5, 13, 14, 16, 2, 16, 3, 13, 3, 5, 17, 7, 16, 9, 0, 6, 16, 15, 5, 5, 16, 14, 4, 0, 0, 16, 16, 13, 3, 2, 4, 6, 11, 14, 5, 2, 5, 4, 8, 14, 2, 13, 9, 3, 7, 11, 16, 7, 16, 6, 13, 9, 12, 9, 14, 11, 5, 15, 10, 5, 6, 11, 4, 11, 13, 8, 7, 14, 4, 15, 10, 3, 6, 15, 16, 6, 8, 8, 4, 4, 15, 4, 8, 5, 7, 16, 12, 15, 17, 6, 5, 11, 14, 5, 8, 8, 4, 14, 14, 15, 1, 8, 3, 1, 9, 8, 15, 5, 2, 13, 16, 8, 0, 3, 17, 0, 16, 5, 15, 14, 17, 15, 8, 5, 12, 0, 12, 5, 1, 13, 5, 2, 4, 16, 7, 5, 1, 2, 8, 7, 9, 5, 6, 5, 2, 13, 16, 17, 7, 4, 2, 3, 3, 5, 7, 3, 16, 3, 5, 4, 14, 8, 7, 8, 0, 3, 0, 7, 17, 6, 1, 5, 9, 1, 17, 6, 16, 8, 5, 13, 5, 4, 8, 14, 1, 13, 4, 4, 3, 5, 8, 17, 12, 5, 8, 10, 13, 1, 4, 7, 6, 3, 5, 13, 9, 5, 2, 14, 13, 17, 5, 14, 4, 4, 5, 7, 15, 15, 8, 4, 7, 9, 1, 16, 13, 17, 8, 17, 12, 17, 1, 0, 10, 1, 15, 13, 14, 16, 2, 8, 0, 5, 5, 5, 1, 2, 0, 4, 15, 0, 15, 10, 13, 17, 13, 8, 16, 11, 1, 6, 17, 9, 7, 11, 11, 16, 15, 10, 17, 7, 6, 4, 15, 10, 0, 2, 17, 16, 5, 0, 0, 17, 4, 13, 4, 8, 1, 17, 8, 6, 15, 8, 3, 4, 12, 11, 5, 2, 7, 3, 0, 13, 16, 4, 9, 15, 11, 5, 12, 8, 3, 1, 8, 5, 8, 8, 5, 11, 7, 2, 2, 7, 8, 11, 1, 1, 5, 16, 12, 14, 11, 8, 13, 0, 3], \"coloraxis\": \"coloraxis\", \"size\": 4, \"symbol\": \"circle\"}, \"mode\": \"markers\", \"name\": \"\", \"orientation\": \"v\", \"showlegend\": false, \"type\": \"scatter\", \"x\": [8.236757278442383, 7.501500129699707, 11.126494407653809, 6.996718406677246, 9.916772842407227, 6.841233730316162, 7.192440032958984, 5.620203018188477, 6.903377532958984, 11.234838485717773, 5.82533597946167, 8.698776245117188, 5.537524223327637, 9.455142974853516, 6.656426429748535, 8.972090721130371, 8.871145248413086, 6.613374710083008, 6.280066967010498, 10.08480453491211, 11.441397666931152, 7.688563823699951, 6.092280864715576, 10.031838417053223, 6.08966588973999, 6.908958435058594, 10.023714065551758, 10.667778015136719, 6.534965991973877, 6.833697319030762, 8.866801261901855, 6.368539333343506, 8.806008338928223, 10.255139350891113, 6.41372013092041, 8.180913925170898, 11.33834171295166, 8.851037979125977, 6.755454063415527, 8.865524291992188, 6.6589765548706055, 9.798013687133789, 7.13539981842041, 8.638577461242676, 6.369624614715576, 11.33993911743164, 10.732926368713379, 9.005393028259277, 6.6831440925598145, 7.465754508972168, 9.163384437561035, 9.88257122039795, 8.809378623962402, 8.89344596862793, 6.5736260414123535, 10.05871868133545, 5.486715316772461, 7.491888999938965, 6.789608955383301, 9.292691230773926, 6.58247709274292, 11.396536827087402, 5.5499138832092285, 11.274407386779785, 7.5570807456970215, 9.275411605834961, 6.813731670379639, 6.22842264175415, 6.359869480133057, 6.782683372497559, 9.325421333312988, 7.898639678955078, 8.853445053100586, 8.892888069152832, 6.678436756134033, 9.361170768737793, 7.128598690032959, 5.786036491394043, 6.040468215942383, 6.678779602050781, 6.7845139503479, 6.860066890716553, 9.66617202758789, 10.707460403442383, 6.127618789672852, 8.55549144744873, 10.766302108764648, 7.246884822845459, 9.58616828918457, 8.502667427062988, 10.13066577911377, 6.1783552169799805, 10.70044231414795, 7.9479756355285645, 6.874334812164307, 6.985449314117432, 6.4363532066345215, 10.587221145629883, 10.432461738586426, 7.025599002838135, 6.436209201812744, 9.119843482971191, 7.020179748535156, 5.92836332321167, 8.813183784484863, 8.127237319946289, 6.694831371307373, 6.330570220947266, 8.450750350952148, 7.904911041259766, 7.279002666473389, 6.861191272735596, 9.253393173217773, 5.9086174964904785, 6.284057140350342, 8.008816719055176, 7.048868656158447, 10.435554504394531, 9.612927436828613, 6.955084800720215, 11.413896560668945, 9.023319244384766, 10.581673622131348, 6.412126064300537, 7.178801536560059, 6.9698967933654785, 6.464333534240723, 5.806529998779297, 10.190420150756836, 9.931836128234863, 6.256035327911377, 6.667009353637695, 6.840811729431152, 7.35992956161499, 11.27415657043457, 5.527762413024902, 7.3841681480407715, 8.64851188659668, 8.159367561340332, 9.85350513458252, 7.681687355041504, 9.053488731384277, 9.417415618896484, 8.83548641204834, 10.784401893615723, 6.55375337600708, 6.824723243713379, 8.411402702331543, 6.316070556640625, 8.174480438232422, 10.419642448425293, 5.994890213012695, 9.87171459197998, 5.867633819580078, 10.738137245178223, 5.98069429397583, 6.09726619720459, 10.931976318359375, 6.685148239135742, 10.049595832824707, 8.045209884643555, 6.823216915130615, 11.15200424194336, 6.689385414123535, 6.341429233551025, 9.601762771606445, 7.691436290740967, 6.7440900802612305, 10.521695137023926, 6.851181507110596, 10.970922470092773, 6.254017353057861, 5.99695348739624, 9.498326301574707, 7.908422470092773, 6.5993781089782715, 7.540435314178467, 6.349408149719238, 7.144899368286133, 8.201820373535156, 11.420621871948242, 6.174161434173584, 9.774683952331543, 9.791728019714355, 9.622238159179688, 11.548198699951172, 7.060551166534424, 7.001409530639648, 8.991199493408203, 8.16236400604248, 8.92300796508789, 9.905348777770996, 9.94639778137207, 9.51218032836914, 6.942528247833252, 8.20872688293457, 7.170302867889404, 6.162892818450928, 10.365686416625977, 6.614069938659668, 5.893612384796143, 8.491562843322754, 7.115889072418213, 8.082094192504883, 8.669977188110352, 10.36533260345459, 6.229430675506592, 10.967238426208496, 6.64040994644165, 7.770000457763672, 6.904635906219482, 6.5739545822143555, 6.08201265335083, 7.576119422912598, 7.89704704284668, 8.073324203491211, 10.712417602539062, 7.564323902130127, 8.987995147705078, 5.9000420570373535, 10.711088180541992, 7.576401233673096, 8.583470344543457, 6.18037748336792, 6.24746561050415, 8.051758766174316, 7.767818450927734, 7.144673824310303, 10.282097816467285, 10.389338493347168, 6.052440643310547, 5.9409565925598145, 11.486030578613281, 6.751391887664795, 6.996504783630371, 6.279460906982422, 8.578824043273926, 10.437396049499512, 6.948882102966309, 8.448554039001465, 6.8152618408203125, 9.760579109191895, 6.738593101501465, 7.2150983810424805, 6.551784992218018, 7.5557990074157715, 7.008559226989746, 8.00883674621582, 7.056777477264404, 6.685349941253662, 10.211776733398438, 6.094244956970215, 7.947770595550537, 7.604008674621582, 8.274785995483398, 6.013440132141113, 8.921235084533691, 5.947988986968994, 9.50600528717041, 8.52741813659668, 6.358766078948975, 6.697581768035889, 6.15090799331665, 7.243942737579346, 8.512602806091309, 6.288576602935791, 7.855059623718262, 9.790283203125, 10.795414924621582, 10.946329116821289, 10.794414520263672, 5.78205680847168, 6.225149631500244, 8.715877532958984, 8.274662017822266, 6.553871154785156, 9.434298515319824, 7.105694770812988, 8.561321258544922, 6.323471546173096, 7.911951541900635, 7.569164276123047, 8.35938549041748, 9.20702838897705, 10.018755912780762, 6.609792232513428, 6.583136081695557, 8.540351867675781, 6.786669731140137, 8.409317970275879, 10.001657485961914, 9.488052368164062, 7.533924102783203, 6.430653095245361, 8.503922462463379, 8.33946704864502, 7.656333923339844, 7.200449466705322, 6.6891021728515625, 6.489967346191406, 8.734525680541992, 9.943486213684082, 6.292548179626465, 8.32886028289795, 9.205031394958496, 9.202936172485352, 9.421553611755371, 9.854352951049805, 8.111602783203125, 8.361398696899414, 6.183865070343018, 7.005281448364258, 7.546574592590332, 6.455038547515869, 8.582894325256348, 8.691567420959473, 7.151715278625488, 6.143058776855469, 6.2718586921691895, 10.403841972351074, 8.170096397399902, 5.939401626586914, 10.110147476196289, 6.303224563598633, 5.469820499420166, 7.790006637573242, 10.279489517211914, 9.473655700683594, 7.216725826263428, 9.208465576171875, 5.756295680999756, 6.635927677154541, 6.597828388214111, 8.26023006439209, 10.050212860107422, 6.494922637939453, 7.728858470916748, 10.3229341506958, 6.3555426597595215, 7.722239017486572, 10.95203971862793, 10.095271110534668, 7.4871416091918945, 11.240416526794434, 6.85098123550415, 7.2807440757751465, 5.634311199188232, 5.561644077301025, 8.10390567779541, 9.051939964294434, 9.329070091247559, 5.762598991394043, 6.284380912780762, 10.639826774597168, 9.02253532409668, 6.49739933013916, 7.195715427398682, 9.798624038696289, 7.12675666809082, 6.325324058532715, 8.844472885131836, 10.291925430297852], \"xaxis\": \"x\", \"y\": [12.991937637329102, 9.373875617980957, 9.674036979675293, 14.236857414245605, 13.106037139892578, 7.2038092613220215, 13.577449798583984, 6.946280479431152, 8.51482105255127, 9.39095687866211, 10.782313346862793, 13.286970138549805, 6.826117038726807, 13.336265563964844, 13.688252449035645, 13.785014152526855, 11.736572265625, 7.7451043128967285, 5.637190818786621, 10.879758834838867, 9.545159339904785, 7.877639293670654, 5.902848243713379, 11.794783592224121, 12.76146125793457, 9.46581745147705, 10.56712532043457, 10.42837905883789, 12.249256134033203, 13.515008926391602, 13.75677490234375, 5.764594078063965, 13.256868362426758, 10.941426277160645, 11.393380165100098, 8.707754135131836, 9.431227684020996, 10.85439395904541, 14.176520347595215, 13.7079496383667, 11.663615226745605, 12.185402870178223, 6.955568313598633, 12.917766571044922, 7.3942670822143555, 9.317829132080078, 9.334966659545898, 13.332509994506836, 13.540958404541016, 9.364887237548828, 11.625581741333008, 11.856843948364258, 13.11971664428711, 12.54870319366455, 11.732349395751953, 10.855390548706055, 6.858804225921631, 9.390457153320312, 7.321112155914307, 13.616908073425293, 13.608268737792969, 9.259303092956543, 6.856842517852783, 9.312774658203125, 9.33491039276123, 9.230998039245605, 12.993447303771973, 5.840709686279297, 12.246359825134277, 11.881360054016113, 10.021241188049316, 14.187420845031738, 12.691200256347656, 13.127655029296875, 14.219499588012695, 13.181414604187012, 7.698045253753662, 11.316712379455566, 11.846515655517578, 9.173110961914062, 11.194612503051758, 14.058158874511719, 13.275080680847168, 9.571159362792969, 7.453567028045654, 11.693018913269043, 10.281752586364746, 6.911102294921875, 13.192898750305176, 12.704092025756836, 12.877046585083008, 12.363675117492676, 8.592450141906738, 13.911770820617676, 13.554217338562012, 9.02342414855957, 7.523737907409668, 10.465737342834473, 10.792403221130371, 7.348085880279541, 7.645034313201904, 12.870474815368652, 6.8403239250183105, 10.671675682067871, 10.047602653503418, 12.465944290161133, 9.644209861755371, 7.534989833831787, 12.78503131866455, 12.064188003540039, 10.743274688720703, 14.235074996948242, 13.07166862487793, 6.56672477722168, 7.419622898101807, 10.528719902038574, 7.755291938781738, 9.139008522033691, 13.28689956665039, 12.971224784851074, 9.986257553100586, 9.18443489074707, 8.631368637084961, 6.866533279418945, 13.603761672973633, 13.82215404510498, 8.061138153076172, 10.815942764282227, 9.158774375915527, 10.081424713134766, 11.046621322631836, 11.731834411621094, 13.224222183227539, 7.783483982086182, 9.540556907653809, 6.796230316162109, 12.404430389404297, 12.548849105834961, 14.19253921508789, 11.703835487365723, 9.369423866271973, 10.496833801269531, 11.65268325805664, 12.931782722473145, 9.763439178466797, 7.85921573638916, 13.497940063476562, 10.304665565490723, 7.6384382247924805, 14.13746452331543, 9.795310020446777, 6.641159534454346, 11.979232788085938, 6.445672512054443, 9.888641357421875, 10.954102516174316, 11.889615058898926, 9.441044807434082, 6.637800216674805, 12.826141357421875, 12.856025695800781, 14.095199584960938, 9.393535614013672, 10.944735527038574, 5.747501850128174, 9.33774185180664, 14.11967658996582, 11.846200942993164, 8.944453239440918, 6.695704460144043, 9.604744911193848, 5.723662376403809, 11.425400733947754, 12.141319274902344, 10.455381393432617, 14.302785873413086, 12.580670356750488, 5.677603721618652, 8.894756317138672, 8.654465675354004, 9.421293258666992, 12.847457885742188, 10.775415420532227, 12.529004096984863, 10.43838119506836, 9.59186840057373, 9.129520416259766, 13.764698028564453, 8.994782447814941, 14.05242919921875, 9.626117706298828, 11.895809173583984, 9.480485916137695, 11.585408210754395, 14.099003791809082, 10.467782974243164, 6.907220840454102, 11.153132438659668, 9.123509407043457, 11.75011920928955, 11.512140274047852, 10.382596015930176, 6.951467037200928, 12.827357292175293, 9.929436683654785, 9.760385513305664, 12.79803466796875, 8.924439430236816, 14.238554954528809, 11.817556381225586, 13.631494522094727, 10.850884437561035, 11.262804985046387, 12.353443145751953, 12.491579055786133, 8.57738971710205, 9.480551719665527, 12.105087280273438, 10.436541557312012, 6.393973350524902, 9.52103328704834, 12.046121597290039, 11.728863716125488, 11.468758583068848, 10.934596061706543, 12.226962089538574, 14.060396194458008, 7.79314661026001, 10.535273551940918, 9.008157730102539, 11.62093448638916, 11.753583908081055, 9.30554485321045, 6.745650291442871, 12.864453315734863, 11.564390182495117, 10.20138168334961, 9.269371032714844, 13.629130363464355, 13.622453689575195, 12.319304466247559, 10.077692031860352, 14.143013954162598, 7.7956037521362305, 8.100900650024414, 11.962125778198242, 9.138978958129883, 13.34459400177002, 12.306084632873535, 10.93133544921875, 11.296226501464844, 11.839077949523926, 10.68382740020752, 7.347848892211914, 10.620551109313965, 6.219923496246338, 10.598390579223633, 10.902644157409668, 11.55594253540039, 11.664463996887207, 11.262472152709961, 7.668676376342773, 12.63527774810791, 13.456718444824219, 13.896254539489746, 5.706599712371826, 7.886626243591309, 11.785619735717773, 9.068686485290527, 8.822936058044434, 9.14621639251709, 10.963788986206055, 5.74437952041626, 10.884031295776367, 11.87705135345459, 7.386401176452637, 11.911215782165527, 7.806390285491943, 11.80529499053955, 12.37842845916748, 10.702594757080078, 12.700197219848633, 8.057713508605957, 13.349567413330078, 12.996904373168945, 10.803107261657715, 7.040999889373779, 10.208043098449707, 11.7001371383667, 13.783615112304688, 13.02652645111084, 12.851792335510254, 12.718725204467773, 7.85343074798584, 11.603043556213379, 10.375917434692383, 14.023296356201172, 7.648721218109131, 6.989786148071289, 7.735745906829834, 11.830377578735352, 11.980420112609863, 5.688164710998535, 10.641440391540527, 13.501607894897461, 10.702364921569824, 11.403396606445312, 11.989725112915039, 10.615869522094727, 12.566121101379395, 11.790068626403809, 12.265064239501953, 12.242653846740723, 10.631750106811523, 10.791481018066406, 11.90451717376709, 6.892070770263672, 7.270047187805176, 10.69979190826416, 10.631508827209473, 12.157843589782715, 6.529434680938721, 12.915853500366211, 10.475790977478027, 6.824368953704834, 14.218537330627441, 11.062482833862305, 12.266308784484863, 10.797724723815918, 12.25301742553711, 11.211776733398438, 11.017557144165039, 7.590638160705566, 12.54565143585205, 9.711853981018066, 9.10065746307373, 7.744602680206299, 10.994189262390137, 11.05259895324707, 7.7737812995910645, 8.955320358276367, 10.498329162597656, 7.526754856109619, 8.998902320861816, 11.00418472290039, 13.941173553466797, 6.77863073348999, 6.859658241271973, 14.025008201599121, 12.290815353393555, 13.627472877502441, 11.29511833190918, 11.131217956542969, 9.626558303833008, 13.328970909118652, 9.739803314208984, 12.673643112182617, 12.68867015838623, 13.812483787536621, 12.70081615447998, 10.120293617248535, 11.093560218811035], \"yaxis\": \"y\"}],                        {\"coloraxis\": {\"colorbar\": {\"title\": {\"text\": \"color\"}}, \"colorscale\": [[0.0, \"#0d0887\"], [0.1111111111111111, \"#46039f\"], [0.2222222222222222, \"#7201a8\"], [0.3333333333333333, \"#9c179e\"], [0.4444444444444444, \"#bd3786\"], [0.5555555555555556, \"#d8576b\"], [0.6666666666666666, \"#ed7953\"], [0.7777777777777778, \"#fb9f3a\"], [0.8888888888888888, \"#fdca26\"], [1.0, \"#f0f921\"]]}, \"hoverlabel\": {\"bgcolor\": \"black\", \"font\": {\"size\": 12}}, \"legend\": {\"tracegroupgap\": 0}, \"margin\": {\"b\": 0, \"l\": 0, \"r\": 0, \"t\": 0}, \"template\": {\"data\": {\"bar\": [{\"error_x\": {\"color\": \"#2a3f5f\"}, \"error_y\": {\"color\": \"#2a3f5f\"}, \"marker\": {\"line\": {\"color\": \"#E5ECF6\", \"width\": 0.5}}, \"type\": \"bar\"}], \"barpolar\": [{\"marker\": {\"line\": {\"color\": \"#E5ECF6\", \"width\": 0.5}}, \"type\": \"barpolar\"}], \"carpet\": [{\"aaxis\": {\"endlinecolor\": \"#2a3f5f\", \"gridcolor\": \"white\", \"linecolor\": \"white\", \"minorgridcolor\": \"white\", \"startlinecolor\": \"#2a3f5f\"}, \"baxis\": {\"endlinecolor\": \"#2a3f5f\", \"gridcolor\": \"white\", \"linecolor\": \"white\", \"minorgridcolor\": \"white\", \"startlinecolor\": \"#2a3f5f\"}, \"type\": \"carpet\"}], \"choropleth\": [{\"colorbar\": {\"outlinewidth\": 0, \"ticks\": \"\"}, \"type\": \"choropleth\"}], \"contour\": [{\"colorbar\": {\"outlinewidth\": 0, \"ticks\": \"\"}, \"colorscale\": [[0.0, \"#0d0887\"], [0.1111111111111111, \"#46039f\"], [0.2222222222222222, \"#7201a8\"], [0.3333333333333333, \"#9c179e\"], [0.4444444444444444, \"#bd3786\"], [0.5555555555555556, \"#d8576b\"], [0.6666666666666666, \"#ed7953\"], [0.7777777777777778, \"#fb9f3a\"], [0.8888888888888888, \"#fdca26\"], [1.0, \"#f0f921\"]], \"type\": \"contour\"}], \"contourcarpet\": [{\"colorbar\": {\"outlinewidth\": 0, \"ticks\": \"\"}, \"type\": \"contourcarpet\"}], \"heatmap\": [{\"colorbar\": {\"outlinewidth\": 0, \"ticks\": \"\"}, \"colorscale\": [[0.0, \"#0d0887\"], [0.1111111111111111, \"#46039f\"], [0.2222222222222222, \"#7201a8\"], [0.3333333333333333, \"#9c179e\"], [0.4444444444444444, \"#bd3786\"], [0.5555555555555556, \"#d8576b\"], [0.6666666666666666, \"#ed7953\"], [0.7777777777777778, \"#fb9f3a\"], [0.8888888888888888, \"#fdca26\"], [1.0, \"#f0f921\"]], \"type\": \"heatmap\"}], \"heatmapgl\": [{\"colorbar\": {\"outlinewidth\": 0, \"ticks\": \"\"}, \"colorscale\": [[0.0, \"#0d0887\"], [0.1111111111111111, \"#46039f\"], [0.2222222222222222, \"#7201a8\"], [0.3333333333333333, \"#9c179e\"], [0.4444444444444444, \"#bd3786\"], [0.5555555555555556, \"#d8576b\"], [0.6666666666666666, \"#ed7953\"], [0.7777777777777778, \"#fb9f3a\"], [0.8888888888888888, \"#fdca26\"], [1.0, \"#f0f921\"]], \"type\": \"heatmapgl\"}], \"histogram\": [{\"marker\": {\"colorbar\": {\"outlinewidth\": 0, \"ticks\": \"\"}}, \"type\": \"histogram\"}], \"histogram2d\": [{\"colorbar\": {\"outlinewidth\": 0, \"ticks\": \"\"}, \"colorscale\": [[0.0, \"#0d0887\"], [0.1111111111111111, \"#46039f\"], [0.2222222222222222, \"#7201a8\"], [0.3333333333333333, \"#9c179e\"], [0.4444444444444444, \"#bd3786\"], [0.5555555555555556, \"#d8576b\"], [0.6666666666666666, \"#ed7953\"], [0.7777777777777778, \"#fb9f3a\"], [0.8888888888888888, \"#fdca26\"], [1.0, \"#f0f921\"]], \"type\": \"histogram2d\"}], \"histogram2dcontour\": [{\"colorbar\": {\"outlinewidth\": 0, \"ticks\": \"\"}, \"colorscale\": [[0.0, \"#0d0887\"], [0.1111111111111111, \"#46039f\"], [0.2222222222222222, \"#7201a8\"], [0.3333333333333333, \"#9c179e\"], [0.4444444444444444, \"#bd3786\"], [0.5555555555555556, \"#d8576b\"], [0.6666666666666666, \"#ed7953\"], [0.7777777777777778, \"#fb9f3a\"], [0.8888888888888888, \"#fdca26\"], [1.0, \"#f0f921\"]], \"type\": \"histogram2dcontour\"}], \"mesh3d\": [{\"colorbar\": {\"outlinewidth\": 0, \"ticks\": \"\"}, \"type\": \"mesh3d\"}], \"parcoords\": [{\"line\": {\"colorbar\": {\"outlinewidth\": 0, \"ticks\": \"\"}}, \"type\": \"parcoords\"}], \"pie\": [{\"automargin\": true, \"type\": \"pie\"}], \"scatter\": [{\"marker\": {\"colorbar\": {\"outlinewidth\": 0, \"ticks\": \"\"}}, \"type\": \"scatter\"}], \"scatter3d\": [{\"line\": {\"colorbar\": {\"outlinewidth\": 0, \"ticks\": \"\"}}, \"marker\": {\"colorbar\": {\"outlinewidth\": 0, \"ticks\": \"\"}}, \"type\": \"scatter3d\"}], \"scattercarpet\": [{\"marker\": {\"colorbar\": {\"outlinewidth\": 0, \"ticks\": \"\"}}, \"type\": \"scattercarpet\"}], \"scattergeo\": [{\"marker\": {\"colorbar\": {\"outlinewidth\": 0, \"ticks\": \"\"}}, \"type\": \"scattergeo\"}], \"scattergl\": [{\"marker\": {\"colorbar\": {\"outlinewidth\": 0, \"ticks\": \"\"}}, \"type\": \"scattergl\"}], \"scattermapbox\": [{\"marker\": {\"colorbar\": {\"outlinewidth\": 0, \"ticks\": \"\"}}, \"type\": \"scattermapbox\"}], \"scatterpolar\": [{\"marker\": {\"colorbar\": {\"outlinewidth\": 0, \"ticks\": \"\"}}, \"type\": \"scatterpolar\"}], \"scatterpolargl\": [{\"marker\": {\"colorbar\": {\"outlinewidth\": 0, \"ticks\": \"\"}}, \"type\": \"scatterpolargl\"}], \"scatterternary\": [{\"marker\": {\"colorbar\": {\"outlinewidth\": 0, \"ticks\": \"\"}}, \"type\": \"scatterternary\"}], \"surface\": [{\"colorbar\": {\"outlinewidth\": 0, \"ticks\": \"\"}, \"colorscale\": [[0.0, \"#0d0887\"], [0.1111111111111111, \"#46039f\"], [0.2222222222222222, \"#7201a8\"], [0.3333333333333333, \"#9c179e\"], [0.4444444444444444, \"#bd3786\"], [0.5555555555555556, \"#d8576b\"], [0.6666666666666666, \"#ed7953\"], [0.7777777777777778, \"#fb9f3a\"], [0.8888888888888888, \"#fdca26\"], [1.0, \"#f0f921\"]], \"type\": \"surface\"}], \"table\": [{\"cells\": {\"fill\": {\"color\": \"#EBF0F8\"}, \"line\": {\"color\": \"white\"}}, \"header\": {\"fill\": {\"color\": \"#C8D4E3\"}, \"line\": {\"color\": \"white\"}}, \"type\": \"table\"}]}, \"layout\": {\"annotationdefaults\": {\"arrowcolor\": \"#2a3f5f\", \"arrowhead\": 0, \"arrowwidth\": 1}, \"autotypenumbers\": \"strict\", \"coloraxis\": {\"colorbar\": {\"outlinewidth\": 0, \"ticks\": \"\"}}, \"colorscale\": {\"diverging\": [[0, \"#8e0152\"], [0.1, \"#c51b7d\"], [0.2, \"#de77ae\"], [0.3, \"#f1b6da\"], [0.4, \"#fde0ef\"], [0.5, \"#f7f7f7\"], [0.6, \"#e6f5d0\"], [0.7, \"#b8e186\"], [0.8, \"#7fbc41\"], [0.9, \"#4d9221\"], [1, \"#276419\"]], \"sequential\": [[0.0, \"#0d0887\"], [0.1111111111111111, \"#46039f\"], [0.2222222222222222, \"#7201a8\"], [0.3333333333333333, \"#9c179e\"], [0.4444444444444444, \"#bd3786\"], [0.5555555555555556, \"#d8576b\"], [0.6666666666666666, \"#ed7953\"], [0.7777777777777778, \"#fb9f3a\"], [0.8888888888888888, \"#fdca26\"], [1.0, \"#f0f921\"]], \"sequentialminus\": [[0.0, \"#0d0887\"], [0.1111111111111111, \"#46039f\"], [0.2222222222222222, \"#7201a8\"], [0.3333333333333333, \"#9c179e\"], [0.4444444444444444, \"#bd3786\"], [0.5555555555555556, \"#d8576b\"], [0.6666666666666666, \"#ed7953\"], [0.7777777777777778, \"#fb9f3a\"], [0.8888888888888888, \"#fdca26\"], [1.0, \"#f0f921\"]]}, \"colorway\": [\"#636efa\", \"#EF553B\", \"#00cc96\", \"#ab63fa\", \"#FFA15A\", \"#19d3f3\", \"#FF6692\", \"#B6E880\", \"#FF97FF\", \"#FECB52\"], \"font\": {\"color\": \"#2a3f5f\"}, \"geo\": {\"bgcolor\": \"white\", \"lakecolor\": \"white\", \"landcolor\": \"#E5ECF6\", \"showlakes\": true, \"showland\": true, \"subunitcolor\": \"white\"}, \"hoverlabel\": {\"align\": \"left\"}, \"hovermode\": \"closest\", \"mapbox\": {\"style\": \"light\"}, \"paper_bgcolor\": \"white\", \"plot_bgcolor\": \"#E5ECF6\", \"polar\": {\"angularaxis\": {\"gridcolor\": \"white\", \"linecolor\": \"white\", \"ticks\": \"\"}, \"bgcolor\": \"#E5ECF6\", \"radialaxis\": {\"gridcolor\": \"white\", \"linecolor\": \"white\", \"ticks\": \"\"}}, \"scene\": {\"xaxis\": {\"backgroundcolor\": \"#E5ECF6\", \"gridcolor\": \"white\", \"gridwidth\": 2, \"linecolor\": \"white\", \"showbackground\": true, \"ticks\": \"\", \"zerolinecolor\": \"white\"}, \"yaxis\": {\"backgroundcolor\": \"#E5ECF6\", \"gridcolor\": \"white\", \"gridwidth\": 2, \"linecolor\": \"white\", \"showbackground\": true, \"ticks\": \"\", \"zerolinecolor\": \"white\"}, \"zaxis\": {\"backgroundcolor\": \"#E5ECF6\", \"gridcolor\": \"white\", \"gridwidth\": 2, \"linecolor\": \"white\", \"showbackground\": true, \"ticks\": \"\", \"zerolinecolor\": \"white\"}}, \"shapedefaults\": {\"line\": {\"color\": \"#2a3f5f\"}}, \"ternary\": {\"aaxis\": {\"gridcolor\": \"white\", \"linecolor\": \"white\", \"ticks\": \"\"}, \"baxis\": {\"gridcolor\": \"white\", \"linecolor\": \"white\", \"ticks\": \"\"}, \"bgcolor\": \"#E5ECF6\", \"caxis\": {\"gridcolor\": \"white\", \"linecolor\": \"white\", \"ticks\": \"\"}}, \"title\": {\"x\": 0.05}, \"xaxis\": {\"automargin\": true, \"gridcolor\": \"white\", \"linecolor\": \"white\", \"ticks\": \"\", \"title\": {\"standoff\": 15}, \"zerolinecolor\": \"white\", \"zerolinewidth\": 2}, \"yaxis\": {\"automargin\": true, \"gridcolor\": \"white\", \"linecolor\": \"white\", \"ticks\": \"\", \"title\": {\"standoff\": 15}, \"zerolinecolor\": \"white\", \"zerolinewidth\": 2}}}, \"xaxis\": {\"anchor\": \"y\", \"domain\": [0.0, 1.0], \"title\": {\"text\": \"x\"}}, \"yaxis\": {\"anchor\": \"x\", \"domain\": [0.0, 1.0], \"title\": {\"text\": \"y\"}}},                        {\"responsive\": true}                    ).then(function(){\n",
       "                            \n",
       "var gd = document.getElementById('376c8aaa-9e84-4621-836a-c75cafc7bfc1');\n",
       "var x = new MutationObserver(function (mutations, observer) {{\n",
       "        var display = window.getComputedStyle(gd).display;\n",
       "        if (!display || display === 'none') {{\n",
       "            console.log([gd, 'removed!']);\n",
       "            Plotly.purge(gd);\n",
       "            observer.disconnect();\n",
       "        }}\n",
       "}});\n",
       "\n",
       "// Listen for the removal of the full notebook cells\n",
       "var notebookContainer = gd.closest('#notebook-container');\n",
       "if (notebookContainer) {{\n",
       "    x.observe(notebookContainer, {childList: true});\n",
       "}}\n",
       "\n",
       "// Listen for the clearing of the current output cell\n",
       "var outputEl = gd.closest('.output');\n",
       "if (outputEl) {{\n",
       "    x.observe(outputEl, {childList: true});\n",
       "}}\n",
       "\n",
       "                        })                };                });            </script>        </div>"
      ]
     },
     "metadata": {},
     "output_type": "display_data"
    }
   ],
   "source": [
    "model = KMeans(n_clusters=18)\n",
    "kme,fig = cluster_plot(model)\n",
    "fig"
   ]
  },
  {
   "cell_type": "code",
   "execution_count": 106,
   "metadata": {},
   "outputs": [],
   "source": [
    "#model = DBSCAN(metric='cosine',eps=.3,min_samples=3)\n",
    "#dbs,fig = cluster_plot(model)\n",
    "#fig"
   ]
  },
  {
   "cell_type": "code",
   "execution_count": 107,
   "metadata": {},
   "outputs": [],
   "source": [
    "#model = AgglomerativeClustering(n_clusters=20,affinity='cosine',linkage='complete')\n",
    "#agg,fig = cluster_plot(model)\n",
    "#fig"
   ]
  },
  {
   "cell_type": "code",
   "execution_count": 108,
   "metadata": {},
   "outputs": [],
   "source": [
    "charge_map = {i:j for i,j in zip(charges,kme.labels_)}\n",
    "charge_map['arrest case no charge']=-1\n",
    "pickle.dump(charge_map, open('charge_map_v3.pkl', 'wb')) "
   ]
  },
  {
   "cell_type": "code",
   "execution_count": 109,
   "metadata": {},
   "outputs": [
    {
     "data": {
      "text/plain": [
       " 11.0    790\n",
       "-1.0     620\n",
       " 4.0     327\n",
       " 16.0    313\n",
       " 15.0    313\n",
       " 5.0     304\n",
       " 3.0     273\n",
       " 14.0    143\n",
       " 2.0     121\n",
       " 8.0      99\n",
       " 0.0      82\n",
       " 6.0      82\n",
       " 9.0      75\n",
       " 13.0     68\n",
       " 7.0      64\n",
       " 17.0     34\n",
       " 1.0      29\n",
       " 10.0     25\n",
       " 12.0     20\n",
       "Name: c_charge_desc, dtype: int64"
      ]
     },
     "execution_count": 109,
     "metadata": {},
     "output_type": "execute_result"
    }
   ],
   "source": [
    "X_train['c_charge_desc'].map(charge_map).value_counts()"
   ]
  },
  {
   "cell_type": "code",
   "execution_count": null,
   "metadata": {},
   "outputs": [],
   "source": []
  }
 ],
 "metadata": {
  "kernelspec": {
   "display_name": "Python 3",
   "language": "python",
   "name": "python3"
  },
  "language_info": {
   "codemirror_mode": {
    "name": "ipython",
    "version": 3
   },
   "file_extension": ".py",
   "mimetype": "text/x-python",
   "name": "python",
   "nbconvert_exporter": "python",
   "pygments_lexer": "ipython3",
   "version": "3.8.5"
  }
 },
 "nbformat": 4,
 "nbformat_minor": 4
}
