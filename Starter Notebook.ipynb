{
 "cells": [
  {
   "cell_type": "markdown",
   "metadata": {},
   "source": [
    "# COMPASS Caggle Notebook"
   ]
  },
  {
   "cell_type": "markdown",
   "metadata": {},
   "source": [
    "## Import Data"
   ]
  },
  {
   "cell_type": "code",
   "execution_count": 1,
   "metadata": {},
   "outputs": [],
   "source": [
    "import pandas as pd\n",
    "import numpy as np\n",
    "import matplotlib.pyplot as plt\n",
    "\n",
    "from sklearn.preprocessing import LabelEncoder, OneHotEncoder, StandardScaler, MinMaxScaler\n",
    "from sklearn.compose import ColumnTransformer\n",
    "from sklearn.ensemble import RandomForestClassifier\n",
    "\n",
    "import imblearn\n",
    "\n",
    "import xgboost as xgb\n",
    "\n",
    "from sklearn.metrics import classification_report, accuracy_score, roc_auc_score\n",
    "import scikitplot as skplt\n",
    "\n",
    "from IPython.display import display\n",
    "import pickle\n",
    "\n",
    "pd.set_option('display.max_columns', None)"
   ]
  },
  {
   "cell_type": "markdown",
   "metadata": {},
   "source": [
    "## Helper Functions"
   ]
  },
  {
   "cell_type": "code",
   "execution_count": 2,
   "metadata": {},
   "outputs": [],
   "source": [
    "def import_data():\n",
    "    X_train = pd.read_csv('./train/X_train.csv')\n",
    "    X_test = pd.read_csv('./test/X_test.csv')\n",
    "    y_train = pd.read_csv('./train/y_train.csv')\n",
    "    y_test = pd.read_csv('./test/y_test.csv')\n",
    "    return X_train, X_test, y_train, y_test\n",
    "\n",
    "def date_difference(start,end):\n",
    "    start = pd.to_datetime(start).dt.date\n",
    "    end  = pd.to_datetime(end).dt.date\n",
    "    return (end-start).dt.days.fillna(-1).astype(int)+1\n",
    "\n",
    "def modelling(model,X_train,y_train):\n",
    "    model.fit(X_train,y_train)\n",
    "    y_pred = model.predict(X_test)\n",
    "    y_prob = model.predict_proba(X_test)\n",
    "    print(model.score(X_test,y_test))\n",
    "    print(classification_report(y_test,y_pred))\n",
    "    df = (pd.DataFrame(zip(X_train.columns,model.feature_importances_)\n",
    "             ,columns =['feature','importance']).sort_values(by='importance',ascending=False).head(10))\n",
    "    display(df)\n",
    "    \n",
    "    fig,ax=plt.subplots(ncols=2,figsize = (16,6))\n",
    "    skplt.metrics.plot_confusion_matrix(y_test, y_pred, ax = ax[1])\n",
    "    skplt.metrics.plot_roc(y_test,y_prob,ax=ax[0])\n",
    "    plt.show()\n",
    "    return model\n",
    "\n",
    "def xgb_model(dtrain, dtest, param, num_round, y_test):\n",
    "    \n",
    "    bst = xgb.train(param, dtrain, num_round,\n",
    "                    evals=[(dtrain, 'train'), (dtest, 'valid')], \n",
    "                    early_stopping_rounds=10, verbose_eval=False, )\n",
    "    \n",
    "    y_prob = bst.predict(dtest)\n",
    "    y_pred = np.argmax(y_prob,axis=1)\n",
    "    \n",
    "    print(accuracy_score(y_test,y_pred))\n",
    "    print(classification_report(y_test,y_pred))\n",
    "    \n",
    "    #Available importance_types = [‘weight’, ‘gain’, ‘cover’, ‘total_gain’, ‘total_cover’]\n",
    "    df = pd.DataFrame.from_dict(bst.get_score(importance_type= 'gain'),orient='index').head(10)\n",
    "    display(df)\n",
    "    \n",
    "    fig,ax=plt.subplots(ncols=2,figsize = (16,6))\n",
    "    skplt.metrics.plot_confusion_matrix(y_test, y_pred, ax = ax[1])\n",
    "    skplt.metrics.plot_roc(y_test,y_prob,ax=ax[0])\n",
    "    plt.show()\n",
    "    return bst"
   ]
  },
  {
   "cell_type": "markdown",
   "metadata": {},
   "source": [
    "## Load Data"
   ]
  },
  {
   "cell_type": "code",
   "execution_count": 3,
   "metadata": {},
   "outputs": [],
   "source": [
    "X_train, X_test, y_train, y_test = import_data()"
   ]
  },
  {
   "cell_type": "code",
   "execution_count": 4,
   "metadata": {},
   "outputs": [
    {
     "data": {
      "text/plain": [
       "(3794, 29)"
      ]
     },
     "execution_count": 4,
     "metadata": {},
     "output_type": "execute_result"
    }
   ],
   "source": [
    "X_train.shape"
   ]
  },
  {
   "cell_type": "code",
   "execution_count": 5,
   "metadata": {
    "scrolled": true
   },
   "outputs": [
    {
     "data": {
      "text/html": [
       "<div>\n",
       "<style scoped>\n",
       "    .dataframe tbody tr th:only-of-type {\n",
       "        vertical-align: middle;\n",
       "    }\n",
       "\n",
       "    .dataframe tbody tr th {\n",
       "        vertical-align: top;\n",
       "    }\n",
       "\n",
       "    .dataframe thead th {\n",
       "        text-align: right;\n",
       "    }\n",
       "</style>\n",
       "<table border=\"1\" class=\"dataframe\">\n",
       "  <thead>\n",
       "    <tr style=\"text-align: right;\">\n",
       "      <th></th>\n",
       "      <th>0</th>\n",
       "      <th>1</th>\n",
       "      <th>2</th>\n",
       "      <th>3</th>\n",
       "      <th>4</th>\n",
       "    </tr>\n",
       "  </thead>\n",
       "  <tbody>\n",
       "    <tr>\n",
       "      <th>id</th>\n",
       "      <td>2677</td>\n",
       "      <td>548</td>\n",
       "      <td>4483</td>\n",
       "      <td>9476</td>\n",
       "      <td>199</td>\n",
       "    </tr>\n",
       "    <tr>\n",
       "      <th>name</th>\n",
       "      <td>nicholas staggewise</td>\n",
       "      <td>newton smith</td>\n",
       "      <td>terrance irvin</td>\n",
       "      <td>jaimie peterson</td>\n",
       "      <td>ritesh sukhlall</td>\n",
       "    </tr>\n",
       "    <tr>\n",
       "      <th>first</th>\n",
       "      <td>nicholas</td>\n",
       "      <td>newton</td>\n",
       "      <td>terrance</td>\n",
       "      <td>jaimie</td>\n",
       "      <td>ritesh</td>\n",
       "    </tr>\n",
       "    <tr>\n",
       "      <th>last</th>\n",
       "      <td>staggewise</td>\n",
       "      <td>smith</td>\n",
       "      <td>irvin</td>\n",
       "      <td>peterson</td>\n",
       "      <td>sukhlall</td>\n",
       "    </tr>\n",
       "    <tr>\n",
       "      <th>sex</th>\n",
       "      <td>Male</td>\n",
       "      <td>Male</td>\n",
       "      <td>Male</td>\n",
       "      <td>Female</td>\n",
       "      <td>Male</td>\n",
       "    </tr>\n",
       "    <tr>\n",
       "      <th>date_of_birth</th>\n",
       "      <td>1994-02-28</td>\n",
       "      <td>1995-01-28</td>\n",
       "      <td>1984-04-10</td>\n",
       "      <td>1986-01-02</td>\n",
       "      <td>1987-05-12</td>\n",
       "    </tr>\n",
       "    <tr>\n",
       "      <th>age</th>\n",
       "      <td>22</td>\n",
       "      <td>21</td>\n",
       "      <td>32</td>\n",
       "      <td>30</td>\n",
       "      <td>28</td>\n",
       "    </tr>\n",
       "    <tr>\n",
       "      <th>age_group</th>\n",
       "      <td>Less than 25</td>\n",
       "      <td>Less than 25</td>\n",
       "      <td>25 - 45</td>\n",
       "      <td>25 - 45</td>\n",
       "      <td>25 - 45</td>\n",
       "    </tr>\n",
       "    <tr>\n",
       "      <th>race</th>\n",
       "      <td>Caucasian</td>\n",
       "      <td>African-American</td>\n",
       "      <td>African-American</td>\n",
       "      <td>African-American</td>\n",
       "      <td>Caucasian</td>\n",
       "    </tr>\n",
       "    <tr>\n",
       "      <th>juv_fel_count</th>\n",
       "      <td>0</td>\n",
       "      <td>0</td>\n",
       "      <td>0</td>\n",
       "      <td>0</td>\n",
       "      <td>0</td>\n",
       "    </tr>\n",
       "    <tr>\n",
       "      <th>juv_misd_count</th>\n",
       "      <td>0</td>\n",
       "      <td>1</td>\n",
       "      <td>0</td>\n",
       "      <td>0</td>\n",
       "      <td>0</td>\n",
       "    </tr>\n",
       "    <tr>\n",
       "      <th>juv_other_count</th>\n",
       "      <td>0</td>\n",
       "      <td>0</td>\n",
       "      <td>0</td>\n",
       "      <td>0</td>\n",
       "      <td>0</td>\n",
       "    </tr>\n",
       "    <tr>\n",
       "      <th>priors_count</th>\n",
       "      <td>2</td>\n",
       "      <td>1</td>\n",
       "      <td>6</td>\n",
       "      <td>3</td>\n",
       "      <td>2</td>\n",
       "    </tr>\n",
       "    <tr>\n",
       "      <th>days_b_screening_arrest</th>\n",
       "      <td>-1</td>\n",
       "      <td>-1</td>\n",
       "      <td>-1</td>\n",
       "      <td>-1</td>\n",
       "      <td>NaN</td>\n",
       "    </tr>\n",
       "    <tr>\n",
       "      <th>c_jail_in</th>\n",
       "      <td>2013-09-23 09:01:58</td>\n",
       "      <td>2013-06-16 12:36:42</td>\n",
       "      <td>2013-10-11 05:38:14</td>\n",
       "      <td>2014-01-11 06:56:43</td>\n",
       "      <td>NaN</td>\n",
       "    </tr>\n",
       "    <tr>\n",
       "      <th>c_jail_out</th>\n",
       "      <td>2013-09-27 03:54:42</td>\n",
       "      <td>2013-06-16 07:01:42</td>\n",
       "      <td>2013-10-15 07:11:17</td>\n",
       "      <td>2014-01-12 02:17:00</td>\n",
       "      <td>NaN</td>\n",
       "    </tr>\n",
       "    <tr>\n",
       "      <th>c_offense_date</th>\n",
       "      <td>NaN</td>\n",
       "      <td>2013-06-15</td>\n",
       "      <td>2013-10-11</td>\n",
       "      <td>2014-01-11</td>\n",
       "      <td>NaN</td>\n",
       "    </tr>\n",
       "    <tr>\n",
       "      <th>c_arrest_date</th>\n",
       "      <td>2013-09-23</td>\n",
       "      <td>NaN</td>\n",
       "      <td>NaN</td>\n",
       "      <td>NaN</td>\n",
       "      <td>2013-03-21</td>\n",
       "    </tr>\n",
       "    <tr>\n",
       "      <th>c_charge_degree</th>\n",
       "      <td>F</td>\n",
       "      <td>F</td>\n",
       "      <td>F</td>\n",
       "      <td>F</td>\n",
       "      <td>F</td>\n",
       "    </tr>\n",
       "    <tr>\n",
       "      <th>c_charge_desc</th>\n",
       "      <td>arrest case no charge</td>\n",
       "      <td>Grand Theft in the 3rd Degree</td>\n",
       "      <td>Grand Theft in the 3rd Degree</td>\n",
       "      <td>Felony Driving While Lic Suspd</td>\n",
       "      <td>arrest case no charge</td>\n",
       "    </tr>\n",
       "    <tr>\n",
       "      <th>r_jail_in</th>\n",
       "      <td>NaN</td>\n",
       "      <td>NaN</td>\n",
       "      <td>2013-12-21</td>\n",
       "      <td>NaN</td>\n",
       "      <td>NaN</td>\n",
       "    </tr>\n",
       "    <tr>\n",
       "      <th>r_jail_out</th>\n",
       "      <td>NaN</td>\n",
       "      <td>NaN</td>\n",
       "      <td>2014-02-21</td>\n",
       "      <td>NaN</td>\n",
       "      <td>NaN</td>\n",
       "    </tr>\n",
       "    <tr>\n",
       "      <th>type_of_assessment</th>\n",
       "      <td>Risk of Recidivism</td>\n",
       "      <td>Risk of Recidivism</td>\n",
       "      <td>Risk of Recidivism</td>\n",
       "      <td>Risk of Recidivism</td>\n",
       "      <td>Risk of Recidivism</td>\n",
       "    </tr>\n",
       "    <tr>\n",
       "      <th>screening_date</th>\n",
       "      <td>2013-09-24</td>\n",
       "      <td>2013-06-17</td>\n",
       "      <td>2013-10-12</td>\n",
       "      <td>2014-01-12</td>\n",
       "      <td>2013-08-29</td>\n",
       "    </tr>\n",
       "    <tr>\n",
       "      <th>v_type_of_assessment</th>\n",
       "      <td>Risk of Violence</td>\n",
       "      <td>Risk of Violence</td>\n",
       "      <td>Risk of Violence</td>\n",
       "      <td>Risk of Violence</td>\n",
       "      <td>Risk of Violence</td>\n",
       "    </tr>\n",
       "    <tr>\n",
       "      <th>v_screening_date</th>\n",
       "      <td>2013-09-24</td>\n",
       "      <td>2013-06-17</td>\n",
       "      <td>2013-10-12</td>\n",
       "      <td>2014-01-12</td>\n",
       "      <td>2013-08-29</td>\n",
       "    </tr>\n",
       "    <tr>\n",
       "      <th>in_custody</th>\n",
       "      <td>2013-09-23</td>\n",
       "      <td>2013-06-16</td>\n",
       "      <td>2013-10-11</td>\n",
       "      <td>2014-01-11</td>\n",
       "      <td>NaN</td>\n",
       "    </tr>\n",
       "    <tr>\n",
       "      <th>out_custody</th>\n",
       "      <td>2013-09-27</td>\n",
       "      <td>2013-06-16</td>\n",
       "      <td>2013-10-15</td>\n",
       "      <td>2014-01-12</td>\n",
       "      <td>NaN</td>\n",
       "    </tr>\n",
       "    <tr>\n",
       "      <th>start</th>\n",
       "      <td>3</td>\n",
       "      <td>0</td>\n",
       "      <td>3</td>\n",
       "      <td>0</td>\n",
       "      <td>0</td>\n",
       "    </tr>\n",
       "  </tbody>\n",
       "</table>\n",
       "</div>"
      ],
      "text/plain": [
       "                                             0                              1  \\\n",
       "id                                        2677                            548   \n",
       "name                       nicholas staggewise                   newton smith   \n",
       "first                                 nicholas                         newton   \n",
       "last                                staggewise                          smith   \n",
       "sex                                       Male                           Male   \n",
       "date_of_birth                       1994-02-28                     1995-01-28   \n",
       "age                                         22                             21   \n",
       "age_group                         Less than 25                   Less than 25   \n",
       "race                                 Caucasian               African-American   \n",
       "juv_fel_count                                0                              0   \n",
       "juv_misd_count                               0                              1   \n",
       "juv_other_count                              0                              0   \n",
       "priors_count                                 2                              1   \n",
       "days_b_screening_arrest                     -1                             -1   \n",
       "c_jail_in                  2013-09-23 09:01:58            2013-06-16 12:36:42   \n",
       "c_jail_out                 2013-09-27 03:54:42            2013-06-16 07:01:42   \n",
       "c_offense_date                             NaN                     2013-06-15   \n",
       "c_arrest_date                       2013-09-23                            NaN   \n",
       "c_charge_degree                              F                              F   \n",
       "c_charge_desc            arrest case no charge  Grand Theft in the 3rd Degree   \n",
       "r_jail_in                                  NaN                            NaN   \n",
       "r_jail_out                                 NaN                            NaN   \n",
       "type_of_assessment          Risk of Recidivism             Risk of Recidivism   \n",
       "screening_date                      2013-09-24                     2013-06-17   \n",
       "v_type_of_assessment          Risk of Violence               Risk of Violence   \n",
       "v_screening_date                    2013-09-24                     2013-06-17   \n",
       "in_custody                          2013-09-23                     2013-06-16   \n",
       "out_custody                         2013-09-27                     2013-06-16   \n",
       "start                                        3                              0   \n",
       "\n",
       "                                                     2  \\\n",
       "id                                                4483   \n",
       "name                                    terrance irvin   \n",
       "first                                         terrance   \n",
       "last                                             irvin   \n",
       "sex                                               Male   \n",
       "date_of_birth                               1984-04-10   \n",
       "age                                                 32   \n",
       "age_group                                      25 - 45   \n",
       "race                                  African-American   \n",
       "juv_fel_count                                        0   \n",
       "juv_misd_count                                       0   \n",
       "juv_other_count                                      0   \n",
       "priors_count                                         6   \n",
       "days_b_screening_arrest                             -1   \n",
       "c_jail_in                          2013-10-11 05:38:14   \n",
       "c_jail_out                         2013-10-15 07:11:17   \n",
       "c_offense_date                              2013-10-11   \n",
       "c_arrest_date                                      NaN   \n",
       "c_charge_degree                                      F   \n",
       "c_charge_desc            Grand Theft in the 3rd Degree   \n",
       "r_jail_in                                   2013-12-21   \n",
       "r_jail_out                                  2014-02-21   \n",
       "type_of_assessment                  Risk of Recidivism   \n",
       "screening_date                              2013-10-12   \n",
       "v_type_of_assessment                  Risk of Violence   \n",
       "v_screening_date                            2013-10-12   \n",
       "in_custody                                  2013-10-11   \n",
       "out_custody                                 2013-10-15   \n",
       "start                                                3   \n",
       "\n",
       "                                                      3                      4  \n",
       "id                                                 9476                    199  \n",
       "name                                    jaimie peterson        ritesh sukhlall  \n",
       "first                                            jaimie                 ritesh  \n",
       "last                                           peterson               sukhlall  \n",
       "sex                                              Female                   Male  \n",
       "date_of_birth                                1986-01-02             1987-05-12  \n",
       "age                                                  30                     28  \n",
       "age_group                                       25 - 45                25 - 45  \n",
       "race                                   African-American              Caucasian  \n",
       "juv_fel_count                                         0                      0  \n",
       "juv_misd_count                                        0                      0  \n",
       "juv_other_count                                       0                      0  \n",
       "priors_count                                          3                      2  \n",
       "days_b_screening_arrest                              -1                    NaN  \n",
       "c_jail_in                           2014-01-11 06:56:43                    NaN  \n",
       "c_jail_out                          2014-01-12 02:17:00                    NaN  \n",
       "c_offense_date                               2014-01-11                    NaN  \n",
       "c_arrest_date                                       NaN             2013-03-21  \n",
       "c_charge_degree                                       F                      F  \n",
       "c_charge_desc            Felony Driving While Lic Suspd  arrest case no charge  \n",
       "r_jail_in                                           NaN                    NaN  \n",
       "r_jail_out                                          NaN                    NaN  \n",
       "type_of_assessment                   Risk of Recidivism     Risk of Recidivism  \n",
       "screening_date                               2014-01-12             2013-08-29  \n",
       "v_type_of_assessment                   Risk of Violence       Risk of Violence  \n",
       "v_screening_date                             2014-01-12             2013-08-29  \n",
       "in_custody                                   2014-01-11                    NaN  \n",
       "out_custody                                  2014-01-12                    NaN  \n",
       "start                                                 0                      0  "
      ]
     },
     "execution_count": 5,
     "metadata": {},
     "output_type": "execute_result"
    }
   ],
   "source": [
    "X_train.head(5).T"
   ]
  },
  {
   "cell_type": "markdown",
   "metadata": {},
   "source": [
    "## Feature Engineering"
   ]
  },
  {
   "cell_type": "markdown",
   "metadata": {},
   "source": [
    "### Month out of jail"
   ]
  },
  {
   "cell_type": "code",
   "execution_count": 6,
   "metadata": {},
   "outputs": [],
   "source": [
    "#X_train['out_month'] = X_train['out_custody'].fillna('0-13-0').str.split('-').apply(lambda x:x[1])"
   ]
  },
  {
   "cell_type": "markdown",
   "metadata": {},
   "source": [
    "### More Age Bins"
   ]
  },
  {
   "cell_type": "code",
   "execution_count": 7,
   "metadata": {},
   "outputs": [],
   "source": [
    "X_train['age_group'], bins = pd.qcut(X_train['age'],10,retbins=True)\n",
    "X_test['age_group'] = pd.cut(X_test[\"age\"], bins=bins, include_lowest=True)"
   ]
  },
  {
   "cell_type": "code",
   "execution_count": 8,
   "metadata": {},
   "outputs": [],
   "source": [
    "X_train['age_group']=X_train['age_group'].astype(str).str.replace('(','').str.replace(']','').str.replace(', ','-')\n",
    "X_test['age_group']=X_test['age_group'].astype(str).str.replace('(','').str.replace(']','').str.replace(', ','-')"
   ]
  },
  {
   "cell_type": "code",
   "execution_count": 9,
   "metadata": {},
   "outputs": [
    {
     "data": {
      "text/plain": [
       "17.999-23.0    518\n",
       "27.0-30.0      440\n",
       "33.0-37.0      398\n",
       "47.4-54.0      381\n",
       "54.0-83.0      378\n",
       "41.0-47.4      369\n",
       "23.0-25.0      346\n",
       "30.0-33.0      343\n",
       "25.0-27.0      317\n",
       "37.0-41.0      304\n",
       "Name: age_group, dtype: int64"
      ]
     },
     "execution_count": 9,
     "metadata": {},
     "output_type": "execute_result"
    }
   ],
   "source": [
    "X_train['age_group'].value_counts()"
   ]
  },
  {
   "cell_type": "code",
   "execution_count": 10,
   "metadata": {},
   "outputs": [
    {
     "data": {
      "text/plain": [
       "17.999-23.0    130\n",
       "33.0-37.0      110\n",
       "54.0-83.0       96\n",
       "27.0-30.0       95\n",
       "30.0-33.0       93\n",
       "47.4-54.0       93\n",
       "23.0-25.0       89\n",
       "41.0-47.4       84\n",
       "37.0-41.0       80\n",
       "25.0-27.0       79\n",
       "Name: age_group, dtype: int64"
      ]
     },
     "execution_count": 10,
     "metadata": {},
     "output_type": "execute_result"
    }
   ],
   "source": [
    "X_test['age_group'].value_counts()"
   ]
  },
  {
   "cell_type": "markdown",
   "metadata": {},
   "source": [
    "### Time in Jail"
   ]
  },
  {
   "cell_type": "code",
   "execution_count": 11,
   "metadata": {},
   "outputs": [],
   "source": [
    "X_train['c_time']=date_difference(X_train['c_jail_in'],X_train['c_jail_out'])\n",
    "X_train['r_time']=date_difference(X_train['r_jail_in'],X_train['r_jail_out'])"
   ]
  },
  {
   "cell_type": "code",
   "execution_count": 12,
   "metadata": {},
   "outputs": [],
   "source": [
    "X_test['c_time']=date_difference(X_test['c_jail_in'],X_test['c_jail_out'])\n",
    "X_test['r_time']=date_difference(X_test['r_jail_in'],X_test['r_jail_out'])"
   ]
  },
  {
   "cell_type": "markdown",
   "metadata": {},
   "source": [
    "### Charges (See Charges Clustering Notebook)"
   ]
  },
  {
   "cell_type": "code",
   "execution_count": 13,
   "metadata": {},
   "outputs": [],
   "source": [
    "charge_map = pickle.load(open('charge_map_v3.pkl', 'rb'))"
   ]
  },
  {
   "cell_type": "markdown",
   "metadata": {},
   "source": [
    "## Preprocessing"
   ]
  },
  {
   "cell_type": "code",
   "execution_count": 14,
   "metadata": {},
   "outputs": [],
   "source": [
    "drop = ['id', 'name', 'first', 'last',  'date_of_birth', 'age',\n",
    "        'c_jail_in', 'c_jail_out', 'c_offense_date', 'c_arrest_date',\n",
    "       'r_jail_in', 'r_jail_out',\n",
    "       'type_of_assessment', 'screening_date', 'v_type_of_assessment',\n",
    "       'v_screening_date', 'in_custody', 'out_custody', 'start','start','race']\n",
    "\n",
    "multi_cat =  ['age_group','c_charge_desc']\n",
    "binary_cat = ['sex','c_charge_degree',]\n",
    "continuous = ['juv_fel_count', 'juv_misd_count','juv_other_count', 'priors_count','c_time',\n",
    "              'r_time','priors_count','days_b_screening_arrest']              "
   ]
  },
  {
   "cell_type": "code",
   "execution_count": 15,
   "metadata": {},
   "outputs": [],
   "source": [
    "X_train.drop(drop,inplace=True,axis=1)\n",
    "X_test.drop(drop,inplace=True,axis=1)"
   ]
  },
  {
   "cell_type": "markdown",
   "metadata": {},
   "source": [
    "### Missing Values"
   ]
  },
  {
   "cell_type": "code",
   "execution_count": 16,
   "metadata": {},
   "outputs": [
    {
     "data": {
      "text/plain": [
       "sex                          0\n",
       "age_group                    0\n",
       "juv_fel_count                0\n",
       "juv_misd_count               0\n",
       "juv_other_count              0\n",
       "priors_count                 0\n",
       "days_b_screening_arrest    215\n",
       "c_charge_degree              0\n",
       "c_charge_desc               12\n",
       "c_time                       0\n",
       "r_time                       0\n",
       "dtype: int64"
      ]
     },
     "execution_count": 16,
     "metadata": {},
     "output_type": "execute_result"
    }
   ],
   "source": [
    "X_train.isnull().sum()"
   ]
  },
  {
   "cell_type": "code",
   "execution_count": 17,
   "metadata": {},
   "outputs": [
    {
     "data": {
      "text/plain": [
       "sex                         0\n",
       "age_group                   0\n",
       "juv_fel_count               0\n",
       "juv_misd_count              0\n",
       "juv_other_count             0\n",
       "priors_count                0\n",
       "days_b_screening_arrest    53\n",
       "c_charge_degree             0\n",
       "c_charge_desc               5\n",
       "c_time                      0\n",
       "r_time                      0\n",
       "dtype: int64"
      ]
     },
     "execution_count": 17,
     "metadata": {},
     "output_type": "execute_result"
    }
   ],
   "source": [
    "X_test.isnull().sum()"
   ]
  },
  {
   "cell_type": "code",
   "execution_count": 18,
   "metadata": {},
   "outputs": [],
   "source": [
    "mean = X_train['days_b_screening_arrest'].mean()\n",
    "\n",
    "X_train['days_b_screening_arrest'].fillna(mean,inplace=True)\n",
    "X_test['days_b_screening_arrest'].fillna(mean,inplace=True)"
   ]
  },
  {
   "cell_type": "code",
   "execution_count": 19,
   "metadata": {},
   "outputs": [],
   "source": [
    "X_train['c_charge_desc'].fillna('arrest case no charge',inplace=True)\n",
    "X_test['c_charge_desc'].fillna('arrest case no charge',inplace=True)"
   ]
  },
  {
   "cell_type": "markdown",
   "metadata": {},
   "source": [
    "### Map Clusters"
   ]
  },
  {
   "cell_type": "code",
   "execution_count": 20,
   "metadata": {},
   "outputs": [],
   "source": [
    "X_train['c_charge_desc'] = X_train['c_charge_desc'].map(charge_map)\n",
    "X_test['c_charge_desc'] = X_test['c_charge_desc'].map(charge_map)"
   ]
  },
  {
   "cell_type": "code",
   "execution_count": 21,
   "metadata": {},
   "outputs": [
    {
     "data": {
      "text/plain": [
       " 11    790\n",
       "-1     632\n",
       " 4     327\n",
       " 15    313\n",
       " 16    313\n",
       " 5     304\n",
       " 3     273\n",
       " 14    143\n",
       " 2     121\n",
       " 8      99\n",
       " 6      82\n",
       " 0      82\n",
       " 9      75\n",
       " 13     68\n",
       " 7      64\n",
       " 17     34\n",
       " 1      29\n",
       " 10     25\n",
       " 12     20\n",
       "Name: c_charge_desc, dtype: int64"
      ]
     },
     "execution_count": 21,
     "metadata": {},
     "output_type": "execute_result"
    }
   ],
   "source": [
    "X_train['c_charge_desc'].value_counts()"
   ]
  },
  {
   "cell_type": "markdown",
   "metadata": {},
   "source": [
    "### Encoding"
   ]
  },
  {
   "cell_type": "code",
   "execution_count": 22,
   "metadata": {},
   "outputs": [],
   "source": [
    "oh_enc = OneHotEncoder(drop='first',handle_unknown='error',sparse=False)\n",
    "label_enc=LabelEncoder()\n",
    "scaler = StandardScaler()"
   ]
  },
  {
   "cell_type": "code",
   "execution_count": 23,
   "metadata": {},
   "outputs": [],
   "source": [
    "col_trans = ColumnTransformer([('categorical', oh_enc, multi_cat+binary_cat)], \n",
    "                              remainder='passthrough',sparse_threshold=1)"
   ]
  },
  {
   "cell_type": "code",
   "execution_count": 24,
   "metadata": {},
   "outputs": [],
   "source": [
    "X_train = pd.DataFrame(col_trans.fit_transform(X_train),columns = col_trans.get_feature_names())\n",
    "X_train = pd.DataFrame(scaler.fit_transform(X_train),columns = X_train.columns)\n",
    "y_train = label_enc.fit_transform(y_train.iloc[:,0])"
   ]
  },
  {
   "cell_type": "code",
   "execution_count": 25,
   "metadata": {},
   "outputs": [],
   "source": [
    "X_test = pd.DataFrame(col_trans.transform(X_test),columns = col_trans.get_feature_names())\n",
    "X_test = pd.DataFrame(scaler.transform(X_test),columns = X_test.columns)\n",
    "y_test = label_enc.transform(y_test.iloc[:,0])"
   ]
  },
  {
   "cell_type": "markdown",
   "metadata": {},
   "source": [
    "### Basic Model"
   ]
  },
  {
   "cell_type": "code",
   "execution_count": 26,
   "metadata": {},
   "outputs": [
    {
     "name": "stdout",
     "output_type": "stream",
     "text": [
      "0.9072708113804004\n",
      "              precision    recall  f1-score   support\n",
      "\n",
      "           0       0.92      0.99      0.95       751\n",
      "           1       0.89      0.68      0.77       170\n",
      "           2       0.14      0.04      0.06        28\n",
      "\n",
      "    accuracy                           0.91       949\n",
      "   macro avg       0.65      0.57      0.59       949\n",
      "weighted avg       0.89      0.91      0.89       949\n",
      "\n"
     ]
    },
    {
     "data": {
      "text/html": [
       "<div>\n",
       "<style scoped>\n",
       "    .dataframe tbody tr th:only-of-type {\n",
       "        vertical-align: middle;\n",
       "    }\n",
       "\n",
       "    .dataframe tbody tr th {\n",
       "        vertical-align: top;\n",
       "    }\n",
       "\n",
       "    .dataframe thead th {\n",
       "        text-align: right;\n",
       "    }\n",
       "</style>\n",
       "<table border=\"1\" class=\"dataframe\">\n",
       "  <thead>\n",
       "    <tr style=\"text-align: right;\">\n",
       "      <th></th>\n",
       "      <th>feature</th>\n",
       "      <th>importance</th>\n",
       "    </tr>\n",
       "  </thead>\n",
       "  <tbody>\n",
       "    <tr>\n",
       "      <th>35</th>\n",
       "      <td>r_time</td>\n",
       "      <td>0.505657</td>\n",
       "    </tr>\n",
       "    <tr>\n",
       "      <th>32</th>\n",
       "      <td>priors_count</td>\n",
       "      <td>0.097037</td>\n",
       "    </tr>\n",
       "    <tr>\n",
       "      <th>34</th>\n",
       "      <td>c_time</td>\n",
       "      <td>0.088561</td>\n",
       "    </tr>\n",
       "    <tr>\n",
       "      <th>33</th>\n",
       "      <td>days_b_screening_arrest</td>\n",
       "      <td>0.062670</td>\n",
       "    </tr>\n",
       "    <tr>\n",
       "      <th>28</th>\n",
       "      <td>categorical__x3_M</td>\n",
       "      <td>0.018885</td>\n",
       "    </tr>\n",
       "    <tr>\n",
       "      <th>30</th>\n",
       "      <td>juv_misd_count</td>\n",
       "      <td>0.018075</td>\n",
       "    </tr>\n",
       "    <tr>\n",
       "      <th>31</th>\n",
       "      <td>juv_other_count</td>\n",
       "      <td>0.016231</td>\n",
       "    </tr>\n",
       "    <tr>\n",
       "      <th>2</th>\n",
       "      <td>categorical__x0_27.0-30.0</td>\n",
       "      <td>0.011351</td>\n",
       "    </tr>\n",
       "    <tr>\n",
       "      <th>27</th>\n",
       "      <td>categorical__x2_Male</td>\n",
       "      <td>0.011212</td>\n",
       "    </tr>\n",
       "    <tr>\n",
       "      <th>20</th>\n",
       "      <td>categorical__x1_11</td>\n",
       "      <td>0.010884</td>\n",
       "    </tr>\n",
       "  </tbody>\n",
       "</table>\n",
       "</div>"
      ],
      "text/plain": [
       "                      feature  importance\n",
       "35                     r_time    0.505657\n",
       "32               priors_count    0.097037\n",
       "34                     c_time    0.088561\n",
       "33    days_b_screening_arrest    0.062670\n",
       "28          categorical__x3_M    0.018885\n",
       "30             juv_misd_count    0.018075\n",
       "31            juv_other_count    0.016231\n",
       "2   categorical__x0_27.0-30.0    0.011351\n",
       "27       categorical__x2_Male    0.011212\n",
       "20         categorical__x1_11    0.010884"
      ]
     },
     "metadata": {},
     "output_type": "display_data"
    },
    {
     "data": {
      "image/png": "[encoded data removed]",
      "text/plain": [
       "<Figure size 1152x432 with 3 Axes>"
      ]
     },
     "metadata": {
      "needs_background": "light"
     },
     "output_type": "display_data"
    }
   ],
   "source": [
    "model = RandomForestClassifier(n_estimators=1000,n_jobs=8)\n",
    "fit_model = modelling(model, X_train, y_train)"
   ]
  },
  {
   "cell_type": "markdown",
   "metadata": {},
   "source": [
    "### XGBoost"
   ]
  },
  {
   "cell_type": "code",
   "execution_count": 27,
   "metadata": {},
   "outputs": [],
   "source": [
    "dtrain = xgb.DMatrix(data=X_train,label=y_train)\n",
    "dtest = xgb.DMatrix(data=X_test,label=y_test)"
   ]
  },
  {
   "cell_type": "code",
   "execution_count": 28,
   "metadata": {},
   "outputs": [],
   "source": [
    "#dtrain.set_weight([10 if i == 2 else (2 if i == 1 else 1) for i in y_train])"
   ]
  },
  {
   "cell_type": "code",
   "execution_count": 29,
   "metadata": {},
   "outputs": [],
   "source": [
    "param = {\n",
    "    'max_depth':10,\n",
    "    'eta':.1,\n",
    "    'objective':'multi:softprob',\n",
    "    'eval_metric':'mlogloss',\n",
    "    'num_class':3}\n",
    "num_round = 200"
   ]
  },
  {
   "cell_type": "code",
   "execution_count": 30,
   "metadata": {},
   "outputs": [
    {
     "name": "stdout",
     "output_type": "stream",
     "text": [
      "0.9125395152792413\n",
      "              precision    recall  f1-score   support\n",
      "\n",
      "           0       0.92      1.00      0.96       751\n",
      "           1       0.89      0.68      0.77       170\n",
      "           2       0.50      0.11      0.18        28\n",
      "\n",
      "    accuracy                           0.91       949\n",
      "   macro avg       0.77      0.59      0.63       949\n",
      "weighted avg       0.90      0.91      0.90       949\n",
      "\n"
     ]
    },
    {
     "data": {
      "text/html": [
       "<div>\n",
       "<style scoped>\n",
       "    .dataframe tbody tr th:only-of-type {\n",
       "        vertical-align: middle;\n",
       "    }\n",
       "\n",
       "    .dataframe tbody tr th {\n",
       "        vertical-align: top;\n",
       "    }\n",
       "\n",
       "    .dataframe thead th {\n",
       "        text-align: right;\n",
       "    }\n",
       "</style>\n",
       "<table border=\"1\" class=\"dataframe\">\n",
       "  <thead>\n",
       "    <tr style=\"text-align: right;\">\n",
       "      <th></th>\n",
       "      <th>0</th>\n",
       "    </tr>\n",
       "  </thead>\n",
       "  <tbody>\n",
       "    <tr>\n",
       "      <th>r_time</th>\n",
       "      <td>23.605631</td>\n",
       "    </tr>\n",
       "    <tr>\n",
       "      <th>priors_count</th>\n",
       "      <td>0.741297</td>\n",
       "    </tr>\n",
       "    <tr>\n",
       "      <th>juv_misd_count</th>\n",
       "      <td>0.598208</td>\n",
       "    </tr>\n",
       "    <tr>\n",
       "      <th>juv_other_count</th>\n",
       "      <td>0.481988</td>\n",
       "    </tr>\n",
       "    <tr>\n",
       "      <th>days_b_screening_arrest</th>\n",
       "      <td>0.590203</td>\n",
       "    </tr>\n",
       "    <tr>\n",
       "      <th>c_time</th>\n",
       "      <td>0.610234</td>\n",
       "    </tr>\n",
       "    <tr>\n",
       "      <th>categorical__x0_23.0-25.0</th>\n",
       "      <td>0.542656</td>\n",
       "    </tr>\n",
       "    <tr>\n",
       "      <th>categorical__x0_27.0-30.0</th>\n",
       "      <td>0.635231</td>\n",
       "    </tr>\n",
       "    <tr>\n",
       "      <th>categorical__x0_25.0-27.0</th>\n",
       "      <td>0.401970</td>\n",
       "    </tr>\n",
       "    <tr>\n",
       "      <th>categorical__x0_30.0-33.0</th>\n",
       "      <td>0.526034</td>\n",
       "    </tr>\n",
       "  </tbody>\n",
       "</table>\n",
       "</div>"
      ],
      "text/plain": [
       "                                   0\n",
       "r_time                     23.605631\n",
       "priors_count                0.741297\n",
       "juv_misd_count              0.598208\n",
       "juv_other_count             0.481988\n",
       "days_b_screening_arrest     0.590203\n",
       "c_time                      0.610234\n",
       "categorical__x0_23.0-25.0   0.542656\n",
       "categorical__x0_27.0-30.0   0.635231\n",
       "categorical__x0_25.0-27.0   0.401970\n",
       "categorical__x0_30.0-33.0   0.526034"
      ]
     },
     "metadata": {},
     "output_type": "display_data"
    },
    {
     "data": {
      "image/png": "[encoded data removed]",
      "text/plain": [
       "<Figure size 1152x432 with 3 Axes>"
      ]
     },
     "metadata": {
      "needs_background": "light"
     },
     "output_type": "display_data"
    }
   ],
   "source": [
    "fit_model = xgb_model(dtrain=dtrain, dtest=dtest, param=param, num_round=num_round, y_test=y_test)"
   ]
  },
  {
   "cell_type": "markdown",
   "metadata": {},
   "source": [
    "## Oversampling"
   ]
  },
  {
   "cell_type": "markdown",
   "metadata": {},
   "source": [
    "### Using Imblearn"
   ]
  },
  {
   "cell_type": "code",
   "execution_count": 31,
   "metadata": {},
   "outputs": [
    {
     "data": {
      "text/plain": [
       "0    2997\n",
       "1     649\n",
       "2     148\n",
       "dtype: int64"
      ]
     },
     "execution_count": 31,
     "metadata": {},
     "output_type": "execute_result"
    }
   ],
   "source": [
    "pd.DataFrame(y_train).value_counts()"
   ]
  },
  {
   "cell_type": "code",
   "execution_count": 32,
   "metadata": {},
   "outputs": [
    {
     "data": {
      "text/plain": [
       "2    3007\n",
       "0    2997\n",
       "1    2918\n",
       "dtype: int64"
      ]
     },
     "execution_count": 32,
     "metadata": {},
     "output_type": "execute_result"
    }
   ],
   "source": [
    "oversample = imblearn.over_sampling.ADASYN(sampling_strategy={0:2997,1:2997,2:2997},n_neighbors=6)\n",
    "X, y = oversample.fit_resample(X_train, y_train)\n",
    "pd.DataFrame(y).value_counts()"
   ]
  },
  {
   "cell_type": "code",
   "execution_count": 33,
   "metadata": {},
   "outputs": [],
   "source": [
    "#oversample = imblearn.over_sampling.SMOTE(sampling_strategy={0:2997,1:2997,2:2997})\n",
    "#X, y = oversample.fit_resample(X_train, y_train)\n",
    "#pd.DataFrame(y).value_counts()"
   ]
  },
  {
   "cell_type": "code",
   "execution_count": 34,
   "metadata": {},
   "outputs": [],
   "source": [
    "#rus = imblearn.under_sampling.RandomUnderSampler(sampling_strategy={0:650})\n",
    "#X, y = rus.fit_resample(X_train, y_train)\n",
    "#pd.DataFrame(y).value_counts()"
   ]
  },
  {
   "cell_type": "markdown",
   "metadata": {},
   "source": [
    "### Oversampled Model"
   ]
  },
  {
   "cell_type": "code",
   "execution_count": 35,
   "metadata": {},
   "outputs": [],
   "source": [
    "dtrain = xgb.DMatrix(data=X,label=y)\n",
    "dtest = xgb.DMatrix(data=X_test,label=y_test)"
   ]
  },
  {
   "cell_type": "code",
   "execution_count": 49,
   "metadata": {},
   "outputs": [],
   "source": [
    "param = {\n",
    "    'eta':.05,\n",
    "    'objective':'multi:softprob',\n",
    "    'num_class':3,\n",
    "    'max_depth':3,\n",
    "    'eval_metric':'mlogloss',\n",
    "    'min_child_weight':15\n",
    "}\n",
    "num_round = 200"
   ]
  },
  {
   "cell_type": "code",
   "execution_count": 50,
   "metadata": {},
   "outputs": [
    {
     "name": "stdout",
     "output_type": "stream",
     "text": [
      "0.9051633298208641\n",
      "              precision    recall  f1-score   support\n",
      "\n",
      "           0       0.92      0.99      0.95       751\n",
      "           1       0.90      0.64      0.75       170\n",
      "           2       0.21      0.11      0.14        28\n",
      "\n",
      "    accuracy                           0.91       949\n",
      "   macro avg       0.68      0.58      0.62       949\n",
      "weighted avg       0.89      0.91      0.89       949\n",
      "\n"
     ]
    },
    {
     "data": {
      "text/html": [
       "<div>\n",
       "<style scoped>\n",
       "    .dataframe tbody tr th:only-of-type {\n",
       "        vertical-align: middle;\n",
       "    }\n",
       "\n",
       "    .dataframe tbody tr th {\n",
       "        vertical-align: top;\n",
       "    }\n",
       "\n",
       "    .dataframe thead th {\n",
       "        text-align: right;\n",
       "    }\n",
       "</style>\n",
       "<table border=\"1\" class=\"dataframe\">\n",
       "  <thead>\n",
       "    <tr style=\"text-align: right;\">\n",
       "      <th></th>\n",
       "      <th>0</th>\n",
       "    </tr>\n",
       "  </thead>\n",
       "  <tbody>\n",
       "    <tr>\n",
       "      <th>r_time</th>\n",
       "      <td>149.046008</td>\n",
       "    </tr>\n",
       "    <tr>\n",
       "      <th>priors_count</th>\n",
       "      <td>32.660857</td>\n",
       "    </tr>\n",
       "    <tr>\n",
       "      <th>days_b_screening_arrest</th>\n",
       "      <td>14.050813</td>\n",
       "    </tr>\n",
       "    <tr>\n",
       "      <th>c_time</th>\n",
       "      <td>17.164163</td>\n",
       "    </tr>\n",
       "    <tr>\n",
       "      <th>categorical__x0_23.0-25.0</th>\n",
       "      <td>22.153533</td>\n",
       "    </tr>\n",
       "    <tr>\n",
       "      <th>categorical__x1_11</th>\n",
       "      <td>26.832393</td>\n",
       "    </tr>\n",
       "    <tr>\n",
       "      <th>categorical__x0_54.0-83.0</th>\n",
       "      <td>14.158383</td>\n",
       "    </tr>\n",
       "    <tr>\n",
       "      <th>categorical__x1_5</th>\n",
       "      <td>19.741036</td>\n",
       "    </tr>\n",
       "    <tr>\n",
       "      <th>juv_misd_count</th>\n",
       "      <td>28.635870</td>\n",
       "    </tr>\n",
       "    <tr>\n",
       "      <th>categorical__x0_25.0-27.0</th>\n",
       "      <td>16.619421</td>\n",
       "    </tr>\n",
       "  </tbody>\n",
       "</table>\n",
       "</div>"
      ],
      "text/plain": [
       "                                    0\n",
       "r_time                     149.046008\n",
       "priors_count                32.660857\n",
       "days_b_screening_arrest     14.050813\n",
       "c_time                      17.164163\n",
       "categorical__x0_23.0-25.0   22.153533\n",
       "categorical__x1_11          26.832393\n",
       "categorical__x0_54.0-83.0   14.158383\n",
       "categorical__x1_5           19.741036\n",
       "juv_misd_count              28.635870\n",
       "categorical__x0_25.0-27.0   16.619421"
      ]
     },
     "metadata": {},
     "output_type": "display_data"
    },
    {
     "data": {
      "image/png": "[encoded data removed]",
      "text/plain": [
       "<Figure size 1152x432 with 3 Axes>"
      ]
     },
     "metadata": {
      "needs_background": "light"
     },
     "output_type": "display_data"
    }
   ],
   "source": [
    "fit_model_2 = xgb_model(dtrain=dtrain, dtest=dtest, param=param, num_round = num_round, y_test=y_test)"
   ]
  },
  {
   "cell_type": "markdown",
   "metadata": {},
   "source": [
    "## Output Results"
   ]
  },
  {
   "cell_type": "code",
   "execution_count": 51,
   "metadata": {},
   "outputs": [],
   "source": [
    "results = pd.DataFrame(fit_model_2.predict(dtest),columns=['No-Recidivism','Non-Violent','Violent'])\n",
    "results.to_csv('results.csv',index=False)"
   ]
  },
  {
   "cell_type": "code",
   "execution_count": null,
   "metadata": {},
   "outputs": [],
   "source": []
  }
 ],
 "metadata": {
  "kernelspec": {
   "display_name": "Python 3",
   "language": "python",
   "name": "python3"
  },
  "language_info": {
   "codemirror_mode": {
    "name": "ipython",
    "version": 3
   },
   "file_extension": ".py",
   "mimetype": "text/x-python",
   "name": "python",
   "nbconvert_exporter": "python",
   "pygments_lexer": "ipython3",
   "version": "3.8.5"
  }
 },
 "nbformat": 4,
 "nbformat_minor": 4
}
