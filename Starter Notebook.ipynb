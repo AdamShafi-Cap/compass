{
 "cells": [
  {
   "cell_type": "code",
   "execution_count": 2,
   "metadata": {},
   "outputs": [],
   "source": [
    "import pandas as pd\n",
    "import matplotlib.pyplot as plt"
   ]
  },
  {
   "cell_type": "code",
   "execution_count": 3,
   "metadata": {},
   "outputs": [],
   "source": [
    "pd.set_option('display.max_columns', None)"
   ]
  },
  {
   "cell_type": "code",
   "execution_count": 4,
   "metadata": {},
   "outputs": [],
   "source": [
    "def import_data():\n",
    "    X_train = pd.read_csv('./train/X_train.csv')\n",
    "    X_test = pd.read_csv('./test/X_test.csv')\n",
    "    y_train = pd.read_csv('./train/y_train.csv')\n",
    "    y_test = pd.read_csv('./test/y_test.csv')\n",
    "    return X_train, X_test, y_train, y_test"
   ]
  },
  {
   "cell_type": "code",
   "execution_count": 5,
   "metadata": {},
   "outputs": [],
   "source": [
    "X_train, X_test, y_train, y_test = import_data()"
   ]
  },
  {
   "cell_type": "code",
   "execution_count": 8,
   "metadata": {},
   "outputs": [
    {
     "data": {
      "text/plain": [
       "0            \n",
       "No-Recidivism    2997\n",
       "Non-Violent       649\n",
       "Violent           148\n",
       "dtype: int64"
      ]
     },
     "execution_count": 8,
     "metadata": {},
     "output_type": "execute_result"
    }
   ],
   "source": [
    "y_train.value_counts()"
   ]
  },
  {
   "cell_type": "code",
   "execution_count": 156,
   "metadata": {},
   "outputs": [
    {
     "data": {
      "text/plain": [
       "(3794, 29)"
      ]
     },
     "execution_count": 156,
     "metadata": {},
     "output_type": "execute_result"
    }
   ],
   "source": [
    "X_train.shape"
   ]
  },
  {
   "cell_type": "code",
   "execution_count": 157,
   "metadata": {
    "scrolled": true
   },
   "outputs": [
    {
     "data": {
      "text/html": [
       "<div>\n",
       "<style scoped>\n",
       "    .dataframe tbody tr th:only-of-type {\n",
       "        vertical-align: middle;\n",
       "    }\n",
       "\n",
       "    .dataframe tbody tr th {\n",
       "        vertical-align: top;\n",
       "    }\n",
       "\n",
       "    .dataframe thead th {\n",
       "        text-align: right;\n",
       "    }\n",
       "</style>\n",
       "<table border=\"1\" class=\"dataframe\">\n",
       "  <thead>\n",
       "    <tr style=\"text-align: right;\">\n",
       "      <th></th>\n",
       "      <th>0</th>\n",
       "      <th>1</th>\n",
       "      <th>2</th>\n",
       "      <th>3</th>\n",
       "      <th>4</th>\n",
       "    </tr>\n",
       "  </thead>\n",
       "  <tbody>\n",
       "    <tr>\n",
       "      <th>id</th>\n",
       "      <td>2677</td>\n",
       "      <td>548</td>\n",
       "      <td>4483</td>\n",
       "      <td>9476</td>\n",
       "      <td>199</td>\n",
       "    </tr>\n",
       "    <tr>\n",
       "      <th>name</th>\n",
       "      <td>nicholas staggewise</td>\n",
       "      <td>newton smith</td>\n",
       "      <td>terrance irvin</td>\n",
       "      <td>jaimie peterson</td>\n",
       "      <td>ritesh sukhlall</td>\n",
       "    </tr>\n",
       "    <tr>\n",
       "      <th>first</th>\n",
       "      <td>nicholas</td>\n",
       "      <td>newton</td>\n",
       "      <td>terrance</td>\n",
       "      <td>jaimie</td>\n",
       "      <td>ritesh</td>\n",
       "    </tr>\n",
       "    <tr>\n",
       "      <th>last</th>\n",
       "      <td>staggewise</td>\n",
       "      <td>smith</td>\n",
       "      <td>irvin</td>\n",
       "      <td>peterson</td>\n",
       "      <td>sukhlall</td>\n",
       "    </tr>\n",
       "    <tr>\n",
       "      <th>sex</th>\n",
       "      <td>Male</td>\n",
       "      <td>Male</td>\n",
       "      <td>Male</td>\n",
       "      <td>Female</td>\n",
       "      <td>Male</td>\n",
       "    </tr>\n",
       "    <tr>\n",
       "      <th>date_of_birth</th>\n",
       "      <td>1994-02-28</td>\n",
       "      <td>1995-01-28</td>\n",
       "      <td>1984-04-10</td>\n",
       "      <td>1986-01-02</td>\n",
       "      <td>1987-05-12</td>\n",
       "    </tr>\n",
       "    <tr>\n",
       "      <th>age</th>\n",
       "      <td>22</td>\n",
       "      <td>21</td>\n",
       "      <td>32</td>\n",
       "      <td>30</td>\n",
       "      <td>28</td>\n",
       "    </tr>\n",
       "    <tr>\n",
       "      <th>age_group</th>\n",
       "      <td>Less than 25</td>\n",
       "      <td>Less than 25</td>\n",
       "      <td>25 - 45</td>\n",
       "      <td>25 - 45</td>\n",
       "      <td>25 - 45</td>\n",
       "    </tr>\n",
       "    <tr>\n",
       "      <th>race</th>\n",
       "      <td>Caucasian</td>\n",
       "      <td>African-American</td>\n",
       "      <td>African-American</td>\n",
       "      <td>African-American</td>\n",
       "      <td>Caucasian</td>\n",
       "    </tr>\n",
       "    <tr>\n",
       "      <th>juv_fel_count</th>\n",
       "      <td>0</td>\n",
       "      <td>0</td>\n",
       "      <td>0</td>\n",
       "      <td>0</td>\n",
       "      <td>0</td>\n",
       "    </tr>\n",
       "    <tr>\n",
       "      <th>juv_misd_count</th>\n",
       "      <td>0</td>\n",
       "      <td>1</td>\n",
       "      <td>0</td>\n",
       "      <td>0</td>\n",
       "      <td>0</td>\n",
       "    </tr>\n",
       "    <tr>\n",
       "      <th>juv_other_count</th>\n",
       "      <td>0</td>\n",
       "      <td>0</td>\n",
       "      <td>0</td>\n",
       "      <td>0</td>\n",
       "      <td>0</td>\n",
       "    </tr>\n",
       "    <tr>\n",
       "      <th>priors_count</th>\n",
       "      <td>2</td>\n",
       "      <td>1</td>\n",
       "      <td>6</td>\n",
       "      <td>3</td>\n",
       "      <td>2</td>\n",
       "    </tr>\n",
       "    <tr>\n",
       "      <th>days_b_screening_arrest</th>\n",
       "      <td>-1</td>\n",
       "      <td>-1</td>\n",
       "      <td>-1</td>\n",
       "      <td>-1</td>\n",
       "      <td>NaN</td>\n",
       "    </tr>\n",
       "    <tr>\n",
       "      <th>c_jail_in</th>\n",
       "      <td>2013-09-23 09:01:58</td>\n",
       "      <td>2013-06-16 12:36:42</td>\n",
       "      <td>2013-10-11 05:38:14</td>\n",
       "      <td>2014-01-11 06:56:43</td>\n",
       "      <td>NaN</td>\n",
       "    </tr>\n",
       "    <tr>\n",
       "      <th>c_jail_out</th>\n",
       "      <td>2013-09-27 03:54:42</td>\n",
       "      <td>2013-06-16 07:01:42</td>\n",
       "      <td>2013-10-15 07:11:17</td>\n",
       "      <td>2014-01-12 02:17:00</td>\n",
       "      <td>NaN</td>\n",
       "    </tr>\n",
       "    <tr>\n",
       "      <th>c_offense_date</th>\n",
       "      <td>NaN</td>\n",
       "      <td>2013-06-15</td>\n",
       "      <td>2013-10-11</td>\n",
       "      <td>2014-01-11</td>\n",
       "      <td>NaN</td>\n",
       "    </tr>\n",
       "    <tr>\n",
       "      <th>c_arrest_date</th>\n",
       "      <td>2013-09-23</td>\n",
       "      <td>NaN</td>\n",
       "      <td>NaN</td>\n",
       "      <td>NaN</td>\n",
       "      <td>2013-03-21</td>\n",
       "    </tr>\n",
       "    <tr>\n",
       "      <th>c_charge_degree</th>\n",
       "      <td>F</td>\n",
       "      <td>F</td>\n",
       "      <td>F</td>\n",
       "      <td>F</td>\n",
       "      <td>F</td>\n",
       "    </tr>\n",
       "    <tr>\n",
       "      <th>c_charge_desc</th>\n",
       "      <td>arrest case no charge</td>\n",
       "      <td>Grand Theft in the 3rd Degree</td>\n",
       "      <td>Grand Theft in the 3rd Degree</td>\n",
       "      <td>Felony Driving While Lic Suspd</td>\n",
       "      <td>arrest case no charge</td>\n",
       "    </tr>\n",
       "    <tr>\n",
       "      <th>r_jail_in</th>\n",
       "      <td>NaN</td>\n",
       "      <td>NaN</td>\n",
       "      <td>2013-12-21</td>\n",
       "      <td>NaN</td>\n",
       "      <td>NaN</td>\n",
       "    </tr>\n",
       "    <tr>\n",
       "      <th>r_jail_out</th>\n",
       "      <td>NaN</td>\n",
       "      <td>NaN</td>\n",
       "      <td>2014-02-21</td>\n",
       "      <td>NaN</td>\n",
       "      <td>NaN</td>\n",
       "    </tr>\n",
       "    <tr>\n",
       "      <th>type_of_assessment</th>\n",
       "      <td>Risk of Recidivism</td>\n",
       "      <td>Risk of Recidivism</td>\n",
       "      <td>Risk of Recidivism</td>\n",
       "      <td>Risk of Recidivism</td>\n",
       "      <td>Risk of Recidivism</td>\n",
       "    </tr>\n",
       "    <tr>\n",
       "      <th>screening_date</th>\n",
       "      <td>2013-09-24</td>\n",
       "      <td>2013-06-17</td>\n",
       "      <td>2013-10-12</td>\n",
       "      <td>2014-01-12</td>\n",
       "      <td>2013-08-29</td>\n",
       "    </tr>\n",
       "    <tr>\n",
       "      <th>v_type_of_assessment</th>\n",
       "      <td>Risk of Violence</td>\n",
       "      <td>Risk of Violence</td>\n",
       "      <td>Risk of Violence</td>\n",
       "      <td>Risk of Violence</td>\n",
       "      <td>Risk of Violence</td>\n",
       "    </tr>\n",
       "    <tr>\n",
       "      <th>v_screening_date</th>\n",
       "      <td>2013-09-24</td>\n",
       "      <td>2013-06-17</td>\n",
       "      <td>2013-10-12</td>\n",
       "      <td>2014-01-12</td>\n",
       "      <td>2013-08-29</td>\n",
       "    </tr>\n",
       "    <tr>\n",
       "      <th>in_custody</th>\n",
       "      <td>2013-09-23</td>\n",
       "      <td>2013-06-16</td>\n",
       "      <td>2013-10-11</td>\n",
       "      <td>2014-01-11</td>\n",
       "      <td>NaN</td>\n",
       "    </tr>\n",
       "    <tr>\n",
       "      <th>out_custody</th>\n",
       "      <td>2013-09-27</td>\n",
       "      <td>2013-06-16</td>\n",
       "      <td>2013-10-15</td>\n",
       "      <td>2014-01-12</td>\n",
       "      <td>NaN</td>\n",
       "    </tr>\n",
       "    <tr>\n",
       "      <th>start</th>\n",
       "      <td>3</td>\n",
       "      <td>0</td>\n",
       "      <td>3</td>\n",
       "      <td>0</td>\n",
       "      <td>0</td>\n",
       "    </tr>\n",
       "  </tbody>\n",
       "</table>\n",
       "</div>"
      ],
      "text/plain": [
       "                                             0                              1  \\\n",
       "id                                        2677                            548   \n",
       "name                       nicholas staggewise                   newton smith   \n",
       "first                                 nicholas                         newton   \n",
       "last                                staggewise                          smith   \n",
       "sex                                       Male                           Male   \n",
       "date_of_birth                       1994-02-28                     1995-01-28   \n",
       "age                                         22                             21   \n",
       "age_group                         Less than 25                   Less than 25   \n",
       "race                                 Caucasian               African-American   \n",
       "juv_fel_count                                0                              0   \n",
       "juv_misd_count                               0                              1   \n",
       "juv_other_count                              0                              0   \n",
       "priors_count                                 2                              1   \n",
       "days_b_screening_arrest                     -1                             -1   \n",
       "c_jail_in                  2013-09-23 09:01:58            2013-06-16 12:36:42   \n",
       "c_jail_out                 2013-09-27 03:54:42            2013-06-16 07:01:42   \n",
       "c_offense_date                             NaN                     2013-06-15   \n",
       "c_arrest_date                       2013-09-23                            NaN   \n",
       "c_charge_degree                              F                              F   \n",
       "c_charge_desc            arrest case no charge  Grand Theft in the 3rd Degree   \n",
       "r_jail_in                                  NaN                            NaN   \n",
       "r_jail_out                                 NaN                            NaN   \n",
       "type_of_assessment          Risk of Recidivism             Risk of Recidivism   \n",
       "screening_date                      2013-09-24                     2013-06-17   \n",
       "v_type_of_assessment          Risk of Violence               Risk of Violence   \n",
       "v_screening_date                    2013-09-24                     2013-06-17   \n",
       "in_custody                          2013-09-23                     2013-06-16   \n",
       "out_custody                         2013-09-27                     2013-06-16   \n",
       "start                                        3                              0   \n",
       "\n",
       "                                                     2  \\\n",
       "id                                                4483   \n",
       "name                                    terrance irvin   \n",
       "first                                         terrance   \n",
       "last                                             irvin   \n",
       "sex                                               Male   \n",
       "date_of_birth                               1984-04-10   \n",
       "age                                                 32   \n",
       "age_group                                      25 - 45   \n",
       "race                                  African-American   \n",
       "juv_fel_count                                        0   \n",
       "juv_misd_count                                       0   \n",
       "juv_other_count                                      0   \n",
       "priors_count                                         6   \n",
       "days_b_screening_arrest                             -1   \n",
       "c_jail_in                          2013-10-11 05:38:14   \n",
       "c_jail_out                         2013-10-15 07:11:17   \n",
       "c_offense_date                              2013-10-11   \n",
       "c_arrest_date                                      NaN   \n",
       "c_charge_degree                                      F   \n",
       "c_charge_desc            Grand Theft in the 3rd Degree   \n",
       "r_jail_in                                   2013-12-21   \n",
       "r_jail_out                                  2014-02-21   \n",
       "type_of_assessment                  Risk of Recidivism   \n",
       "screening_date                              2013-10-12   \n",
       "v_type_of_assessment                  Risk of Violence   \n",
       "v_screening_date                            2013-10-12   \n",
       "in_custody                                  2013-10-11   \n",
       "out_custody                                 2013-10-15   \n",
       "start                                                3   \n",
       "\n",
       "                                                      3                      4  \n",
       "id                                                 9476                    199  \n",
       "name                                    jaimie peterson        ritesh sukhlall  \n",
       "first                                            jaimie                 ritesh  \n",
       "last                                           peterson               sukhlall  \n",
       "sex                                              Female                   Male  \n",
       "date_of_birth                                1986-01-02             1987-05-12  \n",
       "age                                                  30                     28  \n",
       "age_group                                       25 - 45                25 - 45  \n",
       "race                                   African-American              Caucasian  \n",
       "juv_fel_count                                         0                      0  \n",
       "juv_misd_count                                        0                      0  \n",
       "juv_other_count                                       0                      0  \n",
       "priors_count                                          3                      2  \n",
       "days_b_screening_arrest                              -1                    NaN  \n",
       "c_jail_in                           2014-01-11 06:56:43                    NaN  \n",
       "c_jail_out                          2014-01-12 02:17:00                    NaN  \n",
       "c_offense_date                               2014-01-11                    NaN  \n",
       "c_arrest_date                                       NaN             2013-03-21  \n",
       "c_charge_degree                                       F                      F  \n",
       "c_charge_desc            Felony Driving While Lic Suspd  arrest case no charge  \n",
       "r_jail_in                                           NaN                    NaN  \n",
       "r_jail_out                                          NaN                    NaN  \n",
       "type_of_assessment                   Risk of Recidivism     Risk of Recidivism  \n",
       "screening_date                               2014-01-12             2013-08-29  \n",
       "v_type_of_assessment                   Risk of Violence       Risk of Violence  \n",
       "v_screening_date                             2014-01-12             2013-08-29  \n",
       "in_custody                                   2014-01-11                    NaN  \n",
       "out_custody                                  2014-01-12                    NaN  \n",
       "start                                                 0                      0  "
      ]
     },
     "execution_count": 157,
     "metadata": {},
     "output_type": "execute_result"
    }
   ],
   "source": [
    "X_train.head(5).T"
   ]
  },
  {
   "cell_type": "code",
   "execution_count": 10,
   "metadata": {},
   "outputs": [
    {
     "data": {
      "text/plain": [
       "array(['arrest case no charge', 'Grand Theft in the 3rd Degree',\n",
       "       'Felony Driving While Lic Suspd', 'Robbery W/Firearm', 'Battery',\n",
       "       'Possession of Hydrocodone', 'Burglary With Assault/battery',\n",
       "       'Possession of Cocaine', 'Possess Cannabis/20 Grams Or Less',\n",
       "       'Susp Drivers Lic 1st Offense', 'Uttering Forged Credit Card',\n",
       "       'Aggrav Battery w/Deadly Weapon', 'Purchase Of Cocaine',\n",
       "       'Agg Battery Grt/Bod/Harm', 'Burglary Unoccupied Dwelling',\n",
       "       'Aggravated Assault w/Firearm', 'Disorderly Intoxication',\n",
       "       'Possession Of Amphetamine', 'Manufacture Cannabis',\n",
       "       'DUI- Enhanced', 'Opert With Susp DL 2nd Offens',\n",
       "       'Possession Of Alprazolam', 'Deliver Cannabis', 'Child Abuse',\n",
       "       'Grand Theft (Motor Vehicle)', 'Retail Theft $300 1st Offense',\n",
       "       'Driving Under The Influence', 'Leave Acc/Attend Veh/More $50',\n",
       "       'Felony Petit Theft', 'Burglary Dwelling Occupied',\n",
       "       'Aggravated Assault W/Dead Weap', 'Possession of Cannabis',\n",
       "       'Battery on Law Enforc Officer', 'DUI Property Damage/Injury',\n",
       "       'Obtain Control Substance By Fraud',\n",
       "       'Alcoholic Beverage Violation-FL', 'Driving While License Revoked',\n",
       "       'Possession Child Pornography', 'Robbery / Weapon',\n",
       "       'Aggravated Assault W/dead Weap',\n",
       "       'Tampering With Physical Evidence',\n",
       "       'Neglect Child / No Bodily Harm', 'Poss3,4 Methylenedioxymethcath',\n",
       "       'Felony Battery w/Prior Convict', 'Possession of Oxycodone',\n",
       "       'Posses/Disply Susp/Revk/Frd DL', 'Fail Register Vehicle',\n",
       "       'Assault', 'Burglary Structure Unoccup',\n",
       "       'Solicitation On Felony 3 Deg', 'Disorderly Conduct',\n",
       "       'Cruelty Toward Child', 'Resist Officer w/Violence',\n",
       "       'Resist/Obstruct W/O Violence', 'Corrupt Public Servant',\n",
       "       'DUI - Enhanced', 'Poss Cocaine/Intent To Del/Sel',\n",
       "       'Criminal Attempt 3rd Deg Felon', 'Poss Tetrahydrocannabinols',\n",
       "       'Aggravated Battery (Firearm)', 'Burglary Conveyance Unoccup',\n",
       "       'Fel Drive License Perm Revoke', 'Deliver Cocaine',\n",
       "       'Driving License Suspended', 'Grand Theft In The 3Rd Degree',\n",
       "       'Unlaw LicTag/Sticker Attach', 'Possession Burglary Tools',\n",
       "       'Pos Cannabis W/Intent Sel/Del', 'Petit Theft', nan,\n",
       "       'Tamper With Witness', 'DUI Level 0.15 Or Minor In Veh',\n",
       "       'Possess Weapon On School Prop', 'Felony Battery',\n",
       "       'Viol Prot Injunc Repeat Viol', 'Robbery / No Weapon',\n",
       "       'Aggravated Assault', 'Poss Pyrrolidinovalerophenone',\n",
       "       'Bribery Athletic Contests', 'Crim Use of Personal ID Info',\n",
       "       'Crimin Mischief Damage $1000+', 'False Imprisonment',\n",
       "       'Attempt Armed Burglary Dwell', 'Aggravated Battery / Pregnant',\n",
       "       'Operating W/O Valid License', 'Delivery Of Drug Paraphernalia',\n",
       "       'Fleeing Or Attmp Eluding A Leo', 'Leave Accd/Attend Veh/Less $50',\n",
       "       'Deliver 3,4 Methylenediox', 'Stalking (Aggravated)',\n",
       "       'Felony Battery (Dom Strang)', 'Battery on a Person Over 65',\n",
       "       'Grand Theft of a Fire Extinquisher', 'Prowling/Loitering',\n",
       "       'Poss of Firearm by Convic Felo', 'Burglary Conveyance Armed',\n",
       "       'Criminal Mischief>$200<$1000', 'Possession Of Heroin',\n",
       "       'Leaving the Scene of Accident', 'Lve/Scen/Acc/Veh/Prop/Damage',\n",
       "       'Possession of Hydromorphone', 'Possession Of Methamphetamine',\n",
       "       'Viol Injunct Domestic Violence', 'Poss 3,4 MDMA (Ecstasy)',\n",
       "       'Uttering a Forged Instrument', 'Video Voyeur-<24Y on Child >16',\n",
       "       'Introduce Contraband Into Jail', 'Petit Theft $100- $300',\n",
       "       'Possession Of Fentanyl', 'Viol Pretrial Release Dom Viol',\n",
       "       'Sel Etc/Pos/w/Int Contrft Schd', 'Unlicensed Telemarketing',\n",
       "       'Strong Armed  Robbery', 'Aggrav Stalking After Injunctn',\n",
       "       'Deliver Cocaine 1000FT Store', 'Possession of Morphine',\n",
       "       'Offer Agree Secure/Lewd Act', 'Possession Of Phentermine',\n",
       "       'Poss Unlaw Issue Id', 'Aggravated Battery',\n",
       "       'Use of Anti-Shoplifting Device', 'Expired DL More Than 6 Months',\n",
       "       'Possession of LSD', 'Att Burgl Unoccupied Dwel',\n",
       "       'Consp Traff Oxycodone 28g><30k', 'Burglary Dwelling Assault/Batt',\n",
       "       'Burglary Dwelling Armed', 'Possess Tobacco Product Under 18',\n",
       "       'Uttering Forged Bills', 'Poss of Vessel w/Altered ID NO',\n",
       "       'Unlawful Conveyance of Fuel', 'False Ownership Info/Pawn Item',\n",
       "       'Tamper With Witness/Victim/CI', 'Obstruct Fire Equipment',\n",
       "       'Possession Of Lorazepam', 'Drivg While Lic Suspd/Revk/Can',\n",
       "       'Solicit Deliver Cocaine', 'Criminal Mischief',\n",
       "       'Agg Assault W/int Com Fel Dome', 'Arson in the First Degree',\n",
       "       'Exposes Culpable Negligence', 'Felony DUI (level 3)',\n",
       "       'Sex Offender Fail Comply W/Law', 'Compulsory Sch Attnd Violation',\n",
       "       'Felony Batt(Great Bodily Harm)', 'Manage Busn W/O City Occup Lic',\n",
       "       'Poss Of Controlled Substance', 'Burglary Conveyance Occupied',\n",
       "       'Lewd or Lascivious Molestation', 'Possess Drug Paraphernalia',\n",
       "       'Principal In The First Degree', 'Reckless Driving',\n",
       "       'Poss of Cocaine W/I/D/S 1000FT Park',\n",
       "       'Aggrav Child Abuse-Agg Battery',\n",
       "       'Poss/Sell/Del Cocaine 1000FT Sch', 'Leaving Acc/Unattended Veh',\n",
       "       'Fraudulent Use of Credit Card', 'Dealing in Stolen Property',\n",
       "       'Poss Unlaw Issue Driver Licenc', 'Consp Traff Oxycodone  4g><14g',\n",
       "       'Grand Theft on 65 Yr or Older', 'Fighting/Baiting Animals',\n",
       "       'Carjacking with a Firearm', 'Fail Obey Driv Lic Restrictions',\n",
       "       'Unlaw Use False Name/Identity', 'Purchase/P/W/Int Cannabis',\n",
       "       'Poss Similitude of Drivers Lic', 'Carrying Concealed Firearm',\n",
       "       'Tamper With Victim', 'Fail To Secure Load',\n",
       "       'Traffick Hydrocodone   4g><14g', 'Violation License Restrictions',\n",
       "       'Purchase Cannabis', 'Cash Item w/Intent to Defraud',\n",
       "       'Harm Public Servant Or Family', 'Offer Agree Secure For Lewd Act',\n",
       "       'Robbery Sudd Snatch No Weapon', 'Trespassing/Construction Site',\n",
       "       'Armed Trafficking in Cannabis', 'DUI Blood Alcohol Above 0.20',\n",
       "       'Carry Open/Uncov Bev In Pub', 'DWI w/Inj Susp Lic / Habit Off',\n",
       "       'Grand Theft Firearm', 'Felony DUI - Enhanced',\n",
       "       'Neglect/Abuse Elderly Person', 'Felony/Driving Under Influence',\n",
       "       'Opert With Susp DL 2ND Offense', 'Criminal Mischief Damage <$200',\n",
       "       'Burglary Assault/Battery Armed', 'Poss F/Arm Delinq',\n",
       "       'Felon in Pos of Firearm or Amm', 'Lewd/Lasc Exhib Presence <16yr',\n",
       "       'Aggrav Child Abuse-Causes Harm', 'Violation Of Boater Safety Id',\n",
       "       'Disrupting School Function', 'Attempted Robbery Firearm',\n",
       "       'Prostitution/Lewd Act Assignation',\n",
       "       'Del of JWH-250 2-Methox 1-Pentyl',\n",
       "       'Sale/Del Counterfeit Cont Subs', 'Poss Contr Subst W/o Prescript',\n",
       "       'Tampering with a Victim', 'Unemployment Compensatn Fraud',\n",
       "       'Sex Battery Deft 18+/Vict 11-', 'Possession Of 3,4Methylenediox',\n",
       "       'Cruelty to Animals', 'Lewd/Lasc Battery Pers 12+/<16',\n",
       "       'Carjacking w/o Deadly Weapon', 'Grand Theft in the 1st Degree',\n",
       "       'Refuse Submit Blood/Breath Test',\n",
       "       'Kidnapping / Domestic Violence', 'Simulation of Legal Process',\n",
       "       'Burglary Structure Occupied', 'False Bomb Report',\n",
       "       'Gambling/Gamb Paraphernalia', 'Trespass Structure/Conveyance',\n",
       "       'Poss Wep Conv Felon', 'Consume Alcoholic Bev Pub',\n",
       "       'Failure To Return Hired Vehicle', 'Tresspass Struct/Conveyance',\n",
       "       'Fail Sex Offend Report Bylaw', 'Possess Cannabis 1000FTSch',\n",
       "       'Unauth Poss ID Card or DL',\n",
       "       'Tresspass in Structure or Conveyance', 'Agg Fleeing and Eluding',\n",
       "       'Conspiracy Dealing Stolen Prop', 'Counterfeit Lic Plates/Sticker',\n",
       "       'Interfere W/Traf Cont Dev RR', 'Possession Firearm School Prop',\n",
       "       'Possession of Benzylpiperazine', 'Throw Deadly Missile Into Veh',\n",
       "       'Present Proof of Invalid Insur', 'Fraud Obtain Food or Lodging',\n",
       "       'Crim Use Of Personal Id Info', 'License Suspended Revoked',\n",
       "       'Traffick Oxycodone     4g><14g', 'Poss Anti-Shoplifting Device',\n",
       "       'Hiring with Intent to Defraud', 'Lewdness Violation',\n",
       "       'Poss Of RX Without RX', 'Burglary Conveyance Assault/Bat',\n",
       "       'Murder in 2nd Degree', 'Aggress/Panhandle/Beg/Solict',\n",
       "       'Violation of Injunction Order/Stalking/Cyberstalking',\n",
       "       'Attempted Robbery  No Weapon', 'Possession Of Buprenorphine',\n",
       "       'Possess Controlled Substance', 'Structuring Transactions',\n",
       "       'Exploit Elderly Person 20-100K', 'Robbery W/Deadly Weapon',\n",
       "       'Harass Witness/Victm/Informnt', 'Misuse Of 911 Or E911 System',\n",
       "       'DOC/Cause Public Danger', 'Dealing In Stolen Property',\n",
       "       'Soliciting For Prostitution', 'Delivery of 5-Fluoro PB-22',\n",
       "       'Prostitution/Lewdness/Assign', 'Deliver Cannabis 1000FTSch',\n",
       "       'Sexual Performance by a Child', 'Possess w/I/Utter Forged Bills',\n",
       "       'Unl/Disturb Education/Instui', 'Fleeing or Eluding a LEO',\n",
       "       'Use Scanning Device to Defraud', 'Poss of Methylethcathinone',\n",
       "       'Grand Theft Dwell Property', 'Burglary Structure Assault/Batt',\n",
       "       'Murder in the First Degree', 'Del Cannabis For Consideration',\n",
       "       'Poss Alprazolam W/int Sell/Del', 'Culpable Negligence',\n",
       "       'Fail To Redeliv Hire/Leas Prop', 'DWLS Canceled Disqul 1st Off',\n",
       "       'Fail Register Career Offender', 'Forging Bank Bills/Promis Note',\n",
       "       'Sell Cannabis', 'Use Computer for Child Exploit',\n",
       "       'Extradition/Defendants', 'Poss Drugs W/O A Prescription',\n",
       "       'Contribute Delinquency Of A Minor', 'Possession Of Diazepam',\n",
       "       'Flee/Elude LEO-Agg Flee Unsafe', 'Theft',\n",
       "       'Live on Earnings of Prostitute', 'Trespass Property w/Dang Weap',\n",
       "       'Att Burgl Struc/Conv Dwel/Occp', 'Aggravated Assault W/o Firearm',\n",
       "       'Battery Emergency Care Provide', 'False 911 Call',\n",
       "       'Possession of Codeine', 'Sexual Battery / Vict 12 Yrs +',\n",
       "       'Att Tamper w/Physical Evidence', 'Murder In 2nd Degree W/firearm',\n",
       "       'Aggravated Battery On 65/Older', 'Battery Spouse Or Girlfriend',\n",
       "       'Trespass Structure w/Dang Weap', 'Possession Of Paraphernalia',\n",
       "       'Escape', 'Lewd/Lasciv Molest Elder Persn',\n",
       "       'Carrying A Concealed Weapon', 'Poss Trifluoromethylphenylpipe',\n",
       "       'Traffick Amphetamine 28g><200g', 'Possession Of Anabolic Steroid',\n",
       "       'Agg Fleeing/Eluding High Speed', 'Neglect Child / Bodily Harm',\n",
       "       'Sale/Del Cannabis At/Near Scho', 'Felony Committing Prostitution',\n",
       "       'Battery On Fire Fighter', 'Fail To Obey Police Officer',\n",
       "       'Compulsory Attendance Violation',\n",
       "       'Aggr Child Abuse-Torture,Punish', 'Prostitution',\n",
       "       'Viol Injunction Protect Dom Vi', 'Theft/To Deprive',\n",
       "       'Crim Attempt/Solicit/Consp', 'Trespass Struct/Conveyance',\n",
       "       'False Motor Veh Insurance Card', 'Computer Pornography',\n",
       "       'Depriv LEO of Protect/Communic', 'Del 3,4 Methylenedioxymethcath',\n",
       "       'Del Morphine at/near Park', 'Use Of 2 Way Device To Fac Fel',\n",
       "       'Shoot Into Vehicle', 'Offn Against Intellectual Prop',\n",
       "       'Deliver Cocaine 1000FT Park', 'Battery On Parking Enfor Speci',\n",
       "       'Failure To Pay Taxi Cab Charge', 'Solicit To Deliver Cocaine',\n",
       "       'Open Carrying Of Weapon', 'D.U.I. Serious Bodily Injury',\n",
       "       'Abuse Without Great Harm', 'Lease For Purpose Trafficking',\n",
       "       'Threat Public Servant', 'Ride Tri-Rail Without Paying'],\n",
       "      dtype=object)"
      ]
     },
     "execution_count": 10,
     "metadata": {},
     "output_type": "execute_result"
    }
   ],
   "source": [
    "X_train['c_charge_desc'].unique()"
   ]
  },
  {
   "cell_type": "code",
   "execution_count": 158,
   "metadata": {},
   "outputs": [],
   "source": [
    "drop = ['id', 'name', 'first', 'last',  'date_of_birth', 'age',\n",
    "       'race', 'c_jail_in', 'c_jail_out', 'c_offense_date', 'c_arrest_date',\n",
    "       'r_jail_in', 'r_jail_out',\n",
    "       'type_of_assessment', 'screening_date', 'v_type_of_assessment',\n",
    "       'v_screening_date', 'in_custody', 'out_custody', 'start']\n",
    "\n",
    "multi_cat =  ['age_group','c_charge_desc']\n",
    "binary_cat = ['sex','c_charge_degree',]\n",
    "continuous = ['juv_fel_count', 'juv_misd_count','juv_other_count', 'priors_count',\n",
    "              'days_b_screening_arrest','start']              "
   ]
  },
  {
   "cell_type": "code",
   "execution_count": 159,
   "metadata": {},
   "outputs": [],
   "source": [
    "X_train.drop(drop,inplace=True,axis=1)\n",
    "X_test.drop(drop,inplace=True,axis=1)"
   ]
  },
  {
   "cell_type": "code",
   "execution_count": 160,
   "metadata": {},
   "outputs": [
    {
     "data": {
      "text/plain": [
       "sex                          0\n",
       "age_group                    0\n",
       "juv_fel_count                0\n",
       "juv_misd_count               0\n",
       "juv_other_count              0\n",
       "priors_count                 0\n",
       "days_b_screening_arrest    215\n",
       "c_charge_degree              0\n",
       "c_charge_desc               12\n",
       "dtype: int64"
      ]
     },
     "execution_count": 160,
     "metadata": {},
     "output_type": "execute_result"
    }
   ],
   "source": [
    "X_train.isnull().sum()"
   ]
  },
  {
   "cell_type": "code",
   "execution_count": 161,
   "metadata": {},
   "outputs": [
    {
     "data": {
      "text/plain": [
       "sex                         0\n",
       "age_group                   0\n",
       "juv_fel_count               0\n",
       "juv_misd_count              0\n",
       "juv_other_count             0\n",
       "priors_count                0\n",
       "days_b_screening_arrest    53\n",
       "c_charge_degree             0\n",
       "c_charge_desc               5\n",
       "dtype: int64"
      ]
     },
     "execution_count": 161,
     "metadata": {},
     "output_type": "execute_result"
    }
   ],
   "source": [
    "X_test.isnull().sum()"
   ]
  },
  {
   "cell_type": "code",
   "execution_count": 162,
   "metadata": {},
   "outputs": [],
   "source": [
    "mean = X_train['days_b_screening_arrest'].mean()\n",
    "X_train['days_b_screening_arrest'].fillna(mean,inplace=True)\n",
    "X_test['days_b_screening_arrest'].fillna(mean,inplace=True)"
   ]
  },
  {
   "cell_type": "code",
   "execution_count": 163,
   "metadata": {},
   "outputs": [],
   "source": [
    "y_train_to_drop = X_train[X_train['c_charge_desc'].isnull()].index\n",
    "y_test_to_drop = X_test[X_test['c_charge_desc'].isnull()].index"
   ]
  },
  {
   "cell_type": "code",
   "execution_count": 164,
   "metadata": {},
   "outputs": [],
   "source": [
    "X_train = X_train.dropna()\n",
    "X_test = X_test.dropna()\n",
    "y_train = y_train.drop(y_train_to_drop,axis=0)\n",
    "y_test = y_test.drop(y_test_to_drop,axis=0)"
   ]
  },
  {
   "cell_type": "code",
   "execution_count": 165,
   "metadata": {},
   "outputs": [],
   "source": [
    "from sklearn.preprocessing import LabelEncoder, OneHotEncoder, StandardScaler\n",
    "from sklearn.compose import ColumnTransformer\n",
    "from sklearn.ensemble import RandomForestClassifier"
   ]
  },
  {
   "cell_type": "code",
   "execution_count": 166,
   "metadata": {},
   "outputs": [],
   "source": [
    "oh_enc = OneHotEncoder(handle_unknown='ignore',sparse=False)\n",
    "label_enc=LabelEncoder()\n",
    "scaler = StandardScaler()"
   ]
  },
  {
   "cell_type": "code",
   "execution_count": 167,
   "metadata": {},
   "outputs": [],
   "source": [
    "col_trans = ColumnTransformer([('categorical', oh_enc, multi_cat+binary_cat)], \n",
    "                              remainder='passthrough',sparse_threshold=1)"
   ]
  },
  {
   "cell_type": "code",
   "execution_count": 168,
   "metadata": {},
   "outputs": [],
   "source": [
    "X_train = pd.DataFrame(col_trans.fit_transform(X_train),columns = col_trans.get_feature_names())\n",
    "X_train = pd.DataFrame(scaler.fit_transform(X_train),columns = X_train.columns)\n",
    "y_train = label_enc.fit_transform(y_train.iloc[:,0])"
   ]
  },
  {
   "cell_type": "code",
   "execution_count": 169,
   "metadata": {},
   "outputs": [],
   "source": [
    "X_test = pd.DataFrame(col_trans.transform(X_test),columns = col_trans.get_feature_names())\n",
    "X_test = pd.DataFrame(scaler.transform(X_test),columns = X_test.columns)\n",
    "y_test = label_enc.transform(y_test.iloc[:,0])"
   ]
  },
  {
   "cell_type": "code",
   "execution_count": 170,
   "metadata": {},
   "outputs": [],
   "source": [
    "model = RandomForestClassifier(n_estimators=200)"
   ]
  },
  {
   "cell_type": "code",
   "execution_count": 184,
   "metadata": {},
   "outputs": [
    {
     "data": {
      "text/plain": [
       "0.7616525423728814"
      ]
     },
     "execution_count": 184,
     "metadata": {},
     "output_type": "execute_result"
    }
   ],
   "source": [
    "model.fit(X_train,y_train)\n",
    "preds = model.predict(X_test)\n",
    "probs = model.predict_proba(X_test)\n",
    "model.score(X_test,y_test)"
   ]
  },
  {
   "cell_type": "code",
   "execution_count": 180,
   "metadata": {},
   "outputs": [],
   "source": [
    "from sklearn.metrics import classification_report\n",
    "import scikitplot as skplt"
   ]
  },
  {
   "cell_type": "code",
   "execution_count": 181,
   "metadata": {},
   "outputs": [
    {
     "name": "stdout",
     "output_type": "stream",
     "text": [
      "              precision    recall  f1-score   support\n",
      "\n",
      "           0       0.82      0.90      0.86       749\n",
      "           1       0.36      0.23      0.28       168\n",
      "           2       0.10      0.04      0.05        27\n",
      "\n",
      "    accuracy                           0.76       944\n",
      "   macro avg       0.43      0.39      0.40       944\n",
      "weighted avg       0.72      0.76      0.73       944\n",
      "\n"
     ]
    }
   ],
   "source": [
    "print(classification_report(y_test,preds))"
   ]
  },
  {
   "cell_type": "code",
   "execution_count": 197,
   "metadata": {},
   "outputs": [
    {
     "data": {
      "image/png": "[encoded data removed]",
      "text/plain": [
       "<Figure size 1152x432 with 3 Axes>"
      ]
     },
     "metadata": {
      "needs_background": "light"
     },
     "output_type": "display_data"
    }
   ],
   "source": [
    "fig,ax=plt.subplots(ncols=2,figsize = (16,6))\n",
    "skplt.metrics.plot_confusion_matrix(y_test, preds, ax = ax[1])\n",
    "skplt.metrics.plot_roc(y_test,probs,ax=ax[0])\n",
    "plt.show()"
   ]
  },
  {
   "cell_type": "code",
   "execution_count": null,
   "metadata": {},
   "outputs": [],
   "source": []
  },
  {
   "cell_type": "code",
   "execution_count": 125,
   "metadata": {},
   "outputs": [],
   "source": []
  },
  {
   "cell_type": "code",
   "execution_count": null,
   "metadata": {},
   "outputs": [],
   "source": []
  },
  {
   "cell_type": "code",
   "execution_count": 15,
   "metadata": {},
   "outputs": [
    {
     "data": {
      "text/plain": [
       "0            \n",
       "No-Recidivism    0.791359\n",
       "Non-Violent      0.179136\n",
       "Violent          0.029505\n",
       "dtype: float64"
      ]
     },
     "execution_count": 15,
     "metadata": {},
     "output_type": "execute_result"
    }
   ],
   "source": [
    "y_test.value_counts(normalize=True)"
   ]
  },
  {
   "cell_type": "code",
   "execution_count": 14,
   "metadata": {},
   "outputs": [
    {
     "data": {
      "text/plain": [
       "0            \n",
       "No-Recidivism    2997\n",
       "Non-Violent       649\n",
       "Violent           148\n",
       "dtype: int64"
      ]
     },
     "execution_count": 14,
     "metadata": {},
     "output_type": "execute_result"
    }
   ],
   "source": [
    "y_train.value_counts()"
   ]
  },
  {
   "cell_type": "code",
   "execution_count": null,
   "metadata": {},
   "outputs": [],
   "source": [
    "### oversampling for y imbalance\n",
    "### oversampling for sensitive data balance\n",
    "### link between charges and y"
   ]
  }
 ],
 "metadata": {
  "kernelspec": {
   "display_name": "Python 3",
   "language": "python",
   "name": "python3"
  },
  "language_info": {
   "codemirror_mode": {
    "name": "ipython",
    "version": 3
   },
   "file_extension": ".py",
   "mimetype": "text/x-python",
   "name": "python",
   "nbconvert_exporter": "python",
   "pygments_lexer": "ipython3",
   "version": "3.8.5"
  }
 },
 "nbformat": 4,
 "nbformat_minor": 2
}
