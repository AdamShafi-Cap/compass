{
 "cells": [
  {
   "cell_type": "code",
   "execution_count": 1,
   "metadata": {},
   "outputs": [],
   "source": [
    "import pandas as pd\n",
    "import numpy as np\n",
    "\n",
    "from sklearn.metrics import roc_auc_score\n",
    "from typing import Dict"
   ]
  },
  {
   "cell_type": "code",
   "execution_count": 2,
   "metadata": {},
   "outputs": [],
   "source": [
    "def get_score(y_true:pd.Series, y_pred:pd.DataFrame, groups:pd.Series)->Dict[str, float]:\n",
    "    result = {}\n",
    "    \n",
    "    result['accuracy'] = roc_auc_score(y_true, \n",
    "                                       y_pred, \n",
    "                                       multi_class='ovo', \n",
    "                                       labels=['No-Recidivism','Non-Violent','Violent'])\n",
    "    \n",
    "    scores = {}\n",
    "    for g in groups.unique():\n",
    "        y_true_g = y_true[groups==g]\n",
    "        y_pred_g = y_pred[groups==g]\n",
    "        \n",
    "        s = roc_auc_score(y_true_g, \n",
    "                          y_pred_g, \n",
    "                          multi_class='ovo', \n",
    "                          labels=['No-Recidivism','Non-Violent','Violent'])\n",
    "        scores[g]=s\n",
    "        \n",
    "    # I add the np.sqrt to make stretch the space beteween 0.9 and 1.0\n",
    "    result['fairness'] = 1-np.sqrt(pd.Series(scores).std())\n",
    "    \n",
    "    return result"
   ]
  },
  {
   "cell_type": "code",
   "execution_count": 17,
   "metadata": {},
   "outputs": [
    {
     "data": {
      "text/plain": [
       "{\"('25 - 45', 'Female', 'Other')\": nan,\n",
       " \"('25 - 45', 'Male', 'African-American')\": 0.8205868205868206,\n",
       " \"('Less than 25', 'Male', 'Caucasian')\": 0.8698979591836735,\n",
       " \"('Greater than 45', 'Male', 'African-American')\": 0.6495198902606311,\n",
       " \"('25 - 45', 'Male', 'Caucasian')\": 0.6651171963038089,\n",
       " \"('Greater than 45', 'Male', 'Caucasian')\": 0.7425213675213675,\n",
       " \"('Less than 25', 'Female', 'African-American')\": 0.8222222222222223,\n",
       " \"('Less than 25', 'Male', 'African-American')\": 0.5900673400673401,\n",
       " \"('Greater than 45', 'Male', 'Hispanic')\": 1.0,\n",
       " \"('Less than 25', 'Male', 'Other')\": 1.0,\n",
       " \"('25 - 45', 'Male', 'Hispanic')\": 0.5240240240240241,\n",
       " \"('25 - 45', 'Female', 'African-American')\": 0.6047619047619047,\n",
       " \"('25 - 45', 'Female', 'Caucasian')\": 0.686904761904762,\n",
       " \"('Less than 25', 'Female', 'Caucasian')\": 1.0,\n",
       " \"('25 - 45', 'Male', 'Other')\": 1.0,\n",
       " \"('Greater than 45', 'Female', 'Hispanic')\": nan,\n",
       " \"('Greater than 45', 'Female', 'Caucasian')\": 0.4423076923076923,\n",
       " \"('25 - 45', 'Female', 'Hispanic')\": 0.5,\n",
       " \"('Greater than 45', 'Female', 'African-American')\": 0.787878787878788,\n",
       " \"('Greater than 45', 'Male', 'Other')\": nan,\n",
       " \"('Less than 25', 'Male', 'Hispanic')\": 1.0,\n",
       " \"('Less than 25', 'Female', 'Other')\": 1.0,\n",
       " \"('Greater than 45', 'Male', 'Asian')\": nan,\n",
       " \"('Less than 25', 'Male', 'Asian')\": nan,\n",
       " \"('Less than 25', 'Female', 'Hispanic')\": nan,\n",
       " \"('Greater than 45', 'Female', 'Other')\": nan,\n",
       " \"('25 - 45', 'Male', 'Asian')\": nan,\n",
       " \"('25 - 45', 'Male', 'Native American')\": 1.0,\n",
       " 'Other': nan}"
      ]
     },
     "execution_count": 17,
     "metadata": {},
     "output_type": "execute_result"
    }
   ],
   "source": [
    "scores"
   ]
  },
  {
   "cell_type": "code",
   "execution_count": 14,
   "metadata": {},
   "outputs": [
    {
     "name": "stderr",
     "output_type": "stream",
     "text": [
      "C:\\Users\\adshafi\\Anaconda3\\lib\\site-packages\\numpy\\lib\\function_base.py:393: RuntimeWarning: Mean of empty slice.\n",
      "  avg = a.mean(axis)\n",
      "C:\\Users\\adshafi\\Anaconda3\\lib\\site-packages\\numpy\\core\\_methods.py:161: RuntimeWarning: invalid value encountered in double_scalars\n",
      "  ret = ret.dtype.type(ret / rcount)\n",
      "C:\\Users\\adshafi\\Anaconda3\\lib\\site-packages\\numpy\\lib\\function_base.py:393: RuntimeWarning: Mean of empty slice.\n",
      "  avg = a.mean(axis)\n",
      "C:\\Users\\adshafi\\Anaconda3\\lib\\site-packages\\numpy\\core\\_methods.py:161: RuntimeWarning: invalid value encountered in double_scalars\n",
      "  ret = ret.dtype.type(ret / rcount)\n",
      "C:\\Users\\adshafi\\Anaconda3\\lib\\site-packages\\numpy\\lib\\function_base.py:393: RuntimeWarning: Mean of empty slice.\n",
      "  avg = a.mean(axis)\n",
      "C:\\Users\\adshafi\\Anaconda3\\lib\\site-packages\\numpy\\core\\_methods.py:161: RuntimeWarning: invalid value encountered in double_scalars\n",
      "  ret = ret.dtype.type(ret / rcount)\n",
      "C:\\Users\\adshafi\\Anaconda3\\lib\\site-packages\\numpy\\lib\\function_base.py:393: RuntimeWarning: Mean of empty slice.\n",
      "  avg = a.mean(axis)\n",
      "C:\\Users\\adshafi\\Anaconda3\\lib\\site-packages\\numpy\\core\\_methods.py:161: RuntimeWarning: invalid value encountered in double_scalars\n",
      "  ret = ret.dtype.type(ret / rcount)\n",
      "C:\\Users\\adshafi\\Anaconda3\\lib\\site-packages\\numpy\\lib\\function_base.py:393: RuntimeWarning: Mean of empty slice.\n",
      "  avg = a.mean(axis)\n",
      "C:\\Users\\adshafi\\Anaconda3\\lib\\site-packages\\numpy\\core\\_methods.py:161: RuntimeWarning: invalid value encountered in double_scalars\n",
      "  ret = ret.dtype.type(ret / rcount)\n",
      "C:\\Users\\adshafi\\Anaconda3\\lib\\site-packages\\numpy\\lib\\function_base.py:393: RuntimeWarning: Mean of empty slice.\n",
      "  avg = a.mean(axis)\n",
      "C:\\Users\\adshafi\\Anaconda3\\lib\\site-packages\\numpy\\core\\_methods.py:161: RuntimeWarning: invalid value encountered in double_scalars\n",
      "  ret = ret.dtype.type(ret / rcount)\n",
      "C:\\Users\\adshafi\\Anaconda3\\lib\\site-packages\\numpy\\lib\\function_base.py:393: RuntimeWarning: Mean of empty slice.\n",
      "  avg = a.mean(axis)\n",
      "C:\\Users\\adshafi\\Anaconda3\\lib\\site-packages\\numpy\\core\\_methods.py:161: RuntimeWarning: invalid value encountered in double_scalars\n",
      "  ret = ret.dtype.type(ret / rcount)\n",
      "C:\\Users\\adshafi\\Anaconda3\\lib\\site-packages\\numpy\\lib\\function_base.py:393: RuntimeWarning: Mean of empty slice.\n",
      "  avg = a.mean(axis)\n",
      "C:\\Users\\adshafi\\Anaconda3\\lib\\site-packages\\numpy\\core\\_methods.py:161: RuntimeWarning: invalid value encountered in double_scalars\n",
      "  ret = ret.dtype.type(ret / rcount)\n",
      "C:\\Users\\adshafi\\Anaconda3\\lib\\site-packages\\numpy\\lib\\function_base.py:393: RuntimeWarning: Mean of empty slice.\n",
      "  avg = a.mean(axis)\n",
      "C:\\Users\\adshafi\\Anaconda3\\lib\\site-packages\\numpy\\core\\_methods.py:161: RuntimeWarning: invalid value encountered in double_scalars\n",
      "  ret = ret.dtype.type(ret / rcount)\n"
     ]
    }
   ],
   "source": [
    "result = {}\n",
    "\n",
    "result['accuracy'] = roc_auc_score(y_true, \n",
    "                                   y_submission, \n",
    "                                   multi_class='ovo', \n",
    "                                   labels=['No-Recidivism','Non-Violent','Violent'])\n",
    "\n",
    "scores = {}\n",
    "for g in groups.unique():\n",
    "    y_true_g = y_true[groups==g]\n",
    "    y_pred_g = y_submission[groups==g]\n",
    "\n",
    "    s = roc_auc_score(y_true_g, \n",
    "                      y_pred_g, \n",
    "                      multi_class='ovo', \n",
    "                      labels=['No-Recidivism','Non-Violent','Violent'])\n",
    "    scores[g]=s\n",
    "\n",
    "# I add the np.sqrt to make stretch the space beteween 0.9 and 1.0\n",
    "result['fairness'] = 1-np.sqrt(pd.Series(scores).std())"
   ]
  },
  {
   "cell_type": "code",
   "execution_count": 18,
   "metadata": {},
   "outputs": [
    {
     "data": {
      "text/plain": [
       "0                       ('25 - 45', 'Female', 'Other')\n",
       "1              ('25 - 45', 'Male', 'African-American')\n",
       "2              ('25 - 45', 'Male', 'African-American')\n",
       "3                ('Less than 25', 'Male', 'Caucasian')\n",
       "4      ('Greater than 45', 'Male', 'African-American')\n",
       "                            ...                       \n",
       "944          ('25 - 45', 'Female', 'African-American')\n",
       "945       ('Less than 25', 'Male', 'African-American')\n",
       "946            ('25 - 45', 'Male', 'African-American')\n",
       "947           ('Greater than 45', 'Male', 'Caucasian')\n",
       "948            ('Greater than 45', 'Male', 'Hispanic')\n",
       "Name: 0, Length: 949, dtype: object"
      ]
     },
     "execution_count": 18,
     "metadata": {},
     "output_type": "execute_result"
    }
   ],
   "source": [
    "groups"
   ]
  },
  {
   "cell_type": "code",
   "execution_count": 9,
   "metadata": {},
   "outputs": [
    {
     "data": {
      "text/plain": [
       "0      No-Recidivism\n",
       "1      No-Recidivism\n",
       "2        Non-Violent\n",
       "3      No-Recidivism\n",
       "4      No-Recidivism\n",
       "           ...      \n",
       "944          Violent\n",
       "945    No-Recidivism\n",
       "946    No-Recidivism\n",
       "947      Non-Violent\n",
       "948    No-Recidivism\n",
       "Name: 0, Length: 949, dtype: object"
      ]
     },
     "execution_count": 9,
     "metadata": {},
     "output_type": "execute_result"
    }
   ],
   "source": [
    "y_true"
   ]
  },
  {
   "cell_type": "code",
   "execution_count": 4,
   "metadata": {},
   "outputs": [],
   "source": [
    "y_true = pd.read_csv('./test/y_test.csv', squeeze=True)\n",
    "groups = pd.read_csv('eval_groups.csv', squeeze=True)\n",
    "\n",
    "y_submission = pd.read_csv('results.csv')"
   ]
  },
  {
   "cell_type": "code",
   "execution_count": 5,
   "metadata": {},
   "outputs": [
    {
     "name": "stderr",
     "output_type": "stream",
     "text": [
      "C:\\Users\\adshafi\\Anaconda3\\lib\\site-packages\\numpy\\lib\\function_base.py:393: RuntimeWarning: Mean of empty slice.\n",
      "  avg = a.mean(axis)\n",
      "C:\\Users\\adshafi\\Anaconda3\\lib\\site-packages\\numpy\\core\\_methods.py:161: RuntimeWarning: invalid value encountered in double_scalars\n",
      "  ret = ret.dtype.type(ret / rcount)\n",
      "C:\\Users\\adshafi\\Anaconda3\\lib\\site-packages\\numpy\\lib\\function_base.py:393: RuntimeWarning: Mean of empty slice.\n",
      "  avg = a.mean(axis)\n",
      "C:\\Users\\adshafi\\Anaconda3\\lib\\site-packages\\numpy\\core\\_methods.py:161: RuntimeWarning: invalid value encountered in double_scalars\n",
      "  ret = ret.dtype.type(ret / rcount)\n",
      "C:\\Users\\adshafi\\Anaconda3\\lib\\site-packages\\numpy\\lib\\function_base.py:393: RuntimeWarning: Mean of empty slice.\n",
      "  avg = a.mean(axis)\n",
      "C:\\Users\\adshafi\\Anaconda3\\lib\\site-packages\\numpy\\core\\_methods.py:161: RuntimeWarning: invalid value encountered in double_scalars\n",
      "  ret = ret.dtype.type(ret / rcount)\n",
      "C:\\Users\\adshafi\\Anaconda3\\lib\\site-packages\\numpy\\lib\\function_base.py:393: RuntimeWarning: Mean of empty slice.\n",
      "  avg = a.mean(axis)\n",
      "C:\\Users\\adshafi\\Anaconda3\\lib\\site-packages\\numpy\\core\\_methods.py:161: RuntimeWarning: invalid value encountered in double_scalars\n",
      "  ret = ret.dtype.type(ret / rcount)\n",
      "C:\\Users\\adshafi\\Anaconda3\\lib\\site-packages\\numpy\\lib\\function_base.py:393: RuntimeWarning: Mean of empty slice.\n",
      "  avg = a.mean(axis)\n",
      "C:\\Users\\adshafi\\Anaconda3\\lib\\site-packages\\numpy\\core\\_methods.py:161: RuntimeWarning: invalid value encountered in double_scalars\n",
      "  ret = ret.dtype.type(ret / rcount)\n",
      "C:\\Users\\adshafi\\Anaconda3\\lib\\site-packages\\numpy\\lib\\function_base.py:393: RuntimeWarning: Mean of empty slice.\n",
      "  avg = a.mean(axis)\n",
      "C:\\Users\\adshafi\\Anaconda3\\lib\\site-packages\\numpy\\core\\_methods.py:161: RuntimeWarning: invalid value encountered in double_scalars\n",
      "  ret = ret.dtype.type(ret / rcount)\n",
      "C:\\Users\\adshafi\\Anaconda3\\lib\\site-packages\\numpy\\lib\\function_base.py:393: RuntimeWarning: Mean of empty slice.\n",
      "  avg = a.mean(axis)\n",
      "C:\\Users\\adshafi\\Anaconda3\\lib\\site-packages\\numpy\\core\\_methods.py:161: RuntimeWarning: invalid value encountered in double_scalars\n",
      "  ret = ret.dtype.type(ret / rcount)\n",
      "C:\\Users\\adshafi\\Anaconda3\\lib\\site-packages\\numpy\\lib\\function_base.py:393: RuntimeWarning: Mean of empty slice.\n",
      "  avg = a.mean(axis)\n",
      "C:\\Users\\adshafi\\Anaconda3\\lib\\site-packages\\numpy\\core\\_methods.py:161: RuntimeWarning: invalid value encountered in double_scalars\n",
      "  ret = ret.dtype.type(ret / rcount)\n",
      "C:\\Users\\adshafi\\Anaconda3\\lib\\site-packages\\numpy\\lib\\function_base.py:393: RuntimeWarning: Mean of empty slice.\n",
      "  avg = a.mean(axis)\n",
      "C:\\Users\\adshafi\\Anaconda3\\lib\\site-packages\\numpy\\core\\_methods.py:161: RuntimeWarning: invalid value encountered in double_scalars\n",
      "  ret = ret.dtype.type(ret / rcount)\n"
     ]
    },
    {
     "data": {
      "text/plain": [
       "{'accuracy': 0.7541019536975909, 'fairness': 0.5595815684020264}"
      ]
     },
     "execution_count": 5,
     "metadata": {},
     "output_type": "execute_result"
    }
   ],
   "source": [
    "submission_score = get_score(y_true, y_submission, groups)\n",
    "submission_score"
   ]
  },
  {
   "cell_type": "code",
   "execution_count": null,
   "metadata": {},
   "outputs": [],
   "source": []
  },
  {
   "cell_type": "code",
   "execution_count": null,
   "metadata": {},
   "outputs": [],
   "source": []
  },
  {
   "cell_type": "code",
   "execution_count": null,
   "metadata": {},
   "outputs": [],
   "source": []
  }
 ],
 "metadata": {
  "kernelspec": {
   "display_name": "Python 3",
   "language": "python",
   "name": "python3"
  },
  "language_info": {
   "codemirror_mode": {
    "name": "ipython",
    "version": 3
   },
   "file_extension": ".py",
   "mimetype": "text/x-python",
   "name": "python",
   "nbconvert_exporter": "python",
   "pygments_lexer": "ipython3",
   "version": "3.8.5"
  }
 },
 "nbformat": 4,
 "nbformat_minor": 4
}
