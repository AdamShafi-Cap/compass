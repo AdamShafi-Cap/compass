{
 "cells": [
  {
   "cell_type": "code",
   "execution_count": 38,
   "metadata": {},
   "outputs": [],
   "source": [
    "import pandas as pd\n",
    "import numpy as np\n",
    "\n",
    "from sklearn.metrics import roc_auc_score\n",
    "from typing import Dict"
   ]
  },
  {
   "cell_type": "code",
   "execution_count": 39,
   "metadata": {},
   "outputs": [],
   "source": [
    "def get_score(y_true:pd.Series, y_pred:pd.DataFrame, groups:pd.Series)->Dict[str, float]:\n",
    "    result = {}\n",
    "    \n",
    "    result['accuracy'] = roc_auc_score(y_true, \n",
    "                                       y_pred, \n",
    "                                       multi_class='ovo', \n",
    "                                       labels=['No-Recidivism','Non-Violent','Violent'])\n",
    "    \n",
    "    scores = {}\n",
    "    for g in groups.unique():\n",
    "        y_true_g = y_true[groups==g]\n",
    "        y_pred_g = y_pred[groups==g]\n",
    "        \n",
    "        s = roc_auc_score(y_true_g, \n",
    "                          y_pred_g, \n",
    "                          multi_class='ovo', \n",
    "                          labels=['No-Recidivism','Non-Violent','Violent'])\n",
    "        scores[g]=s\n",
    "        \n",
    "    # I add the np.sqrt to make stretch the space beteween 0.9 and 1.0\n",
    "    result['fairness'] = 1-np.sqrt(pd.Series(scores).std())\n",
    "    \n",
    "    return result"
   ]
  },
  {
   "cell_type": "code",
   "execution_count": 40,
   "metadata": {},
   "outputs": [
    {
     "name": "stderr",
     "output_type": "stream",
     "text": [
      "C:\\Users\\adshafi\\Anaconda3\\lib\\site-packages\\numpy\\lib\\function_base.py:393: RuntimeWarning: Mean of empty slice.\n",
      "  avg = a.mean(axis)\n",
      "C:\\Users\\adshafi\\Anaconda3\\lib\\site-packages\\numpy\\core\\_methods.py:161: RuntimeWarning: invalid value encountered in double_scalars\n",
      "  ret = ret.dtype.type(ret / rcount)\n",
      "C:\\Users\\adshafi\\Anaconda3\\lib\\site-packages\\numpy\\lib\\function_base.py:393: RuntimeWarning: Mean of empty slice.\n",
      "  avg = a.mean(axis)\n",
      "C:\\Users\\adshafi\\Anaconda3\\lib\\site-packages\\numpy\\core\\_methods.py:161: RuntimeWarning: invalid value encountered in double_scalars\n",
      "  ret = ret.dtype.type(ret / rcount)\n",
      "C:\\Users\\adshafi\\Anaconda3\\lib\\site-packages\\numpy\\lib\\function_base.py:393: RuntimeWarning: Mean of empty slice.\n",
      "  avg = a.mean(axis)\n",
      "C:\\Users\\adshafi\\Anaconda3\\lib\\site-packages\\numpy\\core\\_methods.py:161: RuntimeWarning: invalid value encountered in double_scalars\n",
      "  ret = ret.dtype.type(ret / rcount)\n",
      "C:\\Users\\adshafi\\Anaconda3\\lib\\site-packages\\numpy\\lib\\function_base.py:393: RuntimeWarning: Mean of empty slice.\n",
      "  avg = a.mean(axis)\n",
      "C:\\Users\\adshafi\\Anaconda3\\lib\\site-packages\\numpy\\core\\_methods.py:161: RuntimeWarning: invalid value encountered in double_scalars\n",
      "  ret = ret.dtype.type(ret / rcount)\n",
      "C:\\Users\\adshafi\\Anaconda3\\lib\\site-packages\\numpy\\lib\\function_base.py:393: RuntimeWarning: Mean of empty slice.\n",
      "  avg = a.mean(axis)\n",
      "C:\\Users\\adshafi\\Anaconda3\\lib\\site-packages\\numpy\\core\\_methods.py:161: RuntimeWarning: invalid value encountered in double_scalars\n",
      "  ret = ret.dtype.type(ret / rcount)\n",
      "C:\\Users\\adshafi\\Anaconda3\\lib\\site-packages\\numpy\\lib\\function_base.py:393: RuntimeWarning: Mean of empty slice.\n",
      "  avg = a.mean(axis)\n",
      "C:\\Users\\adshafi\\Anaconda3\\lib\\site-packages\\numpy\\core\\_methods.py:161: RuntimeWarning: invalid value encountered in double_scalars\n",
      "  ret = ret.dtype.type(ret / rcount)\n",
      "C:\\Users\\adshafi\\Anaconda3\\lib\\site-packages\\numpy\\lib\\function_base.py:393: RuntimeWarning: Mean of empty slice.\n",
      "  avg = a.mean(axis)\n",
      "C:\\Users\\adshafi\\Anaconda3\\lib\\site-packages\\numpy\\core\\_methods.py:161: RuntimeWarning: invalid value encountered in double_scalars\n",
      "  ret = ret.dtype.type(ret / rcount)\n",
      "C:\\Users\\adshafi\\Anaconda3\\lib\\site-packages\\numpy\\lib\\function_base.py:393: RuntimeWarning: Mean of empty slice.\n",
      "  avg = a.mean(axis)\n",
      "C:\\Users\\adshafi\\Anaconda3\\lib\\site-packages\\numpy\\core\\_methods.py:161: RuntimeWarning: invalid value encountered in double_scalars\n",
      "  ret = ret.dtype.type(ret / rcount)\n",
      "C:\\Users\\adshafi\\Anaconda3\\lib\\site-packages\\numpy\\lib\\function_base.py:393: RuntimeWarning: Mean of empty slice.\n",
      "  avg = a.mean(axis)\n",
      "C:\\Users\\adshafi\\Anaconda3\\lib\\site-packages\\numpy\\core\\_methods.py:161: RuntimeWarning: invalid value encountered in double_scalars\n",
      "  ret = ret.dtype.type(ret / rcount)\n"
     ]
    }
   ],
   "source": [
    "y_true = pd.read_csv('./test/y_test.csv', squeeze=True)\n",
    "groups = pd.read_csv('eval_groups.csv', squeeze=True)\n",
    "\n",
    "y_submission = pd.read_csv('results.csv')\n",
    "\n",
    "submission_score = get_score(y_true, y_submission, groups)"
   ]
  },
  {
   "cell_type": "code",
   "execution_count": 41,
   "metadata": {},
   "outputs": [
    {
     "name": "stderr",
     "output_type": "stream",
     "text": [
      "C:\\Users\\adshafi\\Anaconda3\\lib\\site-packages\\numpy\\lib\\function_base.py:393: RuntimeWarning: Mean of empty slice.\n",
      "  avg = a.mean(axis)\n",
      "C:\\Users\\adshafi\\Anaconda3\\lib\\site-packages\\numpy\\core\\_methods.py:161: RuntimeWarning: invalid value encountered in double_scalars\n",
      "  ret = ret.dtype.type(ret / rcount)\n",
      "C:\\Users\\adshafi\\Anaconda3\\lib\\site-packages\\numpy\\lib\\function_base.py:393: RuntimeWarning: Mean of empty slice.\n",
      "  avg = a.mean(axis)\n",
      "C:\\Users\\adshafi\\Anaconda3\\lib\\site-packages\\numpy\\core\\_methods.py:161: RuntimeWarning: invalid value encountered in double_scalars\n",
      "  ret = ret.dtype.type(ret / rcount)\n",
      "C:\\Users\\adshafi\\Anaconda3\\lib\\site-packages\\numpy\\lib\\function_base.py:393: RuntimeWarning: Mean of empty slice.\n",
      "  avg = a.mean(axis)\n",
      "C:\\Users\\adshafi\\Anaconda3\\lib\\site-packages\\numpy\\core\\_methods.py:161: RuntimeWarning: invalid value encountered in double_scalars\n",
      "  ret = ret.dtype.type(ret / rcount)\n",
      "C:\\Users\\adshafi\\Anaconda3\\lib\\site-packages\\numpy\\lib\\function_base.py:393: RuntimeWarning: Mean of empty slice.\n",
      "  avg = a.mean(axis)\n",
      "C:\\Users\\adshafi\\Anaconda3\\lib\\site-packages\\numpy\\core\\_methods.py:161: RuntimeWarning: invalid value encountered in double_scalars\n",
      "  ret = ret.dtype.type(ret / rcount)\n",
      "C:\\Users\\adshafi\\Anaconda3\\lib\\site-packages\\numpy\\lib\\function_base.py:393: RuntimeWarning: Mean of empty slice.\n",
      "  avg = a.mean(axis)\n",
      "C:\\Users\\adshafi\\Anaconda3\\lib\\site-packages\\numpy\\core\\_methods.py:161: RuntimeWarning: invalid value encountered in double_scalars\n",
      "  ret = ret.dtype.type(ret / rcount)\n",
      "C:\\Users\\adshafi\\Anaconda3\\lib\\site-packages\\numpy\\lib\\function_base.py:393: RuntimeWarning: Mean of empty slice.\n",
      "  avg = a.mean(axis)\n",
      "C:\\Users\\adshafi\\Anaconda3\\lib\\site-packages\\numpy\\core\\_methods.py:161: RuntimeWarning: invalid value encountered in double_scalars\n",
      "  ret = ret.dtype.type(ret / rcount)\n",
      "C:\\Users\\adshafi\\Anaconda3\\lib\\site-packages\\numpy\\lib\\function_base.py:393: RuntimeWarning: Mean of empty slice.\n",
      "  avg = a.mean(axis)\n",
      "C:\\Users\\adshafi\\Anaconda3\\lib\\site-packages\\numpy\\core\\_methods.py:161: RuntimeWarning: invalid value encountered in double_scalars\n",
      "  ret = ret.dtype.type(ret / rcount)\n",
      "C:\\Users\\adshafi\\Anaconda3\\lib\\site-packages\\numpy\\lib\\function_base.py:393: RuntimeWarning: Mean of empty slice.\n",
      "  avg = a.mean(axis)\n",
      "C:\\Users\\adshafi\\Anaconda3\\lib\\site-packages\\numpy\\core\\_methods.py:161: RuntimeWarning: invalid value encountered in double_scalars\n",
      "  ret = ret.dtype.type(ret / rcount)\n",
      "C:\\Users\\adshafi\\Anaconda3\\lib\\site-packages\\numpy\\lib\\function_base.py:393: RuntimeWarning: Mean of empty slice.\n",
      "  avg = a.mean(axis)\n",
      "C:\\Users\\adshafi\\Anaconda3\\lib\\site-packages\\numpy\\core\\_methods.py:161: RuntimeWarning: invalid value encountered in double_scalars\n",
      "  ret = ret.dtype.type(ret / rcount)\n"
     ]
    }
   ],
   "source": [
    "result = {}\n",
    "\n",
    "result['accuracy'] = roc_auc_score(y_true, \n",
    "                                   y_submission, \n",
    "                                   multi_class='ovo', \n",
    "                                   labels=['No-Recidivism','Non-Violent','Violent'])\n",
    "\n",
    "scores = {}\n",
    "for g in groups.unique():\n",
    "    y_true_g = y_true[groups==g]\n",
    "    y_pred_g = y_submission[groups==g]\n",
    "\n",
    "    s = roc_auc_score(y_true_g, \n",
    "                      y_pred_g, \n",
    "                      multi_class='ovo', \n",
    "                      labels=['No-Recidivism','Non-Violent','Violent'])\n",
    "    scores[g]=s\n",
    "\n",
    "# I add the np.sqrt to make stretch the space beteween 0.9 and 1.0\n",
    "result['fairness'] = 1-np.sqrt(pd.Series(scores).std())"
   ]
  },
  {
   "cell_type": "code",
   "execution_count": 42,
   "metadata": {},
   "outputs": [
    {
     "data": {
      "text/plain": [
       "{'accuracy': 0.7662866411544645, 'fairness': 0.55859975394556}"
      ]
     },
     "execution_count": 42,
     "metadata": {},
     "output_type": "execute_result"
    }
   ],
   "source": [
    "submission_score #{'accuracy': 0.7667020070345049, 'fairness': 0.5659648382195115}"
   ]
  },
  {
   "cell_type": "code",
   "execution_count": 43,
   "metadata": {},
   "outputs": [
    {
     "data": {
      "text/plain": [
       "{\"('25 - 45', 'Female', 'Other')\": nan,\n",
       " \"('25 - 45', 'Male', 'African-American')\": 0.7728689960832819,\n",
       " \"('Less than 25', 'Male', 'Caucasian')\": 0.9132653061224489,\n",
       " \"('Greater than 45', 'Male', 'African-American')\": 0.691872427983539,\n",
       " \"('25 - 45', 'Male', 'Caucasian')\": 0.722870182555781,\n",
       " \"('Greater than 45', 'Male', 'Caucasian')\": 0.7792735042735043,\n",
       " \"('Less than 25', 'Female', 'African-American')\": 0.7833333333333333,\n",
       " \"('Less than 25', 'Male', 'African-American')\": 0.5392817059483727,\n",
       " \"('Greater than 45', 'Male', 'Hispanic')\": 1.0,\n",
       " \"('Less than 25', 'Male', 'Other')\": 0.9285714285714286,\n",
       " \"('25 - 45', 'Male', 'Hispanic')\": 0.524024024024024,\n",
       " \"('25 - 45', 'Female', 'African-American')\": 0.8227891156462586,\n",
       " \"('25 - 45', 'Female', 'Caucasian')\": 0.8809523809523809,\n",
       " \"('Less than 25', 'Female', 'Caucasian')\": 1.0,\n",
       " \"('25 - 45', 'Male', 'Other')\": 1.0,\n",
       " \"('Greater than 45', 'Female', 'Hispanic')\": nan,\n",
       " \"('Greater than 45', 'Female', 'Caucasian')\": 0.7115384615384615,\n",
       " \"('25 - 45', 'Female', 'Hispanic')\": 0.2777777777777778,\n",
       " \"('Greater than 45', 'Female', 'African-American')\": 0.8560606060606061,\n",
       " \"('Greater than 45', 'Male', 'Other')\": nan,\n",
       " \"('Less than 25', 'Male', 'Hispanic')\": 1.0,\n",
       " \"('Less than 25', 'Female', 'Other')\": 1.0,\n",
       " \"('Greater than 45', 'Male', 'Asian')\": nan,\n",
       " \"('Less than 25', 'Male', 'Asian')\": nan,\n",
       " \"('Less than 25', 'Female', 'Hispanic')\": nan,\n",
       " \"('Greater than 45', 'Female', 'Other')\": nan,\n",
       " \"('25 - 45', 'Male', 'Asian')\": nan,\n",
       " \"('25 - 45', 'Male', 'Native American')\": 1.0,\n",
       " 'Other': nan}"
      ]
     },
     "execution_count": 43,
     "metadata": {},
     "output_type": "execute_result"
    }
   ],
   "source": [
    "scores"
   ]
  },
  {
   "cell_type": "code",
   "execution_count": null,
   "metadata": {},
   "outputs": [],
   "source": []
  }
 ],
 "metadata": {
  "kernelspec": {
   "display_name": "Python 3",
   "language": "python",
   "name": "python3"
  },
  "language_info": {
   "codemirror_mode": {
    "name": "ipython",
    "version": 3
   },
   "file_extension": ".py",
   "mimetype": "text/x-python",
   "name": "python",
   "nbconvert_exporter": "python",
   "pygments_lexer": "ipython3",
   "version": "3.8.5"
  }
 },
 "nbformat": 4,
 "nbformat_minor": 4
}
