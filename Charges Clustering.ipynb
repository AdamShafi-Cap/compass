{
 "cells": [
  {
   "cell_type": "code",
   "execution_count": 1,
   "metadata": {},
   "outputs": [
    {
     "name": "stderr",
     "output_type": "stream",
     "text": [
      "C:\\Users\\adshafi\\Anaconda3\\lib\\site-packages\\torch\\cuda\\__init__.py:52: UserWarning: CUDA initialization: Found no NVIDIA driver on your system. Please check that you have an NVIDIA GPU and installed a driver from http://www.nvidia.com/Download/index.aspx (Triggered internally at  ..\\c10\\cuda\\CUDAFunctions.cpp:100.)\n",
      "  return torch._C._cuda_getDeviceCount() > 0\n"
     ]
    }
   ],
   "source": [
    "import pandas as pd\n",
    "import numpy as np\n",
    "import pickle\n",
    "\n",
    "from sklearn.cluster import KMeans, AgglomerativeClustering, DBSCAN\n",
    "from scipy.cluster.hierarchy import dendrogram\n",
    "\n",
    "\n",
    "\n",
    "\n",
    "from sentence_transformers import SentenceTransformer\n",
    "\n",
    "from umap import UMAP\n",
    "import plotly.express as px"
   ]
  },
  {
   "cell_type": "code",
   "execution_count": 2,
   "metadata": {},
   "outputs": [],
   "source": [
    "def import_data():\n",
    "    X_train = pd.read_csv('./train/X_train.csv')\n",
    "    X_test = pd.read_csv('./test/X_test.csv')\n",
    "    y_train = pd.read_csv('./train/y_train.csv')\n",
    "    y_test = pd.read_csv('./test/y_test.csv')\n",
    "    return X_train, X_test, y_train, y_test"
   ]
  },
  {
   "cell_type": "code",
   "execution_count": 3,
   "metadata": {},
   "outputs": [],
   "source": [
    "X_train, X_test, y_train, y_test = import_data()"
   ]
  },
  {
   "cell_type": "code",
   "execution_count": 4,
   "metadata": {},
   "outputs": [
    {
     "data": {
      "text/plain": [
       "array(['arrest case no charge', 'Grand Theft in the 3rd Degree',\n",
       "       'Felony Driving While Lic Suspd', 'Robbery W/Firearm', 'Battery',\n",
       "       'Possession of Hydrocodone', 'Burglary With Assault/battery',\n",
       "       'Possession of Cocaine', 'Possess Cannabis/20 Grams Or Less',\n",
       "       'Susp Drivers Lic 1st Offense', 'Uttering Forged Credit Card',\n",
       "       'Aggrav Battery w/Deadly Weapon', 'Purchase Of Cocaine',\n",
       "       'Agg Battery Grt/Bod/Harm', 'Burglary Unoccupied Dwelling',\n",
       "       'Aggravated Assault w/Firearm', 'Disorderly Intoxication',\n",
       "       'Possession Of Amphetamine', 'Manufacture Cannabis',\n",
       "       'DUI- Enhanced', 'Opert With Susp DL 2nd Offens',\n",
       "       'Possession Of Alprazolam', 'Deliver Cannabis', 'Child Abuse',\n",
       "       'Grand Theft (Motor Vehicle)', 'Retail Theft $300 1st Offense',\n",
       "       'Driving Under The Influence', 'Leave Acc/Attend Veh/More $50',\n",
       "       'Felony Petit Theft', 'Burglary Dwelling Occupied',\n",
       "       'Aggravated Assault W/Dead Weap', 'Possession of Cannabis',\n",
       "       'Battery on Law Enforc Officer', 'DUI Property Damage/Injury',\n",
       "       'Obtain Control Substance By Fraud',\n",
       "       'Alcoholic Beverage Violation-FL', 'Driving While License Revoked',\n",
       "       'Possession Child Pornography', 'Robbery / Weapon',\n",
       "       'Aggravated Assault W/dead Weap',\n",
       "       'Tampering With Physical Evidence',\n",
       "       'Neglect Child / No Bodily Harm', 'Poss3,4 Methylenedioxymethcath',\n",
       "       'Felony Battery w/Prior Convict', 'Possession of Oxycodone',\n",
       "       'Posses/Disply Susp/Revk/Frd DL', 'Fail Register Vehicle',\n",
       "       'Assault', 'Burglary Structure Unoccup',\n",
       "       'Solicitation On Felony 3 Deg', 'Disorderly Conduct',\n",
       "       'Cruelty Toward Child', 'Resist Officer w/Violence',\n",
       "       'Resist/Obstruct W/O Violence', 'Corrupt Public Servant',\n",
       "       'DUI - Enhanced', 'Poss Cocaine/Intent To Del/Sel',\n",
       "       'Criminal Attempt 3rd Deg Felon', 'Poss Tetrahydrocannabinols',\n",
       "       'Aggravated Battery (Firearm)', 'Burglary Conveyance Unoccup',\n",
       "       'Fel Drive License Perm Revoke', 'Deliver Cocaine',\n",
       "       'Driving License Suspended', 'Grand Theft In The 3Rd Degree',\n",
       "       'Unlaw LicTag/Sticker Attach', 'Possession Burglary Tools',\n",
       "       'Pos Cannabis W/Intent Sel/Del', 'Petit Theft', nan,\n",
       "       'Tamper With Witness', 'DUI Level 0.15 Or Minor In Veh',\n",
       "       'Possess Weapon On School Prop', 'Felony Battery',\n",
       "       'Viol Prot Injunc Repeat Viol', 'Robbery / No Weapon',\n",
       "       'Aggravated Assault', 'Poss Pyrrolidinovalerophenone',\n",
       "       'Bribery Athletic Contests', 'Crim Use of Personal ID Info',\n",
       "       'Crimin Mischief Damage $1000+', 'False Imprisonment',\n",
       "       'Attempt Armed Burglary Dwell', 'Aggravated Battery / Pregnant',\n",
       "       'Operating W/O Valid License', 'Delivery Of Drug Paraphernalia',\n",
       "       'Fleeing Or Attmp Eluding A Leo', 'Leave Accd/Attend Veh/Less $50',\n",
       "       'Deliver 3,4 Methylenediox', 'Stalking (Aggravated)',\n",
       "       'Felony Battery (Dom Strang)', 'Battery on a Person Over 65',\n",
       "       'Grand Theft of a Fire Extinquisher', 'Prowling/Loitering',\n",
       "       'Poss of Firearm by Convic Felo', 'Burglary Conveyance Armed',\n",
       "       'Criminal Mischief>$200<$1000', 'Possession Of Heroin',\n",
       "       'Leaving the Scene of Accident', 'Lve/Scen/Acc/Veh/Prop/Damage',\n",
       "       'Possession of Hydromorphone', 'Possession Of Methamphetamine',\n",
       "       'Viol Injunct Domestic Violence', 'Poss 3,4 MDMA (Ecstasy)',\n",
       "       'Uttering a Forged Instrument', 'Video Voyeur-<24Y on Child >16',\n",
       "       'Introduce Contraband Into Jail', 'Petit Theft $100- $300',\n",
       "       'Possession Of Fentanyl', 'Viol Pretrial Release Dom Viol',\n",
       "       'Sel Etc/Pos/w/Int Contrft Schd', 'Unlicensed Telemarketing',\n",
       "       'Strong Armed  Robbery', 'Aggrav Stalking After Injunctn',\n",
       "       'Deliver Cocaine 1000FT Store', 'Possession of Morphine',\n",
       "       'Offer Agree Secure/Lewd Act', 'Possession Of Phentermine',\n",
       "       'Poss Unlaw Issue Id', 'Aggravated Battery',\n",
       "       'Use of Anti-Shoplifting Device', 'Expired DL More Than 6 Months',\n",
       "       'Possession of LSD', 'Att Burgl Unoccupied Dwel',\n",
       "       'Consp Traff Oxycodone 28g><30k', 'Burglary Dwelling Assault/Batt',\n",
       "       'Burglary Dwelling Armed', 'Possess Tobacco Product Under 18',\n",
       "       'Uttering Forged Bills', 'Poss of Vessel w/Altered ID NO',\n",
       "       'Unlawful Conveyance of Fuel', 'False Ownership Info/Pawn Item',\n",
       "       'Tamper With Witness/Victim/CI', 'Obstruct Fire Equipment',\n",
       "       'Possession Of Lorazepam', 'Drivg While Lic Suspd/Revk/Can',\n",
       "       'Solicit Deliver Cocaine', 'Criminal Mischief',\n",
       "       'Agg Assault W/int Com Fel Dome', 'Arson in the First Degree',\n",
       "       'Exposes Culpable Negligence', 'Felony DUI (level 3)',\n",
       "       'Sex Offender Fail Comply W/Law', 'Compulsory Sch Attnd Violation',\n",
       "       'Felony Batt(Great Bodily Harm)', 'Manage Busn W/O City Occup Lic',\n",
       "       'Poss Of Controlled Substance', 'Burglary Conveyance Occupied',\n",
       "       'Lewd or Lascivious Molestation', 'Possess Drug Paraphernalia',\n",
       "       'Principal In The First Degree', 'Reckless Driving',\n",
       "       'Poss of Cocaine W/I/D/S 1000FT Park',\n",
       "       'Aggrav Child Abuse-Agg Battery',\n",
       "       'Poss/Sell/Del Cocaine 1000FT Sch', 'Leaving Acc/Unattended Veh',\n",
       "       'Fraudulent Use of Credit Card', 'Dealing in Stolen Property',\n",
       "       'Poss Unlaw Issue Driver Licenc', 'Consp Traff Oxycodone  4g><14g',\n",
       "       'Grand Theft on 65 Yr or Older', 'Fighting/Baiting Animals',\n",
       "       'Carjacking with a Firearm', 'Fail Obey Driv Lic Restrictions',\n",
       "       'Unlaw Use False Name/Identity', 'Purchase/P/W/Int Cannabis',\n",
       "       'Poss Similitude of Drivers Lic', 'Carrying Concealed Firearm',\n",
       "       'Tamper With Victim', 'Fail To Secure Load',\n",
       "       'Traffick Hydrocodone   4g><14g', 'Violation License Restrictions',\n",
       "       'Purchase Cannabis', 'Cash Item w/Intent to Defraud',\n",
       "       'Harm Public Servant Or Family', 'Offer Agree Secure For Lewd Act',\n",
       "       'Robbery Sudd Snatch No Weapon', 'Trespassing/Construction Site',\n",
       "       'Armed Trafficking in Cannabis', 'DUI Blood Alcohol Above 0.20',\n",
       "       'Carry Open/Uncov Bev In Pub', 'DWI w/Inj Susp Lic / Habit Off',\n",
       "       'Grand Theft Firearm', 'Felony DUI - Enhanced',\n",
       "       'Neglect/Abuse Elderly Person', 'Felony/Driving Under Influence',\n",
       "       'Opert With Susp DL 2ND Offense', 'Criminal Mischief Damage <$200',\n",
       "       'Burglary Assault/Battery Armed', 'Poss F/Arm Delinq',\n",
       "       'Felon in Pos of Firearm or Amm', 'Lewd/Lasc Exhib Presence <16yr',\n",
       "       'Aggrav Child Abuse-Causes Harm', 'Violation Of Boater Safety Id',\n",
       "       'Disrupting School Function', 'Attempted Robbery Firearm',\n",
       "       'Prostitution/Lewd Act Assignation',\n",
       "       'Del of JWH-250 2-Methox 1-Pentyl',\n",
       "       'Sale/Del Counterfeit Cont Subs', 'Poss Contr Subst W/o Prescript',\n",
       "       'Tampering with a Victim', 'Unemployment Compensatn Fraud',\n",
       "       'Sex Battery Deft 18+/Vict 11-', 'Possession Of 3,4Methylenediox',\n",
       "       'Cruelty to Animals', 'Lewd/Lasc Battery Pers 12+/<16',\n",
       "       'Carjacking w/o Deadly Weapon', 'Grand Theft in the 1st Degree',\n",
       "       'Refuse Submit Blood/Breath Test',\n",
       "       'Kidnapping / Domestic Violence', 'Simulation of Legal Process',\n",
       "       'Burglary Structure Occupied', 'False Bomb Report',\n",
       "       'Gambling/Gamb Paraphernalia', 'Trespass Structure/Conveyance',\n",
       "       'Poss Wep Conv Felon', 'Consume Alcoholic Bev Pub',\n",
       "       'Failure To Return Hired Vehicle', 'Tresspass Struct/Conveyance',\n",
       "       'Fail Sex Offend Report Bylaw', 'Possess Cannabis 1000FTSch',\n",
       "       'Unauth Poss ID Card or DL',\n",
       "       'Tresspass in Structure or Conveyance', 'Agg Fleeing and Eluding',\n",
       "       'Conspiracy Dealing Stolen Prop', 'Counterfeit Lic Plates/Sticker',\n",
       "       'Interfere W/Traf Cont Dev RR', 'Possession Firearm School Prop',\n",
       "       'Possession of Benzylpiperazine', 'Throw Deadly Missile Into Veh',\n",
       "       'Present Proof of Invalid Insur', 'Fraud Obtain Food or Lodging',\n",
       "       'Crim Use Of Personal Id Info', 'License Suspended Revoked',\n",
       "       'Traffick Oxycodone     4g><14g', 'Poss Anti-Shoplifting Device',\n",
       "       'Hiring with Intent to Defraud', 'Lewdness Violation',\n",
       "       'Poss Of RX Without RX', 'Burglary Conveyance Assault/Bat',\n",
       "       'Murder in 2nd Degree', 'Aggress/Panhandle/Beg/Solict',\n",
       "       'Violation of Injunction Order/Stalking/Cyberstalking',\n",
       "       'Attempted Robbery  No Weapon', 'Possession Of Buprenorphine',\n",
       "       'Possess Controlled Substance', 'Structuring Transactions',\n",
       "       'Exploit Elderly Person 20-100K', 'Robbery W/Deadly Weapon',\n",
       "       'Harass Witness/Victm/Informnt', 'Misuse Of 911 Or E911 System',\n",
       "       'DOC/Cause Public Danger', 'Dealing In Stolen Property',\n",
       "       'Soliciting For Prostitution', 'Delivery of 5-Fluoro PB-22',\n",
       "       'Prostitution/Lewdness/Assign', 'Deliver Cannabis 1000FTSch',\n",
       "       'Sexual Performance by a Child', 'Possess w/I/Utter Forged Bills',\n",
       "       'Unl/Disturb Education/Instui', 'Fleeing or Eluding a LEO',\n",
       "       'Use Scanning Device to Defraud', 'Poss of Methylethcathinone',\n",
       "       'Grand Theft Dwell Property', 'Burglary Structure Assault/Batt',\n",
       "       'Murder in the First Degree', 'Del Cannabis For Consideration',\n",
       "       'Poss Alprazolam W/int Sell/Del', 'Culpable Negligence',\n",
       "       'Fail To Redeliv Hire/Leas Prop', 'DWLS Canceled Disqul 1st Off',\n",
       "       'Fail Register Career Offender', 'Forging Bank Bills/Promis Note',\n",
       "       'Sell Cannabis', 'Use Computer for Child Exploit',\n",
       "       'Extradition/Defendants', 'Poss Drugs W/O A Prescription',\n",
       "       'Contribute Delinquency Of A Minor', 'Possession Of Diazepam',\n",
       "       'Flee/Elude LEO-Agg Flee Unsafe', 'Theft',\n",
       "       'Live on Earnings of Prostitute', 'Trespass Property w/Dang Weap',\n",
       "       'Att Burgl Struc/Conv Dwel/Occp', 'Aggravated Assault W/o Firearm',\n",
       "       'Battery Emergency Care Provide', 'False 911 Call',\n",
       "       'Possession of Codeine', 'Sexual Battery / Vict 12 Yrs +',\n",
       "       'Att Tamper w/Physical Evidence', 'Murder In 2nd Degree W/firearm',\n",
       "       'Aggravated Battery On 65/Older', 'Battery Spouse Or Girlfriend',\n",
       "       'Trespass Structure w/Dang Weap', 'Possession Of Paraphernalia',\n",
       "       'Escape', 'Lewd/Lasciv Molest Elder Persn',\n",
       "       'Carrying A Concealed Weapon', 'Poss Trifluoromethylphenylpipe',\n",
       "       'Traffick Amphetamine 28g><200g', 'Possession Of Anabolic Steroid',\n",
       "       'Agg Fleeing/Eluding High Speed', 'Neglect Child / Bodily Harm',\n",
       "       'Sale/Del Cannabis At/Near Scho', 'Felony Committing Prostitution',\n",
       "       'Battery On Fire Fighter', 'Fail To Obey Police Officer',\n",
       "       'Compulsory Attendance Violation',\n",
       "       'Aggr Child Abuse-Torture,Punish', 'Prostitution',\n",
       "       'Viol Injunction Protect Dom Vi', 'Theft/To Deprive',\n",
       "       'Crim Attempt/Solicit/Consp', 'Trespass Struct/Conveyance',\n",
       "       'False Motor Veh Insurance Card', 'Computer Pornography',\n",
       "       'Depriv LEO of Protect/Communic', 'Del 3,4 Methylenedioxymethcath',\n",
       "       'Del Morphine at/near Park', 'Use Of 2 Way Device To Fac Fel',\n",
       "       'Shoot Into Vehicle', 'Offn Against Intellectual Prop',\n",
       "       'Deliver Cocaine 1000FT Park', 'Battery On Parking Enfor Speci',\n",
       "       'Failure To Pay Taxi Cab Charge', 'Solicit To Deliver Cocaine',\n",
       "       'Open Carrying Of Weapon', 'D.U.I. Serious Bodily Injury',\n",
       "       'Abuse Without Great Harm', 'Lease For Purpose Trafficking',\n",
       "       'Threat Public Servant', 'Ride Tri-Rail Without Paying'],\n",
       "      dtype=object)"
      ]
     },
     "execution_count": 4,
     "metadata": {},
     "output_type": "execute_result"
    }
   ],
   "source": [
    "X_train['c_charge_desc'].unique()"
   ]
  },
  {
   "cell_type": "code",
   "execution_count": 5,
   "metadata": {},
   "outputs": [],
   "source": [
    "charges = X_train['c_charge_desc'].append(X_test['c_charge_desc']).dropna().unique()"
   ]
  },
  {
   "cell_type": "code",
   "execution_count": 6,
   "metadata": {},
   "outputs": [
    {
     "data": {
      "text/plain": [
       "array(['arrest case no charge', 'Grand Theft in the 3rd Degree',\n",
       "       'Felony Driving While Lic Suspd', 'Robbery W/Firearm', 'Battery',\n",
       "       'Possession of Hydrocodone', 'Burglary With Assault/battery',\n",
       "       'Possession of Cocaine', 'Possess Cannabis/20 Grams Or Less',\n",
       "       'Susp Drivers Lic 1st Offense', 'Uttering Forged Credit Card',\n",
       "       'Aggrav Battery w/Deadly Weapon', 'Purchase Of Cocaine',\n",
       "       'Agg Battery Grt/Bod/Harm', 'Burglary Unoccupied Dwelling',\n",
       "       'Aggravated Assault w/Firearm', 'Disorderly Intoxication',\n",
       "       'Possession Of Amphetamine', 'Manufacture Cannabis',\n",
       "       'DUI- Enhanced', 'Opert With Susp DL 2nd Offens',\n",
       "       'Possession Of Alprazolam', 'Deliver Cannabis', 'Child Abuse',\n",
       "       'Grand Theft (Motor Vehicle)', 'Retail Theft $300 1st Offense',\n",
       "       'Driving Under The Influence', 'Leave Acc/Attend Veh/More $50',\n",
       "       'Felony Petit Theft', 'Burglary Dwelling Occupied',\n",
       "       'Aggravated Assault W/Dead Weap', 'Possession of Cannabis',\n",
       "       'Battery on Law Enforc Officer', 'DUI Property Damage/Injury',\n",
       "       'Obtain Control Substance By Fraud',\n",
       "       'Alcoholic Beverage Violation-FL', 'Driving While License Revoked',\n",
       "       'Possession Child Pornography', 'Robbery / Weapon',\n",
       "       'Aggravated Assault W/dead Weap',\n",
       "       'Tampering With Physical Evidence',\n",
       "       'Neglect Child / No Bodily Harm', 'Poss3,4 Methylenedioxymethcath',\n",
       "       'Felony Battery w/Prior Convict', 'Possession of Oxycodone',\n",
       "       'Posses/Disply Susp/Revk/Frd DL', 'Fail Register Vehicle',\n",
       "       'Assault', 'Burglary Structure Unoccup',\n",
       "       'Solicitation On Felony 3 Deg', 'Disorderly Conduct',\n",
       "       'Cruelty Toward Child', 'Resist Officer w/Violence',\n",
       "       'Resist/Obstruct W/O Violence', 'Corrupt Public Servant',\n",
       "       'DUI - Enhanced', 'Poss Cocaine/Intent To Del/Sel',\n",
       "       'Criminal Attempt 3rd Deg Felon', 'Poss Tetrahydrocannabinols',\n",
       "       'Aggravated Battery (Firearm)', 'Burglary Conveyance Unoccup',\n",
       "       'Fel Drive License Perm Revoke', 'Deliver Cocaine',\n",
       "       'Driving License Suspended', 'Grand Theft In The 3Rd Degree',\n",
       "       'Unlaw LicTag/Sticker Attach', 'Possession Burglary Tools',\n",
       "       'Pos Cannabis W/Intent Sel/Del', 'Petit Theft',\n",
       "       'Tamper With Witness', 'DUI Level 0.15 Or Minor In Veh',\n",
       "       'Possess Weapon On School Prop', 'Felony Battery',\n",
       "       'Viol Prot Injunc Repeat Viol', 'Robbery / No Weapon',\n",
       "       'Aggravated Assault', 'Poss Pyrrolidinovalerophenone',\n",
       "       'Bribery Athletic Contests', 'Crim Use of Personal ID Info',\n",
       "       'Crimin Mischief Damage $1000+', 'False Imprisonment',\n",
       "       'Attempt Armed Burglary Dwell', 'Aggravated Battery / Pregnant',\n",
       "       'Operating W/O Valid License', 'Delivery Of Drug Paraphernalia',\n",
       "       'Fleeing Or Attmp Eluding A Leo', 'Leave Accd/Attend Veh/Less $50',\n",
       "       'Deliver 3,4 Methylenediox', 'Stalking (Aggravated)',\n",
       "       'Felony Battery (Dom Strang)', 'Battery on a Person Over 65',\n",
       "       'Grand Theft of a Fire Extinquisher', 'Prowling/Loitering',\n",
       "       'Poss of Firearm by Convic Felo', 'Burglary Conveyance Armed',\n",
       "       'Criminal Mischief>$200<$1000', 'Possession Of Heroin',\n",
       "       'Leaving the Scene of Accident', 'Lve/Scen/Acc/Veh/Prop/Damage',\n",
       "       'Possession of Hydromorphone', 'Possession Of Methamphetamine',\n",
       "       'Viol Injunct Domestic Violence', 'Poss 3,4 MDMA (Ecstasy)',\n",
       "       'Uttering a Forged Instrument', 'Video Voyeur-<24Y on Child >16',\n",
       "       'Introduce Contraband Into Jail', 'Petit Theft $100- $300',\n",
       "       'Possession Of Fentanyl', 'Viol Pretrial Release Dom Viol',\n",
       "       'Sel Etc/Pos/w/Int Contrft Schd', 'Unlicensed Telemarketing',\n",
       "       'Strong Armed  Robbery', 'Aggrav Stalking After Injunctn',\n",
       "       'Deliver Cocaine 1000FT Store', 'Possession of Morphine',\n",
       "       'Offer Agree Secure/Lewd Act', 'Possession Of Phentermine',\n",
       "       'Poss Unlaw Issue Id', 'Aggravated Battery',\n",
       "       'Use of Anti-Shoplifting Device', 'Expired DL More Than 6 Months',\n",
       "       'Possession of LSD', 'Att Burgl Unoccupied Dwel',\n",
       "       'Consp Traff Oxycodone 28g><30k', 'Burglary Dwelling Assault/Batt',\n",
       "       'Burglary Dwelling Armed', 'Possess Tobacco Product Under 18',\n",
       "       'Uttering Forged Bills', 'Poss of Vessel w/Altered ID NO',\n",
       "       'Unlawful Conveyance of Fuel', 'False Ownership Info/Pawn Item',\n",
       "       'Tamper With Witness/Victim/CI', 'Obstruct Fire Equipment',\n",
       "       'Possession Of Lorazepam', 'Drivg While Lic Suspd/Revk/Can',\n",
       "       'Solicit Deliver Cocaine', 'Criminal Mischief',\n",
       "       'Agg Assault W/int Com Fel Dome', 'Arson in the First Degree',\n",
       "       'Exposes Culpable Negligence', 'Felony DUI (level 3)',\n",
       "       'Sex Offender Fail Comply W/Law', 'Compulsory Sch Attnd Violation',\n",
       "       'Felony Batt(Great Bodily Harm)', 'Manage Busn W/O City Occup Lic',\n",
       "       'Poss Of Controlled Substance', 'Burglary Conveyance Occupied',\n",
       "       'Lewd or Lascivious Molestation', 'Possess Drug Paraphernalia',\n",
       "       'Principal In The First Degree', 'Reckless Driving',\n",
       "       'Poss of Cocaine W/I/D/S 1000FT Park',\n",
       "       'Aggrav Child Abuse-Agg Battery',\n",
       "       'Poss/Sell/Del Cocaine 1000FT Sch', 'Leaving Acc/Unattended Veh',\n",
       "       'Fraudulent Use of Credit Card', 'Dealing in Stolen Property',\n",
       "       'Poss Unlaw Issue Driver Licenc', 'Consp Traff Oxycodone  4g><14g',\n",
       "       'Grand Theft on 65 Yr or Older', 'Fighting/Baiting Animals',\n",
       "       'Carjacking with a Firearm', 'Fail Obey Driv Lic Restrictions',\n",
       "       'Unlaw Use False Name/Identity', 'Purchase/P/W/Int Cannabis',\n",
       "       'Poss Similitude of Drivers Lic', 'Carrying Concealed Firearm',\n",
       "       'Tamper With Victim', 'Fail To Secure Load',\n",
       "       'Traffick Hydrocodone   4g><14g', 'Violation License Restrictions',\n",
       "       'Purchase Cannabis', 'Cash Item w/Intent to Defraud',\n",
       "       'Harm Public Servant Or Family', 'Offer Agree Secure For Lewd Act',\n",
       "       'Robbery Sudd Snatch No Weapon', 'Trespassing/Construction Site',\n",
       "       'Armed Trafficking in Cannabis', 'DUI Blood Alcohol Above 0.20',\n",
       "       'Carry Open/Uncov Bev In Pub', 'DWI w/Inj Susp Lic / Habit Off',\n",
       "       'Grand Theft Firearm', 'Felony DUI - Enhanced',\n",
       "       'Neglect/Abuse Elderly Person', 'Felony/Driving Under Influence',\n",
       "       'Opert With Susp DL 2ND Offense', 'Criminal Mischief Damage <$200',\n",
       "       'Burglary Assault/Battery Armed', 'Poss F/Arm Delinq',\n",
       "       'Felon in Pos of Firearm or Amm', 'Lewd/Lasc Exhib Presence <16yr',\n",
       "       'Aggrav Child Abuse-Causes Harm', 'Violation Of Boater Safety Id',\n",
       "       'Disrupting School Function', 'Attempted Robbery Firearm',\n",
       "       'Prostitution/Lewd Act Assignation',\n",
       "       'Del of JWH-250 2-Methox 1-Pentyl',\n",
       "       'Sale/Del Counterfeit Cont Subs', 'Poss Contr Subst W/o Prescript',\n",
       "       'Tampering with a Victim', 'Unemployment Compensatn Fraud',\n",
       "       'Sex Battery Deft 18+/Vict 11-', 'Possession Of 3,4Methylenediox',\n",
       "       'Cruelty to Animals', 'Lewd/Lasc Battery Pers 12+/<16',\n",
       "       'Carjacking w/o Deadly Weapon', 'Grand Theft in the 1st Degree',\n",
       "       'Refuse Submit Blood/Breath Test',\n",
       "       'Kidnapping / Domestic Violence', 'Simulation of Legal Process',\n",
       "       'Burglary Structure Occupied', 'False Bomb Report',\n",
       "       'Gambling/Gamb Paraphernalia', 'Trespass Structure/Conveyance',\n",
       "       'Poss Wep Conv Felon', 'Consume Alcoholic Bev Pub',\n",
       "       'Failure To Return Hired Vehicle', 'Tresspass Struct/Conveyance',\n",
       "       'Fail Sex Offend Report Bylaw', 'Possess Cannabis 1000FTSch',\n",
       "       'Unauth Poss ID Card or DL',\n",
       "       'Tresspass in Structure or Conveyance', 'Agg Fleeing and Eluding',\n",
       "       'Conspiracy Dealing Stolen Prop', 'Counterfeit Lic Plates/Sticker',\n",
       "       'Interfere W/Traf Cont Dev RR', 'Possession Firearm School Prop',\n",
       "       'Possession of Benzylpiperazine', 'Throw Deadly Missile Into Veh',\n",
       "       'Present Proof of Invalid Insur', 'Fraud Obtain Food or Lodging',\n",
       "       'Crim Use Of Personal Id Info', 'License Suspended Revoked',\n",
       "       'Traffick Oxycodone     4g><14g', 'Poss Anti-Shoplifting Device',\n",
       "       'Hiring with Intent to Defraud', 'Lewdness Violation',\n",
       "       'Poss Of RX Without RX', 'Burglary Conveyance Assault/Bat',\n",
       "       'Murder in 2nd Degree', 'Aggress/Panhandle/Beg/Solict',\n",
       "       'Violation of Injunction Order/Stalking/Cyberstalking',\n",
       "       'Attempted Robbery  No Weapon', 'Possession Of Buprenorphine',\n",
       "       'Possess Controlled Substance', 'Structuring Transactions',\n",
       "       'Exploit Elderly Person 20-100K', 'Robbery W/Deadly Weapon',\n",
       "       'Harass Witness/Victm/Informnt', 'Misuse Of 911 Or E911 System',\n",
       "       'DOC/Cause Public Danger', 'Dealing In Stolen Property',\n",
       "       'Soliciting For Prostitution', 'Delivery of 5-Fluoro PB-22',\n",
       "       'Prostitution/Lewdness/Assign', 'Deliver Cannabis 1000FTSch',\n",
       "       'Sexual Performance by a Child', 'Possess w/I/Utter Forged Bills',\n",
       "       'Unl/Disturb Education/Instui', 'Fleeing or Eluding a LEO',\n",
       "       'Use Scanning Device to Defraud', 'Poss of Methylethcathinone',\n",
       "       'Grand Theft Dwell Property', 'Burglary Structure Assault/Batt',\n",
       "       'Murder in the First Degree', 'Del Cannabis For Consideration',\n",
       "       'Poss Alprazolam W/int Sell/Del', 'Culpable Negligence',\n",
       "       'Fail To Redeliv Hire/Leas Prop', 'DWLS Canceled Disqul 1st Off',\n",
       "       'Fail Register Career Offender', 'Forging Bank Bills/Promis Note',\n",
       "       'Sell Cannabis', 'Use Computer for Child Exploit',\n",
       "       'Extradition/Defendants', 'Poss Drugs W/O A Prescription',\n",
       "       'Contribute Delinquency Of A Minor', 'Possession Of Diazepam',\n",
       "       'Flee/Elude LEO-Agg Flee Unsafe', 'Theft',\n",
       "       'Live on Earnings of Prostitute', 'Trespass Property w/Dang Weap',\n",
       "       'Att Burgl Struc/Conv Dwel/Occp', 'Aggravated Assault W/o Firearm',\n",
       "       'Battery Emergency Care Provide', 'False 911 Call',\n",
       "       'Possession of Codeine', 'Sexual Battery / Vict 12 Yrs +',\n",
       "       'Att Tamper w/Physical Evidence', 'Murder In 2nd Degree W/firearm',\n",
       "       'Aggravated Battery On 65/Older', 'Battery Spouse Or Girlfriend',\n",
       "       'Trespass Structure w/Dang Weap', 'Possession Of Paraphernalia',\n",
       "       'Escape', 'Lewd/Lasciv Molest Elder Persn',\n",
       "       'Carrying A Concealed Weapon', 'Poss Trifluoromethylphenylpipe',\n",
       "       'Traffick Amphetamine 28g><200g', 'Possession Of Anabolic Steroid',\n",
       "       'Agg Fleeing/Eluding High Speed', 'Neglect Child / Bodily Harm',\n",
       "       'Sale/Del Cannabis At/Near Scho', 'Felony Committing Prostitution',\n",
       "       'Battery On Fire Fighter', 'Fail To Obey Police Officer',\n",
       "       'Compulsory Attendance Violation',\n",
       "       'Aggr Child Abuse-Torture,Punish', 'Prostitution',\n",
       "       'Viol Injunction Protect Dom Vi', 'Theft/To Deprive',\n",
       "       'Crim Attempt/Solicit/Consp', 'Trespass Struct/Conveyance',\n",
       "       'False Motor Veh Insurance Card', 'Computer Pornography',\n",
       "       'Depriv LEO of Protect/Communic', 'Del 3,4 Methylenedioxymethcath',\n",
       "       'Del Morphine at/near Park', 'Use Of 2 Way Device To Fac Fel',\n",
       "       'Shoot Into Vehicle', 'Offn Against Intellectual Prop',\n",
       "       'Deliver Cocaine 1000FT Park', 'Battery On Parking Enfor Speci',\n",
       "       'Failure To Pay Taxi Cab Charge', 'Solicit To Deliver Cocaine',\n",
       "       'Open Carrying Of Weapon', 'D.U.I. Serious Bodily Injury',\n",
       "       'Abuse Without Great Harm', 'Lease For Purpose Trafficking',\n",
       "       'Threat Public Servant', 'Ride Tri-Rail Without Paying',\n",
       "       'Falsely Impersonating Officer', 'Poss Meth/Diox/Meth/Amp (MDMA)',\n",
       "       'Solic to Commit Battery', 'Unlawful Use Of Police Badges',\n",
       "       'Unauth C/P/S Sounds>1000/Audio', 'Deliver Alprazolam',\n",
       "       'DUI - Property Damage/Personal Injury',\n",
       "       'False Info LEO During Invest', 'Purchasing Of Alprazolam',\n",
       "       'Refuse to Supply DNA Sample', 'Throw Missile Into Pub/Priv Dw',\n",
       "       'Sel/Pur/Mfr/Del Control Substa', 'DWLS Susp/Cancel Revoked',\n",
       "       'Cause Anoth Phone Ring Repeat', 'Shoot In Occupied Dwell',\n",
       "       'Poss Oxycodone W/Int/Sell/Del', 'Conspiracy to Deliver Cocaine',\n",
       "       'Possess/Use Weapon 1 Deg Felon', 'Intoxicated/Safety Of Another',\n",
       "       'Aggravated Battery (Firearm/Actual Possession)',\n",
       "       'Insurance Fraud', 'Sell or Offer for Sale Counterfeit Goods',\n",
       "       'Oper Motorcycle W/O Valid DL', 'Agg Assault Law Enforc Officer',\n",
       "       'Money Launder 100K or More Dols', 'Attempt Burglary (Struct)',\n",
       "       'Agg Abuse Elderlly/Disabled Adult', 'Throw In Occupied Dwell',\n",
       "       'Grand Theft of the 2nd Degree', 'Lewd Act Presence Child 16-',\n",
       "       'DUI/Property Damage/Persnl Inj'], dtype=object)"
      ]
     },
     "execution_count": 6,
     "metadata": {},
     "output_type": "execute_result"
    }
   ],
   "source": [
    "charges"
   ]
  },
  {
   "cell_type": "code",
   "execution_count": 7,
   "metadata": {},
   "outputs": [],
   "source": [
    "charges_clean=[i.lower()\n",
    ".replace('w/o','without ')\n",
    ".replace('/w','with ')\n",
    ".replace('/',' ')\n",
    ".replace('dl','drivers license')\n",
    ".replace('driv','drivers')                \n",
    ".replace('lic','license')               \n",
    ".replace('priv','private')\n",
    ".replace('deg','degree')\n",
    ".replace('viol','violence')\n",
    ".replace('veh','vehicle')\n",
    ".replace('first','1st')\n",
    ".replace('poss','possession')\n",
    ".replace('bugl','buglary')\n",
    ".strip() for i in charges]"
   ]
  },
  {
   "cell_type": "code",
   "execution_count": 8,
   "metadata": {},
   "outputs": [],
   "source": [
    "robert = SentenceTransformer('stsb-roberta-large') "
   ]
  },
  {
   "cell_type": "code",
   "execution_count": 9,
   "metadata": {},
   "outputs": [],
   "source": [
    "embeddings = pd.DataFrame(np.vstack(np.array([robert.encode(i) for i in charges_clean])))"
   ]
  },
  {
   "cell_type": "code",
   "execution_count": 10,
   "metadata": {},
   "outputs": [],
   "source": [
    "def cluster_plot(model):\n",
    "    \n",
    "    clust = model\n",
    "    clust.fit(embeddings)\n",
    "    \n",
    "    umap = UMAP(metric='cosine',random_state=42)\n",
    "    umap.fit(embeddings)\n",
    "    \n",
    "    data = pd.DataFrame(umap.transform(embeddings),columns=[\"x\",\"y\"]).assign(text=charges).assign(color=clust.labels_)\n",
    "    \n",
    "    fig = px.scatter(data,x='x',y='y',hover_data={'b':data['text']},color=data['color'])\n",
    "    fig.update_layout(margin=dict(l=0,r=0,b=0,t=0))\n",
    "    fig.update_layout(hoverlabel={'font_size':12,'bgcolor':'black'})\n",
    "    fig.update_traces(marker={'size':4})\n",
    "    \n",
    "    return model,fig"
   ]
  },
  {
   "cell_type": "code",
   "execution_count": 11,
   "metadata": {},
   "outputs": [],
   "source": [
    "def plot_dendrogram(model, **kwargs):\n",
    "    # Create linkage matrix and then plot the dendrogram\n",
    "\n",
    "    # create the counts of samples under each node\n",
    "    counts = np.zeros(model.children_.shape[0])\n",
    "    n_samples = len(model.labels_)\n",
    "    for i, merge in enumerate(model.children_):\n",
    "        current_count = 0\n",
    "        for child_idx in merge:\n",
    "            if child_idx < n_samples:\n",
    "                current_count += 1  # leaf node\n",
    "            else:\n",
    "                current_count += counts[child_idx - n_samples]\n",
    "        counts[i] = current_count\n",
    "\n",
    "    linkage_matrix = np.column_stack([model.children_, model.distances_,\n",
    "                                      counts]).astype(float)\n",
    "\n",
    "    # Plot the corresponding dendrogram\n",
    "    dendrogram(linkage_matrix, **kwargs)"
   ]
  },
  {
   "cell_type": "code",
   "execution_count": 15,
   "metadata": {},
   "outputs": [
    {
     "data": {
      "application/vnd.plotly.v1+json": {
       "config": {
        "plotlyServerURL": "https://plot.ly"
       },
       "data": [
        {
         "customdata": [
          [
           "arrest case no charge"
          ],
          [
           "Grand Theft in the 3rd Degree"
          ],
          [
           "Felony Driving While Lic Suspd"
          ],
          [
           "Robbery W/Firearm"
          ],
          [
           "Battery"
          ],
          [
           "Possession of Hydrocodone"
          ],
          [
           "Burglary With Assault/battery"
          ],
          [
           "Possession of Cocaine"
          ],
          [
           "Possess Cannabis/20 Grams Or Less"
          ],
          [
           "Susp Drivers Lic 1st Offense"
          ],
          [
           "Uttering Forged Credit Card"
          ],
          [
           "Aggrav Battery w/Deadly Weapon"
          ],
          [
           "Purchase Of Cocaine"
          ],
          [
           "Agg Battery Grt/Bod/Harm"
          ],
          [
           "Burglary Unoccupied Dwelling"
          ],
          [
           "Aggravated Assault w/Firearm"
          ],
          [
           "Disorderly Intoxication"
          ],
          [
           "Possession Of Amphetamine"
          ],
          [
           "Manufacture Cannabis"
          ],
          [
           "DUI- Enhanced"
          ],
          [
           "Opert With Susp DL 2nd Offens"
          ],
          [
           "Possession Of Alprazolam"
          ],
          [
           "Deliver Cannabis"
          ],
          [
           "Child Abuse"
          ],
          [
           "Grand Theft (Motor Vehicle)"
          ],
          [
           "Retail Theft $300 1st Offense"
          ],
          [
           "Driving Under The Influence"
          ],
          [
           "Leave Acc/Attend Veh/More $50"
          ],
          [
           "Felony Petit Theft"
          ],
          [
           "Burglary Dwelling Occupied"
          ],
          [
           "Aggravated Assault W/Dead Weap"
          ],
          [
           "Possession of Cannabis"
          ],
          [
           "Battery on Law Enforc Officer"
          ],
          [
           "DUI Property Damage/Injury"
          ],
          [
           "Obtain Control Substance By Fraud"
          ],
          [
           "Alcoholic Beverage Violation-FL"
          ],
          [
           "Driving While License Revoked"
          ],
          [
           "Possession Child Pornography"
          ],
          [
           "Robbery / Weapon"
          ],
          [
           "Aggravated Assault W/dead Weap"
          ],
          [
           "Tampering With Physical Evidence"
          ],
          [
           "Neglect Child / No Bodily Harm"
          ],
          [
           "Poss3,4 Methylenedioxymethcath"
          ],
          [
           "Felony Battery w/Prior Convict"
          ],
          [
           "Possession of Oxycodone"
          ],
          [
           "Posses/Disply Susp/Revk/Frd DL"
          ],
          [
           "Fail Register Vehicle"
          ],
          [
           "Assault"
          ],
          [
           "Burglary Structure Unoccup"
          ],
          [
           "Solicitation On Felony 3 Deg"
          ],
          [
           "Disorderly Conduct"
          ],
          [
           "Cruelty Toward Child"
          ],
          [
           "Resist Officer w/Violence"
          ],
          [
           "Resist/Obstruct W/O Violence"
          ],
          [
           "Corrupt Public Servant"
          ],
          [
           "DUI - Enhanced"
          ],
          [
           "Poss Cocaine/Intent To Del/Sel"
          ],
          [
           "Criminal Attempt 3rd Deg Felon"
          ],
          [
           "Poss Tetrahydrocannabinols"
          ],
          [
           "Aggravated Battery (Firearm)"
          ],
          [
           "Burglary Conveyance Unoccup"
          ],
          [
           "Fel Drive License Perm Revoke"
          ],
          [
           "Deliver Cocaine"
          ],
          [
           "Driving License Suspended"
          ],
          [
           "Grand Theft In The 3Rd Degree"
          ],
          [
           "Unlaw LicTag/Sticker Attach"
          ],
          [
           "Possession Burglary Tools"
          ],
          [
           "Pos Cannabis W/Intent Sel/Del"
          ],
          [
           "Petit Theft"
          ],
          [
           "Tamper With Witness"
          ],
          [
           "DUI Level 0.15 Or Minor In Veh"
          ],
          [
           "Possess Weapon On School Prop"
          ],
          [
           "Felony Battery"
          ],
          [
           "Viol Prot Injunc Repeat Viol"
          ],
          [
           "Robbery / No Weapon"
          ],
          [
           "Aggravated Assault"
          ],
          [
           "Poss Pyrrolidinovalerophenone"
          ],
          [
           "Bribery Athletic Contests"
          ],
          [
           "Crim Use of Personal ID Info"
          ],
          [
           "Crimin Mischief Damage $1000+"
          ],
          [
           "False Imprisonment"
          ],
          [
           "Attempt Armed Burglary Dwell"
          ],
          [
           "Aggravated Battery / Pregnant"
          ],
          [
           "Operating W/O Valid License"
          ],
          [
           "Delivery Of Drug Paraphernalia"
          ],
          [
           "Fleeing Or Attmp Eluding A Leo"
          ],
          [
           "Leave Accd/Attend Veh/Less $50"
          ],
          [
           "Deliver 3,4 Methylenediox"
          ],
          [
           "Stalking (Aggravated)"
          ],
          [
           "Felony Battery (Dom Strang)"
          ],
          [
           "Battery on a Person Over 65"
          ],
          [
           "Grand Theft of a Fire Extinquisher"
          ],
          [
           "Prowling/Loitering"
          ],
          [
           "Poss of Firearm by Convic Felo"
          ],
          [
           "Burglary Conveyance Armed"
          ],
          [
           "Criminal Mischief>$200<$1000"
          ],
          [
           "Possession Of Heroin"
          ],
          [
           "Leaving the Scene of Accident"
          ],
          [
           "Lve/Scen/Acc/Veh/Prop/Damage"
          ],
          [
           "Possession of Hydromorphone"
          ],
          [
           "Possession Of Methamphetamine"
          ],
          [
           "Viol Injunct Domestic Violence"
          ],
          [
           "Poss 3,4 MDMA (Ecstasy)"
          ],
          [
           "Uttering a Forged Instrument"
          ],
          [
           "Video Voyeur-<24Y on Child >16"
          ],
          [
           "Introduce Contraband Into Jail"
          ],
          [
           "Petit Theft $100- $300"
          ],
          [
           "Possession Of Fentanyl"
          ],
          [
           "Viol Pretrial Release Dom Viol"
          ],
          [
           "Sel Etc/Pos/w/Int Contrft Schd"
          ],
          [
           "Unlicensed Telemarketing"
          ],
          [
           "Strong Armed  Robbery"
          ],
          [
           "Aggrav Stalking After Injunctn"
          ],
          [
           "Deliver Cocaine 1000FT Store"
          ],
          [
           "Possession of Morphine"
          ],
          [
           "Offer Agree Secure/Lewd Act"
          ],
          [
           "Possession Of Phentermine"
          ],
          [
           "Poss Unlaw Issue Id"
          ],
          [
           "Aggravated Battery"
          ],
          [
           "Use of Anti-Shoplifting Device"
          ],
          [
           "Expired DL More Than 6 Months"
          ],
          [
           "Possession of LSD"
          ],
          [
           "Att Burgl Unoccupied Dwel"
          ],
          [
           "Consp Traff Oxycodone 28g><30k"
          ],
          [
           "Burglary Dwelling Assault/Batt"
          ],
          [
           "Burglary Dwelling Armed"
          ],
          [
           "Possess Tobacco Product Under 18"
          ],
          [
           "Uttering Forged Bills"
          ],
          [
           "Poss of Vessel w/Altered ID NO"
          ],
          [
           "Unlawful Conveyance of Fuel"
          ],
          [
           "False Ownership Info/Pawn Item"
          ],
          [
           "Tamper With Witness/Victim/CI"
          ],
          [
           "Obstruct Fire Equipment"
          ],
          [
           "Possession Of Lorazepam"
          ],
          [
           "Drivg While Lic Suspd/Revk/Can"
          ],
          [
           "Solicit Deliver Cocaine"
          ],
          [
           "Criminal Mischief"
          ],
          [
           "Agg Assault W/int Com Fel Dome"
          ],
          [
           "Arson in the First Degree"
          ],
          [
           "Exposes Culpable Negligence"
          ],
          [
           "Felony DUI (level 3)"
          ],
          [
           "Sex Offender Fail Comply W/Law"
          ],
          [
           "Compulsory Sch Attnd Violation"
          ],
          [
           "Felony Batt(Great Bodily Harm)"
          ],
          [
           "Manage Busn W/O City Occup Lic"
          ],
          [
           "Poss Of Controlled Substance"
          ],
          [
           "Burglary Conveyance Occupied"
          ],
          [
           "Lewd or Lascivious Molestation"
          ],
          [
           "Possess Drug Paraphernalia"
          ],
          [
           "Principal In The First Degree"
          ],
          [
           "Reckless Driving"
          ],
          [
           "Poss of Cocaine W/I/D/S 1000FT Park"
          ],
          [
           "Aggrav Child Abuse-Agg Battery"
          ],
          [
           "Poss/Sell/Del Cocaine 1000FT Sch"
          ],
          [
           "Leaving Acc/Unattended Veh"
          ],
          [
           "Fraudulent Use of Credit Card"
          ],
          [
           "Dealing in Stolen Property"
          ],
          [
           "Poss Unlaw Issue Driver Licenc"
          ],
          [
           "Consp Traff Oxycodone  4g><14g"
          ],
          [
           "Grand Theft on 65 Yr or Older"
          ],
          [
           "Fighting/Baiting Animals"
          ],
          [
           "Carjacking with a Firearm"
          ],
          [
           "Fail Obey Driv Lic Restrictions"
          ],
          [
           "Unlaw Use False Name/Identity"
          ],
          [
           "Purchase/P/W/Int Cannabis"
          ],
          [
           "Poss Similitude of Drivers Lic"
          ],
          [
           "Carrying Concealed Firearm"
          ],
          [
           "Tamper With Victim"
          ],
          [
           "Fail To Secure Load"
          ],
          [
           "Traffick Hydrocodone   4g><14g"
          ],
          [
           "Violation License Restrictions"
          ],
          [
           "Purchase Cannabis"
          ],
          [
           "Cash Item w/Intent to Defraud"
          ],
          [
           "Harm Public Servant Or Family"
          ],
          [
           "Offer Agree Secure For Lewd Act"
          ],
          [
           "Robbery Sudd Snatch No Weapon"
          ],
          [
           "Trespassing/Construction Site"
          ],
          [
           "Armed Trafficking in Cannabis"
          ],
          [
           "DUI Blood Alcohol Above 0.20"
          ],
          [
           "Carry Open/Uncov Bev In Pub"
          ],
          [
           "DWI w/Inj Susp Lic / Habit Off"
          ],
          [
           "Grand Theft Firearm"
          ],
          [
           "Felony DUI - Enhanced"
          ],
          [
           "Neglect/Abuse Elderly Person"
          ],
          [
           "Felony/Driving Under Influence"
          ],
          [
           "Opert With Susp DL 2ND Offense"
          ],
          [
           "Criminal Mischief Damage <$200"
          ],
          [
           "Burglary Assault/Battery Armed"
          ],
          [
           "Poss F/Arm Delinq"
          ],
          [
           "Felon in Pos of Firearm or Amm"
          ],
          [
           "Lewd/Lasc Exhib Presence <16yr"
          ],
          [
           "Aggrav Child Abuse-Causes Harm"
          ],
          [
           "Violation Of Boater Safety Id"
          ],
          [
           "Disrupting School Function"
          ],
          [
           "Attempted Robbery Firearm"
          ],
          [
           "Prostitution/Lewd Act Assignation"
          ],
          [
           "Del of JWH-250 2-Methox 1-Pentyl"
          ],
          [
           "Sale/Del Counterfeit Cont Subs"
          ],
          [
           "Poss Contr Subst W/o Prescript"
          ],
          [
           "Tampering with a Victim"
          ],
          [
           "Unemployment Compensatn Fraud"
          ],
          [
           "Sex Battery Deft 18+/Vict 11-"
          ],
          [
           "Possession Of 3,4Methylenediox"
          ],
          [
           "Cruelty to Animals"
          ],
          [
           "Lewd/Lasc Battery Pers 12+/<16"
          ],
          [
           "Carjacking w/o Deadly Weapon"
          ],
          [
           "Grand Theft in the 1st Degree"
          ],
          [
           "Refuse Submit Blood/Breath Test"
          ],
          [
           "Kidnapping / Domestic Violence"
          ],
          [
           "Simulation of Legal Process"
          ],
          [
           "Burglary Structure Occupied"
          ],
          [
           "False Bomb Report"
          ],
          [
           "Gambling/Gamb Paraphernalia"
          ],
          [
           "Trespass Structure/Conveyance"
          ],
          [
           "Poss Wep Conv Felon"
          ],
          [
           "Consume Alcoholic Bev Pub"
          ],
          [
           "Failure To Return Hired Vehicle"
          ],
          [
           "Tresspass Struct/Conveyance"
          ],
          [
           "Fail Sex Offend Report Bylaw"
          ],
          [
           "Possess Cannabis 1000FTSch"
          ],
          [
           "Unauth Poss ID Card or DL"
          ],
          [
           "Tresspass in Structure or Conveyance"
          ],
          [
           "Agg Fleeing and Eluding"
          ],
          [
           "Conspiracy Dealing Stolen Prop"
          ],
          [
           "Counterfeit Lic Plates/Sticker"
          ],
          [
           "Interfere W/Traf Cont Dev RR"
          ],
          [
           "Possession Firearm School Prop"
          ],
          [
           "Possession of Benzylpiperazine"
          ],
          [
           "Throw Deadly Missile Into Veh"
          ],
          [
           "Present Proof of Invalid Insur"
          ],
          [
           "Fraud Obtain Food or Lodging"
          ],
          [
           "Crim Use Of Personal Id Info"
          ],
          [
           "License Suspended Revoked"
          ],
          [
           "Traffick Oxycodone     4g><14g"
          ],
          [
           "Poss Anti-Shoplifting Device"
          ],
          [
           "Hiring with Intent to Defraud"
          ],
          [
           "Lewdness Violation"
          ],
          [
           "Poss Of RX Without RX"
          ],
          [
           "Burglary Conveyance Assault/Bat"
          ],
          [
           "Murder in 2nd Degree"
          ],
          [
           "Aggress/Panhandle/Beg/Solict"
          ],
          [
           "Violation of Injunction Order/Stalking/Cyberstalking"
          ],
          [
           "Attempted Robbery  No Weapon"
          ],
          [
           "Possession Of Buprenorphine"
          ],
          [
           "Possess Controlled Substance"
          ],
          [
           "Structuring Transactions"
          ],
          [
           "Exploit Elderly Person 20-100K"
          ],
          [
           "Robbery W/Deadly Weapon"
          ],
          [
           "Harass Witness/Victm/Informnt"
          ],
          [
           "Misuse Of 911 Or E911 System"
          ],
          [
           "DOC/Cause Public Danger"
          ],
          [
           "Dealing In Stolen Property"
          ],
          [
           "Soliciting For Prostitution"
          ],
          [
           "Delivery of 5-Fluoro PB-22"
          ],
          [
           "Prostitution/Lewdness/Assign"
          ],
          [
           "Deliver Cannabis 1000FTSch"
          ],
          [
           "Sexual Performance by a Child"
          ],
          [
           "Possess w/I/Utter Forged Bills"
          ],
          [
           "Unl/Disturb Education/Instui"
          ],
          [
           "Fleeing or Eluding a LEO"
          ],
          [
           "Use Scanning Device to Defraud"
          ],
          [
           "Poss of Methylethcathinone"
          ],
          [
           "Grand Theft Dwell Property"
          ],
          [
           "Burglary Structure Assault/Batt"
          ],
          [
           "Murder in the First Degree"
          ],
          [
           "Del Cannabis For Consideration"
          ],
          [
           "Poss Alprazolam W/int Sell/Del"
          ],
          [
           "Culpable Negligence"
          ],
          [
           "Fail To Redeliv Hire/Leas Prop"
          ],
          [
           "DWLS Canceled Disqul 1st Off"
          ],
          [
           "Fail Register Career Offender"
          ],
          [
           "Forging Bank Bills/Promis Note"
          ],
          [
           "Sell Cannabis"
          ],
          [
           "Use Computer for Child Exploit"
          ],
          [
           "Extradition/Defendants"
          ],
          [
           "Poss Drugs W/O A Prescription"
          ],
          [
           "Contribute Delinquency Of A Minor"
          ],
          [
           "Possession Of Diazepam"
          ],
          [
           "Flee/Elude LEO-Agg Flee Unsafe"
          ],
          [
           "Theft"
          ],
          [
           "Live on Earnings of Prostitute"
          ],
          [
           "Trespass Property w/Dang Weap"
          ],
          [
           "Att Burgl Struc/Conv Dwel/Occp"
          ],
          [
           "Aggravated Assault W/o Firearm"
          ],
          [
           "Battery Emergency Care Provide"
          ],
          [
           "False 911 Call"
          ],
          [
           "Possession of Codeine"
          ],
          [
           "Sexual Battery / Vict 12 Yrs +"
          ],
          [
           "Att Tamper w/Physical Evidence"
          ],
          [
           "Murder In 2nd Degree W/firearm"
          ],
          [
           "Aggravated Battery On 65/Older"
          ],
          [
           "Battery Spouse Or Girlfriend"
          ],
          [
           "Trespass Structure w/Dang Weap"
          ],
          [
           "Possession Of Paraphernalia"
          ],
          [
           "Escape"
          ],
          [
           "Lewd/Lasciv Molest Elder Persn"
          ],
          [
           "Carrying A Concealed Weapon"
          ],
          [
           "Poss Trifluoromethylphenylpipe"
          ],
          [
           "Traffick Amphetamine 28g><200g"
          ],
          [
           "Possession Of Anabolic Steroid"
          ],
          [
           "Agg Fleeing/Eluding High Speed"
          ],
          [
           "Neglect Child / Bodily Harm"
          ],
          [
           "Sale/Del Cannabis At/Near Scho"
          ],
          [
           "Felony Committing Prostitution"
          ],
          [
           "Battery On Fire Fighter"
          ],
          [
           "Fail To Obey Police Officer"
          ],
          [
           "Compulsory Attendance Violation"
          ],
          [
           "Aggr Child Abuse-Torture,Punish"
          ],
          [
           "Prostitution"
          ],
          [
           "Viol Injunction Protect Dom Vi"
          ],
          [
           "Theft/To Deprive"
          ],
          [
           "Crim Attempt/Solicit/Consp"
          ],
          [
           "Trespass Struct/Conveyance"
          ],
          [
           "False Motor Veh Insurance Card"
          ],
          [
           "Computer Pornography"
          ],
          [
           "Depriv LEO of Protect/Communic"
          ],
          [
           "Del 3,4 Methylenedioxymethcath"
          ],
          [
           "Del Morphine at/near Park"
          ],
          [
           "Use Of 2 Way Device To Fac Fel"
          ],
          [
           "Shoot Into Vehicle"
          ],
          [
           "Offn Against Intellectual Prop"
          ],
          [
           "Deliver Cocaine 1000FT Park"
          ],
          [
           "Battery On Parking Enfor Speci"
          ],
          [
           "Failure To Pay Taxi Cab Charge"
          ],
          [
           "Solicit To Deliver Cocaine"
          ],
          [
           "Open Carrying Of Weapon"
          ],
          [
           "D.U.I. Serious Bodily Injury"
          ],
          [
           "Abuse Without Great Harm"
          ],
          [
           "Lease For Purpose Trafficking"
          ],
          [
           "Threat Public Servant"
          ],
          [
           "Ride Tri-Rail Without Paying"
          ],
          [
           "Falsely Impersonating Officer"
          ],
          [
           "Poss Meth/Diox/Meth/Amp (MDMA)"
          ],
          [
           "Solic to Commit Battery"
          ],
          [
           "Unlawful Use Of Police Badges"
          ],
          [
           "Unauth C/P/S Sounds>1000/Audio"
          ],
          [
           "Deliver Alprazolam"
          ],
          [
           "DUI - Property Damage/Personal Injury"
          ],
          [
           "False Info LEO During Invest"
          ],
          [
           "Purchasing Of Alprazolam"
          ],
          [
           "Refuse to Supply DNA Sample"
          ],
          [
           "Throw Missile Into Pub/Priv Dw"
          ],
          [
           "Sel/Pur/Mfr/Del Control Substa"
          ],
          [
           "DWLS Susp/Cancel Revoked"
          ],
          [
           "Cause Anoth Phone Ring Repeat"
          ],
          [
           "Shoot In Occupied Dwell"
          ],
          [
           "Poss Oxycodone W/Int/Sell/Del"
          ],
          [
           "Conspiracy to Deliver Cocaine"
          ],
          [
           "Possess/Use Weapon 1 Deg Felon"
          ],
          [
           "Intoxicated/Safety Of Another"
          ],
          [
           "Aggravated Battery (Firearm/Actual Possession)"
          ],
          [
           "Insurance Fraud"
          ],
          [
           "Sell or Offer for Sale Counterfeit Goods"
          ],
          [
           "Oper Motorcycle W/O Valid DL"
          ],
          [
           "Agg Assault Law Enforc Officer"
          ],
          [
           "Money Launder 100K or More Dols"
          ],
          [
           "Attempt Burglary (Struct)"
          ],
          [
           "Agg Abuse Elderlly/Disabled Adult"
          ],
          [
           "Throw In Occupied Dwell"
          ],
          [
           "Grand Theft of the 2nd Degree"
          ],
          [
           "Lewd Act Presence Child 16-"
          ],
          [
           "DUI/Property Damage/Persnl Inj"
          ]
         ],
         "hovertemplate": "x=%{x}<br>y=%{y}<br>b=%{customdata[0]}<br>color=%{marker.color}<extra></extra>",
         "legendgroup": "",
         "marker": {
          "color": [
           4,
           0,
           8,
           3,
           14,
           11,
           13,
           7,
           12,
           8,
           5,
           14,
           7,
           14,
           13,
           14,
           10,
           11,
           12,
           1,
           8,
           1,
           12,
           15,
           0,
           3,
           10,
           1,
           0,
           13,
           14,
           12,
           6,
           1,
           5,
           14,
           8,
           15,
           3,
           14,
           10,
           15,
           2,
           10,
           11,
           8,
           8,
           6,
           13,
           4,
           6,
           15,
           4,
           4,
           10,
           1,
           7,
           10,
           2,
           14,
           13,
           8,
           7,
           8,
           0,
           8,
           13,
           12,
           0,
           10,
           1,
           3,
           10,
           14,
           3,
           6,
           11,
           5,
           10,
           10,
           10,
           13,
           14,
           8,
           11,
           8,
           1,
           2,
           6,
           10,
           14,
           0,
           4,
           7,
           13,
           10,
           11,
           8,
           1,
           2,
           11,
           6,
           2,
           1,
           15,
           10,
           0,
           11,
           4,
           1,
           8,
           3,
           6,
           9,
           11,
           10,
           1,
           8,
           14,
           13,
           8,
           1,
           8,
           2,
           13,
           13,
           11,
           5,
           8,
           8,
           5,
           10,
           4,
           11,
           8,
           7,
           10,
           6,
           1,
           10,
           2,
           6,
           14,
           10,
           8,
           11,
           13,
           15,
           11,
           1,
           8,
           9,
           6,
           9,
           8,
           5,
           0,
           8,
           2,
           0,
           4,
           3,
           8,
           5,
           12,
           1,
           3,
           10,
           8,
           2,
           4,
           12,
           5,
           4,
           10,
           3,
           6,
           12,
           1,
           3,
           8,
           3,
           1,
           6,
           10,
           8,
           10,
           13,
           1,
           3,
           1,
           15,
           4,
           4,
           3,
           10,
           2,
           5,
           8,
           10,
           5,
           10,
           2,
           10,
           1,
           3,
           0,
           8,
           3,
           4,
           13,
           5,
           5,
           13,
           10,
           14,
           8,
           1,
           6,
           9,
           8,
           1,
           8,
           5,
           5,
           10,
           3,
           11,
           1,
           8,
           5,
           10,
           8,
           2,
           13,
           5,
           10,
           8,
           13,
           1,
           8,
           4,
           3,
           11,
           11,
           1,
           10,
           3,
           10,
           5,
           4,
           0,
           10,
           1,
           10,
           9,
           15,
           5,
           15,
           8,
           5,
           11,
           0,
           13,
           3,
           12,
           1,
           10,
           8,
           8,
           8,
           5,
           12,
           15,
           10,
           11,
           10,
           11,
           8,
           0,
           5,
           3,
           13,
           6,
           1,
           5,
           11,
           10,
           10,
           3,
           14,
           10,
           3,
           11,
           8,
           10,
           3,
           2,
           2,
           11,
           8,
           15,
           12,
           10,
           14,
           8,
           4,
           15,
           10,
           4,
           0,
           10,
           1,
           5,
           15,
           4,
           2,
           11,
           1,
           1,
           4,
           9,
           4,
           5,
           7,
           3,
           1,
           10,
           10,
           4,
           5,
           5,
           11,
           10,
           8,
           9,
           1,
           1,
           5,
           1,
           8,
           1,
           1,
           8,
           4,
           3,
           7,
           7,
           3,
           11,
           14,
           5,
           5,
           8,
           6,
           9,
           13,
           6,
           4,
           0,
           15,
           1
          ],
          "coloraxis": "coloraxis",
          "size": 4,
          "symbol": "circle"
         },
         "mode": "markers",
         "name": "",
         "orientation": "v",
         "showlegend": false,
         "type": "scatter",
         "x": [
          16.616966247558594,
          14.947479248046875,
          13.264639854431152,
          16.363859176635742,
          14.352456092834473,
          10.179258346557617,
          17.21424674987793,
          9.329874038696289,
          9.852495193481445,
          13.233471870422363,
          16.033151626586914,
          15.105149269104004,
          9.266256332397461,
          14.359471321105957,
          17.245201110839844,
          14.609724998474121,
          12.585783958435059,
          10.331820487976074,
          8.938472747802734,
          14.162368774414062,
          13.116941452026367,
          11.229315757751465,
          8.834321022033691,
          13.23108196258545,
          15.592309951782227,
          15.042033195495605,
          12.606258392333984,
          14.900349617004395,
          15.526586532592773,
          17.36366844177246,
          14.395414352416992,
          9.072206497192383,
          15.26769733428955,
          14.065885543823242,
          16.139558792114258,
          12.161162376403809,
          13.233820915222168,
          12.93639850616455,
          16.503511428833008,
          14.501229286193848,
          16.826988220214844,
          13.237663269042969,
          10.227738380432129,
          15.137468338012695,
          10.064962387084961,
          13.221787452697754,
          14.204580307006836,
          14.467117309570312,
          17.279199600219727,
          14.883620262145996,
          12.982348442077637,
          13.364264488220215,
          15.397586822509766,
          15.583550453186035,
          15.970542907714844,
          14.120807647705078,
          9.248930931091309,
          14.827987670898438,
          10.215744018554688,
          14.689045906066895,
          17.269739151000977,
          13.002359390258789,
          9.271133422851562,
          13.33957290649414,
          14.887213706970215,
          13.533214569091797,
          16.438274383544922,
          8.91324234008789,
          15.622493743896484,
          16.76896095275879,
          13.603348731994629,
          15.827702522277832,
          14.776387214660645,
          15.246474266052246,
          16.655221939086914,
          14.378715515136719,
          10.603394508361816,
          15.751312255859375,
          16.15265464782715,
          15.104832649230957,
          16.832426071166992,
          16.86716079711914,
          14.38689136505127,
          13.620429039001465,
          9.915279388427734,
          15.391458511352539,
          14.77458381652832,
          10.202574729919434,
          14.669352531433105,
          15.100691795349121,
          14.25430679321289,
          15.551629066467285,
          16.90276336669922,
          15.217522621154785,
          17.418123245239258,
          14.707273483276367,
          10.236907958984375,
          15.051019668579102,
          14.860541343688965,
          10.5056734085083,
          10.120255470275879,
          15.070487976074219,
          10.089712142944336,
          16.169158935546875,
          12.531153678894043,
          16.464506149291992,
          15.256754875183105,
          10.006855964660645,
          15.568099021911621,
          11.339570999145508,
          14.50273323059082,
          16.59303855895996,
          15.082079887390137,
          8.887207984924316,
          10.185649871826172,
          13.242098808288574,
          10.714935302734375,
          13.918254852294922,
          14.580290794372559,
          17.272550582885742,
          12.954474449157715,
          11.408082962036133,
          17.050662994384766,
          9.773451805114746,
          17.00248908996582,
          17.027156829833984,
          10.184530258178711,
          16.067626953125,
          14.015474319458008,
          13.897989273071289,
          16.315717697143555,
          16.72041130065918,
          17.390390396118164,
          10.853165626525879,
          13.278651237487793,
          9.33590316772461,
          15.801630020141602,
          14.526715278625488,
          15.15058422088623,
          13.275279998779297,
          14.670366287231445,
          13.012028694152832,
          15.161550521850586,
          14.453022003173828,
          13.817307472229004,
          10.672098159790039,
          17.34247398376465,
          12.971675872802734,
          10.359968185424805,
          15.246881484985352,
          14.088253021240234,
          8.908478736877441,
          13.831050872802734,
          8.860147476196289,
          14.293051719665527,
          15.941495895385742,
          16.042583465576172,
          13.497751235961914,
          9.83369255065918,
          14.268961906433105,
          14.533777236938477,
          16.21832847595215,
          13.288930892944336,
          16.578277587890625,
          8.988264083862305,
          13.499714851379395,
          15.976149559020996,
          16.687496185302734,
          14.164755821228027,
          9.821051597595215,
          15.356074333190918,
          9.004998207092285,
          15.846190452575684,
          13.540063858032227,
          13.277609825134277,
          16.574983596801758,
          16.810697555541992,
          9.035435676574707,
          10.69124698638916,
          12.132440567016602,
          13.098804473876953,
          15.552693367004395,
          14.172445297241211,
          13.878697395324707,
          13.47371768951416,
          13.110273361206055,
          14.742851257324219,
          16.958627700805664,
          11.57437515258789,
          15.347445487976074,
          12.519148826599121,
          13.314696311950684,
          15.38710880279541,
          13.131647109985352,
          16.583988189697266,
          13.123875617980957,
          10.262931823730469,
          15.98194694519043,
          14.0252046585083,
          16.64995765686035,
          15.661829948425293,
          13.13730239868164,
          10.173070907592773,
          14.25766372680664,
          12.772177696228027,
          14.081001281738281,
          15.327567100524902,
          13.420563697814941,
          16.699190139770508,
          17.147239685058594,
          17.426328659057617,
          16.652135848999023,
          15.868284225463867,
          16.93402862548828,
          15.228705406188965,
          12.185111045837402,
          14.491003036499023,
          17.18977165222168,
          13.065439224243164,
          8.857666969299316,
          13.584152221679688,
          17.25551414489746,
          15.23843002319336,
          16.016033172607422,
          15.942867279052734,
          16.759977340698242,
          15.735947608947754,
          10.670351028442383,
          15.506410598754883,
          14.080163955688477,
          15.840298652648926,
          16.280874252319336,
          13.106315612792969,
          9.830158233642578,
          17.120361328125,
          15.769850730895996,
          12.976353645324707,
          13.965692520141602,
          17.234189987182617,
          14.610761642456055,
          14.624677658081055,
          15.289690017700195,
          16.704931259155273,
          10.54271125793457,
          10.802660942077637,
          17.179943084716797,
          14.303524017333984,
          15.480661392211914,
          15.334942817687988,
          16.673521041870117,
          13.695382118225098,
          15.958345413208008,
          13.50338077545166,
          10.922125816345215,
          13.141043663024902,
          8.804659843444824,
          12.90449333190918,
          16.01905059814453,
          13.134231567382812,
          15.343477249145508,
          16.281126022338867,
          10.264606475830078,
          15.543783187866211,
          17.10283088684082,
          15.050252914428711,
          8.896142959594727,
          11.243654251098633,
          13.323962211608887,
          13.898935317993164,
          13.19338607788086,
          13.683444023132324,
          16.028623580932617,
          9.024806022644043,
          13.01220703125,
          16.573293685913086,
          10.366222381591797,
          13.473162651062012,
          10.736493110656738,
          15.388038635253906,
          15.993083953857422,
          13.42089557647705,
          15.554017066955566,
          17.112733840942383,
          14.508891105651855,
          14.23086166381836,
          16.69329833984375,
          9.9173002243042,
          13.071163177490234,
          16.72484588623047,
          14.807787895202637,
          14.166426658630371,
          14.530592918395996,
          15.62531852722168,
          10.569734573364258,
          15.282995223999023,
          13.084192276000977,
          16.212841033935547,
          10.695327758789062,
          9.955094337463379,
          10.583558082580566,
          15.273651123046875,
          13.425379753112793,
          9.125042915344238,
          13.379520416259766,
          14.819348335266113,
          13.294918060302734,
          15.374106407165527,
          13.766523361206055,
          13.242147445678711,
          15.487855911254883,
          15.921989440917969,
          16.281652450561523,
          17.064376831054688,
          15.31184196472168,
          12.937926292419434,
          15.537237167358398,
          10.205738067626953,
          9.897841453552246,
          14.093289375305176,
          15.608359336853027,
          14.431005477905273,
          8.888694763183594,
          14.324179649353027,
          15.029335975646973,
          9.295985221862793,
          15.814764022827148,
          13.703400611877441,
          13.47852611541748,
          14.89445972442627,
          13.85147476196289,
          15.519988059997559,
          16.656404495239258,
          10.213821411132812,
          15.113272666931152,
          13.567400932312012,
          8.956584930419922,
          11.074048042297363,
          14.086133003234863,
          16.272212982177734,
          11.092336654663086,
          13.517745018005371,
          15.647189140319824,
          11.069743156433105,
          13.074446678161621,
          16.71122932434082,
          16.886524200439453,
          9.52388858795166,
          9.244058609008789,
          15.469724655151367,
          10.951678276062012,
          14.644182205200195,
          15.618339538574219,
          16.237524032592773,
          13.72973918914795,
          15.144233703613281,
          15.410594940185547,
          16.531198501586914,
          14.064573287963867,
          16.8814697265625,
          14.678496360778809,
          12.664979934692383,
          14.084728240966797
         ],
         "xaxis": "x",
         "y": [
          8.081073760986328,
          6.030754089355469,
          4.006679534912109,
          7.067660331726074,
          7.731832981109619,
          8.63730525970459,
          7.344834804534912,
          9.079383850097656,
          7.724051475524902,
          4.045468807220459,
          4.538733005523682,
          8.158757209777832,
          9.10283374786377,
          8.23636245727539,
          7.758054733276367,
          8.673140525817871,
          7.719477653503418,
          9.241098403930664,
          7.488933563232422,
          5.627694606781006,
          4.353868007659912,
          8.383316993713379,
          7.706244945526123,
          8.221199989318848,
          6.25248384475708,
          6.171806335449219,
          7.658053874969482,
          4.1524882316589355,
          5.90245246887207,
          7.580409526824951,
          8.617207527160645,
          7.598776817321777,
          8.782964706420898,
          5.757899284362793,
          5.072835922241211,
          7.726099014282227,
          3.8369836807250977,
          7.183661460876465,
          6.9635820388793945,
          8.668567657470703,
          5.376980781555176,
          8.51585865020752,
          8.07701301574707,
          7.9775590896606445,
          9.031538963317871,
          3.9219675064086914,
          4.2045159339904785,
          9.000455856323242,
          7.672732830047607,
          6.222735404968262,
          7.710284233093262,
          8.295180320739746,
          8.73424243927002,
          8.685152053833008,
          5.471749305725098,
          5.6280670166015625,
          9.113007545471191,
          6.110241889953613,
          8.524224281311035,
          8.797060012817383,
          7.762826919555664,
          3.714716911315918,
          9.025083541870117,
          3.924065351486206,
          6.078136920928955,
          4.403646469116211,
          6.645230770111084,
          7.564197063446045,
          5.798364162445068,
          5.316464900970459,
          5.131307125091553,
          7.514163494110107,
          7.672449111938477,
          8.561894416809082,
          7.351158618927002,
          8.702106475830078,
          8.926360130310059,
          4.890359401702881,
          5.504934787750244,
          6.424745559692383,
          4.722591400146484,
          7.52372932434082,
          8.492777824401855,
          4.250521659851074,
          9.303070068359375,
          3.250319480895996,
          4.112013339996338,
          8.085224151611328,
          8.587788581848145,
          7.850325107574463,
          7.473283767700195,
          6.1516947746276855,
          8.146194458007812,
          7.4766669273376465,
          7.110451698303223,
          6.546601295471191,
          9.348944664001465,
          3.490142345428467,
          4.174272537231445,
          8.476491928100586,
          9.271377563476562,
          8.733661651611328,
          8.134051322937012,
          4.660236358642578,
          6.828982353210449,
          7.657905101776123,
          5.811787128448486,
          9.251304626464844,
          8.273296356201172,
          8.16108226776123,
          4.823668003082275,
          7.164763927459717,
          8.588438034057617,
          8.379599571228027,
          9.277239799499512,
          6.20407772064209,
          8.797688484191895,
          3.984409809112549,
          8.460065841674805,
          6.90669059753418,
          4.103342533111572,
          8.360824584960938,
          7.791904926300049,
          8.422904968261719,
          7.535154819488525,
          7.400412559509277,
          9.375310897827148,
          4.424921035766602,
          3.9329545497894287,
          4.647998809814453,
          4.637700080871582,
          5.300243377685547,
          7.087153911590576,
          8.755170822143555,
          3.9594714641571045,
          9.067791938781738,
          6.363992214202881,
          8.965226173400879,
          7.007322788238525,
          8.14439868927002,
          5.974539756774902,
          5.9616546630859375,
          8.493817329406738,
          8.189690589904785,
          4.334378719329834,
          9.449501037597656,
          7.206542491912842,
          6.408754825592041,
          9.43171501159668,
          6.832301616668701,
          4.1929216384887695,
          8.316072463989258,
          8.318037033081055,
          8.322697639465332,
          3.973073959350586,
          4.676137924194336,
          5.516656875610352,
          4.0568766593933105,
          8.242277145385742,
          7.205530166625977,
          8.086432456970215,
          6.955266952514648,
          3.9829349517822266,
          4.471597194671631,
          7.573758602142334,
          4.540792465209961,
          7.413480281829834,
          5.305838108062744,
          3.7178359031677246,
          8.174562454223633,
          7.881954669952393,
          7.562047958374023,
          5.069591522216797,
          8.52269458770752,
          6.288064479827881,
          7.290580749511719,
          6.460840702056885,
          7.573456764221191,
          7.630209922790527,
          7.714302062988281,
          3.789217472076416,
          6.408743381500244,
          5.667778491973877,
          7.824217796325684,
          6.9496750831604,
          4.146575450897217,
          6.4367804527282715,
          7.358810901641846,
          8.241225242614746,
          7.473318576812744,
          6.738881587982178,
          8.300257682800293,
          8.255949020385742,
          8.010189056396484,
          7.138558864593506,
          6.316998481750488,
          8.011809349060059,
          4.848993301391602,
          4.008658409118652,
          5.226609230041504,
          4.90606164932251,
          6.482293605804443,
          8.142518043518066,
          8.019372940063477,
          6.775776386260986,
          4.504594326019287,
          6.445143699645996,
          3.4671528339385986,
          7.612175941467285,
          6.115143775939941,
          7.550250053405762,
          4.494036674499512,
          5.222189426422119,
          6.399569034576416,
          7.450404644012451,
          7.720966339111328,
          4.015471458435059,
          6.332603931427002,
          5.881082534790039,
          8.084299087524414,
          4.34693717956543,
          6.403651237487793,
          3.2991881370544434,
          5.293210983276367,
          4.78134298324585,
          5.668501377105713,
          7.434389114379883,
          8.925516128540039,
          6.944313049316406,
          3.8842813968658447,
          5.138598918914795,
          5.581948757171631,
          3.7811899185180664,
          8.211308479309082,
          6.709045886993408,
          5.142177581787109,
          6.590237140655518,
          4.14060115814209,
          7.416241645812988,
          6.528993129730225,
          4.989231586456299,
          8.408190727233887,
          7.501524448394775,
          8.99933910369873,
          9.414043426513672,
          6.207620143890381,
          6.8038763999938965,
          7.262810707092285,
          7.721338748931885,
          4.577198028564453,
          8.556653022766113,
          5.422783851623535,
          6.48501443862915,
          8.226311683654785,
          6.357059001922607,
          8.071432113647461,
          7.145448684692383,
          4.61083459854126,
          7.872676849365234,
          3.3164193630218506,
          4.9397478103637695,
          8.98466968536377,
          6.1161417961120605,
          7.3404459953308105,
          6.9638566970825195,
          7.5152268409729,
          8.29859733581543,
          8.087506294250488,
          3.646326780319214,
          3.5147602558135986,
          3.580549478530884,
          4.502359867095947,
          7.584510326385498,
          7.061270713806152,
          6.104098796844482,
          9.508966445922852,
          7.943532466888428,
          8.883688926696777,
          3.2730815410614014,
          5.918148517608643,
          6.424476146697998,
          7.163136005401611,
          7.059921741485596,
          8.83769416809082,
          7.6508893966674805,
          4.540335178375244,
          8.626853942871094,
          6.587921619415283,
          5.360727310180664,
          6.741335868835449,
          7.5358099937438965,
          7.729268550872803,
          7.648848056793213,
          9.529494285583496,
          3.309155225753784,
          6.434127330780029,
          7.373021125793457,
          8.653141021728516,
          8.359464645385742,
          9.304566383361816,
          3.3426547050476074,
          8.402432441711426,
          7.655827522277832,
          6.491552829742432,
          8.769877433776855,
          4.911602973937988,
          8.504435539245605,
          8.293018341064453,
          6.35640287399292,
          8.268589973449707,
          5.633453845977783,
          5.997447490692139,
          6.474365711212158,
          4.403147220611572,
          7.014926433563232,
          3.3120687007904053,
          8.110027313232422,
          9.140731811523438,
          5.433493614196777,
          6.671535491943359,
          8.381261825561523,
          8.308550834655762,
          7.591276168823242,
          4.301912784576416,
          9.141196250915527,
          7.4661664962768555,
          8.415328979492188,
          8.579388618469238,
          5.154999256134033,
          8.598163604736328,
          4.650677680969238,
          4.580802917480469,
          8.917442321777344,
          7.941897392272949,
          4.562243461608887,
          8.1664457321167,
          8.332427978515625,
          5.899692535400391,
          4.612266540527344,
          8.40626335144043,
          3.521315336227417,
          7.075442314147949,
          8.088485717773438,
          3.687835454940796,
          4.610052108764648,
          7.627926349639893,
          8.931347846984863,
          9.144998550415039,
          7.399023056030273,
          9.272421836853027,
          8.552274703979492,
          4.782292366027832,
          4.816336631774902,
          4.1366071701049805,
          8.65649700164795,
          5.183726787567139,
          6.601247787475586,
          7.598044395446777,
          7.718042850494385,
          6.255674839019775,
          6.701158046722412,
          5.725508213043213
         ],
         "yaxis": "y"
        }
       ],
       "layout": {
        "coloraxis": {
         "colorbar": {
          "title": {
           "text": "color"
          }
         },
         "colorscale": [
          [
           0,
           "#0d0887"
          ],
          [
           0.1111111111111111,
           "#46039f"
          ],
          [
           0.2222222222222222,
           "#7201a8"
          ],
          [
           0.3333333333333333,
           "#9c179e"
          ],
          [
           0.4444444444444444,
           "#bd3786"
          ],
          [
           0.5555555555555556,
           "#d8576b"
          ],
          [
           0.6666666666666666,
           "#ed7953"
          ],
          [
           0.7777777777777778,
           "#fb9f3a"
          ],
          [
           0.8888888888888888,
           "#fdca26"
          ],
          [
           1,
           "#f0f921"
          ]
         ]
        },
        "hoverlabel": {
         "bgcolor": "black",
         "font": {
          "size": 12
         }
        },
        "legend": {
         "tracegroupgap": 0
        },
        "margin": {
         "b": 0,
         "l": 0,
         "r": 0,
         "t": 0
        },
        "template": {
         "data": {
          "bar": [
           {
            "error_x": {
             "color": "#2a3f5f"
            },
            "error_y": {
             "color": "#2a3f5f"
            },
            "marker": {
             "line": {
              "color": "#E5ECF6",
              "width": 0.5
             }
            },
            "type": "bar"
           }
          ],
          "barpolar": [
           {
            "marker": {
             "line": {
              "color": "#E5ECF6",
              "width": 0.5
             }
            },
            "type": "barpolar"
           }
          ],
          "carpet": [
           {
            "aaxis": {
             "endlinecolor": "#2a3f5f",
             "gridcolor": "white",
             "linecolor": "white",
             "minorgridcolor": "white",
             "startlinecolor": "#2a3f5f"
            },
            "baxis": {
             "endlinecolor": "#2a3f5f",
             "gridcolor": "white",
             "linecolor": "white",
             "minorgridcolor": "white",
             "startlinecolor": "#2a3f5f"
            },
            "type": "carpet"
           }
          ],
          "choropleth": [
           {
            "colorbar": {
             "outlinewidth": 0,
             "ticks": ""
            },
            "type": "choropleth"
           }
          ],
          "contour": [
           {
            "colorbar": {
             "outlinewidth": 0,
             "ticks": ""
            },
            "colorscale": [
             [
              0,
              "#0d0887"
             ],
             [
              0.1111111111111111,
              "#46039f"
             ],
             [
              0.2222222222222222,
              "#7201a8"
             ],
             [
              0.3333333333333333,
              "#9c179e"
             ],
             [
              0.4444444444444444,
              "#bd3786"
             ],
             [
              0.5555555555555556,
              "#d8576b"
             ],
             [
              0.6666666666666666,
              "#ed7953"
             ],
             [
              0.7777777777777778,
              "#fb9f3a"
             ],
             [
              0.8888888888888888,
              "#fdca26"
             ],
             [
              1,
              "#f0f921"
             ]
            ],
            "type": "contour"
           }
          ],
          "contourcarpet": [
           {
            "colorbar": {
             "outlinewidth": 0,
             "ticks": ""
            },
            "type": "contourcarpet"
           }
          ],
          "heatmap": [
           {
            "colorbar": {
             "outlinewidth": 0,
             "ticks": ""
            },
            "colorscale": [
             [
              0,
              "#0d0887"
             ],
             [
              0.1111111111111111,
              "#46039f"
             ],
             [
              0.2222222222222222,
              "#7201a8"
             ],
             [
              0.3333333333333333,
              "#9c179e"
             ],
             [
              0.4444444444444444,
              "#bd3786"
             ],
             [
              0.5555555555555556,
              "#d8576b"
             ],
             [
              0.6666666666666666,
              "#ed7953"
             ],
             [
              0.7777777777777778,
              "#fb9f3a"
             ],
             [
              0.8888888888888888,
              "#fdca26"
             ],
             [
              1,
              "#f0f921"
             ]
            ],
            "type": "heatmap"
           }
          ],
          "heatmapgl": [
           {
            "colorbar": {
             "outlinewidth": 0,
             "ticks": ""
            },
            "colorscale": [
             [
              0,
              "#0d0887"
             ],
             [
              0.1111111111111111,
              "#46039f"
             ],
             [
              0.2222222222222222,
              "#7201a8"
             ],
             [
              0.3333333333333333,
              "#9c179e"
             ],
             [
              0.4444444444444444,
              "#bd3786"
             ],
             [
              0.5555555555555556,
              "#d8576b"
             ],
             [
              0.6666666666666666,
              "#ed7953"
             ],
             [
              0.7777777777777778,
              "#fb9f3a"
             ],
             [
              0.8888888888888888,
              "#fdca26"
             ],
             [
              1,
              "#f0f921"
             ]
            ],
            "type": "heatmapgl"
           }
          ],
          "histogram": [
           {
            "marker": {
             "colorbar": {
              "outlinewidth": 0,
              "ticks": ""
             }
            },
            "type": "histogram"
           }
          ],
          "histogram2d": [
           {
            "colorbar": {
             "outlinewidth": 0,
             "ticks": ""
            },
            "colorscale": [
             [
              0,
              "#0d0887"
             ],
             [
              0.1111111111111111,
              "#46039f"
             ],
             [
              0.2222222222222222,
              "#7201a8"
             ],
             [
              0.3333333333333333,
              "#9c179e"
             ],
             [
              0.4444444444444444,
              "#bd3786"
             ],
             [
              0.5555555555555556,
              "#d8576b"
             ],
             [
              0.6666666666666666,
              "#ed7953"
             ],
             [
              0.7777777777777778,
              "#fb9f3a"
             ],
             [
              0.8888888888888888,
              "#fdca26"
             ],
             [
              1,
              "#f0f921"
             ]
            ],
            "type": "histogram2d"
           }
          ],
          "histogram2dcontour": [
           {
            "colorbar": {
             "outlinewidth": 0,
             "ticks": ""
            },
            "colorscale": [
             [
              0,
              "#0d0887"
             ],
             [
              0.1111111111111111,
              "#46039f"
             ],
             [
              0.2222222222222222,
              "#7201a8"
             ],
             [
              0.3333333333333333,
              "#9c179e"
             ],
             [
              0.4444444444444444,
              "#bd3786"
             ],
             [
              0.5555555555555556,
              "#d8576b"
             ],
             [
              0.6666666666666666,
              "#ed7953"
             ],
             [
              0.7777777777777778,
              "#fb9f3a"
             ],
             [
              0.8888888888888888,
              "#fdca26"
             ],
             [
              1,
              "#f0f921"
             ]
            ],
            "type": "histogram2dcontour"
           }
          ],
          "mesh3d": [
           {
            "colorbar": {
             "outlinewidth": 0,
             "ticks": ""
            },
            "type": "mesh3d"
           }
          ],
          "parcoords": [
           {
            "line": {
             "colorbar": {
              "outlinewidth": 0,
              "ticks": ""
             }
            },
            "type": "parcoords"
           }
          ],
          "pie": [
           {
            "automargin": true,
            "type": "pie"
           }
          ],
          "scatter": [
           {
            "marker": {
             "colorbar": {
              "outlinewidth": 0,
              "ticks": ""
             }
            },
            "type": "scatter"
           }
          ],
          "scatter3d": [
           {
            "line": {
             "colorbar": {
              "outlinewidth": 0,
              "ticks": ""
             }
            },
            "marker": {
             "colorbar": {
              "outlinewidth": 0,
              "ticks": ""
             }
            },
            "type": "scatter3d"
           }
          ],
          "scattercarpet": [
           {
            "marker": {
             "colorbar": {
              "outlinewidth": 0,
              "ticks": ""
             }
            },
            "type": "scattercarpet"
           }
          ],
          "scattergeo": [
           {
            "marker": {
             "colorbar": {
              "outlinewidth": 0,
              "ticks": ""
             }
            },
            "type": "scattergeo"
           }
          ],
          "scattergl": [
           {
            "marker": {
             "colorbar": {
              "outlinewidth": 0,
              "ticks": ""
             }
            },
            "type": "scattergl"
           }
          ],
          "scattermapbox": [
           {
            "marker": {
             "colorbar": {
              "outlinewidth": 0,
              "ticks": ""
             }
            },
            "type": "scattermapbox"
           }
          ],
          "scatterpolar": [
           {
            "marker": {
             "colorbar": {
              "outlinewidth": 0,
              "ticks": ""
             }
            },
            "type": "scatterpolar"
           }
          ],
          "scatterpolargl": [
           {
            "marker": {
             "colorbar": {
              "outlinewidth": 0,
              "ticks": ""
             }
            },
            "type": "scatterpolargl"
           }
          ],
          "scatterternary": [
           {
            "marker": {
             "colorbar": {
              "outlinewidth": 0,
              "ticks": ""
             }
            },
            "type": "scatterternary"
           }
          ],
          "surface": [
           {
            "colorbar": {
             "outlinewidth": 0,
             "ticks": ""
            },
            "colorscale": [
             [
              0,
              "#0d0887"
             ],
             [
              0.1111111111111111,
              "#46039f"
             ],
             [
              0.2222222222222222,
              "#7201a8"
             ],
             [
              0.3333333333333333,
              "#9c179e"
             ],
             [
              0.4444444444444444,
              "#bd3786"
             ],
             [
              0.5555555555555556,
              "#d8576b"
             ],
             [
              0.6666666666666666,
              "#ed7953"
             ],
             [
              0.7777777777777778,
              "#fb9f3a"
             ],
             [
              0.8888888888888888,
              "#fdca26"
             ],
             [
              1,
              "#f0f921"
             ]
            ],
            "type": "surface"
           }
          ],
          "table": [
           {
            "cells": {
             "fill": {
              "color": "#EBF0F8"
             },
             "line": {
              "color": "white"
             }
            },
            "header": {
             "fill": {
              "color": "#C8D4E3"
             },
             "line": {
              "color": "white"
             }
            },
            "type": "table"
           }
          ]
         },
         "layout": {
          "annotationdefaults": {
           "arrowcolor": "#2a3f5f",
           "arrowhead": 0,
           "arrowwidth": 1
          },
          "autotypenumbers": "strict",
          "coloraxis": {
           "colorbar": {
            "outlinewidth": 0,
            "ticks": ""
           }
          },
          "colorscale": {
           "diverging": [
            [
             0,
             "#8e0152"
            ],
            [
             0.1,
             "#c51b7d"
            ],
            [
             0.2,
             "#de77ae"
            ],
            [
             0.3,
             "#f1b6da"
            ],
            [
             0.4,
             "#fde0ef"
            ],
            [
             0.5,
             "#f7f7f7"
            ],
            [
             0.6,
             "#e6f5d0"
            ],
            [
             0.7,
             "#b8e186"
            ],
            [
             0.8,
             "#7fbc41"
            ],
            [
             0.9,
             "#4d9221"
            ],
            [
             1,
             "#276419"
            ]
           ],
           "sequential": [
            [
             0,
             "#0d0887"
            ],
            [
             0.1111111111111111,
             "#46039f"
            ],
            [
             0.2222222222222222,
             "#7201a8"
            ],
            [
             0.3333333333333333,
             "#9c179e"
            ],
            [
             0.4444444444444444,
             "#bd3786"
            ],
            [
             0.5555555555555556,
             "#d8576b"
            ],
            [
             0.6666666666666666,
             "#ed7953"
            ],
            [
             0.7777777777777778,
             "#fb9f3a"
            ],
            [
             0.8888888888888888,
             "#fdca26"
            ],
            [
             1,
             "#f0f921"
            ]
           ],
           "sequentialminus": [
            [
             0,
             "#0d0887"
            ],
            [
             0.1111111111111111,
             "#46039f"
            ],
            [
             0.2222222222222222,
             "#7201a8"
            ],
            [
             0.3333333333333333,
             "#9c179e"
            ],
            [
             0.4444444444444444,
             "#bd3786"
            ],
            [
             0.5555555555555556,
             "#d8576b"
            ],
            [
             0.6666666666666666,
             "#ed7953"
            ],
            [
             0.7777777777777778,
             "#fb9f3a"
            ],
            [
             0.8888888888888888,
             "#fdca26"
            ],
            [
             1,
             "#f0f921"
            ]
           ]
          },
          "colorway": [
           "#636efa",
           "#EF553B",
           "#00cc96",
           "#ab63fa",
           "#FFA15A",
           "#19d3f3",
           "#FF6692",
           "#B6E880",
           "#FF97FF",
           "#FECB52"
          ],
          "font": {
           "color": "#2a3f5f"
          },
          "geo": {
           "bgcolor": "white",
           "lakecolor": "white",
           "landcolor": "#E5ECF6",
           "showlakes": true,
           "showland": true,
           "subunitcolor": "white"
          },
          "hoverlabel": {
           "align": "left"
          },
          "hovermode": "closest",
          "mapbox": {
           "style": "light"
          },
          "paper_bgcolor": "white",
          "plot_bgcolor": "#E5ECF6",
          "polar": {
           "angularaxis": {
            "gridcolor": "white",
            "linecolor": "white",
            "ticks": ""
           },
           "bgcolor": "#E5ECF6",
           "radialaxis": {
            "gridcolor": "white",
            "linecolor": "white",
            "ticks": ""
           }
          },
          "scene": {
           "xaxis": {
            "backgroundcolor": "#E5ECF6",
            "gridcolor": "white",
            "gridwidth": 2,
            "linecolor": "white",
            "showbackground": true,
            "ticks": "",
            "zerolinecolor": "white"
           },
           "yaxis": {
            "backgroundcolor": "#E5ECF6",
            "gridcolor": "white",
            "gridwidth": 2,
            "linecolor": "white",
            "showbackground": true,
            "ticks": "",
            "zerolinecolor": "white"
           },
           "zaxis": {
            "backgroundcolor": "#E5ECF6",
            "gridcolor": "white",
            "gridwidth": 2,
            "linecolor": "white",
            "showbackground": true,
            "ticks": "",
            "zerolinecolor": "white"
           }
          },
          "shapedefaults": {
           "line": {
            "color": "#2a3f5f"
           }
          },
          "ternary": {
           "aaxis": {
            "gridcolor": "white",
            "linecolor": "white",
            "ticks": ""
           },
           "baxis": {
            "gridcolor": "white",
            "linecolor": "white",
            "ticks": ""
           },
           "bgcolor": "#E5ECF6",
           "caxis": {
            "gridcolor": "white",
            "linecolor": "white",
            "ticks": ""
           }
          },
          "title": {
           "x": 0.05
          },
          "xaxis": {
           "automargin": true,
           "gridcolor": "white",
           "linecolor": "white",
           "ticks": "",
           "title": {
            "standoff": 15
           },
           "zerolinecolor": "white",
           "zerolinewidth": 2
          },
          "yaxis": {
           "automargin": true,
           "gridcolor": "white",
           "linecolor": "white",
           "ticks": "",
           "title": {
            "standoff": 15
           },
           "zerolinecolor": "white",
           "zerolinewidth": 2
          }
         }
        },
        "xaxis": {
         "anchor": "y",
         "domain": [
          0,
          1
         ],
         "title": {
          "text": "x"
         }
        },
        "yaxis": {
         "anchor": "x",
         "domain": [
          0,
          1
         ],
         "title": {
          "text": "y"
         }
        }
       }
      },
      "text/html": [
       "<div>                            <div id=\"e78d5e04-4d59-4b70-a46c-1ee9376ad70f\" class=\"plotly-graph-div\" style=\"height:525px; width:100%;\"></div>            <script type=\"text/javascript\">                require([\"plotly\"], function(Plotly) {                    window.PLOTLYENV=window.PLOTLYENV || {};                                    if (document.getElementById(\"e78d5e04-4d59-4b70-a46c-1ee9376ad70f\")) {                    Plotly.newPlot(                        \"e78d5e04-4d59-4b70-a46c-1ee9376ad70f\",                        [{\"customdata\": [[\"arrest case no charge\"], [\"Grand Theft in the 3rd Degree\"], [\"Felony Driving While Lic Suspd\"], [\"Robbery W/Firearm\"], [\"Battery\"], [\"Possession of Hydrocodone\"], [\"Burglary With Assault/battery\"], [\"Possession of Cocaine\"], [\"Possess Cannabis/20 Grams Or Less\"], [\"Susp Drivers Lic 1st Offense\"], [\"Uttering Forged Credit Card\"], [\"Aggrav Battery w/Deadly Weapon\"], [\"Purchase Of Cocaine\"], [\"Agg Battery Grt/Bod/Harm\"], [\"Burglary Unoccupied Dwelling\"], [\"Aggravated Assault w/Firearm\"], [\"Disorderly Intoxication\"], [\"Possession Of Amphetamine\"], [\"Manufacture Cannabis\"], [\"DUI- Enhanced\"], [\"Opert With Susp DL 2nd Offens\"], [\"Possession Of Alprazolam\"], [\"Deliver Cannabis\"], [\"Child Abuse\"], [\"Grand Theft (Motor Vehicle)\"], [\"Retail Theft $300 1st Offense\"], [\"Driving Under The Influence\"], [\"Leave Acc/Attend Veh/More $50\"], [\"Felony Petit Theft\"], [\"Burglary Dwelling Occupied\"], [\"Aggravated Assault W/Dead Weap\"], [\"Possession of Cannabis\"], [\"Battery on Law Enforc Officer\"], [\"DUI Property Damage/Injury\"], [\"Obtain Control Substance By Fraud\"], [\"Alcoholic Beverage Violation-FL\"], [\"Driving While License Revoked\"], [\"Possession Child Pornography\"], [\"Robbery / Weapon\"], [\"Aggravated Assault W/dead Weap\"], [\"Tampering With Physical Evidence\"], [\"Neglect Child / No Bodily Harm\"], [\"Poss3,4 Methylenedioxymethcath\"], [\"Felony Battery w/Prior Convict\"], [\"Possession of Oxycodone\"], [\"Posses/Disply Susp/Revk/Frd DL\"], [\"Fail Register Vehicle\"], [\"Assault\"], [\"Burglary Structure Unoccup\"], [\"Solicitation On Felony 3 Deg\"], [\"Disorderly Conduct\"], [\"Cruelty Toward Child\"], [\"Resist Officer w/Violence\"], [\"Resist/Obstruct W/O Violence\"], [\"Corrupt Public Servant\"], [\"DUI - Enhanced\"], [\"Poss Cocaine/Intent To Del/Sel\"], [\"Criminal Attempt 3rd Deg Felon\"], [\"Poss Tetrahydrocannabinols\"], [\"Aggravated Battery (Firearm)\"], [\"Burglary Conveyance Unoccup\"], [\"Fel Drive License Perm Revoke\"], [\"Deliver Cocaine\"], [\"Driving License Suspended\"], [\"Grand Theft In The 3Rd Degree\"], [\"Unlaw LicTag/Sticker Attach\"], [\"Possession Burglary Tools\"], [\"Pos Cannabis W/Intent Sel/Del\"], [\"Petit Theft\"], [\"Tamper With Witness\"], [\"DUI Level 0.15 Or Minor In Veh\"], [\"Possess Weapon On School Prop\"], [\"Felony Battery\"], [\"Viol Prot Injunc Repeat Viol\"], [\"Robbery / No Weapon\"], [\"Aggravated Assault\"], [\"Poss Pyrrolidinovalerophenone\"], [\"Bribery Athletic Contests\"], [\"Crim Use of Personal ID Info\"], [\"Crimin Mischief Damage $1000+\"], [\"False Imprisonment\"], [\"Attempt Armed Burglary Dwell\"], [\"Aggravated Battery / Pregnant\"], [\"Operating W/O Valid License\"], [\"Delivery Of Drug Paraphernalia\"], [\"Fleeing Or Attmp Eluding A Leo\"], [\"Leave Accd/Attend Veh/Less $50\"], [\"Deliver 3,4 Methylenediox\"], [\"Stalking (Aggravated)\"], [\"Felony Battery (Dom Strang)\"], [\"Battery on a Person Over 65\"], [\"Grand Theft of a Fire Extinquisher\"], [\"Prowling/Loitering\"], [\"Poss of Firearm by Convic Felo\"], [\"Burglary Conveyance Armed\"], [\"Criminal Mischief>$200<$1000\"], [\"Possession Of Heroin\"], [\"Leaving the Scene of Accident\"], [\"Lve/Scen/Acc/Veh/Prop/Damage\"], [\"Possession of Hydromorphone\"], [\"Possession Of Methamphetamine\"], [\"Viol Injunct Domestic Violence\"], [\"Poss 3,4 MDMA (Ecstasy)\"], [\"Uttering a Forged Instrument\"], [\"Video Voyeur-<24Y on Child >16\"], [\"Introduce Contraband Into Jail\"], [\"Petit Theft $100- $300\"], [\"Possession Of Fentanyl\"], [\"Viol Pretrial Release Dom Viol\"], [\"Sel Etc/Pos/w/Int Contrft Schd\"], [\"Unlicensed Telemarketing\"], [\"Strong Armed  Robbery\"], [\"Aggrav Stalking After Injunctn\"], [\"Deliver Cocaine 1000FT Store\"], [\"Possession of Morphine\"], [\"Offer Agree Secure/Lewd Act\"], [\"Possession Of Phentermine\"], [\"Poss Unlaw Issue Id\"], [\"Aggravated Battery\"], [\"Use of Anti-Shoplifting Device\"], [\"Expired DL More Than 6 Months\"], [\"Possession of LSD\"], [\"Att Burgl Unoccupied Dwel\"], [\"Consp Traff Oxycodone 28g><30k\"], [\"Burglary Dwelling Assault/Batt\"], [\"Burglary Dwelling Armed\"], [\"Possess Tobacco Product Under 18\"], [\"Uttering Forged Bills\"], [\"Poss of Vessel w/Altered ID NO\"], [\"Unlawful Conveyance of Fuel\"], [\"False Ownership Info/Pawn Item\"], [\"Tamper With Witness/Victim/CI\"], [\"Obstruct Fire Equipment\"], [\"Possession Of Lorazepam\"], [\"Drivg While Lic Suspd/Revk/Can\"], [\"Solicit Deliver Cocaine\"], [\"Criminal Mischief\"], [\"Agg Assault W/int Com Fel Dome\"], [\"Arson in the First Degree\"], [\"Exposes Culpable Negligence\"], [\"Felony DUI (level 3)\"], [\"Sex Offender Fail Comply W/Law\"], [\"Compulsory Sch Attnd Violation\"], [\"Felony Batt(Great Bodily Harm)\"], [\"Manage Busn W/O City Occup Lic\"], [\"Poss Of Controlled Substance\"], [\"Burglary Conveyance Occupied\"], [\"Lewd or Lascivious Molestation\"], [\"Possess Drug Paraphernalia\"], [\"Principal In The First Degree\"], [\"Reckless Driving\"], [\"Poss of Cocaine W/I/D/S 1000FT Park\"], [\"Aggrav Child Abuse-Agg Battery\"], [\"Poss/Sell/Del Cocaine 1000FT Sch\"], [\"Leaving Acc/Unattended Veh\"], [\"Fraudulent Use of Credit Card\"], [\"Dealing in Stolen Property\"], [\"Poss Unlaw Issue Driver Licenc\"], [\"Consp Traff Oxycodone  4g><14g\"], [\"Grand Theft on 65 Yr or Older\"], [\"Fighting/Baiting Animals\"], [\"Carjacking with a Firearm\"], [\"Fail Obey Driv Lic Restrictions\"], [\"Unlaw Use False Name/Identity\"], [\"Purchase/P/W/Int Cannabis\"], [\"Poss Similitude of Drivers Lic\"], [\"Carrying Concealed Firearm\"], [\"Tamper With Victim\"], [\"Fail To Secure Load\"], [\"Traffick Hydrocodone   4g><14g\"], [\"Violation License Restrictions\"], [\"Purchase Cannabis\"], [\"Cash Item w/Intent to Defraud\"], [\"Harm Public Servant Or Family\"], [\"Offer Agree Secure For Lewd Act\"], [\"Robbery Sudd Snatch No Weapon\"], [\"Trespassing/Construction Site\"], [\"Armed Trafficking in Cannabis\"], [\"DUI Blood Alcohol Above 0.20\"], [\"Carry Open/Uncov Bev In Pub\"], [\"DWI w/Inj Susp Lic / Habit Off\"], [\"Grand Theft Firearm\"], [\"Felony DUI - Enhanced\"], [\"Neglect/Abuse Elderly Person\"], [\"Felony/Driving Under Influence\"], [\"Opert With Susp DL 2ND Offense\"], [\"Criminal Mischief Damage <$200\"], [\"Burglary Assault/Battery Armed\"], [\"Poss F/Arm Delinq\"], [\"Felon in Pos of Firearm or Amm\"], [\"Lewd/Lasc Exhib Presence <16yr\"], [\"Aggrav Child Abuse-Causes Harm\"], [\"Violation Of Boater Safety Id\"], [\"Disrupting School Function\"], [\"Attempted Robbery Firearm\"], [\"Prostitution/Lewd Act Assignation\"], [\"Del of JWH-250 2-Methox 1-Pentyl\"], [\"Sale/Del Counterfeit Cont Subs\"], [\"Poss Contr Subst W/o Prescript\"], [\"Tampering with a Victim\"], [\"Unemployment Compensatn Fraud\"], [\"Sex Battery Deft 18+/Vict 11-\"], [\"Possession Of 3,4Methylenediox\"], [\"Cruelty to Animals\"], [\"Lewd/Lasc Battery Pers 12+/<16\"], [\"Carjacking w/o Deadly Weapon\"], [\"Grand Theft in the 1st Degree\"], [\"Refuse Submit Blood/Breath Test\"], [\"Kidnapping / Domestic Violence\"], [\"Simulation of Legal Process\"], [\"Burglary Structure Occupied\"], [\"False Bomb Report\"], [\"Gambling/Gamb Paraphernalia\"], [\"Trespass Structure/Conveyance\"], [\"Poss Wep Conv Felon\"], [\"Consume Alcoholic Bev Pub\"], [\"Failure To Return Hired Vehicle\"], [\"Tresspass Struct/Conveyance\"], [\"Fail Sex Offend Report Bylaw\"], [\"Possess Cannabis 1000FTSch\"], [\"Unauth Poss ID Card or DL\"], [\"Tresspass in Structure or Conveyance\"], [\"Agg Fleeing and Eluding\"], [\"Conspiracy Dealing Stolen Prop\"], [\"Counterfeit Lic Plates/Sticker\"], [\"Interfere W/Traf Cont Dev RR\"], [\"Possession Firearm School Prop\"], [\"Possession of Benzylpiperazine\"], [\"Throw Deadly Missile Into Veh\"], [\"Present Proof of Invalid Insur\"], [\"Fraud Obtain Food or Lodging\"], [\"Crim Use Of Personal Id Info\"], [\"License Suspended Revoked\"], [\"Traffick Oxycodone     4g><14g\"], [\"Poss Anti-Shoplifting Device\"], [\"Hiring with Intent to Defraud\"], [\"Lewdness Violation\"], [\"Poss Of RX Without RX\"], [\"Burglary Conveyance Assault/Bat\"], [\"Murder in 2nd Degree\"], [\"Aggress/Panhandle/Beg/Solict\"], [\"Violation of Injunction Order/Stalking/Cyberstalking\"], [\"Attempted Robbery  No Weapon\"], [\"Possession Of Buprenorphine\"], [\"Possess Controlled Substance\"], [\"Structuring Transactions\"], [\"Exploit Elderly Person 20-100K\"], [\"Robbery W/Deadly Weapon\"], [\"Harass Witness/Victm/Informnt\"], [\"Misuse Of 911 Or E911 System\"], [\"DOC/Cause Public Danger\"], [\"Dealing In Stolen Property\"], [\"Soliciting For Prostitution\"], [\"Delivery of 5-Fluoro PB-22\"], [\"Prostitution/Lewdness/Assign\"], [\"Deliver Cannabis 1000FTSch\"], [\"Sexual Performance by a Child\"], [\"Possess w/I/Utter Forged Bills\"], [\"Unl/Disturb Education/Instui\"], [\"Fleeing or Eluding a LEO\"], [\"Use Scanning Device to Defraud\"], [\"Poss of Methylethcathinone\"], [\"Grand Theft Dwell Property\"], [\"Burglary Structure Assault/Batt\"], [\"Murder in the First Degree\"], [\"Del Cannabis For Consideration\"], [\"Poss Alprazolam W/int Sell/Del\"], [\"Culpable Negligence\"], [\"Fail To Redeliv Hire/Leas Prop\"], [\"DWLS Canceled Disqul 1st Off\"], [\"Fail Register Career Offender\"], [\"Forging Bank Bills/Promis Note\"], [\"Sell Cannabis\"], [\"Use Computer for Child Exploit\"], [\"Extradition/Defendants\"], [\"Poss Drugs W/O A Prescription\"], [\"Contribute Delinquency Of A Minor\"], [\"Possession Of Diazepam\"], [\"Flee/Elude LEO-Agg Flee Unsafe\"], [\"Theft\"], [\"Live on Earnings of Prostitute\"], [\"Trespass Property w/Dang Weap\"], [\"Att Burgl Struc/Conv Dwel/Occp\"], [\"Aggravated Assault W/o Firearm\"], [\"Battery Emergency Care Provide\"], [\"False 911 Call\"], [\"Possession of Codeine\"], [\"Sexual Battery / Vict 12 Yrs +\"], [\"Att Tamper w/Physical Evidence\"], [\"Murder In 2nd Degree W/firearm\"], [\"Aggravated Battery On 65/Older\"], [\"Battery Spouse Or Girlfriend\"], [\"Trespass Structure w/Dang Weap\"], [\"Possession Of Paraphernalia\"], [\"Escape\"], [\"Lewd/Lasciv Molest Elder Persn\"], [\"Carrying A Concealed Weapon\"], [\"Poss Trifluoromethylphenylpipe\"], [\"Traffick Amphetamine 28g><200g\"], [\"Possession Of Anabolic Steroid\"], [\"Agg Fleeing/Eluding High Speed\"], [\"Neglect Child / Bodily Harm\"], [\"Sale/Del Cannabis At/Near Scho\"], [\"Felony Committing Prostitution\"], [\"Battery On Fire Fighter\"], [\"Fail To Obey Police Officer\"], [\"Compulsory Attendance Violation\"], [\"Aggr Child Abuse-Torture,Punish\"], [\"Prostitution\"], [\"Viol Injunction Protect Dom Vi\"], [\"Theft/To Deprive\"], [\"Crim Attempt/Solicit/Consp\"], [\"Trespass Struct/Conveyance\"], [\"False Motor Veh Insurance Card\"], [\"Computer Pornography\"], [\"Depriv LEO of Protect/Communic\"], [\"Del 3,4 Methylenedioxymethcath\"], [\"Del Morphine at/near Park\"], [\"Use Of 2 Way Device To Fac Fel\"], [\"Shoot Into Vehicle\"], [\"Offn Against Intellectual Prop\"], [\"Deliver Cocaine 1000FT Park\"], [\"Battery On Parking Enfor Speci\"], [\"Failure To Pay Taxi Cab Charge\"], [\"Solicit To Deliver Cocaine\"], [\"Open Carrying Of Weapon\"], [\"D.U.I. Serious Bodily Injury\"], [\"Abuse Without Great Harm\"], [\"Lease For Purpose Trafficking\"], [\"Threat Public Servant\"], [\"Ride Tri-Rail Without Paying\"], [\"Falsely Impersonating Officer\"], [\"Poss Meth/Diox/Meth/Amp (MDMA)\"], [\"Solic to Commit Battery\"], [\"Unlawful Use Of Police Badges\"], [\"Unauth C/P/S Sounds>1000/Audio\"], [\"Deliver Alprazolam\"], [\"DUI - Property Damage/Personal Injury\"], [\"False Info LEO During Invest\"], [\"Purchasing Of Alprazolam\"], [\"Refuse to Supply DNA Sample\"], [\"Throw Missile Into Pub/Priv Dw\"], [\"Sel/Pur/Mfr/Del Control Substa\"], [\"DWLS Susp/Cancel Revoked\"], [\"Cause Anoth Phone Ring Repeat\"], [\"Shoot In Occupied Dwell\"], [\"Poss Oxycodone W/Int/Sell/Del\"], [\"Conspiracy to Deliver Cocaine\"], [\"Possess/Use Weapon 1 Deg Felon\"], [\"Intoxicated/Safety Of Another\"], [\"Aggravated Battery (Firearm/Actual Possession)\"], [\"Insurance Fraud\"], [\"Sell or Offer for Sale Counterfeit Goods\"], [\"Oper Motorcycle W/O Valid DL\"], [\"Agg Assault Law Enforc Officer\"], [\"Money Launder 100K or More Dols\"], [\"Attempt Burglary (Struct)\"], [\"Agg Abuse Elderlly/Disabled Adult\"], [\"Throw In Occupied Dwell\"], [\"Grand Theft of the 2nd Degree\"], [\"Lewd Act Presence Child 16-\"], [\"DUI/Property Damage/Persnl Inj\"]], \"hovertemplate\": \"x=%{x}<br>y=%{y}<br>b=%{customdata[0]}<br>color=%{marker.color}<extra></extra>\", \"legendgroup\": \"\", \"marker\": {\"color\": [4, 0, 8, 3, 14, 11, 13, 7, 12, 8, 5, 14, 7, 14, 13, 14, 10, 11, 12, 1, 8, 1, 12, 15, 0, 3, 10, 1, 0, 13, 14, 12, 6, 1, 5, 14, 8, 15, 3, 14, 10, 15, 2, 10, 11, 8, 8, 6, 13, 4, 6, 15, 4, 4, 10, 1, 7, 10, 2, 14, 13, 8, 7, 8, 0, 8, 13, 12, 0, 10, 1, 3, 10, 14, 3, 6, 11, 5, 10, 10, 10, 13, 14, 8, 11, 8, 1, 2, 6, 10, 14, 0, 4, 7, 13, 10, 11, 8, 1, 2, 11, 6, 2, 1, 15, 10, 0, 11, 4, 1, 8, 3, 6, 9, 11, 10, 1, 8, 14, 13, 8, 1, 8, 2, 13, 13, 11, 5, 8, 8, 5, 10, 4, 11, 8, 7, 10, 6, 1, 10, 2, 6, 14, 10, 8, 11, 13, 15, 11, 1, 8, 9, 6, 9, 8, 5, 0, 8, 2, 0, 4, 3, 8, 5, 12, 1, 3, 10, 8, 2, 4, 12, 5, 4, 10, 3, 6, 12, 1, 3, 8, 3, 1, 6, 10, 8, 10, 13, 1, 3, 1, 15, 4, 4, 3, 10, 2, 5, 8, 10, 5, 10, 2, 10, 1, 3, 0, 8, 3, 4, 13, 5, 5, 13, 10, 14, 8, 1, 6, 9, 8, 1, 8, 5, 5, 10, 3, 11, 1, 8, 5, 10, 8, 2, 13, 5, 10, 8, 13, 1, 8, 4, 3, 11, 11, 1, 10, 3, 10, 5, 4, 0, 10, 1, 10, 9, 15, 5, 15, 8, 5, 11, 0, 13, 3, 12, 1, 10, 8, 8, 8, 5, 12, 15, 10, 11, 10, 11, 8, 0, 5, 3, 13, 6, 1, 5, 11, 10, 10, 3, 14, 10, 3, 11, 8, 10, 3, 2, 2, 11, 8, 15, 12, 10, 14, 8, 4, 15, 10, 4, 0, 10, 1, 5, 15, 4, 2, 11, 1, 1, 4, 9, 4, 5, 7, 3, 1, 10, 10, 4, 5, 5, 11, 10, 8, 9, 1, 1, 5, 1, 8, 1, 1, 8, 4, 3, 7, 7, 3, 11, 14, 5, 5, 8, 6, 9, 13, 6, 4, 0, 15, 1], \"coloraxis\": \"coloraxis\", \"size\": 4, \"symbol\": \"circle\"}, \"mode\": \"markers\", \"name\": \"\", \"orientation\": \"v\", \"showlegend\": false, \"type\": \"scatter\", \"x\": [16.616966247558594, 14.947479248046875, 13.264639854431152, 16.363859176635742, 14.352456092834473, 10.179258346557617, 17.21424674987793, 9.329874038696289, 9.852495193481445, 13.233471870422363, 16.033151626586914, 15.105149269104004, 9.266256332397461, 14.359471321105957, 17.245201110839844, 14.609724998474121, 12.585783958435059, 10.331820487976074, 8.938472747802734, 14.162368774414062, 13.116941452026367, 11.229315757751465, 8.834321022033691, 13.23108196258545, 15.592309951782227, 15.042033195495605, 12.606258392333984, 14.900349617004395, 15.526586532592773, 17.36366844177246, 14.395414352416992, 9.072206497192383, 15.26769733428955, 14.065885543823242, 16.139558792114258, 12.161162376403809, 13.233820915222168, 12.93639850616455, 16.503511428833008, 14.501229286193848, 16.826988220214844, 13.237663269042969, 10.227738380432129, 15.137468338012695, 10.064962387084961, 13.221787452697754, 14.204580307006836, 14.467117309570312, 17.279199600219727, 14.883620262145996, 12.982348442077637, 13.364264488220215, 15.397586822509766, 15.583550453186035, 15.970542907714844, 14.120807647705078, 9.248930931091309, 14.827987670898438, 10.215744018554688, 14.689045906066895, 17.269739151000977, 13.002359390258789, 9.271133422851562, 13.33957290649414, 14.887213706970215, 13.533214569091797, 16.438274383544922, 8.91324234008789, 15.622493743896484, 16.76896095275879, 13.603348731994629, 15.827702522277832, 14.776387214660645, 15.246474266052246, 16.655221939086914, 14.378715515136719, 10.603394508361816, 15.751312255859375, 16.15265464782715, 15.104832649230957, 16.832426071166992, 16.86716079711914, 14.38689136505127, 13.620429039001465, 9.915279388427734, 15.391458511352539, 14.77458381652832, 10.202574729919434, 14.669352531433105, 15.100691795349121, 14.25430679321289, 15.551629066467285, 16.90276336669922, 15.217522621154785, 17.418123245239258, 14.707273483276367, 10.236907958984375, 15.051019668579102, 14.860541343688965, 10.5056734085083, 10.120255470275879, 15.070487976074219, 10.089712142944336, 16.169158935546875, 12.531153678894043, 16.464506149291992, 15.256754875183105, 10.006855964660645, 15.568099021911621, 11.339570999145508, 14.50273323059082, 16.59303855895996, 15.082079887390137, 8.887207984924316, 10.185649871826172, 13.242098808288574, 10.714935302734375, 13.918254852294922, 14.580290794372559, 17.272550582885742, 12.954474449157715, 11.408082962036133, 17.050662994384766, 9.773451805114746, 17.00248908996582, 17.027156829833984, 10.184530258178711, 16.067626953125, 14.015474319458008, 13.897989273071289, 16.315717697143555, 16.72041130065918, 17.390390396118164, 10.853165626525879, 13.278651237487793, 9.33590316772461, 15.801630020141602, 14.526715278625488, 15.15058422088623, 13.275279998779297, 14.670366287231445, 13.012028694152832, 15.161550521850586, 14.453022003173828, 13.817307472229004, 10.672098159790039, 17.34247398376465, 12.971675872802734, 10.359968185424805, 15.246881484985352, 14.088253021240234, 8.908478736877441, 13.831050872802734, 8.860147476196289, 14.293051719665527, 15.941495895385742, 16.042583465576172, 13.497751235961914, 9.83369255065918, 14.268961906433105, 14.533777236938477, 16.21832847595215, 13.288930892944336, 16.578277587890625, 8.988264083862305, 13.499714851379395, 15.976149559020996, 16.687496185302734, 14.164755821228027, 9.821051597595215, 15.356074333190918, 9.004998207092285, 15.846190452575684, 13.540063858032227, 13.277609825134277, 16.574983596801758, 16.810697555541992, 9.035435676574707, 10.69124698638916, 12.132440567016602, 13.098804473876953, 15.552693367004395, 14.172445297241211, 13.878697395324707, 13.47371768951416, 13.110273361206055, 14.742851257324219, 16.958627700805664, 11.57437515258789, 15.347445487976074, 12.519148826599121, 13.314696311950684, 15.38710880279541, 13.131647109985352, 16.583988189697266, 13.123875617980957, 10.262931823730469, 15.98194694519043, 14.0252046585083, 16.64995765686035, 15.661829948425293, 13.13730239868164, 10.173070907592773, 14.25766372680664, 12.772177696228027, 14.081001281738281, 15.327567100524902, 13.420563697814941, 16.699190139770508, 17.147239685058594, 17.426328659057617, 16.652135848999023, 15.868284225463867, 16.93402862548828, 15.228705406188965, 12.185111045837402, 14.491003036499023, 17.18977165222168, 13.065439224243164, 8.857666969299316, 13.584152221679688, 17.25551414489746, 15.23843002319336, 16.016033172607422, 15.942867279052734, 16.759977340698242, 15.735947608947754, 10.670351028442383, 15.506410598754883, 14.080163955688477, 15.840298652648926, 16.280874252319336, 13.106315612792969, 9.830158233642578, 17.120361328125, 15.769850730895996, 12.976353645324707, 13.965692520141602, 17.234189987182617, 14.610761642456055, 14.624677658081055, 15.289690017700195, 16.704931259155273, 10.54271125793457, 10.802660942077637, 17.179943084716797, 14.303524017333984, 15.480661392211914, 15.334942817687988, 16.673521041870117, 13.695382118225098, 15.958345413208008, 13.50338077545166, 10.922125816345215, 13.141043663024902, 8.804659843444824, 12.90449333190918, 16.01905059814453, 13.134231567382812, 15.343477249145508, 16.281126022338867, 10.264606475830078, 15.543783187866211, 17.10283088684082, 15.050252914428711, 8.896142959594727, 11.243654251098633, 13.323962211608887, 13.898935317993164, 13.19338607788086, 13.683444023132324, 16.028623580932617, 9.024806022644043, 13.01220703125, 16.573293685913086, 10.366222381591797, 13.473162651062012, 10.736493110656738, 15.388038635253906, 15.993083953857422, 13.42089557647705, 15.554017066955566, 17.112733840942383, 14.508891105651855, 14.23086166381836, 16.69329833984375, 9.9173002243042, 13.071163177490234, 16.72484588623047, 14.807787895202637, 14.166426658630371, 14.530592918395996, 15.62531852722168, 10.569734573364258, 15.282995223999023, 13.084192276000977, 16.212841033935547, 10.695327758789062, 9.955094337463379, 10.583558082580566, 15.273651123046875, 13.425379753112793, 9.125042915344238, 13.379520416259766, 14.819348335266113, 13.294918060302734, 15.374106407165527, 13.766523361206055, 13.242147445678711, 15.487855911254883, 15.921989440917969, 16.281652450561523, 17.064376831054688, 15.31184196472168, 12.937926292419434, 15.537237167358398, 10.205738067626953, 9.897841453552246, 14.093289375305176, 15.608359336853027, 14.431005477905273, 8.888694763183594, 14.324179649353027, 15.029335975646973, 9.295985221862793, 15.814764022827148, 13.703400611877441, 13.47852611541748, 14.89445972442627, 13.85147476196289, 15.519988059997559, 16.656404495239258, 10.213821411132812, 15.113272666931152, 13.567400932312012, 8.956584930419922, 11.074048042297363, 14.086133003234863, 16.272212982177734, 11.092336654663086, 13.517745018005371, 15.647189140319824, 11.069743156433105, 13.074446678161621, 16.71122932434082, 16.886524200439453, 9.52388858795166, 9.244058609008789, 15.469724655151367, 10.951678276062012, 14.644182205200195, 15.618339538574219, 16.237524032592773, 13.72973918914795, 15.144233703613281, 15.410594940185547, 16.531198501586914, 14.064573287963867, 16.8814697265625, 14.678496360778809, 12.664979934692383, 14.084728240966797], \"xaxis\": \"x\", \"y\": [8.081073760986328, 6.030754089355469, 4.006679534912109, 7.067660331726074, 7.731832981109619, 8.63730525970459, 7.344834804534912, 9.079383850097656, 7.724051475524902, 4.045468807220459, 4.538733005523682, 8.158757209777832, 9.10283374786377, 8.23636245727539, 7.758054733276367, 8.673140525817871, 7.719477653503418, 9.241098403930664, 7.488933563232422, 5.627694606781006, 4.353868007659912, 8.383316993713379, 7.706244945526123, 8.221199989318848, 6.25248384475708, 6.171806335449219, 7.658053874969482, 4.1524882316589355, 5.90245246887207, 7.580409526824951, 8.617207527160645, 7.598776817321777, 8.782964706420898, 5.757899284362793, 5.072835922241211, 7.726099014282227, 3.8369836807250977, 7.183661460876465, 6.9635820388793945, 8.668567657470703, 5.376980781555176, 8.51585865020752, 8.07701301574707, 7.9775590896606445, 9.031538963317871, 3.9219675064086914, 4.2045159339904785, 9.000455856323242, 7.672732830047607, 6.222735404968262, 7.710284233093262, 8.295180320739746, 8.73424243927002, 8.685152053833008, 5.471749305725098, 5.6280670166015625, 9.113007545471191, 6.110241889953613, 8.524224281311035, 8.797060012817383, 7.762826919555664, 3.714716911315918, 9.025083541870117, 3.924065351486206, 6.078136920928955, 4.403646469116211, 6.645230770111084, 7.564197063446045, 5.798364162445068, 5.316464900970459, 5.131307125091553, 7.514163494110107, 7.672449111938477, 8.561894416809082, 7.351158618927002, 8.702106475830078, 8.926360130310059, 4.890359401702881, 5.504934787750244, 6.424745559692383, 4.722591400146484, 7.52372932434082, 8.492777824401855, 4.250521659851074, 9.303070068359375, 3.250319480895996, 4.112013339996338, 8.085224151611328, 8.587788581848145, 7.850325107574463, 7.473283767700195, 6.1516947746276855, 8.146194458007812, 7.4766669273376465, 7.110451698303223, 6.546601295471191, 9.348944664001465, 3.490142345428467, 4.174272537231445, 8.476491928100586, 9.271377563476562, 8.733661651611328, 8.134051322937012, 4.660236358642578, 6.828982353210449, 7.657905101776123, 5.811787128448486, 9.251304626464844, 8.273296356201172, 8.16108226776123, 4.823668003082275, 7.164763927459717, 8.588438034057617, 8.379599571228027, 9.277239799499512, 6.20407772064209, 8.797688484191895, 3.984409809112549, 8.460065841674805, 6.90669059753418, 4.103342533111572, 8.360824584960938, 7.791904926300049, 8.422904968261719, 7.535154819488525, 7.400412559509277, 9.375310897827148, 4.424921035766602, 3.9329545497894287, 4.647998809814453, 4.637700080871582, 5.300243377685547, 7.087153911590576, 8.755170822143555, 3.9594714641571045, 9.067791938781738, 6.363992214202881, 8.965226173400879, 7.007322788238525, 8.14439868927002, 5.974539756774902, 5.9616546630859375, 8.493817329406738, 8.189690589904785, 4.334378719329834, 9.449501037597656, 7.206542491912842, 6.408754825592041, 9.43171501159668, 6.832301616668701, 4.1929216384887695, 8.316072463989258, 8.318037033081055, 8.322697639465332, 3.973073959350586, 4.676137924194336, 5.516656875610352, 4.0568766593933105, 8.242277145385742, 7.205530166625977, 8.086432456970215, 6.955266952514648, 3.9829349517822266, 4.471597194671631, 7.573758602142334, 4.540792465209961, 7.413480281829834, 5.305838108062744, 3.7178359031677246, 8.174562454223633, 7.881954669952393, 7.562047958374023, 5.069591522216797, 8.52269458770752, 6.288064479827881, 7.290580749511719, 6.460840702056885, 7.573456764221191, 7.630209922790527, 7.714302062988281, 3.789217472076416, 6.408743381500244, 5.667778491973877, 7.824217796325684, 6.9496750831604, 4.146575450897217, 6.4367804527282715, 7.358810901641846, 8.241225242614746, 7.473318576812744, 6.738881587982178, 8.300257682800293, 8.255949020385742, 8.010189056396484, 7.138558864593506, 6.316998481750488, 8.011809349060059, 4.848993301391602, 4.008658409118652, 5.226609230041504, 4.90606164932251, 6.482293605804443, 8.142518043518066, 8.019372940063477, 6.775776386260986, 4.504594326019287, 6.445143699645996, 3.4671528339385986, 7.612175941467285, 6.115143775939941, 7.550250053405762, 4.494036674499512, 5.222189426422119, 6.399569034576416, 7.450404644012451, 7.720966339111328, 4.015471458435059, 6.332603931427002, 5.881082534790039, 8.084299087524414, 4.34693717956543, 6.403651237487793, 3.2991881370544434, 5.293210983276367, 4.78134298324585, 5.668501377105713, 7.434389114379883, 8.925516128540039, 6.944313049316406, 3.8842813968658447, 5.138598918914795, 5.581948757171631, 3.7811899185180664, 8.211308479309082, 6.709045886993408, 5.142177581787109, 6.590237140655518, 4.14060115814209, 7.416241645812988, 6.528993129730225, 4.989231586456299, 8.408190727233887, 7.501524448394775, 8.99933910369873, 9.414043426513672, 6.207620143890381, 6.8038763999938965, 7.262810707092285, 7.721338748931885, 4.577198028564453, 8.556653022766113, 5.422783851623535, 6.48501443862915, 8.226311683654785, 6.357059001922607, 8.071432113647461, 7.145448684692383, 4.61083459854126, 7.872676849365234, 3.3164193630218506, 4.9397478103637695, 8.98466968536377, 6.1161417961120605, 7.3404459953308105, 6.9638566970825195, 7.5152268409729, 8.29859733581543, 8.087506294250488, 3.646326780319214, 3.5147602558135986, 3.580549478530884, 4.502359867095947, 7.584510326385498, 7.061270713806152, 6.104098796844482, 9.508966445922852, 7.943532466888428, 8.883688926696777, 3.2730815410614014, 5.918148517608643, 6.424476146697998, 7.163136005401611, 7.059921741485596, 8.83769416809082, 7.6508893966674805, 4.540335178375244, 8.626853942871094, 6.587921619415283, 5.360727310180664, 6.741335868835449, 7.5358099937438965, 7.729268550872803, 7.648848056793213, 9.529494285583496, 3.309155225753784, 6.434127330780029, 7.373021125793457, 8.653141021728516, 8.359464645385742, 9.304566383361816, 3.3426547050476074, 8.402432441711426, 7.655827522277832, 6.491552829742432, 8.769877433776855, 4.911602973937988, 8.504435539245605, 8.293018341064453, 6.35640287399292, 8.268589973449707, 5.633453845977783, 5.997447490692139, 6.474365711212158, 4.403147220611572, 7.014926433563232, 3.3120687007904053, 8.110027313232422, 9.140731811523438, 5.433493614196777, 6.671535491943359, 8.381261825561523, 8.308550834655762, 7.591276168823242, 4.301912784576416, 9.141196250915527, 7.4661664962768555, 8.415328979492188, 8.579388618469238, 5.154999256134033, 8.598163604736328, 4.650677680969238, 4.580802917480469, 8.917442321777344, 7.941897392272949, 4.562243461608887, 8.1664457321167, 8.332427978515625, 5.899692535400391, 4.612266540527344, 8.40626335144043, 3.521315336227417, 7.075442314147949, 8.088485717773438, 3.687835454940796, 4.610052108764648, 7.627926349639893, 8.931347846984863, 9.144998550415039, 7.399023056030273, 9.272421836853027, 8.552274703979492, 4.782292366027832, 4.816336631774902, 4.1366071701049805, 8.65649700164795, 5.183726787567139, 6.601247787475586, 7.598044395446777, 7.718042850494385, 6.255674839019775, 6.701158046722412, 5.725508213043213], \"yaxis\": \"y\"}],                        {\"coloraxis\": {\"colorbar\": {\"title\": {\"text\": \"color\"}}, \"colorscale\": [[0.0, \"#0d0887\"], [0.1111111111111111, \"#46039f\"], [0.2222222222222222, \"#7201a8\"], [0.3333333333333333, \"#9c179e\"], [0.4444444444444444, \"#bd3786\"], [0.5555555555555556, \"#d8576b\"], [0.6666666666666666, \"#ed7953\"], [0.7777777777777778, \"#fb9f3a\"], [0.8888888888888888, \"#fdca26\"], [1.0, \"#f0f921\"]]}, \"hoverlabel\": {\"bgcolor\": \"black\", \"font\": {\"size\": 12}}, \"legend\": {\"tracegroupgap\": 0}, \"margin\": {\"b\": 0, \"l\": 0, \"r\": 0, \"t\": 0}, \"template\": {\"data\": {\"bar\": [{\"error_x\": {\"color\": \"#2a3f5f\"}, \"error_y\": {\"color\": \"#2a3f5f\"}, \"marker\": {\"line\": {\"color\": \"#E5ECF6\", \"width\": 0.5}}, \"type\": \"bar\"}], \"barpolar\": [{\"marker\": {\"line\": {\"color\": \"#E5ECF6\", \"width\": 0.5}}, \"type\": \"barpolar\"}], \"carpet\": [{\"aaxis\": {\"endlinecolor\": \"#2a3f5f\", \"gridcolor\": \"white\", \"linecolor\": \"white\", \"minorgridcolor\": \"white\", \"startlinecolor\": \"#2a3f5f\"}, \"baxis\": {\"endlinecolor\": \"#2a3f5f\", \"gridcolor\": \"white\", \"linecolor\": \"white\", \"minorgridcolor\": \"white\", \"startlinecolor\": \"#2a3f5f\"}, \"type\": \"carpet\"}], \"choropleth\": [{\"colorbar\": {\"outlinewidth\": 0, \"ticks\": \"\"}, \"type\": \"choropleth\"}], \"contour\": [{\"colorbar\": {\"outlinewidth\": 0, \"ticks\": \"\"}, \"colorscale\": [[0.0, \"#0d0887\"], [0.1111111111111111, \"#46039f\"], [0.2222222222222222, \"#7201a8\"], [0.3333333333333333, \"#9c179e\"], [0.4444444444444444, \"#bd3786\"], [0.5555555555555556, \"#d8576b\"], [0.6666666666666666, \"#ed7953\"], [0.7777777777777778, \"#fb9f3a\"], [0.8888888888888888, \"#fdca26\"], [1.0, \"#f0f921\"]], \"type\": \"contour\"}], \"contourcarpet\": [{\"colorbar\": {\"outlinewidth\": 0, \"ticks\": \"\"}, \"type\": \"contourcarpet\"}], \"heatmap\": [{\"colorbar\": {\"outlinewidth\": 0, \"ticks\": \"\"}, \"colorscale\": [[0.0, \"#0d0887\"], [0.1111111111111111, \"#46039f\"], [0.2222222222222222, \"#7201a8\"], [0.3333333333333333, \"#9c179e\"], [0.4444444444444444, \"#bd3786\"], [0.5555555555555556, \"#d8576b\"], [0.6666666666666666, \"#ed7953\"], [0.7777777777777778, \"#fb9f3a\"], [0.8888888888888888, \"#fdca26\"], [1.0, \"#f0f921\"]], \"type\": \"heatmap\"}], \"heatmapgl\": [{\"colorbar\": {\"outlinewidth\": 0, \"ticks\": \"\"}, \"colorscale\": [[0.0, \"#0d0887\"], [0.1111111111111111, \"#46039f\"], [0.2222222222222222, \"#7201a8\"], [0.3333333333333333, \"#9c179e\"], [0.4444444444444444, \"#bd3786\"], [0.5555555555555556, \"#d8576b\"], [0.6666666666666666, \"#ed7953\"], [0.7777777777777778, \"#fb9f3a\"], [0.8888888888888888, \"#fdca26\"], [1.0, \"#f0f921\"]], \"type\": \"heatmapgl\"}], \"histogram\": [{\"marker\": {\"colorbar\": {\"outlinewidth\": 0, \"ticks\": \"\"}}, \"type\": \"histogram\"}], \"histogram2d\": [{\"colorbar\": {\"outlinewidth\": 0, \"ticks\": \"\"}, \"colorscale\": [[0.0, \"#0d0887\"], [0.1111111111111111, \"#46039f\"], [0.2222222222222222, \"#7201a8\"], [0.3333333333333333, \"#9c179e\"], [0.4444444444444444, \"#bd3786\"], [0.5555555555555556, \"#d8576b\"], [0.6666666666666666, \"#ed7953\"], [0.7777777777777778, \"#fb9f3a\"], [0.8888888888888888, \"#fdca26\"], [1.0, \"#f0f921\"]], \"type\": \"histogram2d\"}], \"histogram2dcontour\": [{\"colorbar\": {\"outlinewidth\": 0, \"ticks\": \"\"}, \"colorscale\": [[0.0, \"#0d0887\"], [0.1111111111111111, \"#46039f\"], [0.2222222222222222, \"#7201a8\"], [0.3333333333333333, \"#9c179e\"], [0.4444444444444444, \"#bd3786\"], [0.5555555555555556, \"#d8576b\"], [0.6666666666666666, \"#ed7953\"], [0.7777777777777778, \"#fb9f3a\"], [0.8888888888888888, \"#fdca26\"], [1.0, \"#f0f921\"]], \"type\": \"histogram2dcontour\"}], \"mesh3d\": [{\"colorbar\": {\"outlinewidth\": 0, \"ticks\": \"\"}, \"type\": \"mesh3d\"}], \"parcoords\": [{\"line\": {\"colorbar\": {\"outlinewidth\": 0, \"ticks\": \"\"}}, \"type\": \"parcoords\"}], \"pie\": [{\"automargin\": true, \"type\": \"pie\"}], \"scatter\": [{\"marker\": {\"colorbar\": {\"outlinewidth\": 0, \"ticks\": \"\"}}, \"type\": \"scatter\"}], \"scatter3d\": [{\"line\": {\"colorbar\": {\"outlinewidth\": 0, \"ticks\": \"\"}}, \"marker\": {\"colorbar\": {\"outlinewidth\": 0, \"ticks\": \"\"}}, \"type\": \"scatter3d\"}], \"scattercarpet\": [{\"marker\": {\"colorbar\": {\"outlinewidth\": 0, \"ticks\": \"\"}}, \"type\": \"scattercarpet\"}], \"scattergeo\": [{\"marker\": {\"colorbar\": {\"outlinewidth\": 0, \"ticks\": \"\"}}, \"type\": \"scattergeo\"}], \"scattergl\": [{\"marker\": {\"colorbar\": {\"outlinewidth\": 0, \"ticks\": \"\"}}, \"type\": \"scattergl\"}], \"scattermapbox\": [{\"marker\": {\"colorbar\": {\"outlinewidth\": 0, \"ticks\": \"\"}}, \"type\": \"scattermapbox\"}], \"scatterpolar\": [{\"marker\": {\"colorbar\": {\"outlinewidth\": 0, \"ticks\": \"\"}}, \"type\": \"scatterpolar\"}], \"scatterpolargl\": [{\"marker\": {\"colorbar\": {\"outlinewidth\": 0, \"ticks\": \"\"}}, \"type\": \"scatterpolargl\"}], \"scatterternary\": [{\"marker\": {\"colorbar\": {\"outlinewidth\": 0, \"ticks\": \"\"}}, \"type\": \"scatterternary\"}], \"surface\": [{\"colorbar\": {\"outlinewidth\": 0, \"ticks\": \"\"}, \"colorscale\": [[0.0, \"#0d0887\"], [0.1111111111111111, \"#46039f\"], [0.2222222222222222, \"#7201a8\"], [0.3333333333333333, \"#9c179e\"], [0.4444444444444444, \"#bd3786\"], [0.5555555555555556, \"#d8576b\"], [0.6666666666666666, \"#ed7953\"], [0.7777777777777778, \"#fb9f3a\"], [0.8888888888888888, \"#fdca26\"], [1.0, \"#f0f921\"]], \"type\": \"surface\"}], \"table\": [{\"cells\": {\"fill\": {\"color\": \"#EBF0F8\"}, \"line\": {\"color\": \"white\"}}, \"header\": {\"fill\": {\"color\": \"#C8D4E3\"}, \"line\": {\"color\": \"white\"}}, \"type\": \"table\"}]}, \"layout\": {\"annotationdefaults\": {\"arrowcolor\": \"#2a3f5f\", \"arrowhead\": 0, \"arrowwidth\": 1}, \"autotypenumbers\": \"strict\", \"coloraxis\": {\"colorbar\": {\"outlinewidth\": 0, \"ticks\": \"\"}}, \"colorscale\": {\"diverging\": [[0, \"#8e0152\"], [0.1, \"#c51b7d\"], [0.2, \"#de77ae\"], [0.3, \"#f1b6da\"], [0.4, \"#fde0ef\"], [0.5, \"#f7f7f7\"], [0.6, \"#e6f5d0\"], [0.7, \"#b8e186\"], [0.8, \"#7fbc41\"], [0.9, \"#4d9221\"], [1, \"#276419\"]], \"sequential\": [[0.0, \"#0d0887\"], [0.1111111111111111, \"#46039f\"], [0.2222222222222222, \"#7201a8\"], [0.3333333333333333, \"#9c179e\"], [0.4444444444444444, \"#bd3786\"], [0.5555555555555556, \"#d8576b\"], [0.6666666666666666, \"#ed7953\"], [0.7777777777777778, \"#fb9f3a\"], [0.8888888888888888, \"#fdca26\"], [1.0, \"#f0f921\"]], \"sequentialminus\": [[0.0, \"#0d0887\"], [0.1111111111111111, \"#46039f\"], [0.2222222222222222, \"#7201a8\"], [0.3333333333333333, \"#9c179e\"], [0.4444444444444444, \"#bd3786\"], [0.5555555555555556, \"#d8576b\"], [0.6666666666666666, \"#ed7953\"], [0.7777777777777778, \"#fb9f3a\"], [0.8888888888888888, \"#fdca26\"], [1.0, \"#f0f921\"]]}, \"colorway\": [\"#636efa\", \"#EF553B\", \"#00cc96\", \"#ab63fa\", \"#FFA15A\", \"#19d3f3\", \"#FF6692\", \"#B6E880\", \"#FF97FF\", \"#FECB52\"], \"font\": {\"color\": \"#2a3f5f\"}, \"geo\": {\"bgcolor\": \"white\", \"lakecolor\": \"white\", \"landcolor\": \"#E5ECF6\", \"showlakes\": true, \"showland\": true, \"subunitcolor\": \"white\"}, \"hoverlabel\": {\"align\": \"left\"}, \"hovermode\": \"closest\", \"mapbox\": {\"style\": \"light\"}, \"paper_bgcolor\": \"white\", \"plot_bgcolor\": \"#E5ECF6\", \"polar\": {\"angularaxis\": {\"gridcolor\": \"white\", \"linecolor\": \"white\", \"ticks\": \"\"}, \"bgcolor\": \"#E5ECF6\", \"radialaxis\": {\"gridcolor\": \"white\", \"linecolor\": \"white\", \"ticks\": \"\"}}, \"scene\": {\"xaxis\": {\"backgroundcolor\": \"#E5ECF6\", \"gridcolor\": \"white\", \"gridwidth\": 2, \"linecolor\": \"white\", \"showbackground\": true, \"ticks\": \"\", \"zerolinecolor\": \"white\"}, \"yaxis\": {\"backgroundcolor\": \"#E5ECF6\", \"gridcolor\": \"white\", \"gridwidth\": 2, \"linecolor\": \"white\", \"showbackground\": true, \"ticks\": \"\", \"zerolinecolor\": \"white\"}, \"zaxis\": {\"backgroundcolor\": \"#E5ECF6\", \"gridcolor\": \"white\", \"gridwidth\": 2, \"linecolor\": \"white\", \"showbackground\": true, \"ticks\": \"\", \"zerolinecolor\": \"white\"}}, \"shapedefaults\": {\"line\": {\"color\": \"#2a3f5f\"}}, \"ternary\": {\"aaxis\": {\"gridcolor\": \"white\", \"linecolor\": \"white\", \"ticks\": \"\"}, \"baxis\": {\"gridcolor\": \"white\", \"linecolor\": \"white\", \"ticks\": \"\"}, \"bgcolor\": \"#E5ECF6\", \"caxis\": {\"gridcolor\": \"white\", \"linecolor\": \"white\", \"ticks\": \"\"}}, \"title\": {\"x\": 0.05}, \"xaxis\": {\"automargin\": true, \"gridcolor\": \"white\", \"linecolor\": \"white\", \"ticks\": \"\", \"title\": {\"standoff\": 15}, \"zerolinecolor\": \"white\", \"zerolinewidth\": 2}, \"yaxis\": {\"automargin\": true, \"gridcolor\": \"white\", \"linecolor\": \"white\", \"ticks\": \"\", \"title\": {\"standoff\": 15}, \"zerolinecolor\": \"white\", \"zerolinewidth\": 2}}}, \"xaxis\": {\"anchor\": \"y\", \"domain\": [0.0, 1.0], \"title\": {\"text\": \"x\"}}, \"yaxis\": {\"anchor\": \"x\", \"domain\": [0.0, 1.0], \"title\": {\"text\": \"y\"}}},                        {\"responsive\": true}                    ).then(function(){\n",
       "                            \n",
       "var gd = document.getElementById('e78d5e04-4d59-4b70-a46c-1ee9376ad70f');\n",
       "var x = new MutationObserver(function (mutations, observer) {{\n",
       "        var display = window.getComputedStyle(gd).display;\n",
       "        if (!display || display === 'none') {{\n",
       "            console.log([gd, 'removed!']);\n",
       "            Plotly.purge(gd);\n",
       "            observer.disconnect();\n",
       "        }}\n",
       "}});\n",
       "\n",
       "// Listen for the removal of the full notebook cells\n",
       "var notebookContainer = gd.closest('#notebook-container');\n",
       "if (notebookContainer) {{\n",
       "    x.observe(notebookContainer, {childList: true});\n",
       "}}\n",
       "\n",
       "// Listen for the clearing of the current output cell\n",
       "var outputEl = gd.closest('.output');\n",
       "if (outputEl) {{\n",
       "    x.observe(outputEl, {childList: true});\n",
       "}}\n",
       "\n",
       "                        })                };                });            </script>        </div>"
      ]
     },
     "metadata": {},
     "output_type": "display_data"
    }
   ],
   "source": [
    "model = KMeans(n_clusters=16)\n",
    "kme,fig = cluster_plot(model)\n",
    "fig"
   ]
  },
  {
   "cell_type": "code",
   "execution_count": 13,
   "metadata": {},
   "outputs": [
    {
     "data": {
      "application/vnd.plotly.v1+json": {
       "config": {
        "plotlyServerURL": "https://plot.ly"
       },
       "data": [
        {
         "customdata": [
          [
           "arrest case no charge"
          ],
          [
           "Grand Theft in the 3rd Degree"
          ],
          [
           "Felony Driving While Lic Suspd"
          ],
          [
           "Robbery W/Firearm"
          ],
          [
           "Battery"
          ],
          [
           "Possession of Hydrocodone"
          ],
          [
           "Burglary With Assault/battery"
          ],
          [
           "Possession of Cocaine"
          ],
          [
           "Possess Cannabis/20 Grams Or Less"
          ],
          [
           "Susp Drivers Lic 1st Offense"
          ],
          [
           "Uttering Forged Credit Card"
          ],
          [
           "Aggrav Battery w/Deadly Weapon"
          ],
          [
           "Purchase Of Cocaine"
          ],
          [
           "Agg Battery Grt/Bod/Harm"
          ],
          [
           "Burglary Unoccupied Dwelling"
          ],
          [
           "Aggravated Assault w/Firearm"
          ],
          [
           "Disorderly Intoxication"
          ],
          [
           "Possession Of Amphetamine"
          ],
          [
           "Manufacture Cannabis"
          ],
          [
           "DUI- Enhanced"
          ],
          [
           "Opert With Susp DL 2nd Offens"
          ],
          [
           "Possession Of Alprazolam"
          ],
          [
           "Deliver Cannabis"
          ],
          [
           "Child Abuse"
          ],
          [
           "Grand Theft (Motor Vehicle)"
          ],
          [
           "Retail Theft $300 1st Offense"
          ],
          [
           "Driving Under The Influence"
          ],
          [
           "Leave Acc/Attend Veh/More $50"
          ],
          [
           "Felony Petit Theft"
          ],
          [
           "Burglary Dwelling Occupied"
          ],
          [
           "Aggravated Assault W/Dead Weap"
          ],
          [
           "Possession of Cannabis"
          ],
          [
           "Battery on Law Enforc Officer"
          ],
          [
           "DUI Property Damage/Injury"
          ],
          [
           "Obtain Control Substance By Fraud"
          ],
          [
           "Alcoholic Beverage Violation-FL"
          ],
          [
           "Driving While License Revoked"
          ],
          [
           "Possession Child Pornography"
          ],
          [
           "Robbery / Weapon"
          ],
          [
           "Aggravated Assault W/dead Weap"
          ],
          [
           "Tampering With Physical Evidence"
          ],
          [
           "Neglect Child / No Bodily Harm"
          ],
          [
           "Poss3,4 Methylenedioxymethcath"
          ],
          [
           "Felony Battery w/Prior Convict"
          ],
          [
           "Possession of Oxycodone"
          ],
          [
           "Posses/Disply Susp/Revk/Frd DL"
          ],
          [
           "Fail Register Vehicle"
          ],
          [
           "Assault"
          ],
          [
           "Burglary Structure Unoccup"
          ],
          [
           "Solicitation On Felony 3 Deg"
          ],
          [
           "Disorderly Conduct"
          ],
          [
           "Cruelty Toward Child"
          ],
          [
           "Resist Officer w/Violence"
          ],
          [
           "Resist/Obstruct W/O Violence"
          ],
          [
           "Corrupt Public Servant"
          ],
          [
           "DUI - Enhanced"
          ],
          [
           "Poss Cocaine/Intent To Del/Sel"
          ],
          [
           "Criminal Attempt 3rd Deg Felon"
          ],
          [
           "Poss Tetrahydrocannabinols"
          ],
          [
           "Aggravated Battery (Firearm)"
          ],
          [
           "Burglary Conveyance Unoccup"
          ],
          [
           "Fel Drive License Perm Revoke"
          ],
          [
           "Deliver Cocaine"
          ],
          [
           "Driving License Suspended"
          ],
          [
           "Grand Theft In The 3Rd Degree"
          ],
          [
           "Unlaw LicTag/Sticker Attach"
          ],
          [
           "Possession Burglary Tools"
          ],
          [
           "Pos Cannabis W/Intent Sel/Del"
          ],
          [
           "Petit Theft"
          ],
          [
           "Tamper With Witness"
          ],
          [
           "DUI Level 0.15 Or Minor In Veh"
          ],
          [
           "Possess Weapon On School Prop"
          ],
          [
           "Felony Battery"
          ],
          [
           "Viol Prot Injunc Repeat Viol"
          ],
          [
           "Robbery / No Weapon"
          ],
          [
           "Aggravated Assault"
          ],
          [
           "Poss Pyrrolidinovalerophenone"
          ],
          [
           "Bribery Athletic Contests"
          ],
          [
           "Crim Use of Personal ID Info"
          ],
          [
           "Crimin Mischief Damage $1000+"
          ],
          [
           "False Imprisonment"
          ],
          [
           "Attempt Armed Burglary Dwell"
          ],
          [
           "Aggravated Battery / Pregnant"
          ],
          [
           "Operating W/O Valid License"
          ],
          [
           "Delivery Of Drug Paraphernalia"
          ],
          [
           "Fleeing Or Attmp Eluding A Leo"
          ],
          [
           "Leave Accd/Attend Veh/Less $50"
          ],
          [
           "Deliver 3,4 Methylenediox"
          ],
          [
           "Stalking (Aggravated)"
          ],
          [
           "Felony Battery (Dom Strang)"
          ],
          [
           "Battery on a Person Over 65"
          ],
          [
           "Grand Theft of a Fire Extinquisher"
          ],
          [
           "Prowling/Loitering"
          ],
          [
           "Poss of Firearm by Convic Felo"
          ],
          [
           "Burglary Conveyance Armed"
          ],
          [
           "Criminal Mischief>$200<$1000"
          ],
          [
           "Possession Of Heroin"
          ],
          [
           "Leaving the Scene of Accident"
          ],
          [
           "Lve/Scen/Acc/Veh/Prop/Damage"
          ],
          [
           "Possession of Hydromorphone"
          ],
          [
           "Possession Of Methamphetamine"
          ],
          [
           "Viol Injunct Domestic Violence"
          ],
          [
           "Poss 3,4 MDMA (Ecstasy)"
          ],
          [
           "Uttering a Forged Instrument"
          ],
          [
           "Video Voyeur-<24Y on Child >16"
          ],
          [
           "Introduce Contraband Into Jail"
          ],
          [
           "Petit Theft $100- $300"
          ],
          [
           "Possession Of Fentanyl"
          ],
          [
           "Viol Pretrial Release Dom Viol"
          ],
          [
           "Sel Etc/Pos/w/Int Contrft Schd"
          ],
          [
           "Unlicensed Telemarketing"
          ],
          [
           "Strong Armed  Robbery"
          ],
          [
           "Aggrav Stalking After Injunctn"
          ],
          [
           "Deliver Cocaine 1000FT Store"
          ],
          [
           "Possession of Morphine"
          ],
          [
           "Offer Agree Secure/Lewd Act"
          ],
          [
           "Possession Of Phentermine"
          ],
          [
           "Poss Unlaw Issue Id"
          ],
          [
           "Aggravated Battery"
          ],
          [
           "Use of Anti-Shoplifting Device"
          ],
          [
           "Expired DL More Than 6 Months"
          ],
          [
           "Possession of LSD"
          ],
          [
           "Att Burgl Unoccupied Dwel"
          ],
          [
           "Consp Traff Oxycodone 28g><30k"
          ],
          [
           "Burglary Dwelling Assault/Batt"
          ],
          [
           "Burglary Dwelling Armed"
          ],
          [
           "Possess Tobacco Product Under 18"
          ],
          [
           "Uttering Forged Bills"
          ],
          [
           "Poss of Vessel w/Altered ID NO"
          ],
          [
           "Unlawful Conveyance of Fuel"
          ],
          [
           "False Ownership Info/Pawn Item"
          ],
          [
           "Tamper With Witness/Victim/CI"
          ],
          [
           "Obstruct Fire Equipment"
          ],
          [
           "Possession Of Lorazepam"
          ],
          [
           "Drivg While Lic Suspd/Revk/Can"
          ],
          [
           "Solicit Deliver Cocaine"
          ],
          [
           "Criminal Mischief"
          ],
          [
           "Agg Assault W/int Com Fel Dome"
          ],
          [
           "Arson in the First Degree"
          ],
          [
           "Exposes Culpable Negligence"
          ],
          [
           "Felony DUI (level 3)"
          ],
          [
           "Sex Offender Fail Comply W/Law"
          ],
          [
           "Compulsory Sch Attnd Violation"
          ],
          [
           "Felony Batt(Great Bodily Harm)"
          ],
          [
           "Manage Busn W/O City Occup Lic"
          ],
          [
           "Poss Of Controlled Substance"
          ],
          [
           "Burglary Conveyance Occupied"
          ],
          [
           "Lewd or Lascivious Molestation"
          ],
          [
           "Possess Drug Paraphernalia"
          ],
          [
           "Principal In The First Degree"
          ],
          [
           "Reckless Driving"
          ],
          [
           "Poss of Cocaine W/I/D/S 1000FT Park"
          ],
          [
           "Aggrav Child Abuse-Agg Battery"
          ],
          [
           "Poss/Sell/Del Cocaine 1000FT Sch"
          ],
          [
           "Leaving Acc/Unattended Veh"
          ],
          [
           "Fraudulent Use of Credit Card"
          ],
          [
           "Dealing in Stolen Property"
          ],
          [
           "Poss Unlaw Issue Driver Licenc"
          ],
          [
           "Consp Traff Oxycodone  4g><14g"
          ],
          [
           "Grand Theft on 65 Yr or Older"
          ],
          [
           "Fighting/Baiting Animals"
          ],
          [
           "Carjacking with a Firearm"
          ],
          [
           "Fail Obey Driv Lic Restrictions"
          ],
          [
           "Unlaw Use False Name/Identity"
          ],
          [
           "Purchase/P/W/Int Cannabis"
          ],
          [
           "Poss Similitude of Drivers Lic"
          ],
          [
           "Carrying Concealed Firearm"
          ],
          [
           "Tamper With Victim"
          ],
          [
           "Fail To Secure Load"
          ],
          [
           "Traffick Hydrocodone   4g><14g"
          ],
          [
           "Violation License Restrictions"
          ],
          [
           "Purchase Cannabis"
          ],
          [
           "Cash Item w/Intent to Defraud"
          ],
          [
           "Harm Public Servant Or Family"
          ],
          [
           "Offer Agree Secure For Lewd Act"
          ],
          [
           "Robbery Sudd Snatch No Weapon"
          ],
          [
           "Trespassing/Construction Site"
          ],
          [
           "Armed Trafficking in Cannabis"
          ],
          [
           "DUI Blood Alcohol Above 0.20"
          ],
          [
           "Carry Open/Uncov Bev In Pub"
          ],
          [
           "DWI w/Inj Susp Lic / Habit Off"
          ],
          [
           "Grand Theft Firearm"
          ],
          [
           "Felony DUI - Enhanced"
          ],
          [
           "Neglect/Abuse Elderly Person"
          ],
          [
           "Felony/Driving Under Influence"
          ],
          [
           "Opert With Susp DL 2ND Offense"
          ],
          [
           "Criminal Mischief Damage <$200"
          ],
          [
           "Burglary Assault/Battery Armed"
          ],
          [
           "Poss F/Arm Delinq"
          ],
          [
           "Felon in Pos of Firearm or Amm"
          ],
          [
           "Lewd/Lasc Exhib Presence <16yr"
          ],
          [
           "Aggrav Child Abuse-Causes Harm"
          ],
          [
           "Violation Of Boater Safety Id"
          ],
          [
           "Disrupting School Function"
          ],
          [
           "Attempted Robbery Firearm"
          ],
          [
           "Prostitution/Lewd Act Assignation"
          ],
          [
           "Del of JWH-250 2-Methox 1-Pentyl"
          ],
          [
           "Sale/Del Counterfeit Cont Subs"
          ],
          [
           "Poss Contr Subst W/o Prescript"
          ],
          [
           "Tampering with a Victim"
          ],
          [
           "Unemployment Compensatn Fraud"
          ],
          [
           "Sex Battery Deft 18+/Vict 11-"
          ],
          [
           "Possession Of 3,4Methylenediox"
          ],
          [
           "Cruelty to Animals"
          ],
          [
           "Lewd/Lasc Battery Pers 12+/<16"
          ],
          [
           "Carjacking w/o Deadly Weapon"
          ],
          [
           "Grand Theft in the 1st Degree"
          ],
          [
           "Refuse Submit Blood/Breath Test"
          ],
          [
           "Kidnapping / Domestic Violence"
          ],
          [
           "Simulation of Legal Process"
          ],
          [
           "Burglary Structure Occupied"
          ],
          [
           "False Bomb Report"
          ],
          [
           "Gambling/Gamb Paraphernalia"
          ],
          [
           "Trespass Structure/Conveyance"
          ],
          [
           "Poss Wep Conv Felon"
          ],
          [
           "Consume Alcoholic Bev Pub"
          ],
          [
           "Failure To Return Hired Vehicle"
          ],
          [
           "Tresspass Struct/Conveyance"
          ],
          [
           "Fail Sex Offend Report Bylaw"
          ],
          [
           "Possess Cannabis 1000FTSch"
          ],
          [
           "Unauth Poss ID Card or DL"
          ],
          [
           "Tresspass in Structure or Conveyance"
          ],
          [
           "Agg Fleeing and Eluding"
          ],
          [
           "Conspiracy Dealing Stolen Prop"
          ],
          [
           "Counterfeit Lic Plates/Sticker"
          ],
          [
           "Interfere W/Traf Cont Dev RR"
          ],
          [
           "Possession Firearm School Prop"
          ],
          [
           "Possession of Benzylpiperazine"
          ],
          [
           "Throw Deadly Missile Into Veh"
          ],
          [
           "Present Proof of Invalid Insur"
          ],
          [
           "Fraud Obtain Food or Lodging"
          ],
          [
           "Crim Use Of Personal Id Info"
          ],
          [
           "License Suspended Revoked"
          ],
          [
           "Traffick Oxycodone     4g><14g"
          ],
          [
           "Poss Anti-Shoplifting Device"
          ],
          [
           "Hiring with Intent to Defraud"
          ],
          [
           "Lewdness Violation"
          ],
          [
           "Poss Of RX Without RX"
          ],
          [
           "Burglary Conveyance Assault/Bat"
          ],
          [
           "Murder in 2nd Degree"
          ],
          [
           "Aggress/Panhandle/Beg/Solict"
          ],
          [
           "Violation of Injunction Order/Stalking/Cyberstalking"
          ],
          [
           "Attempted Robbery  No Weapon"
          ],
          [
           "Possession Of Buprenorphine"
          ],
          [
           "Possess Controlled Substance"
          ],
          [
           "Structuring Transactions"
          ],
          [
           "Exploit Elderly Person 20-100K"
          ],
          [
           "Robbery W/Deadly Weapon"
          ],
          [
           "Harass Witness/Victm/Informnt"
          ],
          [
           "Misuse Of 911 Or E911 System"
          ],
          [
           "DOC/Cause Public Danger"
          ],
          [
           "Dealing In Stolen Property"
          ],
          [
           "Soliciting For Prostitution"
          ],
          [
           "Delivery of 5-Fluoro PB-22"
          ],
          [
           "Prostitution/Lewdness/Assign"
          ],
          [
           "Deliver Cannabis 1000FTSch"
          ],
          [
           "Sexual Performance by a Child"
          ],
          [
           "Possess w/I/Utter Forged Bills"
          ],
          [
           "Unl/Disturb Education/Instui"
          ],
          [
           "Fleeing or Eluding a LEO"
          ],
          [
           "Use Scanning Device to Defraud"
          ],
          [
           "Poss of Methylethcathinone"
          ],
          [
           "Grand Theft Dwell Property"
          ],
          [
           "Burglary Structure Assault/Batt"
          ],
          [
           "Murder in the First Degree"
          ],
          [
           "Del Cannabis For Consideration"
          ],
          [
           "Poss Alprazolam W/int Sell/Del"
          ],
          [
           "Culpable Negligence"
          ],
          [
           "Fail To Redeliv Hire/Leas Prop"
          ],
          [
           "DWLS Canceled Disqul 1st Off"
          ],
          [
           "Fail Register Career Offender"
          ],
          [
           "Forging Bank Bills/Promis Note"
          ],
          [
           "Sell Cannabis"
          ],
          [
           "Use Computer for Child Exploit"
          ],
          [
           "Extradition/Defendants"
          ],
          [
           "Poss Drugs W/O A Prescription"
          ],
          [
           "Contribute Delinquency Of A Minor"
          ],
          [
           "Possession Of Diazepam"
          ],
          [
           "Flee/Elude LEO-Agg Flee Unsafe"
          ],
          [
           "Theft"
          ],
          [
           "Live on Earnings of Prostitute"
          ],
          [
           "Trespass Property w/Dang Weap"
          ],
          [
           "Att Burgl Struc/Conv Dwel/Occp"
          ],
          [
           "Aggravated Assault W/o Firearm"
          ],
          [
           "Battery Emergency Care Provide"
          ],
          [
           "False 911 Call"
          ],
          [
           "Possession of Codeine"
          ],
          [
           "Sexual Battery / Vict 12 Yrs +"
          ],
          [
           "Att Tamper w/Physical Evidence"
          ],
          [
           "Murder In 2nd Degree W/firearm"
          ],
          [
           "Aggravated Battery On 65/Older"
          ],
          [
           "Battery Spouse Or Girlfriend"
          ],
          [
           "Trespass Structure w/Dang Weap"
          ],
          [
           "Possession Of Paraphernalia"
          ],
          [
           "Escape"
          ],
          [
           "Lewd/Lasciv Molest Elder Persn"
          ],
          [
           "Carrying A Concealed Weapon"
          ],
          [
           "Poss Trifluoromethylphenylpipe"
          ],
          [
           "Traffick Amphetamine 28g><200g"
          ],
          [
           "Possession Of Anabolic Steroid"
          ],
          [
           "Agg Fleeing/Eluding High Speed"
          ],
          [
           "Neglect Child / Bodily Harm"
          ],
          [
           "Sale/Del Cannabis At/Near Scho"
          ],
          [
           "Felony Committing Prostitution"
          ],
          [
           "Battery On Fire Fighter"
          ],
          [
           "Fail To Obey Police Officer"
          ],
          [
           "Compulsory Attendance Violation"
          ],
          [
           "Aggr Child Abuse-Torture,Punish"
          ],
          [
           "Prostitution"
          ],
          [
           "Viol Injunction Protect Dom Vi"
          ],
          [
           "Theft/To Deprive"
          ],
          [
           "Crim Attempt/Solicit/Consp"
          ],
          [
           "Trespass Struct/Conveyance"
          ],
          [
           "False Motor Veh Insurance Card"
          ],
          [
           "Computer Pornography"
          ],
          [
           "Depriv LEO of Protect/Communic"
          ],
          [
           "Del 3,4 Methylenedioxymethcath"
          ],
          [
           "Del Morphine at/near Park"
          ],
          [
           "Use Of 2 Way Device To Fac Fel"
          ],
          [
           "Shoot Into Vehicle"
          ],
          [
           "Offn Against Intellectual Prop"
          ],
          [
           "Deliver Cocaine 1000FT Park"
          ],
          [
           "Battery On Parking Enfor Speci"
          ],
          [
           "Failure To Pay Taxi Cab Charge"
          ],
          [
           "Solicit To Deliver Cocaine"
          ],
          [
           "Open Carrying Of Weapon"
          ],
          [
           "D.U.I. Serious Bodily Injury"
          ],
          [
           "Abuse Without Great Harm"
          ],
          [
           "Lease For Purpose Trafficking"
          ],
          [
           "Threat Public Servant"
          ],
          [
           "Ride Tri-Rail Without Paying"
          ],
          [
           "Falsely Impersonating Officer"
          ],
          [
           "Poss Meth/Diox/Meth/Amp (MDMA)"
          ],
          [
           "Solic to Commit Battery"
          ],
          [
           "Unlawful Use Of Police Badges"
          ],
          [
           "Unauth C/P/S Sounds>1000/Audio"
          ],
          [
           "Deliver Alprazolam"
          ],
          [
           "DUI - Property Damage/Personal Injury"
          ],
          [
           "False Info LEO During Invest"
          ],
          [
           "Purchasing Of Alprazolam"
          ],
          [
           "Refuse to Supply DNA Sample"
          ],
          [
           "Throw Missile Into Pub/Priv Dw"
          ],
          [
           "Sel/Pur/Mfr/Del Control Substa"
          ],
          [
           "DWLS Susp/Cancel Revoked"
          ],
          [
           "Cause Anoth Phone Ring Repeat"
          ],
          [
           "Shoot In Occupied Dwell"
          ],
          [
           "Poss Oxycodone W/Int/Sell/Del"
          ],
          [
           "Conspiracy to Deliver Cocaine"
          ],
          [
           "Possess/Use Weapon 1 Deg Felon"
          ],
          [
           "Intoxicated/Safety Of Another"
          ],
          [
           "Aggravated Battery (Firearm/Actual Possession)"
          ],
          [
           "Insurance Fraud"
          ],
          [
           "Sell or Offer for Sale Counterfeit Goods"
          ],
          [
           "Oper Motorcycle W/O Valid DL"
          ],
          [
           "Agg Assault Law Enforc Officer"
          ],
          [
           "Money Launder 100K or More Dols"
          ],
          [
           "Attempt Burglary (Struct)"
          ],
          [
           "Agg Abuse Elderlly/Disabled Adult"
          ],
          [
           "Throw In Occupied Dwell"
          ],
          [
           "Grand Theft of the 2nd Degree"
          ],
          [
           "Lewd Act Presence Child 16-"
          ],
          [
           "DUI/Property Damage/Persnl Inj"
          ]
         ],
         "hovertemplate": "x=%{x}<br>y=%{y}<br>b=%{customdata[0]}<br>color=%{marker.color}<extra></extra>",
         "legendgroup": "",
         "marker": {
          "color": [
           -1,
           -1,
           3,
           0,
           -1,
           1,
           0,
           1,
           -1,
           3,
           0,
           -1,
           1,
           -1,
           0,
           -1,
           -1,
           1,
           2,
           -1,
           -1,
           -1,
           2,
           5,
           -1,
           -1,
           -1,
           -1,
           -1,
           0,
           -1,
           2,
           -1,
           -1,
           0,
           -1,
           3,
           -1,
           0,
           -1,
           -1,
           -1,
           4,
           -1,
           1,
           3,
           -1,
           -1,
           0,
           -1,
           -1,
           5,
           -1,
           -1,
           -1,
           -1,
           1,
           -1,
           -1,
           -1,
           0,
           3,
           1,
           3,
           -1,
           -1,
           0,
           -1,
           -1,
           -1,
           -1,
           -1,
           -1,
           -1,
           0,
           -1,
           -1,
           0,
           -1,
           -1,
           -1,
           0,
           -1,
           -1,
           1,
           -1,
           -1,
           4,
           -1,
           -1,
           -1,
           -1,
           -1,
           -1,
           0,
           -1,
           1,
           -1,
           -1,
           -1,
           1,
           -1,
           4,
           -1,
           -1,
           -1,
           -1,
           1,
           -1,
           -1,
           -1,
           0,
           -1,
           -1,
           1,
           -1,
           -1,
           -1,
           -1,
           -1,
           -1,
           -1,
           -1,
           -1,
           0,
           0,
           -1,
           -1,
           -1,
           -1,
           -1,
           -1,
           -1,
           -1,
           3,
           1,
           -1,
           -1,
           -1,
           -1,
           -1,
           -1,
           -1,
           -1,
           -1,
           1,
           0,
           -1,
           1,
           -1,
           -1,
           -1,
           5,
           -1,
           -1,
           0,
           0,
           -1,
           4,
           -1,
           -1,
           0,
           3,
           -1,
           2,
           -1,
           -1,
           -1,
           -1,
           -1,
           -1,
           2,
           0,
           -1,
           -1,
           0,
           -1,
           2,
           -1,
           -1,
           -1,
           -1,
           -1,
           -1,
           -1,
           -1,
           -1,
           0,
           -1,
           -1,
           -1,
           5,
           -1,
           -1,
           0,
           -1,
           -1,
           -1,
           -1,
           -1,
           -1,
           -1,
           4,
           -1,
           -1,
           -1,
           -1,
           -1,
           -1,
           -1,
           0,
           -1,
           -1,
           -1,
           -1,
           -1,
           -1,
           -1,
           -1,
           -1,
           -1,
           -1,
           -1,
           0,
           0,
           -1,
           -1,
           -1,
           -1,
           -1,
           0,
           -1,
           3,
           -1,
           -1,
           0,
           -1,
           -1,
           0,
           -1,
           -1,
           -1,
           0,
           -1,
           1,
           -1,
           -1,
           -1,
           -1,
           -1,
           -1,
           0,
           -1,
           -1,
           -1,
           2,
           -1,
           0,
           -1,
           -1,
           0,
           1,
           -1,
           0,
           -1,
           -1,
           -1,
           -1,
           -1,
           -1,
           -1,
           0,
           2,
           -1,
           -1,
           -1,
           -1,
           1,
           -1,
           0,
           -1,
           -1,
           -1,
           -1,
           -1,
           -1,
           -1,
           -1,
           -1,
           -1,
           -1,
           -1,
           -1,
           1,
           -1,
           -1,
           -1,
           -1,
           -1,
           -1,
           -1,
           5,
           2,
           -1,
           -1,
           -1,
           -1,
           -1,
           -1,
           -1,
           0,
           -1,
           -1,
           -1,
           -1,
           -1,
           4,
           -1,
           -1,
           -1,
           -1,
           -1,
           -1,
           -1,
           1,
           -1,
           -1,
           -1,
           -1,
           -1,
           -1,
           -1,
           1,
           -1,
           -1,
           -1,
           -1,
           -1,
           -1,
           -1,
           -1,
           -1,
           -1,
           3,
           -1,
           -1,
           1,
           1,
           -1,
           -1,
           -1,
           -1,
           -1,
           -1,
           -1,
           -1,
           -1,
           -1,
           -1,
           -1,
           -1,
           -1
          ],
          "coloraxis": "coloraxis",
          "size": 4,
          "symbol": "circle"
         },
         "mode": "markers",
         "name": "",
         "orientation": "v",
         "showlegend": false,
         "type": "scatter",
         "x": [
          16.616966247558594,
          14.947479248046875,
          13.264639854431152,
          16.363859176635742,
          14.352456092834473,
          10.179258346557617,
          17.21424674987793,
          9.329874038696289,
          9.852495193481445,
          13.233471870422363,
          16.033151626586914,
          15.105149269104004,
          9.266256332397461,
          14.359471321105957,
          17.245201110839844,
          14.609724998474121,
          12.585783958435059,
          10.331820487976074,
          8.938472747802734,
          14.162368774414062,
          13.116941452026367,
          11.229315757751465,
          8.834321022033691,
          13.23108196258545,
          15.592309951782227,
          15.042033195495605,
          12.606258392333984,
          14.900349617004395,
          15.526586532592773,
          17.36366844177246,
          14.395414352416992,
          9.072206497192383,
          15.26769733428955,
          14.065885543823242,
          16.139558792114258,
          12.161162376403809,
          13.233820915222168,
          12.93639850616455,
          16.503511428833008,
          14.501229286193848,
          16.826988220214844,
          13.237663269042969,
          10.227738380432129,
          15.137468338012695,
          10.064962387084961,
          13.221787452697754,
          14.204580307006836,
          14.467117309570312,
          17.279199600219727,
          14.883620262145996,
          12.982348442077637,
          13.364264488220215,
          15.397586822509766,
          15.583550453186035,
          15.970542907714844,
          14.120807647705078,
          9.248930931091309,
          14.827987670898438,
          10.215744018554688,
          14.689045906066895,
          17.269739151000977,
          13.002359390258789,
          9.271133422851562,
          13.33957290649414,
          14.887213706970215,
          13.533214569091797,
          16.438274383544922,
          8.91324234008789,
          15.622493743896484,
          16.76896095275879,
          13.603348731994629,
          15.827702522277832,
          14.776387214660645,
          15.246474266052246,
          16.655221939086914,
          14.378715515136719,
          10.603394508361816,
          15.751312255859375,
          16.15265464782715,
          15.104832649230957,
          16.832426071166992,
          16.86716079711914,
          14.38689136505127,
          13.620429039001465,
          9.915279388427734,
          15.391458511352539,
          14.77458381652832,
          10.202574729919434,
          14.669352531433105,
          15.100691795349121,
          14.25430679321289,
          15.551629066467285,
          16.90276336669922,
          15.217522621154785,
          17.418123245239258,
          14.707273483276367,
          10.236907958984375,
          15.051019668579102,
          14.860541343688965,
          10.5056734085083,
          10.120255470275879,
          15.070487976074219,
          10.089712142944336,
          16.169158935546875,
          12.531153678894043,
          16.464506149291992,
          15.256754875183105,
          10.006855964660645,
          15.568099021911621,
          11.339570999145508,
          14.50273323059082,
          16.59303855895996,
          15.082079887390137,
          8.887207984924316,
          10.185649871826172,
          13.242098808288574,
          10.714935302734375,
          13.918254852294922,
          14.580290794372559,
          17.272550582885742,
          12.954474449157715,
          11.408082962036133,
          17.050662994384766,
          9.773451805114746,
          17.00248908996582,
          17.027156829833984,
          10.184530258178711,
          16.067626953125,
          14.015474319458008,
          13.897989273071289,
          16.315717697143555,
          16.72041130065918,
          17.390390396118164,
          10.853165626525879,
          13.278651237487793,
          9.33590316772461,
          15.801630020141602,
          14.526715278625488,
          15.15058422088623,
          13.275279998779297,
          14.670366287231445,
          13.012028694152832,
          15.161550521850586,
          14.453022003173828,
          13.817307472229004,
          10.672098159790039,
          17.34247398376465,
          12.971675872802734,
          10.359968185424805,
          15.246881484985352,
          14.088253021240234,
          8.908478736877441,
          13.831050872802734,
          8.860147476196289,
          14.293051719665527,
          15.941495895385742,
          16.042583465576172,
          13.497751235961914,
          9.83369255065918,
          14.268961906433105,
          14.533777236938477,
          16.21832847595215,
          13.288930892944336,
          16.578277587890625,
          8.988264083862305,
          13.499714851379395,
          15.976149559020996,
          16.687496185302734,
          14.164755821228027,
          9.821051597595215,
          15.356074333190918,
          9.004998207092285,
          15.846190452575684,
          13.540063858032227,
          13.277609825134277,
          16.574983596801758,
          16.810697555541992,
          9.035435676574707,
          10.69124698638916,
          12.132440567016602,
          13.098804473876953,
          15.552693367004395,
          14.172445297241211,
          13.878697395324707,
          13.47371768951416,
          13.110273361206055,
          14.742851257324219,
          16.958627700805664,
          11.57437515258789,
          15.347445487976074,
          12.519148826599121,
          13.314696311950684,
          15.38710880279541,
          13.131647109985352,
          16.583988189697266,
          13.123875617980957,
          10.262931823730469,
          15.98194694519043,
          14.0252046585083,
          16.64995765686035,
          15.661829948425293,
          13.13730239868164,
          10.173070907592773,
          14.25766372680664,
          12.772177696228027,
          14.081001281738281,
          15.327567100524902,
          13.420563697814941,
          16.699190139770508,
          17.147239685058594,
          17.426328659057617,
          16.652135848999023,
          15.868284225463867,
          16.93402862548828,
          15.228705406188965,
          12.185111045837402,
          14.491003036499023,
          17.18977165222168,
          13.065439224243164,
          8.857666969299316,
          13.584152221679688,
          17.25551414489746,
          15.23843002319336,
          16.016033172607422,
          15.942867279052734,
          16.759977340698242,
          15.735947608947754,
          10.670351028442383,
          15.506410598754883,
          14.080163955688477,
          15.840298652648926,
          16.280874252319336,
          13.106315612792969,
          9.830158233642578,
          17.120361328125,
          15.769850730895996,
          12.976353645324707,
          13.965692520141602,
          17.234189987182617,
          14.610761642456055,
          14.624677658081055,
          15.289690017700195,
          16.704931259155273,
          10.54271125793457,
          10.802660942077637,
          17.179943084716797,
          14.303524017333984,
          15.480661392211914,
          15.334942817687988,
          16.673521041870117,
          13.695382118225098,
          15.958345413208008,
          13.50338077545166,
          10.922125816345215,
          13.141043663024902,
          8.804659843444824,
          12.90449333190918,
          16.01905059814453,
          13.134231567382812,
          15.343477249145508,
          16.281126022338867,
          10.264606475830078,
          15.543783187866211,
          17.10283088684082,
          15.050252914428711,
          8.896142959594727,
          11.243654251098633,
          13.323962211608887,
          13.898935317993164,
          13.19338607788086,
          13.683444023132324,
          16.028623580932617,
          9.024806022644043,
          13.01220703125,
          16.573293685913086,
          10.366222381591797,
          13.473162651062012,
          10.736493110656738,
          15.388038635253906,
          15.993083953857422,
          13.42089557647705,
          15.554017066955566,
          17.112733840942383,
          14.508891105651855,
          14.23086166381836,
          16.69329833984375,
          9.9173002243042,
          13.071163177490234,
          16.72484588623047,
          14.807787895202637,
          14.166426658630371,
          14.530592918395996,
          15.62531852722168,
          10.569734573364258,
          15.282995223999023,
          13.084192276000977,
          16.212841033935547,
          10.695327758789062,
          9.955094337463379,
          10.583558082580566,
          15.273651123046875,
          13.425379753112793,
          9.125042915344238,
          13.379520416259766,
          14.819348335266113,
          13.294918060302734,
          15.374106407165527,
          13.766523361206055,
          13.242147445678711,
          15.487855911254883,
          15.921989440917969,
          16.281652450561523,
          17.064376831054688,
          15.31184196472168,
          12.937926292419434,
          15.537237167358398,
          10.205738067626953,
          9.897841453552246,
          14.093289375305176,
          15.608359336853027,
          14.431005477905273,
          8.888694763183594,
          14.324179649353027,
          15.029335975646973,
          9.295985221862793,
          15.814764022827148,
          13.703400611877441,
          13.47852611541748,
          14.89445972442627,
          13.85147476196289,
          15.519988059997559,
          16.656404495239258,
          10.213821411132812,
          15.113272666931152,
          13.567400932312012,
          8.956584930419922,
          11.074048042297363,
          14.086133003234863,
          16.272212982177734,
          11.092336654663086,
          13.517745018005371,
          15.647189140319824,
          11.069743156433105,
          13.074446678161621,
          16.71122932434082,
          16.886524200439453,
          9.52388858795166,
          9.244058609008789,
          15.469724655151367,
          10.951678276062012,
          14.644182205200195,
          15.618339538574219,
          16.237524032592773,
          13.72973918914795,
          15.144233703613281,
          15.410594940185547,
          16.531198501586914,
          14.064573287963867,
          16.8814697265625,
          14.678496360778809,
          12.664979934692383,
          14.084728240966797
         ],
         "xaxis": "x",
         "y": [
          8.081073760986328,
          6.030754089355469,
          4.006679534912109,
          7.067660331726074,
          7.731832981109619,
          8.63730525970459,
          7.344834804534912,
          9.079383850097656,
          7.724051475524902,
          4.045468807220459,
          4.538733005523682,
          8.158757209777832,
          9.10283374786377,
          8.23636245727539,
          7.758054733276367,
          8.673140525817871,
          7.719477653503418,
          9.241098403930664,
          7.488933563232422,
          5.627694606781006,
          4.353868007659912,
          8.383316993713379,
          7.706244945526123,
          8.221199989318848,
          6.25248384475708,
          6.171806335449219,
          7.658053874969482,
          4.1524882316589355,
          5.90245246887207,
          7.580409526824951,
          8.617207527160645,
          7.598776817321777,
          8.782964706420898,
          5.757899284362793,
          5.072835922241211,
          7.726099014282227,
          3.8369836807250977,
          7.183661460876465,
          6.9635820388793945,
          8.668567657470703,
          5.376980781555176,
          8.51585865020752,
          8.07701301574707,
          7.9775590896606445,
          9.031538963317871,
          3.9219675064086914,
          4.2045159339904785,
          9.000455856323242,
          7.672732830047607,
          6.222735404968262,
          7.710284233093262,
          8.295180320739746,
          8.73424243927002,
          8.685152053833008,
          5.471749305725098,
          5.6280670166015625,
          9.113007545471191,
          6.110241889953613,
          8.524224281311035,
          8.797060012817383,
          7.762826919555664,
          3.714716911315918,
          9.025083541870117,
          3.924065351486206,
          6.078136920928955,
          4.403646469116211,
          6.645230770111084,
          7.564197063446045,
          5.798364162445068,
          5.316464900970459,
          5.131307125091553,
          7.514163494110107,
          7.672449111938477,
          8.561894416809082,
          7.351158618927002,
          8.702106475830078,
          8.926360130310059,
          4.890359401702881,
          5.504934787750244,
          6.424745559692383,
          4.722591400146484,
          7.52372932434082,
          8.492777824401855,
          4.250521659851074,
          9.303070068359375,
          3.250319480895996,
          4.112013339996338,
          8.085224151611328,
          8.587788581848145,
          7.850325107574463,
          7.473283767700195,
          6.1516947746276855,
          8.146194458007812,
          7.4766669273376465,
          7.110451698303223,
          6.546601295471191,
          9.348944664001465,
          3.490142345428467,
          4.174272537231445,
          8.476491928100586,
          9.271377563476562,
          8.733661651611328,
          8.134051322937012,
          4.660236358642578,
          6.828982353210449,
          7.657905101776123,
          5.811787128448486,
          9.251304626464844,
          8.273296356201172,
          8.16108226776123,
          4.823668003082275,
          7.164763927459717,
          8.588438034057617,
          8.379599571228027,
          9.277239799499512,
          6.20407772064209,
          8.797688484191895,
          3.984409809112549,
          8.460065841674805,
          6.90669059753418,
          4.103342533111572,
          8.360824584960938,
          7.791904926300049,
          8.422904968261719,
          7.535154819488525,
          7.400412559509277,
          9.375310897827148,
          4.424921035766602,
          3.9329545497894287,
          4.647998809814453,
          4.637700080871582,
          5.300243377685547,
          7.087153911590576,
          8.755170822143555,
          3.9594714641571045,
          9.067791938781738,
          6.363992214202881,
          8.965226173400879,
          7.007322788238525,
          8.14439868927002,
          5.974539756774902,
          5.9616546630859375,
          8.493817329406738,
          8.189690589904785,
          4.334378719329834,
          9.449501037597656,
          7.206542491912842,
          6.408754825592041,
          9.43171501159668,
          6.832301616668701,
          4.1929216384887695,
          8.316072463989258,
          8.318037033081055,
          8.322697639465332,
          3.973073959350586,
          4.676137924194336,
          5.516656875610352,
          4.0568766593933105,
          8.242277145385742,
          7.205530166625977,
          8.086432456970215,
          6.955266952514648,
          3.9829349517822266,
          4.471597194671631,
          7.573758602142334,
          4.540792465209961,
          7.413480281829834,
          5.305838108062744,
          3.7178359031677246,
          8.174562454223633,
          7.881954669952393,
          7.562047958374023,
          5.069591522216797,
          8.52269458770752,
          6.288064479827881,
          7.290580749511719,
          6.460840702056885,
          7.573456764221191,
          7.630209922790527,
          7.714302062988281,
          3.789217472076416,
          6.408743381500244,
          5.667778491973877,
          7.824217796325684,
          6.9496750831604,
          4.146575450897217,
          6.4367804527282715,
          7.358810901641846,
          8.241225242614746,
          7.473318576812744,
          6.738881587982178,
          8.300257682800293,
          8.255949020385742,
          8.010189056396484,
          7.138558864593506,
          6.316998481750488,
          8.011809349060059,
          4.848993301391602,
          4.008658409118652,
          5.226609230041504,
          4.90606164932251,
          6.482293605804443,
          8.142518043518066,
          8.019372940063477,
          6.775776386260986,
          4.504594326019287,
          6.445143699645996,
          3.4671528339385986,
          7.612175941467285,
          6.115143775939941,
          7.550250053405762,
          4.494036674499512,
          5.222189426422119,
          6.399569034576416,
          7.450404644012451,
          7.720966339111328,
          4.015471458435059,
          6.332603931427002,
          5.881082534790039,
          8.084299087524414,
          4.34693717956543,
          6.403651237487793,
          3.2991881370544434,
          5.293210983276367,
          4.78134298324585,
          5.668501377105713,
          7.434389114379883,
          8.925516128540039,
          6.944313049316406,
          3.8842813968658447,
          5.138598918914795,
          5.581948757171631,
          3.7811899185180664,
          8.211308479309082,
          6.709045886993408,
          5.142177581787109,
          6.590237140655518,
          4.14060115814209,
          7.416241645812988,
          6.528993129730225,
          4.989231586456299,
          8.408190727233887,
          7.501524448394775,
          8.99933910369873,
          9.414043426513672,
          6.207620143890381,
          6.8038763999938965,
          7.262810707092285,
          7.721338748931885,
          4.577198028564453,
          8.556653022766113,
          5.422783851623535,
          6.48501443862915,
          8.226311683654785,
          6.357059001922607,
          8.071432113647461,
          7.145448684692383,
          4.61083459854126,
          7.872676849365234,
          3.3164193630218506,
          4.9397478103637695,
          8.98466968536377,
          6.1161417961120605,
          7.3404459953308105,
          6.9638566970825195,
          7.5152268409729,
          8.29859733581543,
          8.087506294250488,
          3.646326780319214,
          3.5147602558135986,
          3.580549478530884,
          4.502359867095947,
          7.584510326385498,
          7.061270713806152,
          6.104098796844482,
          9.508966445922852,
          7.943532466888428,
          8.883688926696777,
          3.2730815410614014,
          5.918148517608643,
          6.424476146697998,
          7.163136005401611,
          7.059921741485596,
          8.83769416809082,
          7.6508893966674805,
          4.540335178375244,
          8.626853942871094,
          6.587921619415283,
          5.360727310180664,
          6.741335868835449,
          7.5358099937438965,
          7.729268550872803,
          7.648848056793213,
          9.529494285583496,
          3.309155225753784,
          6.434127330780029,
          7.373021125793457,
          8.653141021728516,
          8.359464645385742,
          9.304566383361816,
          3.3426547050476074,
          8.402432441711426,
          7.655827522277832,
          6.491552829742432,
          8.769877433776855,
          4.911602973937988,
          8.504435539245605,
          8.293018341064453,
          6.35640287399292,
          8.268589973449707,
          5.633453845977783,
          5.997447490692139,
          6.474365711212158,
          4.403147220611572,
          7.014926433563232,
          3.3120687007904053,
          8.110027313232422,
          9.140731811523438,
          5.433493614196777,
          6.671535491943359,
          8.381261825561523,
          8.308550834655762,
          7.591276168823242,
          4.301912784576416,
          9.141196250915527,
          7.4661664962768555,
          8.415328979492188,
          8.579388618469238,
          5.154999256134033,
          8.598163604736328,
          4.650677680969238,
          4.580802917480469,
          8.917442321777344,
          7.941897392272949,
          4.562243461608887,
          8.1664457321167,
          8.332427978515625,
          5.899692535400391,
          4.612266540527344,
          8.40626335144043,
          3.521315336227417,
          7.075442314147949,
          8.088485717773438,
          3.687835454940796,
          4.610052108764648,
          7.627926349639893,
          8.931347846984863,
          9.144998550415039,
          7.399023056030273,
          9.272421836853027,
          8.552274703979492,
          4.782292366027832,
          4.816336631774902,
          4.1366071701049805,
          8.65649700164795,
          5.183726787567139,
          6.601247787475586,
          7.598044395446777,
          7.718042850494385,
          6.255674839019775,
          6.701158046722412,
          5.725508213043213
         ],
         "yaxis": "y"
        }
       ],
       "layout": {
        "coloraxis": {
         "colorbar": {
          "title": {
           "text": "color"
          }
         },
         "colorscale": [
          [
           0,
           "#0d0887"
          ],
          [
           0.1111111111111111,
           "#46039f"
          ],
          [
           0.2222222222222222,
           "#7201a8"
          ],
          [
           0.3333333333333333,
           "#9c179e"
          ],
          [
           0.4444444444444444,
           "#bd3786"
          ],
          [
           0.5555555555555556,
           "#d8576b"
          ],
          [
           0.6666666666666666,
           "#ed7953"
          ],
          [
           0.7777777777777778,
           "#fb9f3a"
          ],
          [
           0.8888888888888888,
           "#fdca26"
          ],
          [
           1,
           "#f0f921"
          ]
         ]
        },
        "hoverlabel": {
         "bgcolor": "black",
         "font": {
          "size": 12
         }
        },
        "legend": {
         "tracegroupgap": 0
        },
        "margin": {
         "b": 0,
         "l": 0,
         "r": 0,
         "t": 0
        },
        "template": {
         "data": {
          "bar": [
           {
            "error_x": {
             "color": "#2a3f5f"
            },
            "error_y": {
             "color": "#2a3f5f"
            },
            "marker": {
             "line": {
              "color": "#E5ECF6",
              "width": 0.5
             }
            },
            "type": "bar"
           }
          ],
          "barpolar": [
           {
            "marker": {
             "line": {
              "color": "#E5ECF6",
              "width": 0.5
             }
            },
            "type": "barpolar"
           }
          ],
          "carpet": [
           {
            "aaxis": {
             "endlinecolor": "#2a3f5f",
             "gridcolor": "white",
             "linecolor": "white",
             "minorgridcolor": "white",
             "startlinecolor": "#2a3f5f"
            },
            "baxis": {
             "endlinecolor": "#2a3f5f",
             "gridcolor": "white",
             "linecolor": "white",
             "minorgridcolor": "white",
             "startlinecolor": "#2a3f5f"
            },
            "type": "carpet"
           }
          ],
          "choropleth": [
           {
            "colorbar": {
             "outlinewidth": 0,
             "ticks": ""
            },
            "type": "choropleth"
           }
          ],
          "contour": [
           {
            "colorbar": {
             "outlinewidth": 0,
             "ticks": ""
            },
            "colorscale": [
             [
              0,
              "#0d0887"
             ],
             [
              0.1111111111111111,
              "#46039f"
             ],
             [
              0.2222222222222222,
              "#7201a8"
             ],
             [
              0.3333333333333333,
              "#9c179e"
             ],
             [
              0.4444444444444444,
              "#bd3786"
             ],
             [
              0.5555555555555556,
              "#d8576b"
             ],
             [
              0.6666666666666666,
              "#ed7953"
             ],
             [
              0.7777777777777778,
              "#fb9f3a"
             ],
             [
              0.8888888888888888,
              "#fdca26"
             ],
             [
              1,
              "#f0f921"
             ]
            ],
            "type": "contour"
           }
          ],
          "contourcarpet": [
           {
            "colorbar": {
             "outlinewidth": 0,
             "ticks": ""
            },
            "type": "contourcarpet"
           }
          ],
          "heatmap": [
           {
            "colorbar": {
             "outlinewidth": 0,
             "ticks": ""
            },
            "colorscale": [
             [
              0,
              "#0d0887"
             ],
             [
              0.1111111111111111,
              "#46039f"
             ],
             [
              0.2222222222222222,
              "#7201a8"
             ],
             [
              0.3333333333333333,
              "#9c179e"
             ],
             [
              0.4444444444444444,
              "#bd3786"
             ],
             [
              0.5555555555555556,
              "#d8576b"
             ],
             [
              0.6666666666666666,
              "#ed7953"
             ],
             [
              0.7777777777777778,
              "#fb9f3a"
             ],
             [
              0.8888888888888888,
              "#fdca26"
             ],
             [
              1,
              "#f0f921"
             ]
            ],
            "type": "heatmap"
           }
          ],
          "heatmapgl": [
           {
            "colorbar": {
             "outlinewidth": 0,
             "ticks": ""
            },
            "colorscale": [
             [
              0,
              "#0d0887"
             ],
             [
              0.1111111111111111,
              "#46039f"
             ],
             [
              0.2222222222222222,
              "#7201a8"
             ],
             [
              0.3333333333333333,
              "#9c179e"
             ],
             [
              0.4444444444444444,
              "#bd3786"
             ],
             [
              0.5555555555555556,
              "#d8576b"
             ],
             [
              0.6666666666666666,
              "#ed7953"
             ],
             [
              0.7777777777777778,
              "#fb9f3a"
             ],
             [
              0.8888888888888888,
              "#fdca26"
             ],
             [
              1,
              "#f0f921"
             ]
            ],
            "type": "heatmapgl"
           }
          ],
          "histogram": [
           {
            "marker": {
             "colorbar": {
              "outlinewidth": 0,
              "ticks": ""
             }
            },
            "type": "histogram"
           }
          ],
          "histogram2d": [
           {
            "colorbar": {
             "outlinewidth": 0,
             "ticks": ""
            },
            "colorscale": [
             [
              0,
              "#0d0887"
             ],
             [
              0.1111111111111111,
              "#46039f"
             ],
             [
              0.2222222222222222,
              "#7201a8"
             ],
             [
              0.3333333333333333,
              "#9c179e"
             ],
             [
              0.4444444444444444,
              "#bd3786"
             ],
             [
              0.5555555555555556,
              "#d8576b"
             ],
             [
              0.6666666666666666,
              "#ed7953"
             ],
             [
              0.7777777777777778,
              "#fb9f3a"
             ],
             [
              0.8888888888888888,
              "#fdca26"
             ],
             [
              1,
              "#f0f921"
             ]
            ],
            "type": "histogram2d"
           }
          ],
          "histogram2dcontour": [
           {
            "colorbar": {
             "outlinewidth": 0,
             "ticks": ""
            },
            "colorscale": [
             [
              0,
              "#0d0887"
             ],
             [
              0.1111111111111111,
              "#46039f"
             ],
             [
              0.2222222222222222,
              "#7201a8"
             ],
             [
              0.3333333333333333,
              "#9c179e"
             ],
             [
              0.4444444444444444,
              "#bd3786"
             ],
             [
              0.5555555555555556,
              "#d8576b"
             ],
             [
              0.6666666666666666,
              "#ed7953"
             ],
             [
              0.7777777777777778,
              "#fb9f3a"
             ],
             [
              0.8888888888888888,
              "#fdca26"
             ],
             [
              1,
              "#f0f921"
             ]
            ],
            "type": "histogram2dcontour"
           }
          ],
          "mesh3d": [
           {
            "colorbar": {
             "outlinewidth": 0,
             "ticks": ""
            },
            "type": "mesh3d"
           }
          ],
          "parcoords": [
           {
            "line": {
             "colorbar": {
              "outlinewidth": 0,
              "ticks": ""
             }
            },
            "type": "parcoords"
           }
          ],
          "pie": [
           {
            "automargin": true,
            "type": "pie"
           }
          ],
          "scatter": [
           {
            "marker": {
             "colorbar": {
              "outlinewidth": 0,
              "ticks": ""
             }
            },
            "type": "scatter"
           }
          ],
          "scatter3d": [
           {
            "line": {
             "colorbar": {
              "outlinewidth": 0,
              "ticks": ""
             }
            },
            "marker": {
             "colorbar": {
              "outlinewidth": 0,
              "ticks": ""
             }
            },
            "type": "scatter3d"
           }
          ],
          "scattercarpet": [
           {
            "marker": {
             "colorbar": {
              "outlinewidth": 0,
              "ticks": ""
             }
            },
            "type": "scattercarpet"
           }
          ],
          "scattergeo": [
           {
            "marker": {
             "colorbar": {
              "outlinewidth": 0,
              "ticks": ""
             }
            },
            "type": "scattergeo"
           }
          ],
          "scattergl": [
           {
            "marker": {
             "colorbar": {
              "outlinewidth": 0,
              "ticks": ""
             }
            },
            "type": "scattergl"
           }
          ],
          "scattermapbox": [
           {
            "marker": {
             "colorbar": {
              "outlinewidth": 0,
              "ticks": ""
             }
            },
            "type": "scattermapbox"
           }
          ],
          "scatterpolar": [
           {
            "marker": {
             "colorbar": {
              "outlinewidth": 0,
              "ticks": ""
             }
            },
            "type": "scatterpolar"
           }
          ],
          "scatterpolargl": [
           {
            "marker": {
             "colorbar": {
              "outlinewidth": 0,
              "ticks": ""
             }
            },
            "type": "scatterpolargl"
           }
          ],
          "scatterternary": [
           {
            "marker": {
             "colorbar": {
              "outlinewidth": 0,
              "ticks": ""
             }
            },
            "type": "scatterternary"
           }
          ],
          "surface": [
           {
            "colorbar": {
             "outlinewidth": 0,
             "ticks": ""
            },
            "colorscale": [
             [
              0,
              "#0d0887"
             ],
             [
              0.1111111111111111,
              "#46039f"
             ],
             [
              0.2222222222222222,
              "#7201a8"
             ],
             [
              0.3333333333333333,
              "#9c179e"
             ],
             [
              0.4444444444444444,
              "#bd3786"
             ],
             [
              0.5555555555555556,
              "#d8576b"
             ],
             [
              0.6666666666666666,
              "#ed7953"
             ],
             [
              0.7777777777777778,
              "#fb9f3a"
             ],
             [
              0.8888888888888888,
              "#fdca26"
             ],
             [
              1,
              "#f0f921"
             ]
            ],
            "type": "surface"
           }
          ],
          "table": [
           {
            "cells": {
             "fill": {
              "color": "#EBF0F8"
             },
             "line": {
              "color": "white"
             }
            },
            "header": {
             "fill": {
              "color": "#C8D4E3"
             },
             "line": {
              "color": "white"
             }
            },
            "type": "table"
           }
          ]
         },
         "layout": {
          "annotationdefaults": {
           "arrowcolor": "#2a3f5f",
           "arrowhead": 0,
           "arrowwidth": 1
          },
          "autotypenumbers": "strict",
          "coloraxis": {
           "colorbar": {
            "outlinewidth": 0,
            "ticks": ""
           }
          },
          "colorscale": {
           "diverging": [
            [
             0,
             "#8e0152"
            ],
            [
             0.1,
             "#c51b7d"
            ],
            [
             0.2,
             "#de77ae"
            ],
            [
             0.3,
             "#f1b6da"
            ],
            [
             0.4,
             "#fde0ef"
            ],
            [
             0.5,
             "#f7f7f7"
            ],
            [
             0.6,
             "#e6f5d0"
            ],
            [
             0.7,
             "#b8e186"
            ],
            [
             0.8,
             "#7fbc41"
            ],
            [
             0.9,
             "#4d9221"
            ],
            [
             1,
             "#276419"
            ]
           ],
           "sequential": [
            [
             0,
             "#0d0887"
            ],
            [
             0.1111111111111111,
             "#46039f"
            ],
            [
             0.2222222222222222,
             "#7201a8"
            ],
            [
             0.3333333333333333,
             "#9c179e"
            ],
            [
             0.4444444444444444,
             "#bd3786"
            ],
            [
             0.5555555555555556,
             "#d8576b"
            ],
            [
             0.6666666666666666,
             "#ed7953"
            ],
            [
             0.7777777777777778,
             "#fb9f3a"
            ],
            [
             0.8888888888888888,
             "#fdca26"
            ],
            [
             1,
             "#f0f921"
            ]
           ],
           "sequentialminus": [
            [
             0,
             "#0d0887"
            ],
            [
             0.1111111111111111,
             "#46039f"
            ],
            [
             0.2222222222222222,
             "#7201a8"
            ],
            [
             0.3333333333333333,
             "#9c179e"
            ],
            [
             0.4444444444444444,
             "#bd3786"
            ],
            [
             0.5555555555555556,
             "#d8576b"
            ],
            [
             0.6666666666666666,
             "#ed7953"
            ],
            [
             0.7777777777777778,
             "#fb9f3a"
            ],
            [
             0.8888888888888888,
             "#fdca26"
            ],
            [
             1,
             "#f0f921"
            ]
           ]
          },
          "colorway": [
           "#636efa",
           "#EF553B",
           "#00cc96",
           "#ab63fa",
           "#FFA15A",
           "#19d3f3",
           "#FF6692",
           "#B6E880",
           "#FF97FF",
           "#FECB52"
          ],
          "font": {
           "color": "#2a3f5f"
          },
          "geo": {
           "bgcolor": "white",
           "lakecolor": "white",
           "landcolor": "#E5ECF6",
           "showlakes": true,
           "showland": true,
           "subunitcolor": "white"
          },
          "hoverlabel": {
           "align": "left"
          },
          "hovermode": "closest",
          "mapbox": {
           "style": "light"
          },
          "paper_bgcolor": "white",
          "plot_bgcolor": "#E5ECF6",
          "polar": {
           "angularaxis": {
            "gridcolor": "white",
            "linecolor": "white",
            "ticks": ""
           },
           "bgcolor": "#E5ECF6",
           "radialaxis": {
            "gridcolor": "white",
            "linecolor": "white",
            "ticks": ""
           }
          },
          "scene": {
           "xaxis": {
            "backgroundcolor": "#E5ECF6",
            "gridcolor": "white",
            "gridwidth": 2,
            "linecolor": "white",
            "showbackground": true,
            "ticks": "",
            "zerolinecolor": "white"
           },
           "yaxis": {
            "backgroundcolor": "#E5ECF6",
            "gridcolor": "white",
            "gridwidth": 2,
            "linecolor": "white",
            "showbackground": true,
            "ticks": "",
            "zerolinecolor": "white"
           },
           "zaxis": {
            "backgroundcolor": "#E5ECF6",
            "gridcolor": "white",
            "gridwidth": 2,
            "linecolor": "white",
            "showbackground": true,
            "ticks": "",
            "zerolinecolor": "white"
           }
          },
          "shapedefaults": {
           "line": {
            "color": "#2a3f5f"
           }
          },
          "ternary": {
           "aaxis": {
            "gridcolor": "white",
            "linecolor": "white",
            "ticks": ""
           },
           "baxis": {
            "gridcolor": "white",
            "linecolor": "white",
            "ticks": ""
           },
           "bgcolor": "#E5ECF6",
           "caxis": {
            "gridcolor": "white",
            "linecolor": "white",
            "ticks": ""
           }
          },
          "title": {
           "x": 0.05
          },
          "xaxis": {
           "automargin": true,
           "gridcolor": "white",
           "linecolor": "white",
           "ticks": "",
           "title": {
            "standoff": 15
           },
           "zerolinecolor": "white",
           "zerolinewidth": 2
          },
          "yaxis": {
           "automargin": true,
           "gridcolor": "white",
           "linecolor": "white",
           "ticks": "",
           "title": {
            "standoff": 15
           },
           "zerolinecolor": "white",
           "zerolinewidth": 2
          }
         }
        },
        "xaxis": {
         "anchor": "y",
         "domain": [
          0,
          1
         ],
         "title": {
          "text": "x"
         }
        },
        "yaxis": {
         "anchor": "x",
         "domain": [
          0,
          1
         ],
         "title": {
          "text": "y"
         }
        }
       }
      },
      "text/html": [
       "<div>                            <div id=\"956d3933-92c8-4e20-92c7-30e6206ec5b1\" class=\"plotly-graph-div\" style=\"height:525px; width:100%;\"></div>            <script type=\"text/javascript\">                require([\"plotly\"], function(Plotly) {                    window.PLOTLYENV=window.PLOTLYENV || {};                                    if (document.getElementById(\"956d3933-92c8-4e20-92c7-30e6206ec5b1\")) {                    Plotly.newPlot(                        \"956d3933-92c8-4e20-92c7-30e6206ec5b1\",                        [{\"customdata\": [[\"arrest case no charge\"], [\"Grand Theft in the 3rd Degree\"], [\"Felony Driving While Lic Suspd\"], [\"Robbery W/Firearm\"], [\"Battery\"], [\"Possession of Hydrocodone\"], [\"Burglary With Assault/battery\"], [\"Possession of Cocaine\"], [\"Possess Cannabis/20 Grams Or Less\"], [\"Susp Drivers Lic 1st Offense\"], [\"Uttering Forged Credit Card\"], [\"Aggrav Battery w/Deadly Weapon\"], [\"Purchase Of Cocaine\"], [\"Agg Battery Grt/Bod/Harm\"], [\"Burglary Unoccupied Dwelling\"], [\"Aggravated Assault w/Firearm\"], [\"Disorderly Intoxication\"], [\"Possession Of Amphetamine\"], [\"Manufacture Cannabis\"], [\"DUI- Enhanced\"], [\"Opert With Susp DL 2nd Offens\"], [\"Possession Of Alprazolam\"], [\"Deliver Cannabis\"], [\"Child Abuse\"], [\"Grand Theft (Motor Vehicle)\"], [\"Retail Theft $300 1st Offense\"], [\"Driving Under The Influence\"], [\"Leave Acc/Attend Veh/More $50\"], [\"Felony Petit Theft\"], [\"Burglary Dwelling Occupied\"], [\"Aggravated Assault W/Dead Weap\"], [\"Possession of Cannabis\"], [\"Battery on Law Enforc Officer\"], [\"DUI Property Damage/Injury\"], [\"Obtain Control Substance By Fraud\"], [\"Alcoholic Beverage Violation-FL\"], [\"Driving While License Revoked\"], [\"Possession Child Pornography\"], [\"Robbery / Weapon\"], [\"Aggravated Assault W/dead Weap\"], [\"Tampering With Physical Evidence\"], [\"Neglect Child / No Bodily Harm\"], [\"Poss3,4 Methylenedioxymethcath\"], [\"Felony Battery w/Prior Convict\"], [\"Possession of Oxycodone\"], [\"Posses/Disply Susp/Revk/Frd DL\"], [\"Fail Register Vehicle\"], [\"Assault\"], [\"Burglary Structure Unoccup\"], [\"Solicitation On Felony 3 Deg\"], [\"Disorderly Conduct\"], [\"Cruelty Toward Child\"], [\"Resist Officer w/Violence\"], [\"Resist/Obstruct W/O Violence\"], [\"Corrupt Public Servant\"], [\"DUI - Enhanced\"], [\"Poss Cocaine/Intent To Del/Sel\"], [\"Criminal Attempt 3rd Deg Felon\"], [\"Poss Tetrahydrocannabinols\"], [\"Aggravated Battery (Firearm)\"], [\"Burglary Conveyance Unoccup\"], [\"Fel Drive License Perm Revoke\"], [\"Deliver Cocaine\"], [\"Driving License Suspended\"], [\"Grand Theft In The 3Rd Degree\"], [\"Unlaw LicTag/Sticker Attach\"], [\"Possession Burglary Tools\"], [\"Pos Cannabis W/Intent Sel/Del\"], [\"Petit Theft\"], [\"Tamper With Witness\"], [\"DUI Level 0.15 Or Minor In Veh\"], [\"Possess Weapon On School Prop\"], [\"Felony Battery\"], [\"Viol Prot Injunc Repeat Viol\"], [\"Robbery / No Weapon\"], [\"Aggravated Assault\"], [\"Poss Pyrrolidinovalerophenone\"], [\"Bribery Athletic Contests\"], [\"Crim Use of Personal ID Info\"], [\"Crimin Mischief Damage $1000+\"], [\"False Imprisonment\"], [\"Attempt Armed Burglary Dwell\"], [\"Aggravated Battery / Pregnant\"], [\"Operating W/O Valid License\"], [\"Delivery Of Drug Paraphernalia\"], [\"Fleeing Or Attmp Eluding A Leo\"], [\"Leave Accd/Attend Veh/Less $50\"], [\"Deliver 3,4 Methylenediox\"], [\"Stalking (Aggravated)\"], [\"Felony Battery (Dom Strang)\"], [\"Battery on a Person Over 65\"], [\"Grand Theft of a Fire Extinquisher\"], [\"Prowling/Loitering\"], [\"Poss of Firearm by Convic Felo\"], [\"Burglary Conveyance Armed\"], [\"Criminal Mischief>$200<$1000\"], [\"Possession Of Heroin\"], [\"Leaving the Scene of Accident\"], [\"Lve/Scen/Acc/Veh/Prop/Damage\"], [\"Possession of Hydromorphone\"], [\"Possession Of Methamphetamine\"], [\"Viol Injunct Domestic Violence\"], [\"Poss 3,4 MDMA (Ecstasy)\"], [\"Uttering a Forged Instrument\"], [\"Video Voyeur-<24Y on Child >16\"], [\"Introduce Contraband Into Jail\"], [\"Petit Theft $100- $300\"], [\"Possession Of Fentanyl\"], [\"Viol Pretrial Release Dom Viol\"], [\"Sel Etc/Pos/w/Int Contrft Schd\"], [\"Unlicensed Telemarketing\"], [\"Strong Armed  Robbery\"], [\"Aggrav Stalking After Injunctn\"], [\"Deliver Cocaine 1000FT Store\"], [\"Possession of Morphine\"], [\"Offer Agree Secure/Lewd Act\"], [\"Possession Of Phentermine\"], [\"Poss Unlaw Issue Id\"], [\"Aggravated Battery\"], [\"Use of Anti-Shoplifting Device\"], [\"Expired DL More Than 6 Months\"], [\"Possession of LSD\"], [\"Att Burgl Unoccupied Dwel\"], [\"Consp Traff Oxycodone 28g><30k\"], [\"Burglary Dwelling Assault/Batt\"], [\"Burglary Dwelling Armed\"], [\"Possess Tobacco Product Under 18\"], [\"Uttering Forged Bills\"], [\"Poss of Vessel w/Altered ID NO\"], [\"Unlawful Conveyance of Fuel\"], [\"False Ownership Info/Pawn Item\"], [\"Tamper With Witness/Victim/CI\"], [\"Obstruct Fire Equipment\"], [\"Possession Of Lorazepam\"], [\"Drivg While Lic Suspd/Revk/Can\"], [\"Solicit Deliver Cocaine\"], [\"Criminal Mischief\"], [\"Agg Assault W/int Com Fel Dome\"], [\"Arson in the First Degree\"], [\"Exposes Culpable Negligence\"], [\"Felony DUI (level 3)\"], [\"Sex Offender Fail Comply W/Law\"], [\"Compulsory Sch Attnd Violation\"], [\"Felony Batt(Great Bodily Harm)\"], [\"Manage Busn W/O City Occup Lic\"], [\"Poss Of Controlled Substance\"], [\"Burglary Conveyance Occupied\"], [\"Lewd or Lascivious Molestation\"], [\"Possess Drug Paraphernalia\"], [\"Principal In The First Degree\"], [\"Reckless Driving\"], [\"Poss of Cocaine W/I/D/S 1000FT Park\"], [\"Aggrav Child Abuse-Agg Battery\"], [\"Poss/Sell/Del Cocaine 1000FT Sch\"], [\"Leaving Acc/Unattended Veh\"], [\"Fraudulent Use of Credit Card\"], [\"Dealing in Stolen Property\"], [\"Poss Unlaw Issue Driver Licenc\"], [\"Consp Traff Oxycodone  4g><14g\"], [\"Grand Theft on 65 Yr or Older\"], [\"Fighting/Baiting Animals\"], [\"Carjacking with a Firearm\"], [\"Fail Obey Driv Lic Restrictions\"], [\"Unlaw Use False Name/Identity\"], [\"Purchase/P/W/Int Cannabis\"], [\"Poss Similitude of Drivers Lic\"], [\"Carrying Concealed Firearm\"], [\"Tamper With Victim\"], [\"Fail To Secure Load\"], [\"Traffick Hydrocodone   4g><14g\"], [\"Violation License Restrictions\"], [\"Purchase Cannabis\"], [\"Cash Item w/Intent to Defraud\"], [\"Harm Public Servant Or Family\"], [\"Offer Agree Secure For Lewd Act\"], [\"Robbery Sudd Snatch No Weapon\"], [\"Trespassing/Construction Site\"], [\"Armed Trafficking in Cannabis\"], [\"DUI Blood Alcohol Above 0.20\"], [\"Carry Open/Uncov Bev In Pub\"], [\"DWI w/Inj Susp Lic / Habit Off\"], [\"Grand Theft Firearm\"], [\"Felony DUI - Enhanced\"], [\"Neglect/Abuse Elderly Person\"], [\"Felony/Driving Under Influence\"], [\"Opert With Susp DL 2ND Offense\"], [\"Criminal Mischief Damage <$200\"], [\"Burglary Assault/Battery Armed\"], [\"Poss F/Arm Delinq\"], [\"Felon in Pos of Firearm or Amm\"], [\"Lewd/Lasc Exhib Presence <16yr\"], [\"Aggrav Child Abuse-Causes Harm\"], [\"Violation Of Boater Safety Id\"], [\"Disrupting School Function\"], [\"Attempted Robbery Firearm\"], [\"Prostitution/Lewd Act Assignation\"], [\"Del of JWH-250 2-Methox 1-Pentyl\"], [\"Sale/Del Counterfeit Cont Subs\"], [\"Poss Contr Subst W/o Prescript\"], [\"Tampering with a Victim\"], [\"Unemployment Compensatn Fraud\"], [\"Sex Battery Deft 18+/Vict 11-\"], [\"Possession Of 3,4Methylenediox\"], [\"Cruelty to Animals\"], [\"Lewd/Lasc Battery Pers 12+/<16\"], [\"Carjacking w/o Deadly Weapon\"], [\"Grand Theft in the 1st Degree\"], [\"Refuse Submit Blood/Breath Test\"], [\"Kidnapping / Domestic Violence\"], [\"Simulation of Legal Process\"], [\"Burglary Structure Occupied\"], [\"False Bomb Report\"], [\"Gambling/Gamb Paraphernalia\"], [\"Trespass Structure/Conveyance\"], [\"Poss Wep Conv Felon\"], [\"Consume Alcoholic Bev Pub\"], [\"Failure To Return Hired Vehicle\"], [\"Tresspass Struct/Conveyance\"], [\"Fail Sex Offend Report Bylaw\"], [\"Possess Cannabis 1000FTSch\"], [\"Unauth Poss ID Card or DL\"], [\"Tresspass in Structure or Conveyance\"], [\"Agg Fleeing and Eluding\"], [\"Conspiracy Dealing Stolen Prop\"], [\"Counterfeit Lic Plates/Sticker\"], [\"Interfere W/Traf Cont Dev RR\"], [\"Possession Firearm School Prop\"], [\"Possession of Benzylpiperazine\"], [\"Throw Deadly Missile Into Veh\"], [\"Present Proof of Invalid Insur\"], [\"Fraud Obtain Food or Lodging\"], [\"Crim Use Of Personal Id Info\"], [\"License Suspended Revoked\"], [\"Traffick Oxycodone     4g><14g\"], [\"Poss Anti-Shoplifting Device\"], [\"Hiring with Intent to Defraud\"], [\"Lewdness Violation\"], [\"Poss Of RX Without RX\"], [\"Burglary Conveyance Assault/Bat\"], [\"Murder in 2nd Degree\"], [\"Aggress/Panhandle/Beg/Solict\"], [\"Violation of Injunction Order/Stalking/Cyberstalking\"], [\"Attempted Robbery  No Weapon\"], [\"Possession Of Buprenorphine\"], [\"Possess Controlled Substance\"], [\"Structuring Transactions\"], [\"Exploit Elderly Person 20-100K\"], [\"Robbery W/Deadly Weapon\"], [\"Harass Witness/Victm/Informnt\"], [\"Misuse Of 911 Or E911 System\"], [\"DOC/Cause Public Danger\"], [\"Dealing In Stolen Property\"], [\"Soliciting For Prostitution\"], [\"Delivery of 5-Fluoro PB-22\"], [\"Prostitution/Lewdness/Assign\"], [\"Deliver Cannabis 1000FTSch\"], [\"Sexual Performance by a Child\"], [\"Possess w/I/Utter Forged Bills\"], [\"Unl/Disturb Education/Instui\"], [\"Fleeing or Eluding a LEO\"], [\"Use Scanning Device to Defraud\"], [\"Poss of Methylethcathinone\"], [\"Grand Theft Dwell Property\"], [\"Burglary Structure Assault/Batt\"], [\"Murder in the First Degree\"], [\"Del Cannabis For Consideration\"], [\"Poss Alprazolam W/int Sell/Del\"], [\"Culpable Negligence\"], [\"Fail To Redeliv Hire/Leas Prop\"], [\"DWLS Canceled Disqul 1st Off\"], [\"Fail Register Career Offender\"], [\"Forging Bank Bills/Promis Note\"], [\"Sell Cannabis\"], [\"Use Computer for Child Exploit\"], [\"Extradition/Defendants\"], [\"Poss Drugs W/O A Prescription\"], [\"Contribute Delinquency Of A Minor\"], [\"Possession Of Diazepam\"], [\"Flee/Elude LEO-Agg Flee Unsafe\"], [\"Theft\"], [\"Live on Earnings of Prostitute\"], [\"Trespass Property w/Dang Weap\"], [\"Att Burgl Struc/Conv Dwel/Occp\"], [\"Aggravated Assault W/o Firearm\"], [\"Battery Emergency Care Provide\"], [\"False 911 Call\"], [\"Possession of Codeine\"], [\"Sexual Battery / Vict 12 Yrs +\"], [\"Att Tamper w/Physical Evidence\"], [\"Murder In 2nd Degree W/firearm\"], [\"Aggravated Battery On 65/Older\"], [\"Battery Spouse Or Girlfriend\"], [\"Trespass Structure w/Dang Weap\"], [\"Possession Of Paraphernalia\"], [\"Escape\"], [\"Lewd/Lasciv Molest Elder Persn\"], [\"Carrying A Concealed Weapon\"], [\"Poss Trifluoromethylphenylpipe\"], [\"Traffick Amphetamine 28g><200g\"], [\"Possession Of Anabolic Steroid\"], [\"Agg Fleeing/Eluding High Speed\"], [\"Neglect Child / Bodily Harm\"], [\"Sale/Del Cannabis At/Near Scho\"], [\"Felony Committing Prostitution\"], [\"Battery On Fire Fighter\"], [\"Fail To Obey Police Officer\"], [\"Compulsory Attendance Violation\"], [\"Aggr Child Abuse-Torture,Punish\"], [\"Prostitution\"], [\"Viol Injunction Protect Dom Vi\"], [\"Theft/To Deprive\"], [\"Crim Attempt/Solicit/Consp\"], [\"Trespass Struct/Conveyance\"], [\"False Motor Veh Insurance Card\"], [\"Computer Pornography\"], [\"Depriv LEO of Protect/Communic\"], [\"Del 3,4 Methylenedioxymethcath\"], [\"Del Morphine at/near Park\"], [\"Use Of 2 Way Device To Fac Fel\"], [\"Shoot Into Vehicle\"], [\"Offn Against Intellectual Prop\"], [\"Deliver Cocaine 1000FT Park\"], [\"Battery On Parking Enfor Speci\"], [\"Failure To Pay Taxi Cab Charge\"], [\"Solicit To Deliver Cocaine\"], [\"Open Carrying Of Weapon\"], [\"D.U.I. Serious Bodily Injury\"], [\"Abuse Without Great Harm\"], [\"Lease For Purpose Trafficking\"], [\"Threat Public Servant\"], [\"Ride Tri-Rail Without Paying\"], [\"Falsely Impersonating Officer\"], [\"Poss Meth/Diox/Meth/Amp (MDMA)\"], [\"Solic to Commit Battery\"], [\"Unlawful Use Of Police Badges\"], [\"Unauth C/P/S Sounds>1000/Audio\"], [\"Deliver Alprazolam\"], [\"DUI - Property Damage/Personal Injury\"], [\"False Info LEO During Invest\"], [\"Purchasing Of Alprazolam\"], [\"Refuse to Supply DNA Sample\"], [\"Throw Missile Into Pub/Priv Dw\"], [\"Sel/Pur/Mfr/Del Control Substa\"], [\"DWLS Susp/Cancel Revoked\"], [\"Cause Anoth Phone Ring Repeat\"], [\"Shoot In Occupied Dwell\"], [\"Poss Oxycodone W/Int/Sell/Del\"], [\"Conspiracy to Deliver Cocaine\"], [\"Possess/Use Weapon 1 Deg Felon\"], [\"Intoxicated/Safety Of Another\"], [\"Aggravated Battery (Firearm/Actual Possession)\"], [\"Insurance Fraud\"], [\"Sell or Offer for Sale Counterfeit Goods\"], [\"Oper Motorcycle W/O Valid DL\"], [\"Agg Assault Law Enforc Officer\"], [\"Money Launder 100K or More Dols\"], [\"Attempt Burglary (Struct)\"], [\"Agg Abuse Elderlly/Disabled Adult\"], [\"Throw In Occupied Dwell\"], [\"Grand Theft of the 2nd Degree\"], [\"Lewd Act Presence Child 16-\"], [\"DUI/Property Damage/Persnl Inj\"]], \"hovertemplate\": \"x=%{x}<br>y=%{y}<br>b=%{customdata[0]}<br>color=%{marker.color}<extra></extra>\", \"legendgroup\": \"\", \"marker\": {\"color\": [-1, -1, 3, 0, -1, 1, 0, 1, -1, 3, 0, -1, 1, -1, 0, -1, -1, 1, 2, -1, -1, -1, 2, 5, -1, -1, -1, -1, -1, 0, -1, 2, -1, -1, 0, -1, 3, -1, 0, -1, -1, -1, 4, -1, 1, 3, -1, -1, 0, -1, -1, 5, -1, -1, -1, -1, 1, -1, -1, -1, 0, 3, 1, 3, -1, -1, 0, -1, -1, -1, -1, -1, -1, -1, 0, -1, -1, 0, -1, -1, -1, 0, -1, -1, 1, -1, -1, 4, -1, -1, -1, -1, -1, -1, 0, -1, 1, -1, -1, -1, 1, -1, 4, -1, -1, -1, -1, 1, -1, -1, -1, 0, -1, -1, 1, -1, -1, -1, -1, -1, -1, -1, -1, -1, 0, 0, -1, -1, -1, -1, -1, -1, -1, -1, 3, 1, -1, -1, -1, -1, -1, -1, -1, -1, -1, 1, 0, -1, 1, -1, -1, -1, 5, -1, -1, 0, 0, -1, 4, -1, -1, 0, 3, -1, 2, -1, -1, -1, -1, -1, -1, 2, 0, -1, -1, 0, -1, 2, -1, -1, -1, -1, -1, -1, -1, -1, -1, 0, -1, -1, -1, 5, -1, -1, 0, -1, -1, -1, -1, -1, -1, -1, 4, -1, -1, -1, -1, -1, -1, -1, 0, -1, -1, -1, -1, -1, -1, -1, -1, -1, -1, -1, -1, 0, 0, -1, -1, -1, -1, -1, 0, -1, 3, -1, -1, 0, -1, -1, 0, -1, -1, -1, 0, -1, 1, -1, -1, -1, -1, -1, -1, 0, -1, -1, -1, 2, -1, 0, -1, -1, 0, 1, -1, 0, -1, -1, -1, -1, -1, -1, -1, 0, 2, -1, -1, -1, -1, 1, -1, 0, -1, -1, -1, -1, -1, -1, -1, -1, -1, -1, -1, -1, -1, 1, -1, -1, -1, -1, -1, -1, -1, 5, 2, -1, -1, -1, -1, -1, -1, -1, 0, -1, -1, -1, -1, -1, 4, -1, -1, -1, -1, -1, -1, -1, 1, -1, -1, -1, -1, -1, -1, -1, 1, -1, -1, -1, -1, -1, -1, -1, -1, -1, -1, 3, -1, -1, 1, 1, -1, -1, -1, -1, -1, -1, -1, -1, -1, -1, -1, -1, -1, -1], \"coloraxis\": \"coloraxis\", \"size\": 4, \"symbol\": \"circle\"}, \"mode\": \"markers\", \"name\": \"\", \"orientation\": \"v\", \"showlegend\": false, \"type\": \"scatter\", \"x\": [16.616966247558594, 14.947479248046875, 13.264639854431152, 16.363859176635742, 14.352456092834473, 10.179258346557617, 17.21424674987793, 9.329874038696289, 9.852495193481445, 13.233471870422363, 16.033151626586914, 15.105149269104004, 9.266256332397461, 14.359471321105957, 17.245201110839844, 14.609724998474121, 12.585783958435059, 10.331820487976074, 8.938472747802734, 14.162368774414062, 13.116941452026367, 11.229315757751465, 8.834321022033691, 13.23108196258545, 15.592309951782227, 15.042033195495605, 12.606258392333984, 14.900349617004395, 15.526586532592773, 17.36366844177246, 14.395414352416992, 9.072206497192383, 15.26769733428955, 14.065885543823242, 16.139558792114258, 12.161162376403809, 13.233820915222168, 12.93639850616455, 16.503511428833008, 14.501229286193848, 16.826988220214844, 13.237663269042969, 10.227738380432129, 15.137468338012695, 10.064962387084961, 13.221787452697754, 14.204580307006836, 14.467117309570312, 17.279199600219727, 14.883620262145996, 12.982348442077637, 13.364264488220215, 15.397586822509766, 15.583550453186035, 15.970542907714844, 14.120807647705078, 9.248930931091309, 14.827987670898438, 10.215744018554688, 14.689045906066895, 17.269739151000977, 13.002359390258789, 9.271133422851562, 13.33957290649414, 14.887213706970215, 13.533214569091797, 16.438274383544922, 8.91324234008789, 15.622493743896484, 16.76896095275879, 13.603348731994629, 15.827702522277832, 14.776387214660645, 15.246474266052246, 16.655221939086914, 14.378715515136719, 10.603394508361816, 15.751312255859375, 16.15265464782715, 15.104832649230957, 16.832426071166992, 16.86716079711914, 14.38689136505127, 13.620429039001465, 9.915279388427734, 15.391458511352539, 14.77458381652832, 10.202574729919434, 14.669352531433105, 15.100691795349121, 14.25430679321289, 15.551629066467285, 16.90276336669922, 15.217522621154785, 17.418123245239258, 14.707273483276367, 10.236907958984375, 15.051019668579102, 14.860541343688965, 10.5056734085083, 10.120255470275879, 15.070487976074219, 10.089712142944336, 16.169158935546875, 12.531153678894043, 16.464506149291992, 15.256754875183105, 10.006855964660645, 15.568099021911621, 11.339570999145508, 14.50273323059082, 16.59303855895996, 15.082079887390137, 8.887207984924316, 10.185649871826172, 13.242098808288574, 10.714935302734375, 13.918254852294922, 14.580290794372559, 17.272550582885742, 12.954474449157715, 11.408082962036133, 17.050662994384766, 9.773451805114746, 17.00248908996582, 17.027156829833984, 10.184530258178711, 16.067626953125, 14.015474319458008, 13.897989273071289, 16.315717697143555, 16.72041130065918, 17.390390396118164, 10.853165626525879, 13.278651237487793, 9.33590316772461, 15.801630020141602, 14.526715278625488, 15.15058422088623, 13.275279998779297, 14.670366287231445, 13.012028694152832, 15.161550521850586, 14.453022003173828, 13.817307472229004, 10.672098159790039, 17.34247398376465, 12.971675872802734, 10.359968185424805, 15.246881484985352, 14.088253021240234, 8.908478736877441, 13.831050872802734, 8.860147476196289, 14.293051719665527, 15.941495895385742, 16.042583465576172, 13.497751235961914, 9.83369255065918, 14.268961906433105, 14.533777236938477, 16.21832847595215, 13.288930892944336, 16.578277587890625, 8.988264083862305, 13.499714851379395, 15.976149559020996, 16.687496185302734, 14.164755821228027, 9.821051597595215, 15.356074333190918, 9.004998207092285, 15.846190452575684, 13.540063858032227, 13.277609825134277, 16.574983596801758, 16.810697555541992, 9.035435676574707, 10.69124698638916, 12.132440567016602, 13.098804473876953, 15.552693367004395, 14.172445297241211, 13.878697395324707, 13.47371768951416, 13.110273361206055, 14.742851257324219, 16.958627700805664, 11.57437515258789, 15.347445487976074, 12.519148826599121, 13.314696311950684, 15.38710880279541, 13.131647109985352, 16.583988189697266, 13.123875617980957, 10.262931823730469, 15.98194694519043, 14.0252046585083, 16.64995765686035, 15.661829948425293, 13.13730239868164, 10.173070907592773, 14.25766372680664, 12.772177696228027, 14.081001281738281, 15.327567100524902, 13.420563697814941, 16.699190139770508, 17.147239685058594, 17.426328659057617, 16.652135848999023, 15.868284225463867, 16.93402862548828, 15.228705406188965, 12.185111045837402, 14.491003036499023, 17.18977165222168, 13.065439224243164, 8.857666969299316, 13.584152221679688, 17.25551414489746, 15.23843002319336, 16.016033172607422, 15.942867279052734, 16.759977340698242, 15.735947608947754, 10.670351028442383, 15.506410598754883, 14.080163955688477, 15.840298652648926, 16.280874252319336, 13.106315612792969, 9.830158233642578, 17.120361328125, 15.769850730895996, 12.976353645324707, 13.965692520141602, 17.234189987182617, 14.610761642456055, 14.624677658081055, 15.289690017700195, 16.704931259155273, 10.54271125793457, 10.802660942077637, 17.179943084716797, 14.303524017333984, 15.480661392211914, 15.334942817687988, 16.673521041870117, 13.695382118225098, 15.958345413208008, 13.50338077545166, 10.922125816345215, 13.141043663024902, 8.804659843444824, 12.90449333190918, 16.01905059814453, 13.134231567382812, 15.343477249145508, 16.281126022338867, 10.264606475830078, 15.543783187866211, 17.10283088684082, 15.050252914428711, 8.896142959594727, 11.243654251098633, 13.323962211608887, 13.898935317993164, 13.19338607788086, 13.683444023132324, 16.028623580932617, 9.024806022644043, 13.01220703125, 16.573293685913086, 10.366222381591797, 13.473162651062012, 10.736493110656738, 15.388038635253906, 15.993083953857422, 13.42089557647705, 15.554017066955566, 17.112733840942383, 14.508891105651855, 14.23086166381836, 16.69329833984375, 9.9173002243042, 13.071163177490234, 16.72484588623047, 14.807787895202637, 14.166426658630371, 14.530592918395996, 15.62531852722168, 10.569734573364258, 15.282995223999023, 13.084192276000977, 16.212841033935547, 10.695327758789062, 9.955094337463379, 10.583558082580566, 15.273651123046875, 13.425379753112793, 9.125042915344238, 13.379520416259766, 14.819348335266113, 13.294918060302734, 15.374106407165527, 13.766523361206055, 13.242147445678711, 15.487855911254883, 15.921989440917969, 16.281652450561523, 17.064376831054688, 15.31184196472168, 12.937926292419434, 15.537237167358398, 10.205738067626953, 9.897841453552246, 14.093289375305176, 15.608359336853027, 14.431005477905273, 8.888694763183594, 14.324179649353027, 15.029335975646973, 9.295985221862793, 15.814764022827148, 13.703400611877441, 13.47852611541748, 14.89445972442627, 13.85147476196289, 15.519988059997559, 16.656404495239258, 10.213821411132812, 15.113272666931152, 13.567400932312012, 8.956584930419922, 11.074048042297363, 14.086133003234863, 16.272212982177734, 11.092336654663086, 13.517745018005371, 15.647189140319824, 11.069743156433105, 13.074446678161621, 16.71122932434082, 16.886524200439453, 9.52388858795166, 9.244058609008789, 15.469724655151367, 10.951678276062012, 14.644182205200195, 15.618339538574219, 16.237524032592773, 13.72973918914795, 15.144233703613281, 15.410594940185547, 16.531198501586914, 14.064573287963867, 16.8814697265625, 14.678496360778809, 12.664979934692383, 14.084728240966797], \"xaxis\": \"x\", \"y\": [8.081073760986328, 6.030754089355469, 4.006679534912109, 7.067660331726074, 7.731832981109619, 8.63730525970459, 7.344834804534912, 9.079383850097656, 7.724051475524902, 4.045468807220459, 4.538733005523682, 8.158757209777832, 9.10283374786377, 8.23636245727539, 7.758054733276367, 8.673140525817871, 7.719477653503418, 9.241098403930664, 7.488933563232422, 5.627694606781006, 4.353868007659912, 8.383316993713379, 7.706244945526123, 8.221199989318848, 6.25248384475708, 6.171806335449219, 7.658053874969482, 4.1524882316589355, 5.90245246887207, 7.580409526824951, 8.617207527160645, 7.598776817321777, 8.782964706420898, 5.757899284362793, 5.072835922241211, 7.726099014282227, 3.8369836807250977, 7.183661460876465, 6.9635820388793945, 8.668567657470703, 5.376980781555176, 8.51585865020752, 8.07701301574707, 7.9775590896606445, 9.031538963317871, 3.9219675064086914, 4.2045159339904785, 9.000455856323242, 7.672732830047607, 6.222735404968262, 7.710284233093262, 8.295180320739746, 8.73424243927002, 8.685152053833008, 5.471749305725098, 5.6280670166015625, 9.113007545471191, 6.110241889953613, 8.524224281311035, 8.797060012817383, 7.762826919555664, 3.714716911315918, 9.025083541870117, 3.924065351486206, 6.078136920928955, 4.403646469116211, 6.645230770111084, 7.564197063446045, 5.798364162445068, 5.316464900970459, 5.131307125091553, 7.514163494110107, 7.672449111938477, 8.561894416809082, 7.351158618927002, 8.702106475830078, 8.926360130310059, 4.890359401702881, 5.504934787750244, 6.424745559692383, 4.722591400146484, 7.52372932434082, 8.492777824401855, 4.250521659851074, 9.303070068359375, 3.250319480895996, 4.112013339996338, 8.085224151611328, 8.587788581848145, 7.850325107574463, 7.473283767700195, 6.1516947746276855, 8.146194458007812, 7.4766669273376465, 7.110451698303223, 6.546601295471191, 9.348944664001465, 3.490142345428467, 4.174272537231445, 8.476491928100586, 9.271377563476562, 8.733661651611328, 8.134051322937012, 4.660236358642578, 6.828982353210449, 7.657905101776123, 5.811787128448486, 9.251304626464844, 8.273296356201172, 8.16108226776123, 4.823668003082275, 7.164763927459717, 8.588438034057617, 8.379599571228027, 9.277239799499512, 6.20407772064209, 8.797688484191895, 3.984409809112549, 8.460065841674805, 6.90669059753418, 4.103342533111572, 8.360824584960938, 7.791904926300049, 8.422904968261719, 7.535154819488525, 7.400412559509277, 9.375310897827148, 4.424921035766602, 3.9329545497894287, 4.647998809814453, 4.637700080871582, 5.300243377685547, 7.087153911590576, 8.755170822143555, 3.9594714641571045, 9.067791938781738, 6.363992214202881, 8.965226173400879, 7.007322788238525, 8.14439868927002, 5.974539756774902, 5.9616546630859375, 8.493817329406738, 8.189690589904785, 4.334378719329834, 9.449501037597656, 7.206542491912842, 6.408754825592041, 9.43171501159668, 6.832301616668701, 4.1929216384887695, 8.316072463989258, 8.318037033081055, 8.322697639465332, 3.973073959350586, 4.676137924194336, 5.516656875610352, 4.0568766593933105, 8.242277145385742, 7.205530166625977, 8.086432456970215, 6.955266952514648, 3.9829349517822266, 4.471597194671631, 7.573758602142334, 4.540792465209961, 7.413480281829834, 5.305838108062744, 3.7178359031677246, 8.174562454223633, 7.881954669952393, 7.562047958374023, 5.069591522216797, 8.52269458770752, 6.288064479827881, 7.290580749511719, 6.460840702056885, 7.573456764221191, 7.630209922790527, 7.714302062988281, 3.789217472076416, 6.408743381500244, 5.667778491973877, 7.824217796325684, 6.9496750831604, 4.146575450897217, 6.4367804527282715, 7.358810901641846, 8.241225242614746, 7.473318576812744, 6.738881587982178, 8.300257682800293, 8.255949020385742, 8.010189056396484, 7.138558864593506, 6.316998481750488, 8.011809349060059, 4.848993301391602, 4.008658409118652, 5.226609230041504, 4.90606164932251, 6.482293605804443, 8.142518043518066, 8.019372940063477, 6.775776386260986, 4.504594326019287, 6.445143699645996, 3.4671528339385986, 7.612175941467285, 6.115143775939941, 7.550250053405762, 4.494036674499512, 5.222189426422119, 6.399569034576416, 7.450404644012451, 7.720966339111328, 4.015471458435059, 6.332603931427002, 5.881082534790039, 8.084299087524414, 4.34693717956543, 6.403651237487793, 3.2991881370544434, 5.293210983276367, 4.78134298324585, 5.668501377105713, 7.434389114379883, 8.925516128540039, 6.944313049316406, 3.8842813968658447, 5.138598918914795, 5.581948757171631, 3.7811899185180664, 8.211308479309082, 6.709045886993408, 5.142177581787109, 6.590237140655518, 4.14060115814209, 7.416241645812988, 6.528993129730225, 4.989231586456299, 8.408190727233887, 7.501524448394775, 8.99933910369873, 9.414043426513672, 6.207620143890381, 6.8038763999938965, 7.262810707092285, 7.721338748931885, 4.577198028564453, 8.556653022766113, 5.422783851623535, 6.48501443862915, 8.226311683654785, 6.357059001922607, 8.071432113647461, 7.145448684692383, 4.61083459854126, 7.872676849365234, 3.3164193630218506, 4.9397478103637695, 8.98466968536377, 6.1161417961120605, 7.3404459953308105, 6.9638566970825195, 7.5152268409729, 8.29859733581543, 8.087506294250488, 3.646326780319214, 3.5147602558135986, 3.580549478530884, 4.502359867095947, 7.584510326385498, 7.061270713806152, 6.104098796844482, 9.508966445922852, 7.943532466888428, 8.883688926696777, 3.2730815410614014, 5.918148517608643, 6.424476146697998, 7.163136005401611, 7.059921741485596, 8.83769416809082, 7.6508893966674805, 4.540335178375244, 8.626853942871094, 6.587921619415283, 5.360727310180664, 6.741335868835449, 7.5358099937438965, 7.729268550872803, 7.648848056793213, 9.529494285583496, 3.309155225753784, 6.434127330780029, 7.373021125793457, 8.653141021728516, 8.359464645385742, 9.304566383361816, 3.3426547050476074, 8.402432441711426, 7.655827522277832, 6.491552829742432, 8.769877433776855, 4.911602973937988, 8.504435539245605, 8.293018341064453, 6.35640287399292, 8.268589973449707, 5.633453845977783, 5.997447490692139, 6.474365711212158, 4.403147220611572, 7.014926433563232, 3.3120687007904053, 8.110027313232422, 9.140731811523438, 5.433493614196777, 6.671535491943359, 8.381261825561523, 8.308550834655762, 7.591276168823242, 4.301912784576416, 9.141196250915527, 7.4661664962768555, 8.415328979492188, 8.579388618469238, 5.154999256134033, 8.598163604736328, 4.650677680969238, 4.580802917480469, 8.917442321777344, 7.941897392272949, 4.562243461608887, 8.1664457321167, 8.332427978515625, 5.899692535400391, 4.612266540527344, 8.40626335144043, 3.521315336227417, 7.075442314147949, 8.088485717773438, 3.687835454940796, 4.610052108764648, 7.627926349639893, 8.931347846984863, 9.144998550415039, 7.399023056030273, 9.272421836853027, 8.552274703979492, 4.782292366027832, 4.816336631774902, 4.1366071701049805, 8.65649700164795, 5.183726787567139, 6.601247787475586, 7.598044395446777, 7.718042850494385, 6.255674839019775, 6.701158046722412, 5.725508213043213], \"yaxis\": \"y\"}],                        {\"coloraxis\": {\"colorbar\": {\"title\": {\"text\": \"color\"}}, \"colorscale\": [[0.0, \"#0d0887\"], [0.1111111111111111, \"#46039f\"], [0.2222222222222222, \"#7201a8\"], [0.3333333333333333, \"#9c179e\"], [0.4444444444444444, \"#bd3786\"], [0.5555555555555556, \"#d8576b\"], [0.6666666666666666, \"#ed7953\"], [0.7777777777777778, \"#fb9f3a\"], [0.8888888888888888, \"#fdca26\"], [1.0, \"#f0f921\"]]}, \"hoverlabel\": {\"bgcolor\": \"black\", \"font\": {\"size\": 12}}, \"legend\": {\"tracegroupgap\": 0}, \"margin\": {\"b\": 0, \"l\": 0, \"r\": 0, \"t\": 0}, \"template\": {\"data\": {\"bar\": [{\"error_x\": {\"color\": \"#2a3f5f\"}, \"error_y\": {\"color\": \"#2a3f5f\"}, \"marker\": {\"line\": {\"color\": \"#E5ECF6\", \"width\": 0.5}}, \"type\": \"bar\"}], \"barpolar\": [{\"marker\": {\"line\": {\"color\": \"#E5ECF6\", \"width\": 0.5}}, \"type\": \"barpolar\"}], \"carpet\": [{\"aaxis\": {\"endlinecolor\": \"#2a3f5f\", \"gridcolor\": \"white\", \"linecolor\": \"white\", \"minorgridcolor\": \"white\", \"startlinecolor\": \"#2a3f5f\"}, \"baxis\": {\"endlinecolor\": \"#2a3f5f\", \"gridcolor\": \"white\", \"linecolor\": \"white\", \"minorgridcolor\": \"white\", \"startlinecolor\": \"#2a3f5f\"}, \"type\": \"carpet\"}], \"choropleth\": [{\"colorbar\": {\"outlinewidth\": 0, \"ticks\": \"\"}, \"type\": \"choropleth\"}], \"contour\": [{\"colorbar\": {\"outlinewidth\": 0, \"ticks\": \"\"}, \"colorscale\": [[0.0, \"#0d0887\"], [0.1111111111111111, \"#46039f\"], [0.2222222222222222, \"#7201a8\"], [0.3333333333333333, \"#9c179e\"], [0.4444444444444444, \"#bd3786\"], [0.5555555555555556, \"#d8576b\"], [0.6666666666666666, \"#ed7953\"], [0.7777777777777778, \"#fb9f3a\"], [0.8888888888888888, \"#fdca26\"], [1.0, \"#f0f921\"]], \"type\": \"contour\"}], \"contourcarpet\": [{\"colorbar\": {\"outlinewidth\": 0, \"ticks\": \"\"}, \"type\": \"contourcarpet\"}], \"heatmap\": [{\"colorbar\": {\"outlinewidth\": 0, \"ticks\": \"\"}, \"colorscale\": [[0.0, \"#0d0887\"], [0.1111111111111111, \"#46039f\"], [0.2222222222222222, \"#7201a8\"], [0.3333333333333333, \"#9c179e\"], [0.4444444444444444, \"#bd3786\"], [0.5555555555555556, \"#d8576b\"], [0.6666666666666666, \"#ed7953\"], [0.7777777777777778, \"#fb9f3a\"], [0.8888888888888888, \"#fdca26\"], [1.0, \"#f0f921\"]], \"type\": \"heatmap\"}], \"heatmapgl\": [{\"colorbar\": {\"outlinewidth\": 0, \"ticks\": \"\"}, \"colorscale\": [[0.0, \"#0d0887\"], [0.1111111111111111, \"#46039f\"], [0.2222222222222222, \"#7201a8\"], [0.3333333333333333, \"#9c179e\"], [0.4444444444444444, \"#bd3786\"], [0.5555555555555556, \"#d8576b\"], [0.6666666666666666, \"#ed7953\"], [0.7777777777777778, \"#fb9f3a\"], [0.8888888888888888, \"#fdca26\"], [1.0, \"#f0f921\"]], \"type\": \"heatmapgl\"}], \"histogram\": [{\"marker\": {\"colorbar\": {\"outlinewidth\": 0, \"ticks\": \"\"}}, \"type\": \"histogram\"}], \"histogram2d\": [{\"colorbar\": {\"outlinewidth\": 0, \"ticks\": \"\"}, \"colorscale\": [[0.0, \"#0d0887\"], [0.1111111111111111, \"#46039f\"], [0.2222222222222222, \"#7201a8\"], [0.3333333333333333, \"#9c179e\"], [0.4444444444444444, \"#bd3786\"], [0.5555555555555556, \"#d8576b\"], [0.6666666666666666, \"#ed7953\"], [0.7777777777777778, \"#fb9f3a\"], [0.8888888888888888, \"#fdca26\"], [1.0, \"#f0f921\"]], \"type\": \"histogram2d\"}], \"histogram2dcontour\": [{\"colorbar\": {\"outlinewidth\": 0, \"ticks\": \"\"}, \"colorscale\": [[0.0, \"#0d0887\"], [0.1111111111111111, \"#46039f\"], [0.2222222222222222, \"#7201a8\"], [0.3333333333333333, \"#9c179e\"], [0.4444444444444444, \"#bd3786\"], [0.5555555555555556, \"#d8576b\"], [0.6666666666666666, \"#ed7953\"], [0.7777777777777778, \"#fb9f3a\"], [0.8888888888888888, \"#fdca26\"], [1.0, \"#f0f921\"]], \"type\": \"histogram2dcontour\"}], \"mesh3d\": [{\"colorbar\": {\"outlinewidth\": 0, \"ticks\": \"\"}, \"type\": \"mesh3d\"}], \"parcoords\": [{\"line\": {\"colorbar\": {\"outlinewidth\": 0, \"ticks\": \"\"}}, \"type\": \"parcoords\"}], \"pie\": [{\"automargin\": true, \"type\": \"pie\"}], \"scatter\": [{\"marker\": {\"colorbar\": {\"outlinewidth\": 0, \"ticks\": \"\"}}, \"type\": \"scatter\"}], \"scatter3d\": [{\"line\": {\"colorbar\": {\"outlinewidth\": 0, \"ticks\": \"\"}}, \"marker\": {\"colorbar\": {\"outlinewidth\": 0, \"ticks\": \"\"}}, \"type\": \"scatter3d\"}], \"scattercarpet\": [{\"marker\": {\"colorbar\": {\"outlinewidth\": 0, \"ticks\": \"\"}}, \"type\": \"scattercarpet\"}], \"scattergeo\": [{\"marker\": {\"colorbar\": {\"outlinewidth\": 0, \"ticks\": \"\"}}, \"type\": \"scattergeo\"}], \"scattergl\": [{\"marker\": {\"colorbar\": {\"outlinewidth\": 0, \"ticks\": \"\"}}, \"type\": \"scattergl\"}], \"scattermapbox\": [{\"marker\": {\"colorbar\": {\"outlinewidth\": 0, \"ticks\": \"\"}}, \"type\": \"scattermapbox\"}], \"scatterpolar\": [{\"marker\": {\"colorbar\": {\"outlinewidth\": 0, \"ticks\": \"\"}}, \"type\": \"scatterpolar\"}], \"scatterpolargl\": [{\"marker\": {\"colorbar\": {\"outlinewidth\": 0, \"ticks\": \"\"}}, \"type\": \"scatterpolargl\"}], \"scatterternary\": [{\"marker\": {\"colorbar\": {\"outlinewidth\": 0, \"ticks\": \"\"}}, \"type\": \"scatterternary\"}], \"surface\": [{\"colorbar\": {\"outlinewidth\": 0, \"ticks\": \"\"}, \"colorscale\": [[0.0, \"#0d0887\"], [0.1111111111111111, \"#46039f\"], [0.2222222222222222, \"#7201a8\"], [0.3333333333333333, \"#9c179e\"], [0.4444444444444444, \"#bd3786\"], [0.5555555555555556, \"#d8576b\"], [0.6666666666666666, \"#ed7953\"], [0.7777777777777778, \"#fb9f3a\"], [0.8888888888888888, \"#fdca26\"], [1.0, \"#f0f921\"]], \"type\": \"surface\"}], \"table\": [{\"cells\": {\"fill\": {\"color\": \"#EBF0F8\"}, \"line\": {\"color\": \"white\"}}, \"header\": {\"fill\": {\"color\": \"#C8D4E3\"}, \"line\": {\"color\": \"white\"}}, \"type\": \"table\"}]}, \"layout\": {\"annotationdefaults\": {\"arrowcolor\": \"#2a3f5f\", \"arrowhead\": 0, \"arrowwidth\": 1}, \"autotypenumbers\": \"strict\", \"coloraxis\": {\"colorbar\": {\"outlinewidth\": 0, \"ticks\": \"\"}}, \"colorscale\": {\"diverging\": [[0, \"#8e0152\"], [0.1, \"#c51b7d\"], [0.2, \"#de77ae\"], [0.3, \"#f1b6da\"], [0.4, \"#fde0ef\"], [0.5, \"#f7f7f7\"], [0.6, \"#e6f5d0\"], [0.7, \"#b8e186\"], [0.8, \"#7fbc41\"], [0.9, \"#4d9221\"], [1, \"#276419\"]], \"sequential\": [[0.0, \"#0d0887\"], [0.1111111111111111, \"#46039f\"], [0.2222222222222222, \"#7201a8\"], [0.3333333333333333, \"#9c179e\"], [0.4444444444444444, \"#bd3786\"], [0.5555555555555556, \"#d8576b\"], [0.6666666666666666, \"#ed7953\"], [0.7777777777777778, \"#fb9f3a\"], [0.8888888888888888, \"#fdca26\"], [1.0, \"#f0f921\"]], \"sequentialminus\": [[0.0, \"#0d0887\"], [0.1111111111111111, \"#46039f\"], [0.2222222222222222, \"#7201a8\"], [0.3333333333333333, \"#9c179e\"], [0.4444444444444444, \"#bd3786\"], [0.5555555555555556, \"#d8576b\"], [0.6666666666666666, \"#ed7953\"], [0.7777777777777778, \"#fb9f3a\"], [0.8888888888888888, \"#fdca26\"], [1.0, \"#f0f921\"]]}, \"colorway\": [\"#636efa\", \"#EF553B\", \"#00cc96\", \"#ab63fa\", \"#FFA15A\", \"#19d3f3\", \"#FF6692\", \"#B6E880\", \"#FF97FF\", \"#FECB52\"], \"font\": {\"color\": \"#2a3f5f\"}, \"geo\": {\"bgcolor\": \"white\", \"lakecolor\": \"white\", \"landcolor\": \"#E5ECF6\", \"showlakes\": true, \"showland\": true, \"subunitcolor\": \"white\"}, \"hoverlabel\": {\"align\": \"left\"}, \"hovermode\": \"closest\", \"mapbox\": {\"style\": \"light\"}, \"paper_bgcolor\": \"white\", \"plot_bgcolor\": \"#E5ECF6\", \"polar\": {\"angularaxis\": {\"gridcolor\": \"white\", \"linecolor\": \"white\", \"ticks\": \"\"}, \"bgcolor\": \"#E5ECF6\", \"radialaxis\": {\"gridcolor\": \"white\", \"linecolor\": \"white\", \"ticks\": \"\"}}, \"scene\": {\"xaxis\": {\"backgroundcolor\": \"#E5ECF6\", \"gridcolor\": \"white\", \"gridwidth\": 2, \"linecolor\": \"white\", \"showbackground\": true, \"ticks\": \"\", \"zerolinecolor\": \"white\"}, \"yaxis\": {\"backgroundcolor\": \"#E5ECF6\", \"gridcolor\": \"white\", \"gridwidth\": 2, \"linecolor\": \"white\", \"showbackground\": true, \"ticks\": \"\", \"zerolinecolor\": \"white\"}, \"zaxis\": {\"backgroundcolor\": \"#E5ECF6\", \"gridcolor\": \"white\", \"gridwidth\": 2, \"linecolor\": \"white\", \"showbackground\": true, \"ticks\": \"\", \"zerolinecolor\": \"white\"}}, \"shapedefaults\": {\"line\": {\"color\": \"#2a3f5f\"}}, \"ternary\": {\"aaxis\": {\"gridcolor\": \"white\", \"linecolor\": \"white\", \"ticks\": \"\"}, \"baxis\": {\"gridcolor\": \"white\", \"linecolor\": \"white\", \"ticks\": \"\"}, \"bgcolor\": \"#E5ECF6\", \"caxis\": {\"gridcolor\": \"white\", \"linecolor\": \"white\", \"ticks\": \"\"}}, \"title\": {\"x\": 0.05}, \"xaxis\": {\"automargin\": true, \"gridcolor\": \"white\", \"linecolor\": \"white\", \"ticks\": \"\", \"title\": {\"standoff\": 15}, \"zerolinecolor\": \"white\", \"zerolinewidth\": 2}, \"yaxis\": {\"automargin\": true, \"gridcolor\": \"white\", \"linecolor\": \"white\", \"ticks\": \"\", \"title\": {\"standoff\": 15}, \"zerolinecolor\": \"white\", \"zerolinewidth\": 2}}}, \"xaxis\": {\"anchor\": \"y\", \"domain\": [0.0, 1.0], \"title\": {\"text\": \"x\"}}, \"yaxis\": {\"anchor\": \"x\", \"domain\": [0.0, 1.0], \"title\": {\"text\": \"y\"}}},                        {\"responsive\": true}                    ).then(function(){\n",
       "                            \n",
       "var gd = document.getElementById('956d3933-92c8-4e20-92c7-30e6206ec5b1');\n",
       "var x = new MutationObserver(function (mutations, observer) {{\n",
       "        var display = window.getComputedStyle(gd).display;\n",
       "        if (!display || display === 'none') {{\n",
       "            console.log([gd, 'removed!']);\n",
       "            Plotly.purge(gd);\n",
       "            observer.disconnect();\n",
       "        }}\n",
       "}});\n",
       "\n",
       "// Listen for the removal of the full notebook cells\n",
       "var notebookContainer = gd.closest('#notebook-container');\n",
       "if (notebookContainer) {{\n",
       "    x.observe(notebookContainer, {childList: true});\n",
       "}}\n",
       "\n",
       "// Listen for the clearing of the current output cell\n",
       "var outputEl = gd.closest('.output');\n",
       "if (outputEl) {{\n",
       "    x.observe(outputEl, {childList: true});\n",
       "}}\n",
       "\n",
       "                        })                };                });            </script>        </div>"
      ]
     },
     "metadata": {},
     "output_type": "display_data"
    }
   ],
   "source": [
    "model = DBSCAN(metric='cosine',eps=.3,min_samples=5)\n",
    "dbs,fig = cluster_plot(model)\n",
    "fig"
   ]
  },
  {
   "cell_type": "code",
   "execution_count": 14,
   "metadata": {},
   "outputs": [
    {
     "data": {
      "application/vnd.plotly.v1+json": {
       "config": {
        "plotlyServerURL": "https://plot.ly"
       },
       "data": [
        {
         "customdata": [
          [
           "arrest case no charge"
          ],
          [
           "Grand Theft in the 3rd Degree"
          ],
          [
           "Felony Driving While Lic Suspd"
          ],
          [
           "Robbery W/Firearm"
          ],
          [
           "Battery"
          ],
          [
           "Possession of Hydrocodone"
          ],
          [
           "Burglary With Assault/battery"
          ],
          [
           "Possession of Cocaine"
          ],
          [
           "Possess Cannabis/20 Grams Or Less"
          ],
          [
           "Susp Drivers Lic 1st Offense"
          ],
          [
           "Uttering Forged Credit Card"
          ],
          [
           "Aggrav Battery w/Deadly Weapon"
          ],
          [
           "Purchase Of Cocaine"
          ],
          [
           "Agg Battery Grt/Bod/Harm"
          ],
          [
           "Burglary Unoccupied Dwelling"
          ],
          [
           "Aggravated Assault w/Firearm"
          ],
          [
           "Disorderly Intoxication"
          ],
          [
           "Possession Of Amphetamine"
          ],
          [
           "Manufacture Cannabis"
          ],
          [
           "DUI- Enhanced"
          ],
          [
           "Opert With Susp DL 2nd Offens"
          ],
          [
           "Possession Of Alprazolam"
          ],
          [
           "Deliver Cannabis"
          ],
          [
           "Child Abuse"
          ],
          [
           "Grand Theft (Motor Vehicle)"
          ],
          [
           "Retail Theft $300 1st Offense"
          ],
          [
           "Driving Under The Influence"
          ],
          [
           "Leave Acc/Attend Veh/More $50"
          ],
          [
           "Felony Petit Theft"
          ],
          [
           "Burglary Dwelling Occupied"
          ],
          [
           "Aggravated Assault W/Dead Weap"
          ],
          [
           "Possession of Cannabis"
          ],
          [
           "Battery on Law Enforc Officer"
          ],
          [
           "DUI Property Damage/Injury"
          ],
          [
           "Obtain Control Substance By Fraud"
          ],
          [
           "Alcoholic Beverage Violation-FL"
          ],
          [
           "Driving While License Revoked"
          ],
          [
           "Possession Child Pornography"
          ],
          [
           "Robbery / Weapon"
          ],
          [
           "Aggravated Assault W/dead Weap"
          ],
          [
           "Tampering With Physical Evidence"
          ],
          [
           "Neglect Child / No Bodily Harm"
          ],
          [
           "Poss3,4 Methylenedioxymethcath"
          ],
          [
           "Felony Battery w/Prior Convict"
          ],
          [
           "Possession of Oxycodone"
          ],
          [
           "Posses/Disply Susp/Revk/Frd DL"
          ],
          [
           "Fail Register Vehicle"
          ],
          [
           "Assault"
          ],
          [
           "Burglary Structure Unoccup"
          ],
          [
           "Solicitation On Felony 3 Deg"
          ],
          [
           "Disorderly Conduct"
          ],
          [
           "Cruelty Toward Child"
          ],
          [
           "Resist Officer w/Violence"
          ],
          [
           "Resist/Obstruct W/O Violence"
          ],
          [
           "Corrupt Public Servant"
          ],
          [
           "DUI - Enhanced"
          ],
          [
           "Poss Cocaine/Intent To Del/Sel"
          ],
          [
           "Criminal Attempt 3rd Deg Felon"
          ],
          [
           "Poss Tetrahydrocannabinols"
          ],
          [
           "Aggravated Battery (Firearm)"
          ],
          [
           "Burglary Conveyance Unoccup"
          ],
          [
           "Fel Drive License Perm Revoke"
          ],
          [
           "Deliver Cocaine"
          ],
          [
           "Driving License Suspended"
          ],
          [
           "Grand Theft In The 3Rd Degree"
          ],
          [
           "Unlaw LicTag/Sticker Attach"
          ],
          [
           "Possession Burglary Tools"
          ],
          [
           "Pos Cannabis W/Intent Sel/Del"
          ],
          [
           "Petit Theft"
          ],
          [
           "Tamper With Witness"
          ],
          [
           "DUI Level 0.15 Or Minor In Veh"
          ],
          [
           "Possess Weapon On School Prop"
          ],
          [
           "Felony Battery"
          ],
          [
           "Viol Prot Injunc Repeat Viol"
          ],
          [
           "Robbery / No Weapon"
          ],
          [
           "Aggravated Assault"
          ],
          [
           "Poss Pyrrolidinovalerophenone"
          ],
          [
           "Bribery Athletic Contests"
          ],
          [
           "Crim Use of Personal ID Info"
          ],
          [
           "Crimin Mischief Damage $1000+"
          ],
          [
           "False Imprisonment"
          ],
          [
           "Attempt Armed Burglary Dwell"
          ],
          [
           "Aggravated Battery / Pregnant"
          ],
          [
           "Operating W/O Valid License"
          ],
          [
           "Delivery Of Drug Paraphernalia"
          ],
          [
           "Fleeing Or Attmp Eluding A Leo"
          ],
          [
           "Leave Accd/Attend Veh/Less $50"
          ],
          [
           "Deliver 3,4 Methylenediox"
          ],
          [
           "Stalking (Aggravated)"
          ],
          [
           "Felony Battery (Dom Strang)"
          ],
          [
           "Battery on a Person Over 65"
          ],
          [
           "Grand Theft of a Fire Extinquisher"
          ],
          [
           "Prowling/Loitering"
          ],
          [
           "Poss of Firearm by Convic Felo"
          ],
          [
           "Burglary Conveyance Armed"
          ],
          [
           "Criminal Mischief>$200<$1000"
          ],
          [
           "Possession Of Heroin"
          ],
          [
           "Leaving the Scene of Accident"
          ],
          [
           "Lve/Scen/Acc/Veh/Prop/Damage"
          ],
          [
           "Possession of Hydromorphone"
          ],
          [
           "Possession Of Methamphetamine"
          ],
          [
           "Viol Injunct Domestic Violence"
          ],
          [
           "Poss 3,4 MDMA (Ecstasy)"
          ],
          [
           "Uttering a Forged Instrument"
          ],
          [
           "Video Voyeur-<24Y on Child >16"
          ],
          [
           "Introduce Contraband Into Jail"
          ],
          [
           "Petit Theft $100- $300"
          ],
          [
           "Possession Of Fentanyl"
          ],
          [
           "Viol Pretrial Release Dom Viol"
          ],
          [
           "Sel Etc/Pos/w/Int Contrft Schd"
          ],
          [
           "Unlicensed Telemarketing"
          ],
          [
           "Strong Armed  Robbery"
          ],
          [
           "Aggrav Stalking After Injunctn"
          ],
          [
           "Deliver Cocaine 1000FT Store"
          ],
          [
           "Possession of Morphine"
          ],
          [
           "Offer Agree Secure/Lewd Act"
          ],
          [
           "Possession Of Phentermine"
          ],
          [
           "Poss Unlaw Issue Id"
          ],
          [
           "Aggravated Battery"
          ],
          [
           "Use of Anti-Shoplifting Device"
          ],
          [
           "Expired DL More Than 6 Months"
          ],
          [
           "Possession of LSD"
          ],
          [
           "Att Burgl Unoccupied Dwel"
          ],
          [
           "Consp Traff Oxycodone 28g><30k"
          ],
          [
           "Burglary Dwelling Assault/Batt"
          ],
          [
           "Burglary Dwelling Armed"
          ],
          [
           "Possess Tobacco Product Under 18"
          ],
          [
           "Uttering Forged Bills"
          ],
          [
           "Poss of Vessel w/Altered ID NO"
          ],
          [
           "Unlawful Conveyance of Fuel"
          ],
          [
           "False Ownership Info/Pawn Item"
          ],
          [
           "Tamper With Witness/Victim/CI"
          ],
          [
           "Obstruct Fire Equipment"
          ],
          [
           "Possession Of Lorazepam"
          ],
          [
           "Drivg While Lic Suspd/Revk/Can"
          ],
          [
           "Solicit Deliver Cocaine"
          ],
          [
           "Criminal Mischief"
          ],
          [
           "Agg Assault W/int Com Fel Dome"
          ],
          [
           "Arson in the First Degree"
          ],
          [
           "Exposes Culpable Negligence"
          ],
          [
           "Felony DUI (level 3)"
          ],
          [
           "Sex Offender Fail Comply W/Law"
          ],
          [
           "Compulsory Sch Attnd Violation"
          ],
          [
           "Felony Batt(Great Bodily Harm)"
          ],
          [
           "Manage Busn W/O City Occup Lic"
          ],
          [
           "Poss Of Controlled Substance"
          ],
          [
           "Burglary Conveyance Occupied"
          ],
          [
           "Lewd or Lascivious Molestation"
          ],
          [
           "Possess Drug Paraphernalia"
          ],
          [
           "Principal In The First Degree"
          ],
          [
           "Reckless Driving"
          ],
          [
           "Poss of Cocaine W/I/D/S 1000FT Park"
          ],
          [
           "Aggrav Child Abuse-Agg Battery"
          ],
          [
           "Poss/Sell/Del Cocaine 1000FT Sch"
          ],
          [
           "Leaving Acc/Unattended Veh"
          ],
          [
           "Fraudulent Use of Credit Card"
          ],
          [
           "Dealing in Stolen Property"
          ],
          [
           "Poss Unlaw Issue Driver Licenc"
          ],
          [
           "Consp Traff Oxycodone  4g><14g"
          ],
          [
           "Grand Theft on 65 Yr or Older"
          ],
          [
           "Fighting/Baiting Animals"
          ],
          [
           "Carjacking with a Firearm"
          ],
          [
           "Fail Obey Driv Lic Restrictions"
          ],
          [
           "Unlaw Use False Name/Identity"
          ],
          [
           "Purchase/P/W/Int Cannabis"
          ],
          [
           "Poss Similitude of Drivers Lic"
          ],
          [
           "Carrying Concealed Firearm"
          ],
          [
           "Tamper With Victim"
          ],
          [
           "Fail To Secure Load"
          ],
          [
           "Traffick Hydrocodone   4g><14g"
          ],
          [
           "Violation License Restrictions"
          ],
          [
           "Purchase Cannabis"
          ],
          [
           "Cash Item w/Intent to Defraud"
          ],
          [
           "Harm Public Servant Or Family"
          ],
          [
           "Offer Agree Secure For Lewd Act"
          ],
          [
           "Robbery Sudd Snatch No Weapon"
          ],
          [
           "Trespassing/Construction Site"
          ],
          [
           "Armed Trafficking in Cannabis"
          ],
          [
           "DUI Blood Alcohol Above 0.20"
          ],
          [
           "Carry Open/Uncov Bev In Pub"
          ],
          [
           "DWI w/Inj Susp Lic / Habit Off"
          ],
          [
           "Grand Theft Firearm"
          ],
          [
           "Felony DUI - Enhanced"
          ],
          [
           "Neglect/Abuse Elderly Person"
          ],
          [
           "Felony/Driving Under Influence"
          ],
          [
           "Opert With Susp DL 2ND Offense"
          ],
          [
           "Criminal Mischief Damage <$200"
          ],
          [
           "Burglary Assault/Battery Armed"
          ],
          [
           "Poss F/Arm Delinq"
          ],
          [
           "Felon in Pos of Firearm or Amm"
          ],
          [
           "Lewd/Lasc Exhib Presence <16yr"
          ],
          [
           "Aggrav Child Abuse-Causes Harm"
          ],
          [
           "Violation Of Boater Safety Id"
          ],
          [
           "Disrupting School Function"
          ],
          [
           "Attempted Robbery Firearm"
          ],
          [
           "Prostitution/Lewd Act Assignation"
          ],
          [
           "Del of JWH-250 2-Methox 1-Pentyl"
          ],
          [
           "Sale/Del Counterfeit Cont Subs"
          ],
          [
           "Poss Contr Subst W/o Prescript"
          ],
          [
           "Tampering with a Victim"
          ],
          [
           "Unemployment Compensatn Fraud"
          ],
          [
           "Sex Battery Deft 18+/Vict 11-"
          ],
          [
           "Possession Of 3,4Methylenediox"
          ],
          [
           "Cruelty to Animals"
          ],
          [
           "Lewd/Lasc Battery Pers 12+/<16"
          ],
          [
           "Carjacking w/o Deadly Weapon"
          ],
          [
           "Grand Theft in the 1st Degree"
          ],
          [
           "Refuse Submit Blood/Breath Test"
          ],
          [
           "Kidnapping / Domestic Violence"
          ],
          [
           "Simulation of Legal Process"
          ],
          [
           "Burglary Structure Occupied"
          ],
          [
           "False Bomb Report"
          ],
          [
           "Gambling/Gamb Paraphernalia"
          ],
          [
           "Trespass Structure/Conveyance"
          ],
          [
           "Poss Wep Conv Felon"
          ],
          [
           "Consume Alcoholic Bev Pub"
          ],
          [
           "Failure To Return Hired Vehicle"
          ],
          [
           "Tresspass Struct/Conveyance"
          ],
          [
           "Fail Sex Offend Report Bylaw"
          ],
          [
           "Possess Cannabis 1000FTSch"
          ],
          [
           "Unauth Poss ID Card or DL"
          ],
          [
           "Tresspass in Structure or Conveyance"
          ],
          [
           "Agg Fleeing and Eluding"
          ],
          [
           "Conspiracy Dealing Stolen Prop"
          ],
          [
           "Counterfeit Lic Plates/Sticker"
          ],
          [
           "Interfere W/Traf Cont Dev RR"
          ],
          [
           "Possession Firearm School Prop"
          ],
          [
           "Possession of Benzylpiperazine"
          ],
          [
           "Throw Deadly Missile Into Veh"
          ],
          [
           "Present Proof of Invalid Insur"
          ],
          [
           "Fraud Obtain Food or Lodging"
          ],
          [
           "Crim Use Of Personal Id Info"
          ],
          [
           "License Suspended Revoked"
          ],
          [
           "Traffick Oxycodone     4g><14g"
          ],
          [
           "Poss Anti-Shoplifting Device"
          ],
          [
           "Hiring with Intent to Defraud"
          ],
          [
           "Lewdness Violation"
          ],
          [
           "Poss Of RX Without RX"
          ],
          [
           "Burglary Conveyance Assault/Bat"
          ],
          [
           "Murder in 2nd Degree"
          ],
          [
           "Aggress/Panhandle/Beg/Solict"
          ],
          [
           "Violation of Injunction Order/Stalking/Cyberstalking"
          ],
          [
           "Attempted Robbery  No Weapon"
          ],
          [
           "Possession Of Buprenorphine"
          ],
          [
           "Possess Controlled Substance"
          ],
          [
           "Structuring Transactions"
          ],
          [
           "Exploit Elderly Person 20-100K"
          ],
          [
           "Robbery W/Deadly Weapon"
          ],
          [
           "Harass Witness/Victm/Informnt"
          ],
          [
           "Misuse Of 911 Or E911 System"
          ],
          [
           "DOC/Cause Public Danger"
          ],
          [
           "Dealing In Stolen Property"
          ],
          [
           "Soliciting For Prostitution"
          ],
          [
           "Delivery of 5-Fluoro PB-22"
          ],
          [
           "Prostitution/Lewdness/Assign"
          ],
          [
           "Deliver Cannabis 1000FTSch"
          ],
          [
           "Sexual Performance by a Child"
          ],
          [
           "Possess w/I/Utter Forged Bills"
          ],
          [
           "Unl/Disturb Education/Instui"
          ],
          [
           "Fleeing or Eluding a LEO"
          ],
          [
           "Use Scanning Device to Defraud"
          ],
          [
           "Poss of Methylethcathinone"
          ],
          [
           "Grand Theft Dwell Property"
          ],
          [
           "Burglary Structure Assault/Batt"
          ],
          [
           "Murder in the First Degree"
          ],
          [
           "Del Cannabis For Consideration"
          ],
          [
           "Poss Alprazolam W/int Sell/Del"
          ],
          [
           "Culpable Negligence"
          ],
          [
           "Fail To Redeliv Hire/Leas Prop"
          ],
          [
           "DWLS Canceled Disqul 1st Off"
          ],
          [
           "Fail Register Career Offender"
          ],
          [
           "Forging Bank Bills/Promis Note"
          ],
          [
           "Sell Cannabis"
          ],
          [
           "Use Computer for Child Exploit"
          ],
          [
           "Extradition/Defendants"
          ],
          [
           "Poss Drugs W/O A Prescription"
          ],
          [
           "Contribute Delinquency Of A Minor"
          ],
          [
           "Possession Of Diazepam"
          ],
          [
           "Flee/Elude LEO-Agg Flee Unsafe"
          ],
          [
           "Theft"
          ],
          [
           "Live on Earnings of Prostitute"
          ],
          [
           "Trespass Property w/Dang Weap"
          ],
          [
           "Att Burgl Struc/Conv Dwel/Occp"
          ],
          [
           "Aggravated Assault W/o Firearm"
          ],
          [
           "Battery Emergency Care Provide"
          ],
          [
           "False 911 Call"
          ],
          [
           "Possession of Codeine"
          ],
          [
           "Sexual Battery / Vict 12 Yrs +"
          ],
          [
           "Att Tamper w/Physical Evidence"
          ],
          [
           "Murder In 2nd Degree W/firearm"
          ],
          [
           "Aggravated Battery On 65/Older"
          ],
          [
           "Battery Spouse Or Girlfriend"
          ],
          [
           "Trespass Structure w/Dang Weap"
          ],
          [
           "Possession Of Paraphernalia"
          ],
          [
           "Escape"
          ],
          [
           "Lewd/Lasciv Molest Elder Persn"
          ],
          [
           "Carrying A Concealed Weapon"
          ],
          [
           "Poss Trifluoromethylphenylpipe"
          ],
          [
           "Traffick Amphetamine 28g><200g"
          ],
          [
           "Possession Of Anabolic Steroid"
          ],
          [
           "Agg Fleeing/Eluding High Speed"
          ],
          [
           "Neglect Child / Bodily Harm"
          ],
          [
           "Sale/Del Cannabis At/Near Scho"
          ],
          [
           "Felony Committing Prostitution"
          ],
          [
           "Battery On Fire Fighter"
          ],
          [
           "Fail To Obey Police Officer"
          ],
          [
           "Compulsory Attendance Violation"
          ],
          [
           "Aggr Child Abuse-Torture,Punish"
          ],
          [
           "Prostitution"
          ],
          [
           "Viol Injunction Protect Dom Vi"
          ],
          [
           "Theft/To Deprive"
          ],
          [
           "Crim Attempt/Solicit/Consp"
          ],
          [
           "Trespass Struct/Conveyance"
          ],
          [
           "False Motor Veh Insurance Card"
          ],
          [
           "Computer Pornography"
          ],
          [
           "Depriv LEO of Protect/Communic"
          ],
          [
           "Del 3,4 Methylenedioxymethcath"
          ],
          [
           "Del Morphine at/near Park"
          ],
          [
           "Use Of 2 Way Device To Fac Fel"
          ],
          [
           "Shoot Into Vehicle"
          ],
          [
           "Offn Against Intellectual Prop"
          ],
          [
           "Deliver Cocaine 1000FT Park"
          ],
          [
           "Battery On Parking Enfor Speci"
          ],
          [
           "Failure To Pay Taxi Cab Charge"
          ],
          [
           "Solicit To Deliver Cocaine"
          ],
          [
           "Open Carrying Of Weapon"
          ],
          [
           "D.U.I. Serious Bodily Injury"
          ],
          [
           "Abuse Without Great Harm"
          ],
          [
           "Lease For Purpose Trafficking"
          ],
          [
           "Threat Public Servant"
          ],
          [
           "Ride Tri-Rail Without Paying"
          ],
          [
           "Falsely Impersonating Officer"
          ],
          [
           "Poss Meth/Diox/Meth/Amp (MDMA)"
          ],
          [
           "Solic to Commit Battery"
          ],
          [
           "Unlawful Use Of Police Badges"
          ],
          [
           "Unauth C/P/S Sounds>1000/Audio"
          ],
          [
           "Deliver Alprazolam"
          ],
          [
           "DUI - Property Damage/Personal Injury"
          ],
          [
           "False Info LEO During Invest"
          ],
          [
           "Purchasing Of Alprazolam"
          ],
          [
           "Refuse to Supply DNA Sample"
          ],
          [
           "Throw Missile Into Pub/Priv Dw"
          ],
          [
           "Sel/Pur/Mfr/Del Control Substa"
          ],
          [
           "DWLS Susp/Cancel Revoked"
          ],
          [
           "Cause Anoth Phone Ring Repeat"
          ],
          [
           "Shoot In Occupied Dwell"
          ],
          [
           "Poss Oxycodone W/Int/Sell/Del"
          ],
          [
           "Conspiracy to Deliver Cocaine"
          ],
          [
           "Possess/Use Weapon 1 Deg Felon"
          ],
          [
           "Intoxicated/Safety Of Another"
          ],
          [
           "Aggravated Battery (Firearm/Actual Possession)"
          ],
          [
           "Insurance Fraud"
          ],
          [
           "Sell or Offer for Sale Counterfeit Goods"
          ],
          [
           "Oper Motorcycle W/O Valid DL"
          ],
          [
           "Agg Assault Law Enforc Officer"
          ],
          [
           "Money Launder 100K or More Dols"
          ],
          [
           "Attempt Burglary (Struct)"
          ],
          [
           "Agg Abuse Elderlly/Disabled Adult"
          ],
          [
           "Throw In Occupied Dwell"
          ],
          [
           "Grand Theft of the 2nd Degree"
          ],
          [
           "Lewd Act Presence Child 16-"
          ],
          [
           "DUI/Property Damage/Persnl Inj"
          ]
         ],
         "hovertemplate": "x=%{x}<br>y=%{y}<br>b=%{customdata[0]}<br>color=%{marker.color}<extra></extra>",
         "legendgroup": "",
         "marker": {
          "color": [
           0,
           4,
           6,
           3,
           11,
           2,
           3,
           2,
           2,
           6,
           2,
           0,
           2,
           17,
           3,
           8,
           1,
           2,
           4,
           11,
           6,
           1,
           4,
           12,
           3,
           4,
           1,
           5,
           3,
           3,
           18,
           4,
           0,
           5,
           2,
           1,
           6,
           7,
           3,
           18,
           3,
           12,
           4,
           3,
           2,
           6,
           10,
           8,
           3,
           4,
           1,
           12,
           0,
           0,
           3,
           11,
           2,
           4,
           2,
           8,
           3,
           6,
           2,
           6,
           4,
           6,
           3,
           4,
           3,
           3,
           5,
           17,
           3,
           18,
           3,
           8,
           2,
           2,
           3,
           3,
           3,
           3,
           8,
           6,
           2,
           6,
           5,
           4,
           8,
           3,
           16,
           3,
           13,
           2,
           3,
           2,
           2,
           14,
           5,
           2,
           2,
           0,
           4,
           9,
           13,
           3,
           2,
           2,
           0,
           9,
           1,
           3,
           18,
           15,
           2,
           7,
           9,
           6,
           8,
           9,
           16,
           1,
           3,
           4,
           3,
           3,
           2,
           2,
           13,
           1,
           3,
           3,
           9,
           2,
           6,
           2,
           3,
           8,
           1,
           12,
           4,
           7,
           18,
           3,
           6,
           2,
           3,
           7,
           2,
           1,
           6,
           15,
           12,
           15,
           6,
           2,
           3,
           6,
           4,
           16,
           0,
           3,
           6,
           3,
           4,
           5,
           17,
           3,
           6,
           4,
           18,
           4,
           2,
           18,
           7,
           3,
           8,
           4,
           2,
           1,
           6,
           3,
           11,
           0,
           1,
           6,
           2,
           3,
           1,
           17,
           13,
           12,
           18,
           19,
           3,
           7,
           2,
           2,
           6,
           3,
           2,
           17,
           4,
           0,
           17,
           3,
           3,
           10,
           0,
           11,
           3,
           3,
           2,
           9,
           2,
           1,
           10,
           9,
           7,
           15,
           6,
           9,
           6,
           2,
           2,
           8,
           17,
           2,
           1,
           6,
           2,
           3,
           6,
           4,
           9,
           2,
           7,
           6,
           3,
           5,
           0,
           18,
           3,
           2,
           2,
           11,
           2,
           0,
           0,
           14,
           18,
           3,
           7,
           11,
           7,
           15,
           7,
           2,
           19,
           6,
           2,
           2,
           3,
           3,
           18,
           4,
           1,
           12,
           10,
           13,
           10,
           2,
           4,
           7,
           1,
           2,
           12,
           2,
           6,
           3,
           7,
           0,
           3,
           8,
           11,
           14,
           2,
           17,
           3,
           5,
           16,
           0,
           0,
           2,
           14,
           7,
           17,
           9,
           4,
           2,
           6,
           12,
           4,
           7,
           8,
           6,
           18,
           12,
           7,
           18,
           3,
           0,
           9,
           6,
           7,
           9,
           4,
           2,
           11,
           5,
           8,
           15,
           11,
           6,
           2,
           17,
           18,
           12,
           1,
           18,
           2,
           3,
           2,
           3,
           6,
           15,
           1,
           5,
           3,
           1,
           10,
           1,
           9,
           13,
           14,
           8,
           2,
           2,
           17,
           9,
           8,
           2,
           2,
           6,
           0,
           2,
           3,
           0,
           8,
           5,
           13,
           5
          ],
          "coloraxis": "coloraxis",
          "size": 4,
          "symbol": "circle"
         },
         "mode": "markers",
         "name": "",
         "orientation": "v",
         "showlegend": false,
         "type": "scatter",
         "x": [
          16.616966247558594,
          14.947479248046875,
          13.264639854431152,
          16.363859176635742,
          14.352456092834473,
          10.179258346557617,
          17.21424674987793,
          9.329874038696289,
          9.852495193481445,
          13.233471870422363,
          16.033151626586914,
          15.105149269104004,
          9.266256332397461,
          14.359471321105957,
          17.245201110839844,
          14.609724998474121,
          12.585783958435059,
          10.331820487976074,
          8.938472747802734,
          14.162368774414062,
          13.116941452026367,
          11.229315757751465,
          8.834321022033691,
          13.23108196258545,
          15.592309951782227,
          15.042033195495605,
          12.606258392333984,
          14.900349617004395,
          15.526586532592773,
          17.36366844177246,
          14.395414352416992,
          9.072206497192383,
          15.26769733428955,
          14.065885543823242,
          16.139558792114258,
          12.161162376403809,
          13.233820915222168,
          12.93639850616455,
          16.503511428833008,
          14.501229286193848,
          16.826988220214844,
          13.237663269042969,
          10.227738380432129,
          15.137468338012695,
          10.064962387084961,
          13.221787452697754,
          14.204580307006836,
          14.467117309570312,
          17.279199600219727,
          14.883620262145996,
          12.982348442077637,
          13.364264488220215,
          15.397586822509766,
          15.583550453186035,
          15.970542907714844,
          14.120807647705078,
          9.248930931091309,
          14.827987670898438,
          10.215744018554688,
          14.689045906066895,
          17.269739151000977,
          13.002359390258789,
          9.271133422851562,
          13.33957290649414,
          14.887213706970215,
          13.533214569091797,
          16.438274383544922,
          8.91324234008789,
          15.622493743896484,
          16.76896095275879,
          13.603348731994629,
          15.827702522277832,
          14.776387214660645,
          15.246474266052246,
          16.655221939086914,
          14.378715515136719,
          10.603394508361816,
          15.751312255859375,
          16.15265464782715,
          15.104832649230957,
          16.832426071166992,
          16.86716079711914,
          14.38689136505127,
          13.620429039001465,
          9.915279388427734,
          15.391458511352539,
          14.77458381652832,
          10.202574729919434,
          14.669352531433105,
          15.100691795349121,
          14.25430679321289,
          15.551629066467285,
          16.90276336669922,
          15.217522621154785,
          17.418123245239258,
          14.707273483276367,
          10.236907958984375,
          15.051019668579102,
          14.860541343688965,
          10.5056734085083,
          10.120255470275879,
          15.070487976074219,
          10.089712142944336,
          16.169158935546875,
          12.531153678894043,
          16.464506149291992,
          15.256754875183105,
          10.006855964660645,
          15.568099021911621,
          11.339570999145508,
          14.50273323059082,
          16.59303855895996,
          15.082079887390137,
          8.887207984924316,
          10.185649871826172,
          13.242098808288574,
          10.714935302734375,
          13.918254852294922,
          14.580290794372559,
          17.272550582885742,
          12.954474449157715,
          11.408082962036133,
          17.050662994384766,
          9.773451805114746,
          17.00248908996582,
          17.027156829833984,
          10.184530258178711,
          16.067626953125,
          14.015474319458008,
          13.897989273071289,
          16.315717697143555,
          16.72041130065918,
          17.390390396118164,
          10.853165626525879,
          13.278651237487793,
          9.33590316772461,
          15.801630020141602,
          14.526715278625488,
          15.15058422088623,
          13.275279998779297,
          14.670366287231445,
          13.012028694152832,
          15.161550521850586,
          14.453022003173828,
          13.817307472229004,
          10.672098159790039,
          17.34247398376465,
          12.971675872802734,
          10.359968185424805,
          15.246881484985352,
          14.088253021240234,
          8.908478736877441,
          13.831050872802734,
          8.860147476196289,
          14.293051719665527,
          15.941495895385742,
          16.042583465576172,
          13.497751235961914,
          9.83369255065918,
          14.268961906433105,
          14.533777236938477,
          16.21832847595215,
          13.288930892944336,
          16.578277587890625,
          8.988264083862305,
          13.499714851379395,
          15.976149559020996,
          16.687496185302734,
          14.164755821228027,
          9.821051597595215,
          15.356074333190918,
          9.004998207092285,
          15.846190452575684,
          13.540063858032227,
          13.277609825134277,
          16.574983596801758,
          16.810697555541992,
          9.035435676574707,
          10.69124698638916,
          12.132440567016602,
          13.098804473876953,
          15.552693367004395,
          14.172445297241211,
          13.878697395324707,
          13.47371768951416,
          13.110273361206055,
          14.742851257324219,
          16.958627700805664,
          11.57437515258789,
          15.347445487976074,
          12.519148826599121,
          13.314696311950684,
          15.38710880279541,
          13.131647109985352,
          16.583988189697266,
          13.123875617980957,
          10.262931823730469,
          15.98194694519043,
          14.0252046585083,
          16.64995765686035,
          15.661829948425293,
          13.13730239868164,
          10.173070907592773,
          14.25766372680664,
          12.772177696228027,
          14.081001281738281,
          15.327567100524902,
          13.420563697814941,
          16.699190139770508,
          17.147239685058594,
          17.426328659057617,
          16.652135848999023,
          15.868284225463867,
          16.93402862548828,
          15.228705406188965,
          12.185111045837402,
          14.491003036499023,
          17.18977165222168,
          13.065439224243164,
          8.857666969299316,
          13.584152221679688,
          17.25551414489746,
          15.23843002319336,
          16.016033172607422,
          15.942867279052734,
          16.759977340698242,
          15.735947608947754,
          10.670351028442383,
          15.506410598754883,
          14.080163955688477,
          15.840298652648926,
          16.280874252319336,
          13.106315612792969,
          9.830158233642578,
          17.120361328125,
          15.769850730895996,
          12.976353645324707,
          13.965692520141602,
          17.234189987182617,
          14.610761642456055,
          14.624677658081055,
          15.289690017700195,
          16.704931259155273,
          10.54271125793457,
          10.802660942077637,
          17.179943084716797,
          14.303524017333984,
          15.480661392211914,
          15.334942817687988,
          16.673521041870117,
          13.695382118225098,
          15.958345413208008,
          13.50338077545166,
          10.922125816345215,
          13.141043663024902,
          8.804659843444824,
          12.90449333190918,
          16.01905059814453,
          13.134231567382812,
          15.343477249145508,
          16.281126022338867,
          10.264606475830078,
          15.543783187866211,
          17.10283088684082,
          15.050252914428711,
          8.896142959594727,
          11.243654251098633,
          13.323962211608887,
          13.898935317993164,
          13.19338607788086,
          13.683444023132324,
          16.028623580932617,
          9.024806022644043,
          13.01220703125,
          16.573293685913086,
          10.366222381591797,
          13.473162651062012,
          10.736493110656738,
          15.388038635253906,
          15.993083953857422,
          13.42089557647705,
          15.554017066955566,
          17.112733840942383,
          14.508891105651855,
          14.23086166381836,
          16.69329833984375,
          9.9173002243042,
          13.071163177490234,
          16.72484588623047,
          14.807787895202637,
          14.166426658630371,
          14.530592918395996,
          15.62531852722168,
          10.569734573364258,
          15.282995223999023,
          13.084192276000977,
          16.212841033935547,
          10.695327758789062,
          9.955094337463379,
          10.583558082580566,
          15.273651123046875,
          13.425379753112793,
          9.125042915344238,
          13.379520416259766,
          14.819348335266113,
          13.294918060302734,
          15.374106407165527,
          13.766523361206055,
          13.242147445678711,
          15.487855911254883,
          15.921989440917969,
          16.281652450561523,
          17.064376831054688,
          15.31184196472168,
          12.937926292419434,
          15.537237167358398,
          10.205738067626953,
          9.897841453552246,
          14.093289375305176,
          15.608359336853027,
          14.431005477905273,
          8.888694763183594,
          14.324179649353027,
          15.029335975646973,
          9.295985221862793,
          15.814764022827148,
          13.703400611877441,
          13.47852611541748,
          14.89445972442627,
          13.85147476196289,
          15.519988059997559,
          16.656404495239258,
          10.213821411132812,
          15.113272666931152,
          13.567400932312012,
          8.956584930419922,
          11.074048042297363,
          14.086133003234863,
          16.272212982177734,
          11.092336654663086,
          13.517745018005371,
          15.647189140319824,
          11.069743156433105,
          13.074446678161621,
          16.71122932434082,
          16.886524200439453,
          9.52388858795166,
          9.244058609008789,
          15.469724655151367,
          10.951678276062012,
          14.644182205200195,
          15.618339538574219,
          16.237524032592773,
          13.72973918914795,
          15.144233703613281,
          15.410594940185547,
          16.531198501586914,
          14.064573287963867,
          16.8814697265625,
          14.678496360778809,
          12.664979934692383,
          14.084728240966797
         ],
         "xaxis": "x",
         "y": [
          8.081073760986328,
          6.030754089355469,
          4.006679534912109,
          7.067660331726074,
          7.731832981109619,
          8.63730525970459,
          7.344834804534912,
          9.079383850097656,
          7.724051475524902,
          4.045468807220459,
          4.538733005523682,
          8.158757209777832,
          9.10283374786377,
          8.23636245727539,
          7.758054733276367,
          8.673140525817871,
          7.719477653503418,
          9.241098403930664,
          7.488933563232422,
          5.627694606781006,
          4.353868007659912,
          8.383316993713379,
          7.706244945526123,
          8.221199989318848,
          6.25248384475708,
          6.171806335449219,
          7.658053874969482,
          4.1524882316589355,
          5.90245246887207,
          7.580409526824951,
          8.617207527160645,
          7.598776817321777,
          8.782964706420898,
          5.757899284362793,
          5.072835922241211,
          7.726099014282227,
          3.8369836807250977,
          7.183661460876465,
          6.9635820388793945,
          8.668567657470703,
          5.376980781555176,
          8.51585865020752,
          8.07701301574707,
          7.9775590896606445,
          9.031538963317871,
          3.9219675064086914,
          4.2045159339904785,
          9.000455856323242,
          7.672732830047607,
          6.222735404968262,
          7.710284233093262,
          8.295180320739746,
          8.73424243927002,
          8.685152053833008,
          5.471749305725098,
          5.6280670166015625,
          9.113007545471191,
          6.110241889953613,
          8.524224281311035,
          8.797060012817383,
          7.762826919555664,
          3.714716911315918,
          9.025083541870117,
          3.924065351486206,
          6.078136920928955,
          4.403646469116211,
          6.645230770111084,
          7.564197063446045,
          5.798364162445068,
          5.316464900970459,
          5.131307125091553,
          7.514163494110107,
          7.672449111938477,
          8.561894416809082,
          7.351158618927002,
          8.702106475830078,
          8.926360130310059,
          4.890359401702881,
          5.504934787750244,
          6.424745559692383,
          4.722591400146484,
          7.52372932434082,
          8.492777824401855,
          4.250521659851074,
          9.303070068359375,
          3.250319480895996,
          4.112013339996338,
          8.085224151611328,
          8.587788581848145,
          7.850325107574463,
          7.473283767700195,
          6.1516947746276855,
          8.146194458007812,
          7.4766669273376465,
          7.110451698303223,
          6.546601295471191,
          9.348944664001465,
          3.490142345428467,
          4.174272537231445,
          8.476491928100586,
          9.271377563476562,
          8.733661651611328,
          8.134051322937012,
          4.660236358642578,
          6.828982353210449,
          7.657905101776123,
          5.811787128448486,
          9.251304626464844,
          8.273296356201172,
          8.16108226776123,
          4.823668003082275,
          7.164763927459717,
          8.588438034057617,
          8.379599571228027,
          9.277239799499512,
          6.20407772064209,
          8.797688484191895,
          3.984409809112549,
          8.460065841674805,
          6.90669059753418,
          4.103342533111572,
          8.360824584960938,
          7.791904926300049,
          8.422904968261719,
          7.535154819488525,
          7.400412559509277,
          9.375310897827148,
          4.424921035766602,
          3.9329545497894287,
          4.647998809814453,
          4.637700080871582,
          5.300243377685547,
          7.087153911590576,
          8.755170822143555,
          3.9594714641571045,
          9.067791938781738,
          6.363992214202881,
          8.965226173400879,
          7.007322788238525,
          8.14439868927002,
          5.974539756774902,
          5.9616546630859375,
          8.493817329406738,
          8.189690589904785,
          4.334378719329834,
          9.449501037597656,
          7.206542491912842,
          6.408754825592041,
          9.43171501159668,
          6.832301616668701,
          4.1929216384887695,
          8.316072463989258,
          8.318037033081055,
          8.322697639465332,
          3.973073959350586,
          4.676137924194336,
          5.516656875610352,
          4.0568766593933105,
          8.242277145385742,
          7.205530166625977,
          8.086432456970215,
          6.955266952514648,
          3.9829349517822266,
          4.471597194671631,
          7.573758602142334,
          4.540792465209961,
          7.413480281829834,
          5.305838108062744,
          3.7178359031677246,
          8.174562454223633,
          7.881954669952393,
          7.562047958374023,
          5.069591522216797,
          8.52269458770752,
          6.288064479827881,
          7.290580749511719,
          6.460840702056885,
          7.573456764221191,
          7.630209922790527,
          7.714302062988281,
          3.789217472076416,
          6.408743381500244,
          5.667778491973877,
          7.824217796325684,
          6.9496750831604,
          4.146575450897217,
          6.4367804527282715,
          7.358810901641846,
          8.241225242614746,
          7.473318576812744,
          6.738881587982178,
          8.300257682800293,
          8.255949020385742,
          8.010189056396484,
          7.138558864593506,
          6.316998481750488,
          8.011809349060059,
          4.848993301391602,
          4.008658409118652,
          5.226609230041504,
          4.90606164932251,
          6.482293605804443,
          8.142518043518066,
          8.019372940063477,
          6.775776386260986,
          4.504594326019287,
          6.445143699645996,
          3.4671528339385986,
          7.612175941467285,
          6.115143775939941,
          7.550250053405762,
          4.494036674499512,
          5.222189426422119,
          6.399569034576416,
          7.450404644012451,
          7.720966339111328,
          4.015471458435059,
          6.332603931427002,
          5.881082534790039,
          8.084299087524414,
          4.34693717956543,
          6.403651237487793,
          3.2991881370544434,
          5.293210983276367,
          4.78134298324585,
          5.668501377105713,
          7.434389114379883,
          8.925516128540039,
          6.944313049316406,
          3.8842813968658447,
          5.138598918914795,
          5.581948757171631,
          3.7811899185180664,
          8.211308479309082,
          6.709045886993408,
          5.142177581787109,
          6.590237140655518,
          4.14060115814209,
          7.416241645812988,
          6.528993129730225,
          4.989231586456299,
          8.408190727233887,
          7.501524448394775,
          8.99933910369873,
          9.414043426513672,
          6.207620143890381,
          6.8038763999938965,
          7.262810707092285,
          7.721338748931885,
          4.577198028564453,
          8.556653022766113,
          5.422783851623535,
          6.48501443862915,
          8.226311683654785,
          6.357059001922607,
          8.071432113647461,
          7.145448684692383,
          4.61083459854126,
          7.872676849365234,
          3.3164193630218506,
          4.9397478103637695,
          8.98466968536377,
          6.1161417961120605,
          7.3404459953308105,
          6.9638566970825195,
          7.5152268409729,
          8.29859733581543,
          8.087506294250488,
          3.646326780319214,
          3.5147602558135986,
          3.580549478530884,
          4.502359867095947,
          7.584510326385498,
          7.061270713806152,
          6.104098796844482,
          9.508966445922852,
          7.943532466888428,
          8.883688926696777,
          3.2730815410614014,
          5.918148517608643,
          6.424476146697998,
          7.163136005401611,
          7.059921741485596,
          8.83769416809082,
          7.6508893966674805,
          4.540335178375244,
          8.626853942871094,
          6.587921619415283,
          5.360727310180664,
          6.741335868835449,
          7.5358099937438965,
          7.729268550872803,
          7.648848056793213,
          9.529494285583496,
          3.309155225753784,
          6.434127330780029,
          7.373021125793457,
          8.653141021728516,
          8.359464645385742,
          9.304566383361816,
          3.3426547050476074,
          8.402432441711426,
          7.655827522277832,
          6.491552829742432,
          8.769877433776855,
          4.911602973937988,
          8.504435539245605,
          8.293018341064453,
          6.35640287399292,
          8.268589973449707,
          5.633453845977783,
          5.997447490692139,
          6.474365711212158,
          4.403147220611572,
          7.014926433563232,
          3.3120687007904053,
          8.110027313232422,
          9.140731811523438,
          5.433493614196777,
          6.671535491943359,
          8.381261825561523,
          8.308550834655762,
          7.591276168823242,
          4.301912784576416,
          9.141196250915527,
          7.4661664962768555,
          8.415328979492188,
          8.579388618469238,
          5.154999256134033,
          8.598163604736328,
          4.650677680969238,
          4.580802917480469,
          8.917442321777344,
          7.941897392272949,
          4.562243461608887,
          8.1664457321167,
          8.332427978515625,
          5.899692535400391,
          4.612266540527344,
          8.40626335144043,
          3.521315336227417,
          7.075442314147949,
          8.088485717773438,
          3.687835454940796,
          4.610052108764648,
          7.627926349639893,
          8.931347846984863,
          9.144998550415039,
          7.399023056030273,
          9.272421836853027,
          8.552274703979492,
          4.782292366027832,
          4.816336631774902,
          4.1366071701049805,
          8.65649700164795,
          5.183726787567139,
          6.601247787475586,
          7.598044395446777,
          7.718042850494385,
          6.255674839019775,
          6.701158046722412,
          5.725508213043213
         ],
         "yaxis": "y"
        }
       ],
       "layout": {
        "coloraxis": {
         "colorbar": {
          "title": {
           "text": "color"
          }
         },
         "colorscale": [
          [
           0,
           "#0d0887"
          ],
          [
           0.1111111111111111,
           "#46039f"
          ],
          [
           0.2222222222222222,
           "#7201a8"
          ],
          [
           0.3333333333333333,
           "#9c179e"
          ],
          [
           0.4444444444444444,
           "#bd3786"
          ],
          [
           0.5555555555555556,
           "#d8576b"
          ],
          [
           0.6666666666666666,
           "#ed7953"
          ],
          [
           0.7777777777777778,
           "#fb9f3a"
          ],
          [
           0.8888888888888888,
           "#fdca26"
          ],
          [
           1,
           "#f0f921"
          ]
         ]
        },
        "hoverlabel": {
         "bgcolor": "black",
         "font": {
          "size": 12
         }
        },
        "legend": {
         "tracegroupgap": 0
        },
        "margin": {
         "b": 0,
         "l": 0,
         "r": 0,
         "t": 0
        },
        "template": {
         "data": {
          "bar": [
           {
            "error_x": {
             "color": "#2a3f5f"
            },
            "error_y": {
             "color": "#2a3f5f"
            },
            "marker": {
             "line": {
              "color": "#E5ECF6",
              "width": 0.5
             }
            },
            "type": "bar"
           }
          ],
          "barpolar": [
           {
            "marker": {
             "line": {
              "color": "#E5ECF6",
              "width": 0.5
             }
            },
            "type": "barpolar"
           }
          ],
          "carpet": [
           {
            "aaxis": {
             "endlinecolor": "#2a3f5f",
             "gridcolor": "white",
             "linecolor": "white",
             "minorgridcolor": "white",
             "startlinecolor": "#2a3f5f"
            },
            "baxis": {
             "endlinecolor": "#2a3f5f",
             "gridcolor": "white",
             "linecolor": "white",
             "minorgridcolor": "white",
             "startlinecolor": "#2a3f5f"
            },
            "type": "carpet"
           }
          ],
          "choropleth": [
           {
            "colorbar": {
             "outlinewidth": 0,
             "ticks": ""
            },
            "type": "choropleth"
           }
          ],
          "contour": [
           {
            "colorbar": {
             "outlinewidth": 0,
             "ticks": ""
            },
            "colorscale": [
             [
              0,
              "#0d0887"
             ],
             [
              0.1111111111111111,
              "#46039f"
             ],
             [
              0.2222222222222222,
              "#7201a8"
             ],
             [
              0.3333333333333333,
              "#9c179e"
             ],
             [
              0.4444444444444444,
              "#bd3786"
             ],
             [
              0.5555555555555556,
              "#d8576b"
             ],
             [
              0.6666666666666666,
              "#ed7953"
             ],
             [
              0.7777777777777778,
              "#fb9f3a"
             ],
             [
              0.8888888888888888,
              "#fdca26"
             ],
             [
              1,
              "#f0f921"
             ]
            ],
            "type": "contour"
           }
          ],
          "contourcarpet": [
           {
            "colorbar": {
             "outlinewidth": 0,
             "ticks": ""
            },
            "type": "contourcarpet"
           }
          ],
          "heatmap": [
           {
            "colorbar": {
             "outlinewidth": 0,
             "ticks": ""
            },
            "colorscale": [
             [
              0,
              "#0d0887"
             ],
             [
              0.1111111111111111,
              "#46039f"
             ],
             [
              0.2222222222222222,
              "#7201a8"
             ],
             [
              0.3333333333333333,
              "#9c179e"
             ],
             [
              0.4444444444444444,
              "#bd3786"
             ],
             [
              0.5555555555555556,
              "#d8576b"
             ],
             [
              0.6666666666666666,
              "#ed7953"
             ],
             [
              0.7777777777777778,
              "#fb9f3a"
             ],
             [
              0.8888888888888888,
              "#fdca26"
             ],
             [
              1,
              "#f0f921"
             ]
            ],
            "type": "heatmap"
           }
          ],
          "heatmapgl": [
           {
            "colorbar": {
             "outlinewidth": 0,
             "ticks": ""
            },
            "colorscale": [
             [
              0,
              "#0d0887"
             ],
             [
              0.1111111111111111,
              "#46039f"
             ],
             [
              0.2222222222222222,
              "#7201a8"
             ],
             [
              0.3333333333333333,
              "#9c179e"
             ],
             [
              0.4444444444444444,
              "#bd3786"
             ],
             [
              0.5555555555555556,
              "#d8576b"
             ],
             [
              0.6666666666666666,
              "#ed7953"
             ],
             [
              0.7777777777777778,
              "#fb9f3a"
             ],
             [
              0.8888888888888888,
              "#fdca26"
             ],
             [
              1,
              "#f0f921"
             ]
            ],
            "type": "heatmapgl"
           }
          ],
          "histogram": [
           {
            "marker": {
             "colorbar": {
              "outlinewidth": 0,
              "ticks": ""
             }
            },
            "type": "histogram"
           }
          ],
          "histogram2d": [
           {
            "colorbar": {
             "outlinewidth": 0,
             "ticks": ""
            },
            "colorscale": [
             [
              0,
              "#0d0887"
             ],
             [
              0.1111111111111111,
              "#46039f"
             ],
             [
              0.2222222222222222,
              "#7201a8"
             ],
             [
              0.3333333333333333,
              "#9c179e"
             ],
             [
              0.4444444444444444,
              "#bd3786"
             ],
             [
              0.5555555555555556,
              "#d8576b"
             ],
             [
              0.6666666666666666,
              "#ed7953"
             ],
             [
              0.7777777777777778,
              "#fb9f3a"
             ],
             [
              0.8888888888888888,
              "#fdca26"
             ],
             [
              1,
              "#f0f921"
             ]
            ],
            "type": "histogram2d"
           }
          ],
          "histogram2dcontour": [
           {
            "colorbar": {
             "outlinewidth": 0,
             "ticks": ""
            },
            "colorscale": [
             [
              0,
              "#0d0887"
             ],
             [
              0.1111111111111111,
              "#46039f"
             ],
             [
              0.2222222222222222,
              "#7201a8"
             ],
             [
              0.3333333333333333,
              "#9c179e"
             ],
             [
              0.4444444444444444,
              "#bd3786"
             ],
             [
              0.5555555555555556,
              "#d8576b"
             ],
             [
              0.6666666666666666,
              "#ed7953"
             ],
             [
              0.7777777777777778,
              "#fb9f3a"
             ],
             [
              0.8888888888888888,
              "#fdca26"
             ],
             [
              1,
              "#f0f921"
             ]
            ],
            "type": "histogram2dcontour"
           }
          ],
          "mesh3d": [
           {
            "colorbar": {
             "outlinewidth": 0,
             "ticks": ""
            },
            "type": "mesh3d"
           }
          ],
          "parcoords": [
           {
            "line": {
             "colorbar": {
              "outlinewidth": 0,
              "ticks": ""
             }
            },
            "type": "parcoords"
           }
          ],
          "pie": [
           {
            "automargin": true,
            "type": "pie"
           }
          ],
          "scatter": [
           {
            "marker": {
             "colorbar": {
              "outlinewidth": 0,
              "ticks": ""
             }
            },
            "type": "scatter"
           }
          ],
          "scatter3d": [
           {
            "line": {
             "colorbar": {
              "outlinewidth": 0,
              "ticks": ""
             }
            },
            "marker": {
             "colorbar": {
              "outlinewidth": 0,
              "ticks": ""
             }
            },
            "type": "scatter3d"
           }
          ],
          "scattercarpet": [
           {
            "marker": {
             "colorbar": {
              "outlinewidth": 0,
              "ticks": ""
             }
            },
            "type": "scattercarpet"
           }
          ],
          "scattergeo": [
           {
            "marker": {
             "colorbar": {
              "outlinewidth": 0,
              "ticks": ""
             }
            },
            "type": "scattergeo"
           }
          ],
          "scattergl": [
           {
            "marker": {
             "colorbar": {
              "outlinewidth": 0,
              "ticks": ""
             }
            },
            "type": "scattergl"
           }
          ],
          "scattermapbox": [
           {
            "marker": {
             "colorbar": {
              "outlinewidth": 0,
              "ticks": ""
             }
            },
            "type": "scattermapbox"
           }
          ],
          "scatterpolar": [
           {
            "marker": {
             "colorbar": {
              "outlinewidth": 0,
              "ticks": ""
             }
            },
            "type": "scatterpolar"
           }
          ],
          "scatterpolargl": [
           {
            "marker": {
             "colorbar": {
              "outlinewidth": 0,
              "ticks": ""
             }
            },
            "type": "scatterpolargl"
           }
          ],
          "scatterternary": [
           {
            "marker": {
             "colorbar": {
              "outlinewidth": 0,
              "ticks": ""
             }
            },
            "type": "scatterternary"
           }
          ],
          "surface": [
           {
            "colorbar": {
             "outlinewidth": 0,
             "ticks": ""
            },
            "colorscale": [
             [
              0,
              "#0d0887"
             ],
             [
              0.1111111111111111,
              "#46039f"
             ],
             [
              0.2222222222222222,
              "#7201a8"
             ],
             [
              0.3333333333333333,
              "#9c179e"
             ],
             [
              0.4444444444444444,
              "#bd3786"
             ],
             [
              0.5555555555555556,
              "#d8576b"
             ],
             [
              0.6666666666666666,
              "#ed7953"
             ],
             [
              0.7777777777777778,
              "#fb9f3a"
             ],
             [
              0.8888888888888888,
              "#fdca26"
             ],
             [
              1,
              "#f0f921"
             ]
            ],
            "type": "surface"
           }
          ],
          "table": [
           {
            "cells": {
             "fill": {
              "color": "#EBF0F8"
             },
             "line": {
              "color": "white"
             }
            },
            "header": {
             "fill": {
              "color": "#C8D4E3"
             },
             "line": {
              "color": "white"
             }
            },
            "type": "table"
           }
          ]
         },
         "layout": {
          "annotationdefaults": {
           "arrowcolor": "#2a3f5f",
           "arrowhead": 0,
           "arrowwidth": 1
          },
          "autotypenumbers": "strict",
          "coloraxis": {
           "colorbar": {
            "outlinewidth": 0,
            "ticks": ""
           }
          },
          "colorscale": {
           "diverging": [
            [
             0,
             "#8e0152"
            ],
            [
             0.1,
             "#c51b7d"
            ],
            [
             0.2,
             "#de77ae"
            ],
            [
             0.3,
             "#f1b6da"
            ],
            [
             0.4,
             "#fde0ef"
            ],
            [
             0.5,
             "#f7f7f7"
            ],
            [
             0.6,
             "#e6f5d0"
            ],
            [
             0.7,
             "#b8e186"
            ],
            [
             0.8,
             "#7fbc41"
            ],
            [
             0.9,
             "#4d9221"
            ],
            [
             1,
             "#276419"
            ]
           ],
           "sequential": [
            [
             0,
             "#0d0887"
            ],
            [
             0.1111111111111111,
             "#46039f"
            ],
            [
             0.2222222222222222,
             "#7201a8"
            ],
            [
             0.3333333333333333,
             "#9c179e"
            ],
            [
             0.4444444444444444,
             "#bd3786"
            ],
            [
             0.5555555555555556,
             "#d8576b"
            ],
            [
             0.6666666666666666,
             "#ed7953"
            ],
            [
             0.7777777777777778,
             "#fb9f3a"
            ],
            [
             0.8888888888888888,
             "#fdca26"
            ],
            [
             1,
             "#f0f921"
            ]
           ],
           "sequentialminus": [
            [
             0,
             "#0d0887"
            ],
            [
             0.1111111111111111,
             "#46039f"
            ],
            [
             0.2222222222222222,
             "#7201a8"
            ],
            [
             0.3333333333333333,
             "#9c179e"
            ],
            [
             0.4444444444444444,
             "#bd3786"
            ],
            [
             0.5555555555555556,
             "#d8576b"
            ],
            [
             0.6666666666666666,
             "#ed7953"
            ],
            [
             0.7777777777777778,
             "#fb9f3a"
            ],
            [
             0.8888888888888888,
             "#fdca26"
            ],
            [
             1,
             "#f0f921"
            ]
           ]
          },
          "colorway": [
           "#636efa",
           "#EF553B",
           "#00cc96",
           "#ab63fa",
           "#FFA15A",
           "#19d3f3",
           "#FF6692",
           "#B6E880",
           "#FF97FF",
           "#FECB52"
          ],
          "font": {
           "color": "#2a3f5f"
          },
          "geo": {
           "bgcolor": "white",
           "lakecolor": "white",
           "landcolor": "#E5ECF6",
           "showlakes": true,
           "showland": true,
           "subunitcolor": "white"
          },
          "hoverlabel": {
           "align": "left"
          },
          "hovermode": "closest",
          "mapbox": {
           "style": "light"
          },
          "paper_bgcolor": "white",
          "plot_bgcolor": "#E5ECF6",
          "polar": {
           "angularaxis": {
            "gridcolor": "white",
            "linecolor": "white",
            "ticks": ""
           },
           "bgcolor": "#E5ECF6",
           "radialaxis": {
            "gridcolor": "white",
            "linecolor": "white",
            "ticks": ""
           }
          },
          "scene": {
           "xaxis": {
            "backgroundcolor": "#E5ECF6",
            "gridcolor": "white",
            "gridwidth": 2,
            "linecolor": "white",
            "showbackground": true,
            "ticks": "",
            "zerolinecolor": "white"
           },
           "yaxis": {
            "backgroundcolor": "#E5ECF6",
            "gridcolor": "white",
            "gridwidth": 2,
            "linecolor": "white",
            "showbackground": true,
            "ticks": "",
            "zerolinecolor": "white"
           },
           "zaxis": {
            "backgroundcolor": "#E5ECF6",
            "gridcolor": "white",
            "gridwidth": 2,
            "linecolor": "white",
            "showbackground": true,
            "ticks": "",
            "zerolinecolor": "white"
           }
          },
          "shapedefaults": {
           "line": {
            "color": "#2a3f5f"
           }
          },
          "ternary": {
           "aaxis": {
            "gridcolor": "white",
            "linecolor": "white",
            "ticks": ""
           },
           "baxis": {
            "gridcolor": "white",
            "linecolor": "white",
            "ticks": ""
           },
           "bgcolor": "#E5ECF6",
           "caxis": {
            "gridcolor": "white",
            "linecolor": "white",
            "ticks": ""
           }
          },
          "title": {
           "x": 0.05
          },
          "xaxis": {
           "automargin": true,
           "gridcolor": "white",
           "linecolor": "white",
           "ticks": "",
           "title": {
            "standoff": 15
           },
           "zerolinecolor": "white",
           "zerolinewidth": 2
          },
          "yaxis": {
           "automargin": true,
           "gridcolor": "white",
           "linecolor": "white",
           "ticks": "",
           "title": {
            "standoff": 15
           },
           "zerolinecolor": "white",
           "zerolinewidth": 2
          }
         }
        },
        "xaxis": {
         "anchor": "y",
         "domain": [
          0,
          1
         ],
         "title": {
          "text": "x"
         }
        },
        "yaxis": {
         "anchor": "x",
         "domain": [
          0,
          1
         ],
         "title": {
          "text": "y"
         }
        }
       }
      },
      "text/html": [
       "<div>                            <div id=\"dec67704-e036-4cb0-b979-3e4d63415e2d\" class=\"plotly-graph-div\" style=\"height:525px; width:100%;\"></div>            <script type=\"text/javascript\">                require([\"plotly\"], function(Plotly) {                    window.PLOTLYENV=window.PLOTLYENV || {};                                    if (document.getElementById(\"dec67704-e036-4cb0-b979-3e4d63415e2d\")) {                    Plotly.newPlot(                        \"dec67704-e036-4cb0-b979-3e4d63415e2d\",                        [{\"customdata\": [[\"arrest case no charge\"], [\"Grand Theft in the 3rd Degree\"], [\"Felony Driving While Lic Suspd\"], [\"Robbery W/Firearm\"], [\"Battery\"], [\"Possession of Hydrocodone\"], [\"Burglary With Assault/battery\"], [\"Possession of Cocaine\"], [\"Possess Cannabis/20 Grams Or Less\"], [\"Susp Drivers Lic 1st Offense\"], [\"Uttering Forged Credit Card\"], [\"Aggrav Battery w/Deadly Weapon\"], [\"Purchase Of Cocaine\"], [\"Agg Battery Grt/Bod/Harm\"], [\"Burglary Unoccupied Dwelling\"], [\"Aggravated Assault w/Firearm\"], [\"Disorderly Intoxication\"], [\"Possession Of Amphetamine\"], [\"Manufacture Cannabis\"], [\"DUI- Enhanced\"], [\"Opert With Susp DL 2nd Offens\"], [\"Possession Of Alprazolam\"], [\"Deliver Cannabis\"], [\"Child Abuse\"], [\"Grand Theft (Motor Vehicle)\"], [\"Retail Theft $300 1st Offense\"], [\"Driving Under The Influence\"], [\"Leave Acc/Attend Veh/More $50\"], [\"Felony Petit Theft\"], [\"Burglary Dwelling Occupied\"], [\"Aggravated Assault W/Dead Weap\"], [\"Possession of Cannabis\"], [\"Battery on Law Enforc Officer\"], [\"DUI Property Damage/Injury\"], [\"Obtain Control Substance By Fraud\"], [\"Alcoholic Beverage Violation-FL\"], [\"Driving While License Revoked\"], [\"Possession Child Pornography\"], [\"Robbery / Weapon\"], [\"Aggravated Assault W/dead Weap\"], [\"Tampering With Physical Evidence\"], [\"Neglect Child / No Bodily Harm\"], [\"Poss3,4 Methylenedioxymethcath\"], [\"Felony Battery w/Prior Convict\"], [\"Possession of Oxycodone\"], [\"Posses/Disply Susp/Revk/Frd DL\"], [\"Fail Register Vehicle\"], [\"Assault\"], [\"Burglary Structure Unoccup\"], [\"Solicitation On Felony 3 Deg\"], [\"Disorderly Conduct\"], [\"Cruelty Toward Child\"], [\"Resist Officer w/Violence\"], [\"Resist/Obstruct W/O Violence\"], [\"Corrupt Public Servant\"], [\"DUI - Enhanced\"], [\"Poss Cocaine/Intent To Del/Sel\"], [\"Criminal Attempt 3rd Deg Felon\"], [\"Poss Tetrahydrocannabinols\"], [\"Aggravated Battery (Firearm)\"], [\"Burglary Conveyance Unoccup\"], [\"Fel Drive License Perm Revoke\"], [\"Deliver Cocaine\"], [\"Driving License Suspended\"], [\"Grand Theft In The 3Rd Degree\"], [\"Unlaw LicTag/Sticker Attach\"], [\"Possession Burglary Tools\"], [\"Pos Cannabis W/Intent Sel/Del\"], [\"Petit Theft\"], [\"Tamper With Witness\"], [\"DUI Level 0.15 Or Minor In Veh\"], [\"Possess Weapon On School Prop\"], [\"Felony Battery\"], [\"Viol Prot Injunc Repeat Viol\"], [\"Robbery / No Weapon\"], [\"Aggravated Assault\"], [\"Poss Pyrrolidinovalerophenone\"], [\"Bribery Athletic Contests\"], [\"Crim Use of Personal ID Info\"], [\"Crimin Mischief Damage $1000+\"], [\"False Imprisonment\"], [\"Attempt Armed Burglary Dwell\"], [\"Aggravated Battery / Pregnant\"], [\"Operating W/O Valid License\"], [\"Delivery Of Drug Paraphernalia\"], [\"Fleeing Or Attmp Eluding A Leo\"], [\"Leave Accd/Attend Veh/Less $50\"], [\"Deliver 3,4 Methylenediox\"], [\"Stalking (Aggravated)\"], [\"Felony Battery (Dom Strang)\"], [\"Battery on a Person Over 65\"], [\"Grand Theft of a Fire Extinquisher\"], [\"Prowling/Loitering\"], [\"Poss of Firearm by Convic Felo\"], [\"Burglary Conveyance Armed\"], [\"Criminal Mischief>$200<$1000\"], [\"Possession Of Heroin\"], [\"Leaving the Scene of Accident\"], [\"Lve/Scen/Acc/Veh/Prop/Damage\"], [\"Possession of Hydromorphone\"], [\"Possession Of Methamphetamine\"], [\"Viol Injunct Domestic Violence\"], [\"Poss 3,4 MDMA (Ecstasy)\"], [\"Uttering a Forged Instrument\"], [\"Video Voyeur-<24Y on Child >16\"], [\"Introduce Contraband Into Jail\"], [\"Petit Theft $100- $300\"], [\"Possession Of Fentanyl\"], [\"Viol Pretrial Release Dom Viol\"], [\"Sel Etc/Pos/w/Int Contrft Schd\"], [\"Unlicensed Telemarketing\"], [\"Strong Armed  Robbery\"], [\"Aggrav Stalking After Injunctn\"], [\"Deliver Cocaine 1000FT Store\"], [\"Possession of Morphine\"], [\"Offer Agree Secure/Lewd Act\"], [\"Possession Of Phentermine\"], [\"Poss Unlaw Issue Id\"], [\"Aggravated Battery\"], [\"Use of Anti-Shoplifting Device\"], [\"Expired DL More Than 6 Months\"], [\"Possession of LSD\"], [\"Att Burgl Unoccupied Dwel\"], [\"Consp Traff Oxycodone 28g><30k\"], [\"Burglary Dwelling Assault/Batt\"], [\"Burglary Dwelling Armed\"], [\"Possess Tobacco Product Under 18\"], [\"Uttering Forged Bills\"], [\"Poss of Vessel w/Altered ID NO\"], [\"Unlawful Conveyance of Fuel\"], [\"False Ownership Info/Pawn Item\"], [\"Tamper With Witness/Victim/CI\"], [\"Obstruct Fire Equipment\"], [\"Possession Of Lorazepam\"], [\"Drivg While Lic Suspd/Revk/Can\"], [\"Solicit Deliver Cocaine\"], [\"Criminal Mischief\"], [\"Agg Assault W/int Com Fel Dome\"], [\"Arson in the First Degree\"], [\"Exposes Culpable Negligence\"], [\"Felony DUI (level 3)\"], [\"Sex Offender Fail Comply W/Law\"], [\"Compulsory Sch Attnd Violation\"], [\"Felony Batt(Great Bodily Harm)\"], [\"Manage Busn W/O City Occup Lic\"], [\"Poss Of Controlled Substance\"], [\"Burglary Conveyance Occupied\"], [\"Lewd or Lascivious Molestation\"], [\"Possess Drug Paraphernalia\"], [\"Principal In The First Degree\"], [\"Reckless Driving\"], [\"Poss of Cocaine W/I/D/S 1000FT Park\"], [\"Aggrav Child Abuse-Agg Battery\"], [\"Poss/Sell/Del Cocaine 1000FT Sch\"], [\"Leaving Acc/Unattended Veh\"], [\"Fraudulent Use of Credit Card\"], [\"Dealing in Stolen Property\"], [\"Poss Unlaw Issue Driver Licenc\"], [\"Consp Traff Oxycodone  4g><14g\"], [\"Grand Theft on 65 Yr or Older\"], [\"Fighting/Baiting Animals\"], [\"Carjacking with a Firearm\"], [\"Fail Obey Driv Lic Restrictions\"], [\"Unlaw Use False Name/Identity\"], [\"Purchase/P/W/Int Cannabis\"], [\"Poss Similitude of Drivers Lic\"], [\"Carrying Concealed Firearm\"], [\"Tamper With Victim\"], [\"Fail To Secure Load\"], [\"Traffick Hydrocodone   4g><14g\"], [\"Violation License Restrictions\"], [\"Purchase Cannabis\"], [\"Cash Item w/Intent to Defraud\"], [\"Harm Public Servant Or Family\"], [\"Offer Agree Secure For Lewd Act\"], [\"Robbery Sudd Snatch No Weapon\"], [\"Trespassing/Construction Site\"], [\"Armed Trafficking in Cannabis\"], [\"DUI Blood Alcohol Above 0.20\"], [\"Carry Open/Uncov Bev In Pub\"], [\"DWI w/Inj Susp Lic / Habit Off\"], [\"Grand Theft Firearm\"], [\"Felony DUI - Enhanced\"], [\"Neglect/Abuse Elderly Person\"], [\"Felony/Driving Under Influence\"], [\"Opert With Susp DL 2ND Offense\"], [\"Criminal Mischief Damage <$200\"], [\"Burglary Assault/Battery Armed\"], [\"Poss F/Arm Delinq\"], [\"Felon in Pos of Firearm or Amm\"], [\"Lewd/Lasc Exhib Presence <16yr\"], [\"Aggrav Child Abuse-Causes Harm\"], [\"Violation Of Boater Safety Id\"], [\"Disrupting School Function\"], [\"Attempted Robbery Firearm\"], [\"Prostitution/Lewd Act Assignation\"], [\"Del of JWH-250 2-Methox 1-Pentyl\"], [\"Sale/Del Counterfeit Cont Subs\"], [\"Poss Contr Subst W/o Prescript\"], [\"Tampering with a Victim\"], [\"Unemployment Compensatn Fraud\"], [\"Sex Battery Deft 18+/Vict 11-\"], [\"Possession Of 3,4Methylenediox\"], [\"Cruelty to Animals\"], [\"Lewd/Lasc Battery Pers 12+/<16\"], [\"Carjacking w/o Deadly Weapon\"], [\"Grand Theft in the 1st Degree\"], [\"Refuse Submit Blood/Breath Test\"], [\"Kidnapping / Domestic Violence\"], [\"Simulation of Legal Process\"], [\"Burglary Structure Occupied\"], [\"False Bomb Report\"], [\"Gambling/Gamb Paraphernalia\"], [\"Trespass Structure/Conveyance\"], [\"Poss Wep Conv Felon\"], [\"Consume Alcoholic Bev Pub\"], [\"Failure To Return Hired Vehicle\"], [\"Tresspass Struct/Conveyance\"], [\"Fail Sex Offend Report Bylaw\"], [\"Possess Cannabis 1000FTSch\"], [\"Unauth Poss ID Card or DL\"], [\"Tresspass in Structure or Conveyance\"], [\"Agg Fleeing and Eluding\"], [\"Conspiracy Dealing Stolen Prop\"], [\"Counterfeit Lic Plates/Sticker\"], [\"Interfere W/Traf Cont Dev RR\"], [\"Possession Firearm School Prop\"], [\"Possession of Benzylpiperazine\"], [\"Throw Deadly Missile Into Veh\"], [\"Present Proof of Invalid Insur\"], [\"Fraud Obtain Food or Lodging\"], [\"Crim Use Of Personal Id Info\"], [\"License Suspended Revoked\"], [\"Traffick Oxycodone     4g><14g\"], [\"Poss Anti-Shoplifting Device\"], [\"Hiring with Intent to Defraud\"], [\"Lewdness Violation\"], [\"Poss Of RX Without RX\"], [\"Burglary Conveyance Assault/Bat\"], [\"Murder in 2nd Degree\"], [\"Aggress/Panhandle/Beg/Solict\"], [\"Violation of Injunction Order/Stalking/Cyberstalking\"], [\"Attempted Robbery  No Weapon\"], [\"Possession Of Buprenorphine\"], [\"Possess Controlled Substance\"], [\"Structuring Transactions\"], [\"Exploit Elderly Person 20-100K\"], [\"Robbery W/Deadly Weapon\"], [\"Harass Witness/Victm/Informnt\"], [\"Misuse Of 911 Or E911 System\"], [\"DOC/Cause Public Danger\"], [\"Dealing In Stolen Property\"], [\"Soliciting For Prostitution\"], [\"Delivery of 5-Fluoro PB-22\"], [\"Prostitution/Lewdness/Assign\"], [\"Deliver Cannabis 1000FTSch\"], [\"Sexual Performance by a Child\"], [\"Possess w/I/Utter Forged Bills\"], [\"Unl/Disturb Education/Instui\"], [\"Fleeing or Eluding a LEO\"], [\"Use Scanning Device to Defraud\"], [\"Poss of Methylethcathinone\"], [\"Grand Theft Dwell Property\"], [\"Burglary Structure Assault/Batt\"], [\"Murder in the First Degree\"], [\"Del Cannabis For Consideration\"], [\"Poss Alprazolam W/int Sell/Del\"], [\"Culpable Negligence\"], [\"Fail To Redeliv Hire/Leas Prop\"], [\"DWLS Canceled Disqul 1st Off\"], [\"Fail Register Career Offender\"], [\"Forging Bank Bills/Promis Note\"], [\"Sell Cannabis\"], [\"Use Computer for Child Exploit\"], [\"Extradition/Defendants\"], [\"Poss Drugs W/O A Prescription\"], [\"Contribute Delinquency Of A Minor\"], [\"Possession Of Diazepam\"], [\"Flee/Elude LEO-Agg Flee Unsafe\"], [\"Theft\"], [\"Live on Earnings of Prostitute\"], [\"Trespass Property w/Dang Weap\"], [\"Att Burgl Struc/Conv Dwel/Occp\"], [\"Aggravated Assault W/o Firearm\"], [\"Battery Emergency Care Provide\"], [\"False 911 Call\"], [\"Possession of Codeine\"], [\"Sexual Battery / Vict 12 Yrs +\"], [\"Att Tamper w/Physical Evidence\"], [\"Murder In 2nd Degree W/firearm\"], [\"Aggravated Battery On 65/Older\"], [\"Battery Spouse Or Girlfriend\"], [\"Trespass Structure w/Dang Weap\"], [\"Possession Of Paraphernalia\"], [\"Escape\"], [\"Lewd/Lasciv Molest Elder Persn\"], [\"Carrying A Concealed Weapon\"], [\"Poss Trifluoromethylphenylpipe\"], [\"Traffick Amphetamine 28g><200g\"], [\"Possession Of Anabolic Steroid\"], [\"Agg Fleeing/Eluding High Speed\"], [\"Neglect Child / Bodily Harm\"], [\"Sale/Del Cannabis At/Near Scho\"], [\"Felony Committing Prostitution\"], [\"Battery On Fire Fighter\"], [\"Fail To Obey Police Officer\"], [\"Compulsory Attendance Violation\"], [\"Aggr Child Abuse-Torture,Punish\"], [\"Prostitution\"], [\"Viol Injunction Protect Dom Vi\"], [\"Theft/To Deprive\"], [\"Crim Attempt/Solicit/Consp\"], [\"Trespass Struct/Conveyance\"], [\"False Motor Veh Insurance Card\"], [\"Computer Pornography\"], [\"Depriv LEO of Protect/Communic\"], [\"Del 3,4 Methylenedioxymethcath\"], [\"Del Morphine at/near Park\"], [\"Use Of 2 Way Device To Fac Fel\"], [\"Shoot Into Vehicle\"], [\"Offn Against Intellectual Prop\"], [\"Deliver Cocaine 1000FT Park\"], [\"Battery On Parking Enfor Speci\"], [\"Failure To Pay Taxi Cab Charge\"], [\"Solicit To Deliver Cocaine\"], [\"Open Carrying Of Weapon\"], [\"D.U.I. Serious Bodily Injury\"], [\"Abuse Without Great Harm\"], [\"Lease For Purpose Trafficking\"], [\"Threat Public Servant\"], [\"Ride Tri-Rail Without Paying\"], [\"Falsely Impersonating Officer\"], [\"Poss Meth/Diox/Meth/Amp (MDMA)\"], [\"Solic to Commit Battery\"], [\"Unlawful Use Of Police Badges\"], [\"Unauth C/P/S Sounds>1000/Audio\"], [\"Deliver Alprazolam\"], [\"DUI - Property Damage/Personal Injury\"], [\"False Info LEO During Invest\"], [\"Purchasing Of Alprazolam\"], [\"Refuse to Supply DNA Sample\"], [\"Throw Missile Into Pub/Priv Dw\"], [\"Sel/Pur/Mfr/Del Control Substa\"], [\"DWLS Susp/Cancel Revoked\"], [\"Cause Anoth Phone Ring Repeat\"], [\"Shoot In Occupied Dwell\"], [\"Poss Oxycodone W/Int/Sell/Del\"], [\"Conspiracy to Deliver Cocaine\"], [\"Possess/Use Weapon 1 Deg Felon\"], [\"Intoxicated/Safety Of Another\"], [\"Aggravated Battery (Firearm/Actual Possession)\"], [\"Insurance Fraud\"], [\"Sell or Offer for Sale Counterfeit Goods\"], [\"Oper Motorcycle W/O Valid DL\"], [\"Agg Assault Law Enforc Officer\"], [\"Money Launder 100K or More Dols\"], [\"Attempt Burglary (Struct)\"], [\"Agg Abuse Elderlly/Disabled Adult\"], [\"Throw In Occupied Dwell\"], [\"Grand Theft of the 2nd Degree\"], [\"Lewd Act Presence Child 16-\"], [\"DUI/Property Damage/Persnl Inj\"]], \"hovertemplate\": \"x=%{x}<br>y=%{y}<br>b=%{customdata[0]}<br>color=%{marker.color}<extra></extra>\", \"legendgroup\": \"\", \"marker\": {\"color\": [0, 4, 6, 3, 11, 2, 3, 2, 2, 6, 2, 0, 2, 17, 3, 8, 1, 2, 4, 11, 6, 1, 4, 12, 3, 4, 1, 5, 3, 3, 18, 4, 0, 5, 2, 1, 6, 7, 3, 18, 3, 12, 4, 3, 2, 6, 10, 8, 3, 4, 1, 12, 0, 0, 3, 11, 2, 4, 2, 8, 3, 6, 2, 6, 4, 6, 3, 4, 3, 3, 5, 17, 3, 18, 3, 8, 2, 2, 3, 3, 3, 3, 8, 6, 2, 6, 5, 4, 8, 3, 16, 3, 13, 2, 3, 2, 2, 14, 5, 2, 2, 0, 4, 9, 13, 3, 2, 2, 0, 9, 1, 3, 18, 15, 2, 7, 9, 6, 8, 9, 16, 1, 3, 4, 3, 3, 2, 2, 13, 1, 3, 3, 9, 2, 6, 2, 3, 8, 1, 12, 4, 7, 18, 3, 6, 2, 3, 7, 2, 1, 6, 15, 12, 15, 6, 2, 3, 6, 4, 16, 0, 3, 6, 3, 4, 5, 17, 3, 6, 4, 18, 4, 2, 18, 7, 3, 8, 4, 2, 1, 6, 3, 11, 0, 1, 6, 2, 3, 1, 17, 13, 12, 18, 19, 3, 7, 2, 2, 6, 3, 2, 17, 4, 0, 17, 3, 3, 10, 0, 11, 3, 3, 2, 9, 2, 1, 10, 9, 7, 15, 6, 9, 6, 2, 2, 8, 17, 2, 1, 6, 2, 3, 6, 4, 9, 2, 7, 6, 3, 5, 0, 18, 3, 2, 2, 11, 2, 0, 0, 14, 18, 3, 7, 11, 7, 15, 7, 2, 19, 6, 2, 2, 3, 3, 18, 4, 1, 12, 10, 13, 10, 2, 4, 7, 1, 2, 12, 2, 6, 3, 7, 0, 3, 8, 11, 14, 2, 17, 3, 5, 16, 0, 0, 2, 14, 7, 17, 9, 4, 2, 6, 12, 4, 7, 8, 6, 18, 12, 7, 18, 3, 0, 9, 6, 7, 9, 4, 2, 11, 5, 8, 15, 11, 6, 2, 17, 18, 12, 1, 18, 2, 3, 2, 3, 6, 15, 1, 5, 3, 1, 10, 1, 9, 13, 14, 8, 2, 2, 17, 9, 8, 2, 2, 6, 0, 2, 3, 0, 8, 5, 13, 5], \"coloraxis\": \"coloraxis\", \"size\": 4, \"symbol\": \"circle\"}, \"mode\": \"markers\", \"name\": \"\", \"orientation\": \"v\", \"showlegend\": false, \"type\": \"scatter\", \"x\": [16.616966247558594, 14.947479248046875, 13.264639854431152, 16.363859176635742, 14.352456092834473, 10.179258346557617, 17.21424674987793, 9.329874038696289, 9.852495193481445, 13.233471870422363, 16.033151626586914, 15.105149269104004, 9.266256332397461, 14.359471321105957, 17.245201110839844, 14.609724998474121, 12.585783958435059, 10.331820487976074, 8.938472747802734, 14.162368774414062, 13.116941452026367, 11.229315757751465, 8.834321022033691, 13.23108196258545, 15.592309951782227, 15.042033195495605, 12.606258392333984, 14.900349617004395, 15.526586532592773, 17.36366844177246, 14.395414352416992, 9.072206497192383, 15.26769733428955, 14.065885543823242, 16.139558792114258, 12.161162376403809, 13.233820915222168, 12.93639850616455, 16.503511428833008, 14.501229286193848, 16.826988220214844, 13.237663269042969, 10.227738380432129, 15.137468338012695, 10.064962387084961, 13.221787452697754, 14.204580307006836, 14.467117309570312, 17.279199600219727, 14.883620262145996, 12.982348442077637, 13.364264488220215, 15.397586822509766, 15.583550453186035, 15.970542907714844, 14.120807647705078, 9.248930931091309, 14.827987670898438, 10.215744018554688, 14.689045906066895, 17.269739151000977, 13.002359390258789, 9.271133422851562, 13.33957290649414, 14.887213706970215, 13.533214569091797, 16.438274383544922, 8.91324234008789, 15.622493743896484, 16.76896095275879, 13.603348731994629, 15.827702522277832, 14.776387214660645, 15.246474266052246, 16.655221939086914, 14.378715515136719, 10.603394508361816, 15.751312255859375, 16.15265464782715, 15.104832649230957, 16.832426071166992, 16.86716079711914, 14.38689136505127, 13.620429039001465, 9.915279388427734, 15.391458511352539, 14.77458381652832, 10.202574729919434, 14.669352531433105, 15.100691795349121, 14.25430679321289, 15.551629066467285, 16.90276336669922, 15.217522621154785, 17.418123245239258, 14.707273483276367, 10.236907958984375, 15.051019668579102, 14.860541343688965, 10.5056734085083, 10.120255470275879, 15.070487976074219, 10.089712142944336, 16.169158935546875, 12.531153678894043, 16.464506149291992, 15.256754875183105, 10.006855964660645, 15.568099021911621, 11.339570999145508, 14.50273323059082, 16.59303855895996, 15.082079887390137, 8.887207984924316, 10.185649871826172, 13.242098808288574, 10.714935302734375, 13.918254852294922, 14.580290794372559, 17.272550582885742, 12.954474449157715, 11.408082962036133, 17.050662994384766, 9.773451805114746, 17.00248908996582, 17.027156829833984, 10.184530258178711, 16.067626953125, 14.015474319458008, 13.897989273071289, 16.315717697143555, 16.72041130065918, 17.390390396118164, 10.853165626525879, 13.278651237487793, 9.33590316772461, 15.801630020141602, 14.526715278625488, 15.15058422088623, 13.275279998779297, 14.670366287231445, 13.012028694152832, 15.161550521850586, 14.453022003173828, 13.817307472229004, 10.672098159790039, 17.34247398376465, 12.971675872802734, 10.359968185424805, 15.246881484985352, 14.088253021240234, 8.908478736877441, 13.831050872802734, 8.860147476196289, 14.293051719665527, 15.941495895385742, 16.042583465576172, 13.497751235961914, 9.83369255065918, 14.268961906433105, 14.533777236938477, 16.21832847595215, 13.288930892944336, 16.578277587890625, 8.988264083862305, 13.499714851379395, 15.976149559020996, 16.687496185302734, 14.164755821228027, 9.821051597595215, 15.356074333190918, 9.004998207092285, 15.846190452575684, 13.540063858032227, 13.277609825134277, 16.574983596801758, 16.810697555541992, 9.035435676574707, 10.69124698638916, 12.132440567016602, 13.098804473876953, 15.552693367004395, 14.172445297241211, 13.878697395324707, 13.47371768951416, 13.110273361206055, 14.742851257324219, 16.958627700805664, 11.57437515258789, 15.347445487976074, 12.519148826599121, 13.314696311950684, 15.38710880279541, 13.131647109985352, 16.583988189697266, 13.123875617980957, 10.262931823730469, 15.98194694519043, 14.0252046585083, 16.64995765686035, 15.661829948425293, 13.13730239868164, 10.173070907592773, 14.25766372680664, 12.772177696228027, 14.081001281738281, 15.327567100524902, 13.420563697814941, 16.699190139770508, 17.147239685058594, 17.426328659057617, 16.652135848999023, 15.868284225463867, 16.93402862548828, 15.228705406188965, 12.185111045837402, 14.491003036499023, 17.18977165222168, 13.065439224243164, 8.857666969299316, 13.584152221679688, 17.25551414489746, 15.23843002319336, 16.016033172607422, 15.942867279052734, 16.759977340698242, 15.735947608947754, 10.670351028442383, 15.506410598754883, 14.080163955688477, 15.840298652648926, 16.280874252319336, 13.106315612792969, 9.830158233642578, 17.120361328125, 15.769850730895996, 12.976353645324707, 13.965692520141602, 17.234189987182617, 14.610761642456055, 14.624677658081055, 15.289690017700195, 16.704931259155273, 10.54271125793457, 10.802660942077637, 17.179943084716797, 14.303524017333984, 15.480661392211914, 15.334942817687988, 16.673521041870117, 13.695382118225098, 15.958345413208008, 13.50338077545166, 10.922125816345215, 13.141043663024902, 8.804659843444824, 12.90449333190918, 16.01905059814453, 13.134231567382812, 15.343477249145508, 16.281126022338867, 10.264606475830078, 15.543783187866211, 17.10283088684082, 15.050252914428711, 8.896142959594727, 11.243654251098633, 13.323962211608887, 13.898935317993164, 13.19338607788086, 13.683444023132324, 16.028623580932617, 9.024806022644043, 13.01220703125, 16.573293685913086, 10.366222381591797, 13.473162651062012, 10.736493110656738, 15.388038635253906, 15.993083953857422, 13.42089557647705, 15.554017066955566, 17.112733840942383, 14.508891105651855, 14.23086166381836, 16.69329833984375, 9.9173002243042, 13.071163177490234, 16.72484588623047, 14.807787895202637, 14.166426658630371, 14.530592918395996, 15.62531852722168, 10.569734573364258, 15.282995223999023, 13.084192276000977, 16.212841033935547, 10.695327758789062, 9.955094337463379, 10.583558082580566, 15.273651123046875, 13.425379753112793, 9.125042915344238, 13.379520416259766, 14.819348335266113, 13.294918060302734, 15.374106407165527, 13.766523361206055, 13.242147445678711, 15.487855911254883, 15.921989440917969, 16.281652450561523, 17.064376831054688, 15.31184196472168, 12.937926292419434, 15.537237167358398, 10.205738067626953, 9.897841453552246, 14.093289375305176, 15.608359336853027, 14.431005477905273, 8.888694763183594, 14.324179649353027, 15.029335975646973, 9.295985221862793, 15.814764022827148, 13.703400611877441, 13.47852611541748, 14.89445972442627, 13.85147476196289, 15.519988059997559, 16.656404495239258, 10.213821411132812, 15.113272666931152, 13.567400932312012, 8.956584930419922, 11.074048042297363, 14.086133003234863, 16.272212982177734, 11.092336654663086, 13.517745018005371, 15.647189140319824, 11.069743156433105, 13.074446678161621, 16.71122932434082, 16.886524200439453, 9.52388858795166, 9.244058609008789, 15.469724655151367, 10.951678276062012, 14.644182205200195, 15.618339538574219, 16.237524032592773, 13.72973918914795, 15.144233703613281, 15.410594940185547, 16.531198501586914, 14.064573287963867, 16.8814697265625, 14.678496360778809, 12.664979934692383, 14.084728240966797], \"xaxis\": \"x\", \"y\": [8.081073760986328, 6.030754089355469, 4.006679534912109, 7.067660331726074, 7.731832981109619, 8.63730525970459, 7.344834804534912, 9.079383850097656, 7.724051475524902, 4.045468807220459, 4.538733005523682, 8.158757209777832, 9.10283374786377, 8.23636245727539, 7.758054733276367, 8.673140525817871, 7.719477653503418, 9.241098403930664, 7.488933563232422, 5.627694606781006, 4.353868007659912, 8.383316993713379, 7.706244945526123, 8.221199989318848, 6.25248384475708, 6.171806335449219, 7.658053874969482, 4.1524882316589355, 5.90245246887207, 7.580409526824951, 8.617207527160645, 7.598776817321777, 8.782964706420898, 5.757899284362793, 5.072835922241211, 7.726099014282227, 3.8369836807250977, 7.183661460876465, 6.9635820388793945, 8.668567657470703, 5.376980781555176, 8.51585865020752, 8.07701301574707, 7.9775590896606445, 9.031538963317871, 3.9219675064086914, 4.2045159339904785, 9.000455856323242, 7.672732830047607, 6.222735404968262, 7.710284233093262, 8.295180320739746, 8.73424243927002, 8.685152053833008, 5.471749305725098, 5.6280670166015625, 9.113007545471191, 6.110241889953613, 8.524224281311035, 8.797060012817383, 7.762826919555664, 3.714716911315918, 9.025083541870117, 3.924065351486206, 6.078136920928955, 4.403646469116211, 6.645230770111084, 7.564197063446045, 5.798364162445068, 5.316464900970459, 5.131307125091553, 7.514163494110107, 7.672449111938477, 8.561894416809082, 7.351158618927002, 8.702106475830078, 8.926360130310059, 4.890359401702881, 5.504934787750244, 6.424745559692383, 4.722591400146484, 7.52372932434082, 8.492777824401855, 4.250521659851074, 9.303070068359375, 3.250319480895996, 4.112013339996338, 8.085224151611328, 8.587788581848145, 7.850325107574463, 7.473283767700195, 6.1516947746276855, 8.146194458007812, 7.4766669273376465, 7.110451698303223, 6.546601295471191, 9.348944664001465, 3.490142345428467, 4.174272537231445, 8.476491928100586, 9.271377563476562, 8.733661651611328, 8.134051322937012, 4.660236358642578, 6.828982353210449, 7.657905101776123, 5.811787128448486, 9.251304626464844, 8.273296356201172, 8.16108226776123, 4.823668003082275, 7.164763927459717, 8.588438034057617, 8.379599571228027, 9.277239799499512, 6.20407772064209, 8.797688484191895, 3.984409809112549, 8.460065841674805, 6.90669059753418, 4.103342533111572, 8.360824584960938, 7.791904926300049, 8.422904968261719, 7.535154819488525, 7.400412559509277, 9.375310897827148, 4.424921035766602, 3.9329545497894287, 4.647998809814453, 4.637700080871582, 5.300243377685547, 7.087153911590576, 8.755170822143555, 3.9594714641571045, 9.067791938781738, 6.363992214202881, 8.965226173400879, 7.007322788238525, 8.14439868927002, 5.974539756774902, 5.9616546630859375, 8.493817329406738, 8.189690589904785, 4.334378719329834, 9.449501037597656, 7.206542491912842, 6.408754825592041, 9.43171501159668, 6.832301616668701, 4.1929216384887695, 8.316072463989258, 8.318037033081055, 8.322697639465332, 3.973073959350586, 4.676137924194336, 5.516656875610352, 4.0568766593933105, 8.242277145385742, 7.205530166625977, 8.086432456970215, 6.955266952514648, 3.9829349517822266, 4.471597194671631, 7.573758602142334, 4.540792465209961, 7.413480281829834, 5.305838108062744, 3.7178359031677246, 8.174562454223633, 7.881954669952393, 7.562047958374023, 5.069591522216797, 8.52269458770752, 6.288064479827881, 7.290580749511719, 6.460840702056885, 7.573456764221191, 7.630209922790527, 7.714302062988281, 3.789217472076416, 6.408743381500244, 5.667778491973877, 7.824217796325684, 6.9496750831604, 4.146575450897217, 6.4367804527282715, 7.358810901641846, 8.241225242614746, 7.473318576812744, 6.738881587982178, 8.300257682800293, 8.255949020385742, 8.010189056396484, 7.138558864593506, 6.316998481750488, 8.011809349060059, 4.848993301391602, 4.008658409118652, 5.226609230041504, 4.90606164932251, 6.482293605804443, 8.142518043518066, 8.019372940063477, 6.775776386260986, 4.504594326019287, 6.445143699645996, 3.4671528339385986, 7.612175941467285, 6.115143775939941, 7.550250053405762, 4.494036674499512, 5.222189426422119, 6.399569034576416, 7.450404644012451, 7.720966339111328, 4.015471458435059, 6.332603931427002, 5.881082534790039, 8.084299087524414, 4.34693717956543, 6.403651237487793, 3.2991881370544434, 5.293210983276367, 4.78134298324585, 5.668501377105713, 7.434389114379883, 8.925516128540039, 6.944313049316406, 3.8842813968658447, 5.138598918914795, 5.581948757171631, 3.7811899185180664, 8.211308479309082, 6.709045886993408, 5.142177581787109, 6.590237140655518, 4.14060115814209, 7.416241645812988, 6.528993129730225, 4.989231586456299, 8.408190727233887, 7.501524448394775, 8.99933910369873, 9.414043426513672, 6.207620143890381, 6.8038763999938965, 7.262810707092285, 7.721338748931885, 4.577198028564453, 8.556653022766113, 5.422783851623535, 6.48501443862915, 8.226311683654785, 6.357059001922607, 8.071432113647461, 7.145448684692383, 4.61083459854126, 7.872676849365234, 3.3164193630218506, 4.9397478103637695, 8.98466968536377, 6.1161417961120605, 7.3404459953308105, 6.9638566970825195, 7.5152268409729, 8.29859733581543, 8.087506294250488, 3.646326780319214, 3.5147602558135986, 3.580549478530884, 4.502359867095947, 7.584510326385498, 7.061270713806152, 6.104098796844482, 9.508966445922852, 7.943532466888428, 8.883688926696777, 3.2730815410614014, 5.918148517608643, 6.424476146697998, 7.163136005401611, 7.059921741485596, 8.83769416809082, 7.6508893966674805, 4.540335178375244, 8.626853942871094, 6.587921619415283, 5.360727310180664, 6.741335868835449, 7.5358099937438965, 7.729268550872803, 7.648848056793213, 9.529494285583496, 3.309155225753784, 6.434127330780029, 7.373021125793457, 8.653141021728516, 8.359464645385742, 9.304566383361816, 3.3426547050476074, 8.402432441711426, 7.655827522277832, 6.491552829742432, 8.769877433776855, 4.911602973937988, 8.504435539245605, 8.293018341064453, 6.35640287399292, 8.268589973449707, 5.633453845977783, 5.997447490692139, 6.474365711212158, 4.403147220611572, 7.014926433563232, 3.3120687007904053, 8.110027313232422, 9.140731811523438, 5.433493614196777, 6.671535491943359, 8.381261825561523, 8.308550834655762, 7.591276168823242, 4.301912784576416, 9.141196250915527, 7.4661664962768555, 8.415328979492188, 8.579388618469238, 5.154999256134033, 8.598163604736328, 4.650677680969238, 4.580802917480469, 8.917442321777344, 7.941897392272949, 4.562243461608887, 8.1664457321167, 8.332427978515625, 5.899692535400391, 4.612266540527344, 8.40626335144043, 3.521315336227417, 7.075442314147949, 8.088485717773438, 3.687835454940796, 4.610052108764648, 7.627926349639893, 8.931347846984863, 9.144998550415039, 7.399023056030273, 9.272421836853027, 8.552274703979492, 4.782292366027832, 4.816336631774902, 4.1366071701049805, 8.65649700164795, 5.183726787567139, 6.601247787475586, 7.598044395446777, 7.718042850494385, 6.255674839019775, 6.701158046722412, 5.725508213043213], \"yaxis\": \"y\"}],                        {\"coloraxis\": {\"colorbar\": {\"title\": {\"text\": \"color\"}}, \"colorscale\": [[0.0, \"#0d0887\"], [0.1111111111111111, \"#46039f\"], [0.2222222222222222, \"#7201a8\"], [0.3333333333333333, \"#9c179e\"], [0.4444444444444444, \"#bd3786\"], [0.5555555555555556, \"#d8576b\"], [0.6666666666666666, \"#ed7953\"], [0.7777777777777778, \"#fb9f3a\"], [0.8888888888888888, \"#fdca26\"], [1.0, \"#f0f921\"]]}, \"hoverlabel\": {\"bgcolor\": \"black\", \"font\": {\"size\": 12}}, \"legend\": {\"tracegroupgap\": 0}, \"margin\": {\"b\": 0, \"l\": 0, \"r\": 0, \"t\": 0}, \"template\": {\"data\": {\"bar\": [{\"error_x\": {\"color\": \"#2a3f5f\"}, \"error_y\": {\"color\": \"#2a3f5f\"}, \"marker\": {\"line\": {\"color\": \"#E5ECF6\", \"width\": 0.5}}, \"type\": \"bar\"}], \"barpolar\": [{\"marker\": {\"line\": {\"color\": \"#E5ECF6\", \"width\": 0.5}}, \"type\": \"barpolar\"}], \"carpet\": [{\"aaxis\": {\"endlinecolor\": \"#2a3f5f\", \"gridcolor\": \"white\", \"linecolor\": \"white\", \"minorgridcolor\": \"white\", \"startlinecolor\": \"#2a3f5f\"}, \"baxis\": {\"endlinecolor\": \"#2a3f5f\", \"gridcolor\": \"white\", \"linecolor\": \"white\", \"minorgridcolor\": \"white\", \"startlinecolor\": \"#2a3f5f\"}, \"type\": \"carpet\"}], \"choropleth\": [{\"colorbar\": {\"outlinewidth\": 0, \"ticks\": \"\"}, \"type\": \"choropleth\"}], \"contour\": [{\"colorbar\": {\"outlinewidth\": 0, \"ticks\": \"\"}, \"colorscale\": [[0.0, \"#0d0887\"], [0.1111111111111111, \"#46039f\"], [0.2222222222222222, \"#7201a8\"], [0.3333333333333333, \"#9c179e\"], [0.4444444444444444, \"#bd3786\"], [0.5555555555555556, \"#d8576b\"], [0.6666666666666666, \"#ed7953\"], [0.7777777777777778, \"#fb9f3a\"], [0.8888888888888888, \"#fdca26\"], [1.0, \"#f0f921\"]], \"type\": \"contour\"}], \"contourcarpet\": [{\"colorbar\": {\"outlinewidth\": 0, \"ticks\": \"\"}, \"type\": \"contourcarpet\"}], \"heatmap\": [{\"colorbar\": {\"outlinewidth\": 0, \"ticks\": \"\"}, \"colorscale\": [[0.0, \"#0d0887\"], [0.1111111111111111, \"#46039f\"], [0.2222222222222222, \"#7201a8\"], [0.3333333333333333, \"#9c179e\"], [0.4444444444444444, \"#bd3786\"], [0.5555555555555556, \"#d8576b\"], [0.6666666666666666, \"#ed7953\"], [0.7777777777777778, \"#fb9f3a\"], [0.8888888888888888, \"#fdca26\"], [1.0, \"#f0f921\"]], \"type\": \"heatmap\"}], \"heatmapgl\": [{\"colorbar\": {\"outlinewidth\": 0, \"ticks\": \"\"}, \"colorscale\": [[0.0, \"#0d0887\"], [0.1111111111111111, \"#46039f\"], [0.2222222222222222, \"#7201a8\"], [0.3333333333333333, \"#9c179e\"], [0.4444444444444444, \"#bd3786\"], [0.5555555555555556, \"#d8576b\"], [0.6666666666666666, \"#ed7953\"], [0.7777777777777778, \"#fb9f3a\"], [0.8888888888888888, \"#fdca26\"], [1.0, \"#f0f921\"]], \"type\": \"heatmapgl\"}], \"histogram\": [{\"marker\": {\"colorbar\": {\"outlinewidth\": 0, \"ticks\": \"\"}}, \"type\": \"histogram\"}], \"histogram2d\": [{\"colorbar\": {\"outlinewidth\": 0, \"ticks\": \"\"}, \"colorscale\": [[0.0, \"#0d0887\"], [0.1111111111111111, \"#46039f\"], [0.2222222222222222, \"#7201a8\"], [0.3333333333333333, \"#9c179e\"], [0.4444444444444444, \"#bd3786\"], [0.5555555555555556, \"#d8576b\"], [0.6666666666666666, \"#ed7953\"], [0.7777777777777778, \"#fb9f3a\"], [0.8888888888888888, \"#fdca26\"], [1.0, \"#f0f921\"]], \"type\": \"histogram2d\"}], \"histogram2dcontour\": [{\"colorbar\": {\"outlinewidth\": 0, \"ticks\": \"\"}, \"colorscale\": [[0.0, \"#0d0887\"], [0.1111111111111111, \"#46039f\"], [0.2222222222222222, \"#7201a8\"], [0.3333333333333333, \"#9c179e\"], [0.4444444444444444, \"#bd3786\"], [0.5555555555555556, \"#d8576b\"], [0.6666666666666666, \"#ed7953\"], [0.7777777777777778, \"#fb9f3a\"], [0.8888888888888888, \"#fdca26\"], [1.0, \"#f0f921\"]], \"type\": \"histogram2dcontour\"}], \"mesh3d\": [{\"colorbar\": {\"outlinewidth\": 0, \"ticks\": \"\"}, \"type\": \"mesh3d\"}], \"parcoords\": [{\"line\": {\"colorbar\": {\"outlinewidth\": 0, \"ticks\": \"\"}}, \"type\": \"parcoords\"}], \"pie\": [{\"automargin\": true, \"type\": \"pie\"}], \"scatter\": [{\"marker\": {\"colorbar\": {\"outlinewidth\": 0, \"ticks\": \"\"}}, \"type\": \"scatter\"}], \"scatter3d\": [{\"line\": {\"colorbar\": {\"outlinewidth\": 0, \"ticks\": \"\"}}, \"marker\": {\"colorbar\": {\"outlinewidth\": 0, \"ticks\": \"\"}}, \"type\": \"scatter3d\"}], \"scattercarpet\": [{\"marker\": {\"colorbar\": {\"outlinewidth\": 0, \"ticks\": \"\"}}, \"type\": \"scattercarpet\"}], \"scattergeo\": [{\"marker\": {\"colorbar\": {\"outlinewidth\": 0, \"ticks\": \"\"}}, \"type\": \"scattergeo\"}], \"scattergl\": [{\"marker\": {\"colorbar\": {\"outlinewidth\": 0, \"ticks\": \"\"}}, \"type\": \"scattergl\"}], \"scattermapbox\": [{\"marker\": {\"colorbar\": {\"outlinewidth\": 0, \"ticks\": \"\"}}, \"type\": \"scattermapbox\"}], \"scatterpolar\": [{\"marker\": {\"colorbar\": {\"outlinewidth\": 0, \"ticks\": \"\"}}, \"type\": \"scatterpolar\"}], \"scatterpolargl\": [{\"marker\": {\"colorbar\": {\"outlinewidth\": 0, \"ticks\": \"\"}}, \"type\": \"scatterpolargl\"}], \"scatterternary\": [{\"marker\": {\"colorbar\": {\"outlinewidth\": 0, \"ticks\": \"\"}}, \"type\": \"scatterternary\"}], \"surface\": [{\"colorbar\": {\"outlinewidth\": 0, \"ticks\": \"\"}, \"colorscale\": [[0.0, \"#0d0887\"], [0.1111111111111111, \"#46039f\"], [0.2222222222222222, \"#7201a8\"], [0.3333333333333333, \"#9c179e\"], [0.4444444444444444, \"#bd3786\"], [0.5555555555555556, \"#d8576b\"], [0.6666666666666666, \"#ed7953\"], [0.7777777777777778, \"#fb9f3a\"], [0.8888888888888888, \"#fdca26\"], [1.0, \"#f0f921\"]], \"type\": \"surface\"}], \"table\": [{\"cells\": {\"fill\": {\"color\": \"#EBF0F8\"}, \"line\": {\"color\": \"white\"}}, \"header\": {\"fill\": {\"color\": \"#C8D4E3\"}, \"line\": {\"color\": \"white\"}}, \"type\": \"table\"}]}, \"layout\": {\"annotationdefaults\": {\"arrowcolor\": \"#2a3f5f\", \"arrowhead\": 0, \"arrowwidth\": 1}, \"autotypenumbers\": \"strict\", \"coloraxis\": {\"colorbar\": {\"outlinewidth\": 0, \"ticks\": \"\"}}, \"colorscale\": {\"diverging\": [[0, \"#8e0152\"], [0.1, \"#c51b7d\"], [0.2, \"#de77ae\"], [0.3, \"#f1b6da\"], [0.4, \"#fde0ef\"], [0.5, \"#f7f7f7\"], [0.6, \"#e6f5d0\"], [0.7, \"#b8e186\"], [0.8, \"#7fbc41\"], [0.9, \"#4d9221\"], [1, \"#276419\"]], \"sequential\": [[0.0, \"#0d0887\"], [0.1111111111111111, \"#46039f\"], [0.2222222222222222, \"#7201a8\"], [0.3333333333333333, \"#9c179e\"], [0.4444444444444444, \"#bd3786\"], [0.5555555555555556, \"#d8576b\"], [0.6666666666666666, \"#ed7953\"], [0.7777777777777778, \"#fb9f3a\"], [0.8888888888888888, \"#fdca26\"], [1.0, \"#f0f921\"]], \"sequentialminus\": [[0.0, \"#0d0887\"], [0.1111111111111111, \"#46039f\"], [0.2222222222222222, \"#7201a8\"], [0.3333333333333333, \"#9c179e\"], [0.4444444444444444, \"#bd3786\"], [0.5555555555555556, \"#d8576b\"], [0.6666666666666666, \"#ed7953\"], [0.7777777777777778, \"#fb9f3a\"], [0.8888888888888888, \"#fdca26\"], [1.0, \"#f0f921\"]]}, \"colorway\": [\"#636efa\", \"#EF553B\", \"#00cc96\", \"#ab63fa\", \"#FFA15A\", \"#19d3f3\", \"#FF6692\", \"#B6E880\", \"#FF97FF\", \"#FECB52\"], \"font\": {\"color\": \"#2a3f5f\"}, \"geo\": {\"bgcolor\": \"white\", \"lakecolor\": \"white\", \"landcolor\": \"#E5ECF6\", \"showlakes\": true, \"showland\": true, \"subunitcolor\": \"white\"}, \"hoverlabel\": {\"align\": \"left\"}, \"hovermode\": \"closest\", \"mapbox\": {\"style\": \"light\"}, \"paper_bgcolor\": \"white\", \"plot_bgcolor\": \"#E5ECF6\", \"polar\": {\"angularaxis\": {\"gridcolor\": \"white\", \"linecolor\": \"white\", \"ticks\": \"\"}, \"bgcolor\": \"#E5ECF6\", \"radialaxis\": {\"gridcolor\": \"white\", \"linecolor\": \"white\", \"ticks\": \"\"}}, \"scene\": {\"xaxis\": {\"backgroundcolor\": \"#E5ECF6\", \"gridcolor\": \"white\", \"gridwidth\": 2, \"linecolor\": \"white\", \"showbackground\": true, \"ticks\": \"\", \"zerolinecolor\": \"white\"}, \"yaxis\": {\"backgroundcolor\": \"#E5ECF6\", \"gridcolor\": \"white\", \"gridwidth\": 2, \"linecolor\": \"white\", \"showbackground\": true, \"ticks\": \"\", \"zerolinecolor\": \"white\"}, \"zaxis\": {\"backgroundcolor\": \"#E5ECF6\", \"gridcolor\": \"white\", \"gridwidth\": 2, \"linecolor\": \"white\", \"showbackground\": true, \"ticks\": \"\", \"zerolinecolor\": \"white\"}}, \"shapedefaults\": {\"line\": {\"color\": \"#2a3f5f\"}}, \"ternary\": {\"aaxis\": {\"gridcolor\": \"white\", \"linecolor\": \"white\", \"ticks\": \"\"}, \"baxis\": {\"gridcolor\": \"white\", \"linecolor\": \"white\", \"ticks\": \"\"}, \"bgcolor\": \"#E5ECF6\", \"caxis\": {\"gridcolor\": \"white\", \"linecolor\": \"white\", \"ticks\": \"\"}}, \"title\": {\"x\": 0.05}, \"xaxis\": {\"automargin\": true, \"gridcolor\": \"white\", \"linecolor\": \"white\", \"ticks\": \"\", \"title\": {\"standoff\": 15}, \"zerolinecolor\": \"white\", \"zerolinewidth\": 2}, \"yaxis\": {\"automargin\": true, \"gridcolor\": \"white\", \"linecolor\": \"white\", \"ticks\": \"\", \"title\": {\"standoff\": 15}, \"zerolinecolor\": \"white\", \"zerolinewidth\": 2}}}, \"xaxis\": {\"anchor\": \"y\", \"domain\": [0.0, 1.0], \"title\": {\"text\": \"x\"}}, \"yaxis\": {\"anchor\": \"x\", \"domain\": [0.0, 1.0], \"title\": {\"text\": \"y\"}}},                        {\"responsive\": true}                    ).then(function(){\n",
       "                            \n",
       "var gd = document.getElementById('dec67704-e036-4cb0-b979-3e4d63415e2d');\n",
       "var x = new MutationObserver(function (mutations, observer) {{\n",
       "        var display = window.getComputedStyle(gd).display;\n",
       "        if (!display || display === 'none') {{\n",
       "            console.log([gd, 'removed!']);\n",
       "            Plotly.purge(gd);\n",
       "            observer.disconnect();\n",
       "        }}\n",
       "}});\n",
       "\n",
       "// Listen for the removal of the full notebook cells\n",
       "var notebookContainer = gd.closest('#notebook-container');\n",
       "if (notebookContainer) {{\n",
       "    x.observe(notebookContainer, {childList: true});\n",
       "}}\n",
       "\n",
       "// Listen for the clearing of the current output cell\n",
       "var outputEl = gd.closest('.output');\n",
       "if (outputEl) {{\n",
       "    x.observe(outputEl, {childList: true});\n",
       "}}\n",
       "\n",
       "                        })                };                });            </script>        </div>"
      ]
     },
     "metadata": {},
     "output_type": "display_data"
    }
   ],
   "source": [
    "model = AgglomerativeClustering(n_clusters=20,affinity='cosine',linkage='complete')\n",
    "agg,fig = cluster_plot(model)\n",
    "fig"
   ]
  },
  {
   "cell_type": "code",
   "execution_count": 15,
   "metadata": {},
   "outputs": [],
   "source": [
    "charge_map = {i:j for i,j in zip(charges,kme.labels_)}\n",
    "charge_map['arrest case no charge']=-1\n",
    "pickle.dump(charge_map, open('charge_map_v2.pkl', 'wb')) "
   ]
  }
 ],
 "metadata": {
  "kernelspec": {
   "display_name": "Python 3",
   "language": "python",
   "name": "python3"
  },
  "language_info": {
   "codemirror_mode": {
    "name": "ipython",
    "version": 3
   },
   "file_extension": ".py",
   "mimetype": "text/x-python",
   "name": "python",
   "nbconvert_exporter": "python",
   "pygments_lexer": "ipython3",
   "version": "3.8.5"
  }
 },
 "nbformat": 4,
 "nbformat_minor": 4
}
